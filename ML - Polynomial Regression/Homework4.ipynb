{
 "cells": [
  {
   "cell_type": "markdown",
   "metadata": {},
   "source": [
    "# Homework 4"
   ]
  },
  {
   "cell_type": "code",
   "execution_count": 2,
   "metadata": {},
   "outputs": [],
   "source": [
    "import numpy as np"
   ]
  },
  {
   "cell_type": "code",
   "execution_count": null,
   "metadata": {},
   "outputs": [],
   "source": [
    "def mean_squared_error(estimates, targets):\n",
    "    \"\"\"\n",
    "    Mean squared error measures the average of the square of the errors (the\n",
    "    average squared difference between the estimated values and what is \n",
    "    estimated. The formula is:\n",
    "\n",
    "    MSE = (1 / n) * \\sum_{i=1}^{n} (Y_i - Yhat_i)^2\n",
    "\n",
    "    Implement this formula here, using numpy and return the computed MSE\n",
    "\n",
    "    https://en.wikipedia.org/wiki/Mean_squared_error\n",
    "\n",
    "    Args:\n",
    "        estimates(np.ndarray): the estimated values (should be the same shape as targets)\n",
    "        targets(np.ndarray): the ground truth values\n",
    "\n",
    "    Returns:\n",
    "        MSE(int): mean squared error calculated by above equation \n",
    "    \"\"\"\n",
    "\n",
    "    return ((estimates - targets)**2)/len(estimates)"
   ]
  },
  {
   "cell_type": "code",
   "execution_count": 10,
   "metadata": {},
   "outputs": [
    {
     "data": {
      "text/plain": [
       "array([ 0.29942246, -0.38803094, -0.00891815,  0.10757571,  0.03227144,\n",
       "       -0.18785505,  0.16703496, -0.19085479])"
      ]
     },
     "execution_count": 10,
     "metadata": {},
     "output_type": "execute_result"
    }
   ],
   "source": []
  },
  {
   "cell_type": "code",
   "execution_count": 11,
   "metadata": {},
   "outputs": [],
   "source": [
    "arr1 = np.array([1,2,3,4,5,6,7,8])\n",
    "arr2 = np.array(range(1, 9, 1)) + np.random.normal(0,.2, 8)"
   ]
  },
  {
   "cell_type": "code",
   "execution_count": 12,
   "metadata": {},
   "outputs": [
    {
     "data": {
      "text/plain": [
       "array([0.78122038, 1.78494362, 3.05239003, 4.04306079, 5.14392376,\n",
       "       6.13838717, 7.18850909, 7.96581268])"
      ]
     },
     "execution_count": 12,
     "metadata": {},
     "output_type": "execute_result"
    }
   ],
   "source": [
    "arr2"
   ]
  },
  {
   "cell_type": "code",
   "execution_count": 17,
   "metadata": {},
   "outputs": [
    {
     "name": "stdout",
     "output_type": "stream",
     "text": [
      "4.81 µs ± 114 ns per loop (mean ± std. dev. of 7 runs, 100000 loops each)\n",
      "3.37 µs ± 47.2 ns per loop (mean ± std. dev. of 7 runs, 100000 loops each)\n"
     ]
    }
   ],
   "source": [
    "%timeit np.sum((arr1-arr2)**2)\n",
    "%timeit sum((arr1-arr2)**2)"
   ]
  },
  {
   "cell_type": "code",
   "execution_count": 37,
   "metadata": {},
   "outputs": [],
   "source": [
    "N=5\n",
    "degree=3\n",
    "\n",
    "x = np.random.uniform(low = -1, high = 1, size = N)\n",
    "w = np.random.uniform(low = -10, high = 10, size = degree+1)\n",
    "y = np.sum(np.array([w[d]*(x**d) for d in range(degree+1) ]), axis=0)"
   ]
  },
  {
   "cell_type": "code",
   "execution_count": 27,
   "metadata": {},
   "outputs": [
    {
     "data": {
      "text/plain": [
       "1.7702393408244228"
      ]
     },
     "execution_count": 27,
     "metadata": {},
     "output_type": "execute_result"
    }
   ],
   "source": [
    "np.std(y)"
   ]
  },
  {
   "cell_type": "code",
   "execution_count": 23,
   "metadata": {},
   "outputs": [
    {
     "data": {
      "text/plain": [
       "array([-0.34253064,  0.79427337,  0.96162953, -0.79069005, -0.37808997])"
      ]
     },
     "execution_count": 23,
     "metadata": {},
     "output_type": "execute_result"
    }
   ],
   "source": [
    "x"
   ]
  },
  {
   "cell_type": "code",
   "execution_count": 28,
   "metadata": {},
   "outputs": [
    {
     "data": {
      "text/plain": [
       "array([[ 2., -1.],\n",
       "       [-1.,  1.]])"
      ]
     },
     "execution_count": 28,
     "metadata": {},
     "output_type": "execute_result"
    }
   ],
   "source": [
    "np.linalg.inv(np.array([[1,1],[1,2]]))"
   ]
  },
  {
   "cell_type": "code",
   "execution_count": 38,
   "metadata": {},
   "outputs": [],
   "source": [
    "x = x.reshape(1,-1)"
   ]
  },
  {
   "cell_type": "code",
   "execution_count": 40,
   "metadata": {},
   "outputs": [
    {
     "data": {
      "text/plain": [
       "array([[ 0.91921233,  0.57642134,  0.84233377, -0.15351726, -0.30767282],\n",
       "       [ 0.57642134,  0.36146335,  0.52821219, -0.09626788, -0.19293603],\n",
       "       [ 0.84233377,  0.52821219,  0.77188496, -0.14067781, -0.28194052],\n",
       "       [-0.15351726, -0.09626788, -0.14067781,  0.02563885,  0.05138431],\n",
       "       [-0.30767282, -0.19293603, -0.28194052,  0.05138431,  0.10298226]])"
      ]
     },
     "execution_count": 40,
     "metadata": {},
     "output_type": "execute_result"
    }
   ],
   "source": [
    "x.T.dot(x)"
   ]
  },
  {
   "cell_type": "code",
   "execution_count": 43,
   "metadata": {},
   "outputs": [
    {
     "data": {
      "text/plain": [
       "array([[-0.95875562],\n",
       "       [-0.60121822],\n",
       "       [-0.87856984],\n",
       "       [ 0.16012137],\n",
       "       [ 0.3209085 ]])"
      ]
     },
     "execution_count": 43,
     "metadata": {},
     "output_type": "execute_result"
    }
   ],
   "source": [
    "x.T"
   ]
  },
  {
   "cell_type": "code",
   "execution_count": 44,
   "metadata": {},
   "outputs": [
    {
     "data": {
      "text/plain": [
       "3"
      ]
     },
     "execution_count": 44,
     "metadata": {},
     "output_type": "execute_result"
    }
   ],
   "source": [
    "degree"
   ]
  },
  {
   "cell_type": "code",
   "execution_count": 45,
   "metadata": {},
   "outputs": [
    {
     "data": {
      "text/plain": [
       "5"
      ]
     },
     "execution_count": 45,
     "metadata": {},
     "output_type": "execute_result"
    }
   ],
   "source": [
    "N"
   ]
  },
  {
   "cell_type": "code",
   "execution_count": 49,
   "metadata": {},
   "outputs": [
    {
     "data": {
      "text/plain": [
       "array([0., 0., 0., 0., 0.])"
      ]
     },
     "execution_count": 49,
     "metadata": {},
     "output_type": "execute_result"
    }
   ],
   "source": [
    "X = np.zeros((N, degree+1));X[:,0]"
   ]
  },
  {
   "cell_type": "code",
   "execution_count": 54,
   "metadata": {},
   "outputs": [
    {
     "data": {
      "text/plain": [
       "5"
      ]
     },
     "execution_count": 54,
     "metadata": {},
     "output_type": "execute_result"
    }
   ],
   "source": [
    "len(y.T)"
   ]
  },
  {
   "cell_type": "code",
   "execution_count": 51,
   "metadata": {},
   "outputs": [],
   "source": [
    "X = np.zeros((N, degree+1));X[:,0]\n",
    "for deg in range(degree+1):\n",
    "    X[:,deg] = y**deg    "
   ]
  },
  {
   "cell_type": "code",
   "execution_count": 52,
   "metadata": {},
   "outputs": [
    {
     "data": {
      "text/plain": [
       "array([[1.00000000e+00, 2.08264395e+01, 4.33740582e+02, 9.03327197e+03],\n",
       "       [1.00000000e+00, 9.76855486e+00, 9.54246640e+01, 9.32161066e+02],\n",
       "       [1.00000000e+00, 1.77647631e+01, 3.15586808e+02, 5.60632487e+03],\n",
       "       [1.00000000e+00, 2.29341979e+00, 5.25977431e+00, 1.20628705e+01],\n",
       "       [1.00000000e+00, 2.18057299e+00, 4.75489856e+00, 1.03684034e+01]])"
      ]
     },
     "execution_count": 52,
     "metadata": {},
     "output_type": "execute_result"
    }
   ],
   "source": [
    "X"
   ]
  },
  {
   "cell_type": "code",
   "execution_count": 75,
   "metadata": {},
   "outputs": [],
   "source": [
    "import numpy as np \n",
    "\n",
    "def generate_regression_data(degree, N, amount_of_noise=1.0):\n",
    "    \"\"\"\n",
    "    Generate two numpy arrays that have a roughly polynomial relationship \n",
    "    between them of degree 'degree'. The two arrays should have size\n",
    "    'N'. The values in x should range between -1 and 1. The coefficients of the\n",
    "    polynomial are chosen at random between -10 and 10.\n",
    "    \n",
    "    Generate `y`, the response variable by using the random coefficients and the \n",
    "    x data using a polynomial relation of degree `degree`.\n",
    "    \n",
    "    After this, you should add a bit of noise (dictated by `amount_of_noise`) in the\n",
    "    following way.\n",
    "\n",
    "    Reminder, you can add random noise to the output of a function by simply doing:\n",
    "        f'(x) = f(x) + N(0, std)\n",
    "    where N(0, std) is a draw from a normal distribution with mean 0 and standard deviation 1.\n",
    "\n",
    "    In code, that looks like:\n",
    "        y += np.random.normal(loc=0.0, scale=std, size=y.shape)\n",
    "\n",
    "    As `amount_of_noise` increases, the data should become harder and harder to fit.\n",
    "    \n",
    "    The `amount_of_noise` is dictated by the distribution of y. After generating y (without noise),\n",
    "    measure the standard deviation of y (with np.std(y)). Then add noise to y as a multiple of the\n",
    "    standard deviation of `y`. For example if y has a standard deviation of 2.0, and \n",
    "    `amount_of_noise = 1.5`, then:\n",
    "        \n",
    "        y_noise = y + np.random.normal(loc=0.0, scale=1.5*2.0, size=y.shape)\n",
    "\n",
    "    For Polyynomial regression, the N dimension array for x doesn't need multiple attributes because we are\n",
    "    working with polynomial regression.\n",
    "\n",
    "    Args:\n",
    "        degree (int): degree of polynomial that relates the output x and y\n",
    "        N (int): number of points to generate\n",
    "        amount_of_noise (float): amount of random noise to add to the relationship \n",
    "            between x and y.\n",
    "    Returns:\n",
    "        x (np.ndarray): explanatory variable of size N, ranges between -1 and 1.\n",
    "        y (np.ndarray): response variable of size N.\n",
    "            responds to x as a polynomial of degree. \n",
    "\n",
    "    \"\"\"\n",
    "    x = np.random.uniform(low = -1, high = 1, size = N)\n",
    "    w = np.random.uniform(low = -10, high = 10, size = degree+1)\n",
    "    y = np.sum(np.array([w[d]*(x**d) for d in range(degree+1) ]), axis=0)\n",
    "\n",
    "    y_noise = y + np.random.normal(loc=0.0, scale=amount_of_noise*np.std(y), size=y.shape)\n",
    "\n",
    "    return x, y_noise\n"
   ]
  },
  {
   "cell_type": "code",
   "execution_count": 78,
   "metadata": {},
   "outputs": [
    {
     "data": {
      "text/plain": [
       "(10,)"
      ]
     },
     "execution_count": 78,
     "metadata": {},
     "output_type": "execute_result"
    }
   ],
   "source": [
    "features, targets = generate_regression_data(3, 10)\n",
    "features.shape"
   ]
  },
  {
   "cell_type": "code",
   "execution_count": 79,
   "metadata": {},
   "outputs": [
    {
     "data": {
      "text/plain": [
       "(10,)"
      ]
     },
     "execution_count": 79,
     "metadata": {},
     "output_type": "execute_result"
    }
   ],
   "source": [
    "targets.shape"
   ]
  },
  {
   "cell_type": "code",
   "execution_count": 358,
   "metadata": {},
   "outputs": [],
   "source": [
    "import numpy as np\n",
    "try:\n",
    "    import matplotlib.pyplot as plt\n",
    "except:\n",
    "    import matplotlib\n",
    "    matplotlib.use('Agg')\n",
    "    import matplotlib.pyplot as plt\n",
    "\n",
    "class PolynomialRegression():\n",
    "    def __init__(self, degree):\n",
    "        \"\"\"\n",
    "        Implement polynomial regression from scratch.\n",
    "        \n",
    "        This class takes as input \"degree\", which is the degree of the polynomial \n",
    "        used to fit the data. For example, degree = 2 would fit a polynomial of the \n",
    "        form:\n",
    "\n",
    "            ax^2 + bx + c\n",
    "        \n",
    "        Your code will be tested by comparing it with implementations inside sklearn.\n",
    "        DO NOT USE THESE IMPLEMENTATIONS DIRECTLY IN YOUR CODE. You may find the \n",
    "        following documentation useful:\n",
    "\n",
    "        https://scikit-learn.org/stable/modules/generated/sklearn.preprocessing.PolynomialFeatures.html\n",
    "        https://scikit-learn.org/stable/modules/generated/sklearn.linear_model.LinearRegression.html\n",
    "\n",
    "        Here are helpful slides:\n",
    "\n",
    "        http://interactiveaudiolab.github.io/teaching/eecs349stuff/eecs349_linear_regression.pdf\n",
    "    \n",
    "        The internal representation of this class is up to you. Read each function\n",
    "        documentation carefully to make sure the input and output matches so you can\n",
    "        pass the test cases. However, do not use the functions numpy.polyfit or numpy.polval. \n",
    "        You should implement the closed form solution of least squares as detailed in slide 10\n",
    "        of the lecture slides linked above.\n",
    "\n",
    "        Usage:\n",
    "            import numpy as np\n",
    "            \n",
    "            x = np.random.random(100)\n",
    "            y = np.random.random(100)\n",
    "            learner = PolynomialRegression(degree = 1)\n",
    "            learner.fit(x, y) # this should be pretty much a flat line\n",
    "            predicted = learner.predict(x)\n",
    "\n",
    "            new_data = np.random.random(100) + 10\n",
    "            predicted = learner.predict(new_data)\n",
    "\n",
    "            # confidence compares the given data with the training data\n",
    "            confidence = learner.confidence(new_data)\n",
    "\n",
    "\n",
    "        Args:\n",
    "            degree (int): Degree of polynomial used to fit the data.\n",
    "        \"\"\"\n",
    "        self.degree = degree\n",
    "\n",
    "    \n",
    "    def fit(self, features, targets):\n",
    "        \"\"\"\n",
    "        Fit the given data using a polynomial. The degree is given by self.degree,\n",
    "        which is set in the __init__ function of this class. The goal of this\n",
    "        function is fit features, a 1D numpy array, to targets, another 1D\n",
    "        numpy array.\n",
    "        \n",
    "\n",
    "        Args:\n",
    "            features (np.ndarray): 1D array containing real-valued inputs.\n",
    "            targets (np.ndarray): 1D array containing real-valued targets.\n",
    "        Returns:\n",
    "            None (saves model and training data internally)\n",
    "        \"\"\"\n",
    "        # Instantiate feature matrix\n",
    "        X = np.zeros((len(features), self.degree+1))\n",
    "\n",
    "        # Populate feature matrix with feature values, starting from degree=0\n",
    "        for deg in range(self.degree+1):\n",
    "            if deg == 0:\n",
    "                 X[:,deg] = 1\n",
    "            else:\n",
    "                X[:,deg] = features**deg    \n",
    "        \n",
    "        # Calculate Hat matrix\n",
    "        hat_matrix = np.linalg.inv(X.T.dot(X)).dot(X.T)\n",
    "        \n",
    "        # Calculate feature weights\n",
    "        self.w = hat_matrix.dot(targets)\n",
    "\n",
    "\n",
    "    def predict(self, features):\n",
    "        \"\"\"\n",
    "        Given features, a 1D numpy array, use the trained model to predict target \n",
    "        estimates. Call this after calling fit.\n",
    "\n",
    "        Args:\n",
    "            features (np.ndarray): 1D array containing real-valued inputs.\n",
    "        Returns:\n",
    "            predictions (np.ndarray): Output of saved model on features.\n",
    "        \"\"\"\n",
    "        # Instantiate feature matrix\n",
    "        X = np.zeros((len(features), self.degree+1))\n",
    "#         print(X)\n",
    "        # Populate feature matrix with feature values, starting from degree=0\n",
    "        for deg in range(self.degree+1):\n",
    "#             print(f\"DEGREE {deg}\")\n",
    "#             print(X)\n",
    "            if deg == 0:\n",
    "                X[:,deg] = 1\n",
    "#                 print('special', X)\n",
    "            else:\n",
    "                X[:,deg] = features**deg\n",
    "#                 print('special2', X)\n",
    "\n",
    "        return X.dot(self.w)\n",
    "\n",
    "\n",
    "    def visualize(self, features, targets):\n",
    "        \"\"\"\n",
    "        This function should produce a single plot containing a scatter plot of the\n",
    "        features and the targets, and the polynomial fit by the model should be\n",
    "        graphed on top of the points.\n",
    "\n",
    "        DO NOT USE plt.show() IN THIS FUNCTION. Instead, use plt.savefig().\n",
    "\n",
    "        Args:\n",
    "            features (np.ndarray): 1D array containing real-valued inputs.\n",
    "            targets (np.ndarray): 1D array containing real-valued targets.\n",
    "        Returns:\n",
    "            None (plots to the active figure)\n",
    "        \"\"\"\n",
    "\n",
    "        plt.savefig()\n"
   ]
  },
  {
   "cell_type": "code",
   "execution_count": 418,
   "metadata": {},
   "outputs": [],
   "source": [
    "import numpy as np\n",
    "\n",
    "def mean_squared_error(estimates, targets):\n",
    "    \"\"\"\n",
    "    Mean squared error measures the average of the square of the errors (the\n",
    "    average squared difference between the estimated values and what is \n",
    "    estimated. The formula is:\n",
    "\n",
    "    MSE = (1 / n) * sum_{i=1}^{n} (Y_i - Yhat_i)^2\n",
    "\n",
    "    Implement this formula here, using numpy and return the computed MSE\n",
    "\n",
    "    https://en.wikipedia.org/wiki/Mean_squared_error\n",
    "\n",
    "    Args:\n",
    "        estimates(np.ndarray): the estimated values (should be the same shape as targets)\n",
    "        targets(np.ndarray): the ground truth values\n",
    "\n",
    "    Returns:\n",
    "        MSE(int): mean squared error calculated by above equation \n",
    "    \"\"\"\n",
    "\n",
    "    return np.sum((estimates - targets)**2)/estimates.shape[0]"
   ]
  },
  {
   "cell_type": "code",
   "execution_count": 419,
   "metadata": {},
   "outputs": [],
   "source": [
    "import matplotlib.pyplot as plt"
   ]
  },
  {
   "cell_type": "code",
   "execution_count": 490,
   "metadata": {},
   "outputs": [],
   "source": [
    "import random\n",
    "features, targets = generate_regression_data(4, 100, amount_of_noise=.1)\n",
    "train_idx = random.sample(range(100), 10)\n",
    "test_idx = [idx for idx in range(100) if idx not in train_idx]\n",
    "train_features = np.array([features[i] for i in train_idx])\n",
    "train_targets = np.array([targets[i] for i in train_idx])\n",
    "test_features = np.array([features[i] for i in test_idx])\n",
    "test_targets = np.array([targets[i] for i in test_idx])\n",
    "\n",
    "# test_features = np.array([features[i] for i in random_idx if features[i] not in train_features])\n",
    "# test_targets = np.array([targets[i] for i in random_idx if targets[i] not in train_targets])\n",
    "\n",
    "\n",
    "# test_features = np.array(list(set(features).difference(set(train_features))))\n",
    "# test_targets = np.array(list(set(targets).difference(set(train_targets))))"
   ]
  },
  {
   "cell_type": "code",
   "execution_count": 491,
   "metadata": {},
   "outputs": [
    {
     "data": {
      "text/plain": [
       "<matplotlib.collections.PathCollection at 0x7f9c3c43c4c0>"
      ]
     },
     "execution_count": 491,
     "metadata": {},
     "output_type": "execute_result"
    },
    {
     "data": {
      "image/png": "[encoded data removed]",
      "text/plain": [
       "<Figure size 432x288 with 1 Axes>"
      ]
     },
     "metadata": {
      "needs_background": "light"
     },
     "output_type": "display_data"
    }
   ],
   "source": [
    "plt.scatter(features, targets)"
   ]
  },
  {
   "cell_type": "code",
   "execution_count": 492,
   "metadata": {},
   "outputs": [
    {
     "data": {
      "text/plain": [
       "<matplotlib.collections.PathCollection at 0x7f9c3c58b6a0>"
      ]
     },
     "execution_count": 492,
     "metadata": {},
     "output_type": "execute_result"
    },
    {
     "data": {
      "image/png": "[encoded data removed]",
      "text/plain": [
       "<Figure size 432x288 with 1 Axes>"
      ]
     },
     "metadata": {
      "needs_background": "light"
     },
     "output_type": "display_data"
    }
   ],
   "source": [
    "plt.scatter(test_features, test_targets)"
   ]
  },
  {
   "cell_type": "code",
   "execution_count": 493,
   "metadata": {},
   "outputs": [
    {
     "data": {
      "text/plain": [
       "<matplotlib.collections.PathCollection at 0x7f9c3c614d60>"
      ]
     },
     "execution_count": 493,
     "metadata": {},
     "output_type": "execute_result"
    },
    {
     "data": {
      "image/png": "[encoded data removed]",
      "text/plain": [
       "<Figure size 432x288 with 1 Axes>"
      ]
     },
     "metadata": {
      "needs_background": "light"
     },
     "output_type": "display_data"
    }
   ],
   "source": [
    "plt.scatter(train_features, train_targets)"
   ]
  },
  {
   "cell_type": "code",
   "execution_count": 494,
   "metadata": {},
   "outputs": [
    {
     "data": {
      "text/plain": [
       "10"
      ]
     },
     "execution_count": 494,
     "metadata": {},
     "output_type": "execute_result"
    }
   ],
   "source": [
    "len(train_targets)\n",
    "len(train_features)"
   ]
  },
  {
   "cell_type": "code",
   "execution_count": 495,
   "metadata": {},
   "outputs": [],
   "source": [
    "pol = PolynomialRegression(0)\n",
    "pol.fit(train_features, train_targets)\n",
    "train_predictions = pol.predict(train_features)\n",
    "# test_predictions = pol.predict(test_features)"
   ]
  },
  {
   "cell_type": "code",
   "execution_count": 496,
   "metadata": {},
   "outputs": [
    {
     "data": {
      "text/plain": [
       "<matplotlib.collections.PathCollection at 0x7f9c3c750dc0>"
      ]
     },
     "execution_count": 496,
     "metadata": {},
     "output_type": "execute_result"
    },
    {
     "data": {
      "image/png": "[encoded data removed]",
      "text/plain": [
       "<Figure size 432x288 with 1 Axes>"
      ]
     },
     "metadata": {
      "needs_background": "light"
     },
     "output_type": "display_data"
    }
   ],
   "source": [
    "plt.scatter(train_features, train_predictions)"
   ]
  },
  {
   "cell_type": "code",
   "execution_count": 497,
   "metadata": {},
   "outputs": [
    {
     "data": {
      "text/plain": [
       "3.908008382238718"
      ]
     },
     "execution_count": 497,
     "metadata": {},
     "output_type": "execute_result"
    }
   ],
   "source": [
    "mean_squared_error(train_targets, train_predictions)"
   ]
  },
  {
   "cell_type": "code",
   "execution_count": 498,
   "metadata": {},
   "outputs": [],
   "source": [
    "pol = PolynomialRegression(0)\n",
    "pol.fit(train_features, train_targets)\n",
    "# train_predictions = pol.predict(train_features)\n",
    "test_predictions = pol.predict(test_features)"
   ]
  },
  {
   "cell_type": "code",
   "execution_count": 499,
   "metadata": {},
   "outputs": [
    {
     "data": {
      "text/plain": [
       "<matplotlib.collections.PathCollection at 0x7f9c3c7dcf40>"
      ]
     },
     "execution_count": 499,
     "metadata": {},
     "output_type": "execute_result"
    },
    {
     "data": {
      "image/png": "[encoded data removed]",
      "text/plain": [
       "<Figure size 432x288 with 1 Axes>"
      ]
     },
     "metadata": {
      "needs_background": "light"
     },
     "output_type": "display_data"
    }
   ],
   "source": [
    "plt.scatter(test_features, test_targets)"
   ]
  },
  {
   "cell_type": "code",
   "execution_count": 500,
   "metadata": {},
   "outputs": [
    {
     "data": {
      "text/plain": [
       "<matplotlib.collections.PathCollection at 0x7f9c3d22b3d0>"
      ]
     },
     "execution_count": 500,
     "metadata": {},
     "output_type": "execute_result"
    },
    {
     "data": {
      "image/png": "[encoded data removed]",
      "text/plain": [
       "<Figure size 432x288 with 1 Axes>"
      ]
     },
     "metadata": {
      "needs_background": "light"
     },
     "output_type": "display_data"
    }
   ],
   "source": [
    "plt.scatter(test_features, test_predictions)"
   ]
  },
  {
   "cell_type": "code",
   "execution_count": 501,
   "metadata": {},
   "outputs": [
    {
     "data": {
      "text/plain": [
       "5.941913905915212"
      ]
     },
     "execution_count": 501,
     "metadata": {},
     "output_type": "execute_result"
    }
   ],
   "source": [
    "mean_squared_error(test_targets, test_predictions)"
   ]
  },
  {
   "cell_type": "code",
   "execution_count": 502,
   "metadata": {},
   "outputs": [
    {
     "data": {
      "text/plain": [
       "(90,)"
      ]
     },
     "execution_count": 502,
     "metadata": {},
     "output_type": "execute_result"
    }
   ],
   "source": [
    "test_features.shape"
   ]
  },
  {
   "cell_type": "code",
   "execution_count": 683,
   "metadata": {},
   "outputs": [],
   "source": [
    "import random\n",
    "features, targets = generate_regression_data(4, 100, amount_of_noise=.1)\n",
    "train_idx = random.sample(range(100), 10)\n",
    "test_idx = [idx for idx in range(100) if idx not in train_idx]\n",
    "train_features = np.array([features[i] for i in train_idx])\n",
    "train_targets = np.array([targets[i] for i in train_idx])\n",
    "test_features = np.array([features[i] for i in test_idx])\n",
    "test_targets = np.array([targets[i] for i in test_idx])\n",
    "\n",
    "train_mse = []\n",
    "test_mse = []\n",
    "\n",
    "for deg in range(10):\n",
    "    pol = PolynomialRegression(deg)\n",
    "    pol.fit(train_features, train_targets)\n",
    "    train_predictions = pol.predict(train_features)\n",
    "    test_predictions = pol.predict(test_features)\n",
    "#     print(mean_squared_error(train_predictions, train_targets))\n",
    "#     print(mean_squared_error(test_predictions, test_targets))\n",
    "#     print(\"--------\")\n",
    "    train_mse.append(mean_squared_error(train_predictions, train_targets))\n",
    "    test_mse.append(mean_squared_error(test_predictions, test_targets))\n",
    "    \n",
    "train_mse = np.log(train_mse)\n",
    "test_mse = np.log(test_mse)"
   ]
  },
  {
   "cell_type": "code",
   "execution_count": 684,
   "metadata": {},
   "outputs": [
    {
     "data": {
      "text/plain": [
       "<matplotlib.legend.Legend at 0x7f9c42571940>"
      ]
     },
     "execution_count": 684,
     "metadata": {},
     "output_type": "execute_result"
    },
    {
     "data": {
      "image/png": "[encoded data removed]",
      "text/plain": [
       "<Figure size 432x288 with 1 Axes>"
      ]
     },
     "metadata": {
      "needs_background": "light"
     },
     "output_type": "display_data"
    }
   ],
   "source": [
    "plt.scatter(range(0,10), train_mse, label=\"log(Train MSE)\")\n",
    "plt.scatter(range(0,10), test_mse, label=\"log(Test MSE)\")\n",
    "plt.xlabel(\"Polynomial Degree\")\n",
    "plt.legend(loc=\"upper left\")"
   ]
  },
  {
   "cell_type": "code",
   "execution_count": 666,
   "metadata": {},
   "outputs": [],
   "source": [
    "pol = PolynomialRegression(4)\n",
    "pol.fit(train_features, train_targets)\n",
    "test_predictions = pol.predict(train_features)\n",
    "\n",
    "pol = PolynomialRegression(9)\n",
    "pol.fit(train_features, train_targets)\n",
    "train_predictions = pol.predict(train_features)"
   ]
  },
  {
   "cell_type": "code",
   "execution_count": 667,
   "metadata": {},
   "outputs": [],
   "source": [
    "tpl_lst = list(zip(train_features, test_predictions, train_predictions, train_targets))\n",
    "srtd_tpl_lst = sorted(tpl_lst, key=lambda x: x[0])\n",
    "train_features, test_predictions, train_predictions, train_targets = zip(*srtd_tpl_lst)"
   ]
  },
  {
   "cell_type": "code",
   "execution_count": 668,
   "metadata": {},
   "outputs": [
    {
     "data": {
      "text/plain": [
       "<matplotlib.legend.Legend at 0x7f9c41cbdeb0>"
      ]
     },
     "execution_count": 668,
     "metadata": {},
     "output_type": "execute_result"
    },
    {
     "data": {
      "image/png": "[encoded data removed]",
      "text/plain": [
       "<Figure size 432x288 with 1 Axes>"
      ]
     },
     "metadata": {
      "needs_background": "light"
     },
     "output_type": "display_data"
    }
   ],
   "source": [
    "plt.plot(train_features, train_predictions, \"-\", label=\"Degree 9, Lowest Train MSE\")\n",
    "plt.plot(train_features, test_predictions, \"-\", label=\"Degree 4, Lowest Test MSE\")\n",
    "plt.scatter(train_features, train_targets)\n",
    "plt.xlabel(\"Feature value i.e. x\")\n",
    "plt.legend(loc=\"lower right\")"
   ]
  },
  {
   "cell_type": "markdown",
   "metadata": {},
   "source": [
    "# 50 points"
   ]
  },
  {
   "cell_type": "code",
   "execution_count": 654,
   "metadata": {},
   "outputs": [],
   "source": [
    "import random\n",
    "features, targets = generate_regression_data(4, 100, amount_of_noise=.1)\n",
    "train_idx = random.sample(range(100), 50)\n",
    "test_idx = [idx for idx in range(100) if idx not in train_idx]\n",
    "train_features = np.array([features[i] for i in train_idx])\n",
    "train_targets = np.array([targets[i] for i in train_idx])\n",
    "test_features = np.array([features[i] for i in test_idx])\n",
    "test_targets = np.array([targets[i] for i in test_idx])"
   ]
  },
  {
   "cell_type": "code",
   "execution_count": 655,
   "metadata": {},
   "outputs": [],
   "source": [
    "train_mse = []\n",
    "test_mse = []\n",
    "\n",
    "for deg in range(10):\n",
    "    pol = PolynomialRegression(deg)\n",
    "    pol.fit(train_features, train_targets)\n",
    "    train_predictions = pol.predict(train_features)\n",
    "    test_predictions = pol.predict(test_features)\n",
    "#     print(mean_squared_error(train_predictions, train_targets))\n",
    "#     print(mean_squared_error(test_predictions, test_targets))\n",
    "#     print(\"--------\")\n",
    "    train_mse.append(mean_squared_error(train_predictions, train_targets))\n",
    "    test_mse.append(mean_squared_error(test_predictions, test_targets))\n",
    "    \n",
    "train_mse = np.log(train_mse)\n",
    "test_mse = np.log(test_mse)"
   ]
  },
  {
   "cell_type": "code",
   "execution_count": 662,
   "metadata": {},
   "outputs": [
    {
     "data": {
      "text/plain": [
       "<matplotlib.legend.Legend at 0x7f9c41198a00>"
      ]
     },
     "execution_count": 662,
     "metadata": {},
     "output_type": "execute_result"
    },
    {
     "data": {
      "image/png": "[encoded data removed]",
      "text/plain": [
       "<Figure size 432x288 with 1 Axes>"
      ]
     },
     "metadata": {
      "needs_background": "light"
     },
     "output_type": "display_data"
    }
   ],
   "source": [
    "plt.scatter(range(0,10), train_mse, label=\"log(Train MSE)\")\n",
    "plt.scatter(range(0,10), test_mse, label=\"log(Test MSE)\")\n",
    "plt.xlabel(\"Polynomial Degree\")\n",
    "plt.legend(loc=\"upper left\")"
   ]
  },
  {
   "cell_type": "code",
   "execution_count": 657,
   "metadata": {},
   "outputs": [],
   "source": [
    "pol = PolynomialRegression(4)\n",
    "pol.fit(train_features, train_targets)\n",
    "test_predictions = pol.predict(train_features)\n",
    "\n",
    "pol = PolynomialRegression(9)\n",
    "pol.fit(train_features, train_targets)\n",
    "train_predictions = pol.predict(train_features)"
   ]
  },
  {
   "cell_type": "code",
   "execution_count": 658,
   "metadata": {},
   "outputs": [],
   "source": [
    "tpl_lst = list(zip(train_features, test_predictions, train_predictions, train_targets))\n",
    "srtd_tpl_lst = sorted(tpl_lst, key=lambda x: x[0])\n",
    "train_features, test_predictions, train_predictions, train_targets = zip(*srtd_tpl_lst)"
   ]
  },
  {
   "cell_type": "code",
   "execution_count": 661,
   "metadata": {},
   "outputs": [
    {
     "data": {
      "text/plain": [
       "<matplotlib.legend.Legend at 0x7f9c415fc910>"
      ]
     },
     "execution_count": 661,
     "metadata": {},
     "output_type": "execute_result"
    },
    {
     "data": {
      "image/png": "[encoded data removed]",
      "text/plain": [
       "<Figure size 432x288 with 1 Axes>"
      ]
     },
     "metadata": {
      "needs_background": "light"
     },
     "output_type": "display_data"
    }
   ],
   "source": [
    "plt.plot(train_features, train_predictions, \"-\", label=\"Degree 9, Lowest Train MSE\")\n",
    "plt.plot(train_features, test_predictions, \"-\", label=\"Degree 4, Lowest Test MSE\")\n",
    "plt.scatter(train_features, train_targets)\n",
    "plt.xlabel(\"Feature value i.e. x\")\n",
    "plt.legend(loc=\"lower right\")"
   ]
  },
  {
   "cell_type": "code",
   "execution_count": null,
   "metadata": {},
   "outputs": [],
   "source": []
  }
 ],
 "metadata": {
  "kernelspec": {
   "display_name": "hw4-linear",
   "language": "python",
   "name": "hw4-linear"
  },
  "language_info": {
   "codemirror_mode": {
    "name": "ipython",
    "version": 3
   },
   "file_extension": ".py",
   "mimetype": "text/x-python",
   "name": "python",
   "nbconvert_exporter": "python",
   "pygments_lexer": "ipython3",
   "version": "3.8.5"
  }
 },
 "nbformat": 4,
 "nbformat_minor": 4
}
