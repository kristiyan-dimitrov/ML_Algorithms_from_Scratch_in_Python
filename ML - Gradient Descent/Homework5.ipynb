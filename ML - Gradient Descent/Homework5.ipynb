{
 "cells": [
  {
   "cell_type": "code",
   "execution_count": 603,
   "metadata": {},
   "outputs": [],
   "source": [
    "import json\n",
    "import numpy as np\n",
    "import os\n",
    "import struct\n",
    "from array import array as pyarray\n",
    "import seaborn as sns\n",
    "import matplotlib.pyplot as plt\n",
    "\n",
    "def load_data(dataset, fraction=1.0, base_folder='data'):\n",
    "    \"\"\"\n",
    "    Loads a dataset and performs a random stratified split into training and\n",
    "    test partitions.\n",
    "\n",
    "    Arguments:\n",
    "        dataset - (string) The name of the dataset to load. One of the\n",
    "            following:\n",
    "              'blobs': A linearly separable binary classification problem.\n",
    "              'mnist-binary': A subset of the MNIST dataset containing only\n",
    "                  0s and 1s.\n",
    "              'mnist-multiclass': A subset of the MNIST dataset containing the\n",
    "                  numbers 0 through 4, inclusive.\n",
    "              'synthetic': A small custom dataset for exploring properties of\n",
    "                  gradient descent algorithms.\n",
    "        fraction - (float) Value between 0.0 and 1.0 representing the fraction\n",
    "            of data to include in the training set. The remaining data is\n",
    "            included in the test set. Unused if dataset == 'synthetic'.\n",
    "        base_folder - (string) absolute path to your 'data' directory. If\n",
    "            defaults to 'data'.\n",
    "    Returns:\n",
    "        train_features - (np.array) An Nxd array of features, where N is the\n",
    "            number of examples and d is the number of features.\n",
    "        test_features - (np.array) An Nxd array of features, where M is the\n",
    "            number of examples and d is the number of features.\n",
    "        train_targets - (np.array) A 1D array of targets of size N.\n",
    "        test_targets - (np.array) A 1D array of targets of size M.\n",
    "    \"\"\"\n",
    "    if dataset == 'blobs':\n",
    "        path = os.path.join(base_folder, 'blobs.json')\n",
    "        train_features, test_features, train_targets, test_targets = \\\n",
    "            load_json_data(path)\n",
    "    elif dataset == 'mnist-binary':\n",
    "        train_features, test_features, train_targets, test_targets = \\\n",
    "            load_mnist_data(2, fraction=fraction, mnist_folder=base_folder)\n",
    "        train_targets = train_targets * 2 - 1\n",
    "        test_targets = test_targets * 2 - 1\n",
    "    elif dataset == 'mnist-multiclass':\n",
    "        train_features, test_features, train_targets, test_targets = \\\n",
    "            load_mnist_data(5, fraction=fraction, examples_per_class=100,\n",
    "                            mnist_folder=base_folder)\n",
    "    elif dataset == 'synthetic':\n",
    "        path = os.path.join(base_folder,  'synthetic.json')\n",
    "        train_features, test_features, train_targets, test_targets = \\\n",
    "            load_json_data(path)\n",
    "    else:\n",
    "        raise ValueError('Dataset {} not found!'.format(dataset))\n",
    "\n",
    "    # Normalize the data using feature-independent whitening. Note that the\n",
    "    # statistics are computed with respect to the training set and applied to\n",
    "    # both the training and testing sets.\n",
    "    if dataset != 'synthetic':\n",
    "        mean = train_features.mean(axis=0, keepdims=True)\n",
    "        std = train_features.std(axis=0, keepdims=True) + 1e-5\n",
    "        train_features = (train_features - mean) / std\n",
    "        if fraction < 1.0:\n",
    "            test_features = (test_features - mean) / std\n",
    "\n",
    "    return train_features, test_features, train_targets, test_targets\n",
    "\n",
    "\n",
    "def load_json_data(path, fraction=None, examples_per_class=None):\n",
    "    \"\"\"\n",
    "    Loads a dataset stored as a JSON file. This will not split your dataset\n",
    "    into training and testing sets, rather it returns all features and targets\n",
    "    in `train_features` and `train_targets` and leaves `test_features` and\n",
    "    `test_targets` as empty numpy arrays. This is done to match the API\n",
    "    of the other data loaders.\n",
    "\n",
    "    Args:\n",
    "        path - (string) Path to json file containing the data\n",
    "        fraction - (float) Ignored.\n",
    "        examples_per_class - (int) - Ignored.\n",
    "\n",
    "    Returns:\n",
    "        train_features - (np.array) An Nxd array of features, where N is the\n",
    "            number of examples and d is the number of features.\n",
    "        test_features - (np.array) An empty 2D numpy array.\n",
    "        train_targets - (np.array) A 1D array of targets of size N.\n",
    "        test_targets - (np.array) An empty 1D array.\n",
    "    \"\"\"\n",
    "    with open(path, 'rb') as file:\n",
    "        data = json.load(file)\n",
    "    features = np.array(data[0]).astype(float)\n",
    "    targets = np.array(data[1]).astype(int)\n",
    "\n",
    "    return features, np.array([[]]), targets, np.array([])\n",
    "\n",
    "\n",
    "def load_mnist_data(threshold, fraction=1.0, examples_per_class=500, mnist_folder='data'):\n",
    "    \"\"\"\n",
    "    Loads a subset of the MNIST dataset.\n",
    "\n",
    "    Arguments:\n",
    "        threshold - (int) One greater than the maximum digit in the selected\n",
    "            subset. For example to get digits [0, 1, 2] this arg should be 3, or\n",
    "            to get the digits [0, 1, 2, 3, 4, 5, 6] this arg should be 7.\n",
    "        fraction - (float) Value between 0.0 and 1.0 representing the fraction\n",
    "            of data to include in the training set. The remaining data is\n",
    "            included in the test set. Unused if dataset == 'synthetic'.\n",
    "        examples_per_class - (int) Number of examples to retrieve in each\n",
    "            class.\n",
    "        mnist_folder - (string) Path to folder contain MNIST binary files.\n",
    "\n",
    "    Returns:\n",
    "        train_features - (np.array) An Nxd array of features, where N is the\n",
    "            number of examples and d is the number of features.\n",
    "        test_features - (np.array) An Nxd array of features, where M is the\n",
    "            number of examples and d is the number of features.\n",
    "        train_targets - (np.array) A 1D array of targets of size N.\n",
    "        test_targets - (np.array) A 1D array of targets of size M.\n",
    "    \"\"\"\n",
    "    assert 0.0 <= fraction <= 1.0, 'Whoopsies! Incorrect value for fraction :P'\n",
    "\n",
    "    train_examples = int(examples_per_class * fraction)\n",
    "    if train_examples == 0:\n",
    "        train_features, train_targets = np.array([[]]), np.array([])\n",
    "    else:\n",
    "        train_features, train_targets = _load_mnist(\n",
    "            dataset='training', digits=range(threshold), path=mnist_folder)\n",
    "        train_features, train_targets = stratified_subset(\n",
    "            train_features, train_targets, train_examples)\n",
    "        train_features = train_features.reshape((len(train_features), -1))\n",
    "\n",
    "    test_examples = examples_per_class - train_examples\n",
    "    if test_examples == 0:\n",
    "        test_features, test_targets = np.array([[]]), np.array([])\n",
    "    else:\n",
    "        test_features, test_targets = _load_mnist(\n",
    "            dataset='testing', digits=range(threshold), path=mnist_folder)\n",
    "        test_features, test_targets = stratified_subset(\n",
    "            test_features, test_targets, test_examples)\n",
    "        test_features = test_features.reshape((len(test_features), -1))\n",
    "\n",
    "    return train_features, test_features, train_targets, test_targets\n",
    "\n",
    "\n",
    "def _load_mnist(path, dataset=\"training\", digits=None, asbytes=False,\n",
    "                selection=None, return_labels=True, return_indices=False):\n",
    "    \"\"\"\n",
    "    Loads MNIST files into a 3D numpy array. Does not automatically download\n",
    "    the dataset. You must download the dataset manually. The data can be\n",
    "    downloaded from http://yann.lecun.com/exdb/mnist/.\n",
    "\n",
    "    Examples:\n",
    "        1) Assuming that you have downloaded the MNIST database in a directory\n",
    "        called 'data', this will load all images and labels from the training\n",
    "        set:\n",
    "\n",
    "            images, labels = _load_mnist('training')\n",
    "\n",
    "        2) And this will load 100 sevens from the test partition:\n",
    "\n",
    "            sevens = _load_mnist('testing', digits=[7], selection=slice(0, 100),\n",
    "                                return_labels=False)\n",
    "\n",
    "    Arguments:\n",
    "        path - (str) Path to your MNIST datafiles.\n",
    "        dataset - (str) Either \"training\" or \"testing\". The data partition to\n",
    "            load.\n",
    "        digits - (list or None) A list of integers specifying the digits to\n",
    "            load. If None, the entire database is loaded.\n",
    "        asbytes - (bool) If True, returns data as ``numpy.uint8`` in [0, 255]\n",
    "            as opposed to ``numpy.float64`` in [0.0, 1.0].\n",
    "        selection - (slice) Using a `slice` object, specify what subset of the\n",
    "            dataset to load. An example is ``slice(0, 20, 2)``, which would\n",
    "            load every other digit until--but not including--the twentieth.\n",
    "        return_labels - (bool) Specify whether or not labels should be\n",
    "            returned. This is also a speed performance if digits are not\n",
    "            specified, since then the labels file does not need to be read at\n",
    "            all.\n",
    "        return_indicies - (bool) Specify whether or not to return the MNIST\n",
    "            indices that were fetched. This is valuable only if digits is\n",
    "            specified, because in that case it can be valuable to know how far\n",
    "            in the database it reached.\n",
    "    Returns:\n",
    "        images - (np.array) Image data of shape ``(N, rows, cols)``, where\n",
    "            ``N`` is the number of images. If neither labels nor indices are\n",
    "            returned, then this is returned directly, and not inside a 1-sized\n",
    "            tuple.\n",
    "        labels - (np.array) Array of size ``N`` describing the labels.\n",
    "            Returned only if ``return_labels`` is `True`, which is default.\n",
    "        indices - (np.array) The indices in the database that were returned.\n",
    "    \"\"\"\n",
    "\n",
    "    # The files are assumed to have these names and should be found in 'path'\n",
    "    files = {\n",
    "        'training': ('train-images-idx3-ubyte', 'train-labels-idx1-ubyte'),\n",
    "        'testing': ('t10k-images-idx3-ubyte', 't10k-labels-idx1-ubyte'),\n",
    "    }\n",
    "\n",
    "    try:\n",
    "        images_fname = os.path.join(path, files[dataset][0])\n",
    "        labels_fname = os.path.join(path, files[dataset][1])\n",
    "    except KeyError:\n",
    "        raise ValueError(\"Data set must be 'testing' or 'training'\")\n",
    "\n",
    "    # We can skip the labels file only if digits aren't specified and labels\n",
    "    # aren't asked for\n",
    "    if return_labels or digits is not None:\n",
    "        flbl = open(labels_fname, 'rb')\n",
    "        magic_nr, size = struct.unpack(\">II\", flbl.read(8))\n",
    "        labels_raw = pyarray(\"b\", flbl.read())\n",
    "        flbl.close()\n",
    "\n",
    "    fimg = open(images_fname, 'rb')\n",
    "    magic_nr, size, rows, cols = struct.unpack(\">IIII\", fimg.read(16))\n",
    "    images_raw = pyarray(\"B\", fimg.read())\n",
    "    fimg.close()\n",
    "\n",
    "    if digits:\n",
    "        indices = [k for k in range(size) if labels_raw[k] in digits]\n",
    "    else:\n",
    "        indices = range(size)\n",
    "\n",
    "    if selection:\n",
    "        indices = indices[selection]\n",
    "\n",
    "    images = np.zeros((len(indices), rows, cols), dtype=np.uint8)\n",
    "\n",
    "    if return_labels:\n",
    "        labels = np.zeros((len(indices)), dtype=np.int8)\n",
    "    for i in range(len(indices)):\n",
    "        images[i] = np.array(images_raw[indices[i] * rows * cols:(indices[i] + 1) * rows * cols]).reshape((rows, cols))\n",
    "        if return_labels:\n",
    "            labels[i] = labels_raw[indices[i]]\n",
    "\n",
    "    if not asbytes:\n",
    "        images = images.astype(float)/255.0\n",
    "\n",
    "    ret = (images,)\n",
    "    if return_labels:\n",
    "        ret += (labels,)\n",
    "    if return_indices:\n",
    "        ret += (indices,)\n",
    "\n",
    "    if len(ret) == 1:\n",
    "        return ret[0]  # Don't return a tuple of one\n",
    "\n",
    "    return ret\n",
    "\n",
    "\n",
    "def stratified_subset(features, targets, examples_per_class):\n",
    "    \"\"\"\n",
    "    Evenly sample the dataset across unique classes. Requires each unique class\n",
    "    to have at least examples_per_class examples.\n",
    "\n",
    "    Arguments:\n",
    "        features - (np.array) An Nxd array of features, where N is the\n",
    "            number of examples and d is the number of features.\n",
    "        targets - (np.array) A 1D array of targets of size N.\n",
    "        examples_per_class - (int) The number of examples to take in each\n",
    "            unique class.\n",
    "    Returns:\n",
    "        train_features - (np.array) An Nxd array of features, where N is the\n",
    "            number of examples and d is the number of features.\n",
    "        test_features - (np.array) An Nxd array of features, where M is the\n",
    "            number of examples and d is the number of features.\n",
    "        train_targets - (np.array) A 1D array of targets of size N.\n",
    "        test_targets - (np.array) A 1D array of targets of size M.\n",
    "    \"\"\"\n",
    "    idxs = np.array([False] * len(features))\n",
    "    for target in np.unique(targets):\n",
    "        idxs[np.where(targets == target)[0][:examples_per_class]] = True\n",
    "    return features[idxs], targets[idxs]\n",
    "\n",
    "import numpy as np\n",
    "\n",
    "class Regularization:\n",
    "    \"\"\"\n",
    "    Abstract base class for regularization terms in gradient descent.\n",
    "\n",
    "    *** THIS IS A BASE CLASS: YOU DO NOT NEED TO IMPLEMENT THIS ***\n",
    "\n",
    "    Arguments:\n",
    "        reg_param - (float) The hyperparameter that controls the amount of\n",
    "            regularization to perform. Must be non-negative.\n",
    "    \"\"\"\n",
    "\n",
    "    def __init__(self, reg_param=0.05):\n",
    "        self.reg_param = reg_param\n",
    "\n",
    "    def forward(self, w):\n",
    "        \"\"\"\n",
    "        Implements the forward pass through the regularization term.\n",
    "\n",
    "        *** THIS IS A BASE CLASS: YOU DO NOT NEED TO IMPLEMENT THIS ***\n",
    "\n",
    "        Arguments:\n",
    "            w - (np.array) A 1D array of parameters of length d+1. The current\n",
    "                parameters learned by the model. The +1 refers to the bias\n",
    "                term.\n",
    "        Returns:\n",
    "            regularization_term - (float) The value of the regularization term\n",
    "                evaluated at w.\n",
    "        \"\"\"\n",
    "        pass\n",
    "\n",
    "    def backward(self, w):\n",
    "        \"\"\"\n",
    "        Implements the backward pass through the regularization term.\n",
    "\n",
    "        *** THIS IS A BASE CLASS: YOU DO NOT NEED TO IMPLEMENT THIS ***\n",
    "\n",
    "        Arguments:\n",
    "            w - (np.array) A 1D array of parameters of length d+1. The current\n",
    "                parameters learned by the model. The +1 refers to the bias\n",
    "                term.\n",
    "        Returns:\n",
    "            gradient_term - (np.array) A numpy array of length d+1. The\n",
    "                gradient of the regularization term evaluated at w.\n",
    "        \"\"\"\n",
    "        pass\n",
    "\n",
    "\n",
    "class L1Regularization(Regularization):\n",
    "    \"\"\"\n",
    "    L1 Regularization for gradient descent.\n",
    "    \"\"\"\n",
    "\n",
    "    def forward(self, w):\n",
    "        \"\"\"\n",
    "        Implements the forward pass through the regularization term. For L1,\n",
    "        this is the L1-norm of the model parameters weighted by the\n",
    "        regularization parameter. Note that the bias (the last value in w)\n",
    "        should NOT be included in regularization.\n",
    "\n",
    "        Arguments:\n",
    "            w - (np.array) A 1D array of parameters of length d+1. The current\n",
    "                parameters learned by the model. The +1 refers to the bias\n",
    "                term.\n",
    "        Returns:\n",
    "            regularization_term - (float) The value of the regularization term\n",
    "                evaluated at w.\n",
    "        \"\"\"\n",
    "        return self.reg_param * sum(np.abs(w[:-1]))\n",
    "\n",
    "    def backward(self, w):\n",
    "        \"\"\"\n",
    "        Implements the backward pass through the regularization term. The\n",
    "        backward pass is the gradient of the forward pass with respect to the\n",
    "        model parameters.\n",
    "\n",
    "        Arguments:\n",
    "            w - (np.array) A 1D array of parameters of length d+1. The current\n",
    "                parameters learned by the model. The +1 refers to the bias\n",
    "                term.\n",
    "        Returns:\n",
    "            gradient_term - (np.array) A numpy array of length d+1. The\n",
    "                gradient of the regularization term evaluated at w.\n",
    "        \"\"\"\n",
    "\n",
    "        w = w.flatten()\n",
    "\n",
    "        gradient = self.reg_param * np.array(list(map(lambda el: -1 if el < 0 else( 0 if el == 0 else 1  ), w)))\n",
    "        gradient[-1] = 0 # the bias is considered a constant, because it is not regularized\n",
    "\n",
    "        return gradient\n",
    "\n",
    "\n",
    "class L2Regularization(Regularization):\n",
    "    \"\"\"\n",
    "    L2 Regularization for gradient descent.\n",
    "    \"\"\"\n",
    "\n",
    "    def forward(self, w):\n",
    "        \"\"\"\n",
    "        Implements the forward pass through the regularization term. For L2,\n",
    "        this is half the squared L2-norm of the model parameters weighted by\n",
    "        the regularization parameter. Note that the bias (the last value in w)\n",
    "        should NOT be included in regularization.\n",
    "\n",
    "        Arguments:\n",
    "            w - (np.array) A 1D array of parameters of length d+1. The current\n",
    "                parameters learned by the model. The +1 refers to the bias\n",
    "                term.\n",
    "        Returns:\n",
    "            regularization_term - (float) The value of the regularization term\n",
    "                evaluated at w.\n",
    "        \"\"\"\n",
    "\n",
    "        return self.reg_param * .5 * sum(np.abs(w[:-1])**2)\n",
    "\n",
    "    def backward(self, w):\n",
    "        \"\"\"\n",
    "        Implements the backward pass through the regularization term. The\n",
    "        backward pass is the gradient of the forward pass with respect to the\n",
    "        model parameters.\n",
    "\n",
    "        Arguments:\n",
    "            w - (np.array) A 1D array of parameters of length d+1. The current\n",
    "                parameters learned by the model. The +1 refers to the bias\n",
    "                term.\n",
    "        Returns:\n",
    "            gradient_term - (np.array) A numpy array of length d+1. The\n",
    "                gradient of the regularization term evaluated at w.\n",
    "        \"\"\"\n",
    "        gradient = self.reg_param * w\n",
    "        gradient[-1] = 0 # the bias is considered a constant, because it is not regularized\n",
    "\n",
    "        return gradient\n",
    "\n",
    "import numpy as np\n",
    "\n",
    "\n",
    "class Loss:\n",
    "    \"\"\"\n",
    "    An abstract base class for a loss function that computes both the prescribed\n",
    "    loss function (the forward pass) as well as its gradient (the backward\n",
    "    pass).\n",
    "\n",
    "    *** THIS IS A BASE CLASS: YOU DO NOT NEED TO IMPLEMENT THIS ***\n",
    "\n",
    "    Arguments:\n",
    "        regularization - (`Regularization` or None) The type of regularization to\n",
    "            perform. Either a derived class of `Regularization` or None. If None,\n",
    "            no regularization is performed.\n",
    "    \"\"\"\n",
    "\n",
    "    def __init__(self, regularization=None):\n",
    "        self.regularization = regularization\n",
    "\n",
    "    def forward(self, X, w, y):\n",
    "        \"\"\"\n",
    "        Computes the forward pass through the loss function. If\n",
    "        self.regularization is not None, also adds the forward pass of the\n",
    "        regularization term to the loss.\n",
    "\n",
    "        *** THIS IS A BASE CLASS: YOU DO NOT NEED TO IMPLEMENT THIS ***\n",
    "\n",
    "        Arguments:\n",
    "            X - (np.array) An Nx(d+1) array of features, where N is the number\n",
    "                of examples and d is the number of features. The +1 refers to\n",
    "                the bias term.\n",
    "            w - (np.array) A 1D array of parameters of length d+1. The current\n",
    "                parameters learned by the model. The +1 refers to the bias\n",
    "                term.\n",
    "            y - (np.array) A 1D array of targets of length N.\n",
    "        Returns:\n",
    "            loss - (float) The calculated loss normalized by the number of\n",
    "                examples, N.\n",
    "        \"\"\"\n",
    "        pass\n",
    "\n",
    "    def backward(self, X, w, y):\n",
    "        \"\"\"\n",
    "        Computes the gradient of the loss function with respect to the model\n",
    "        parameters. If self.regularization is not None, also adds the backward\n",
    "        pass of the regularization term to the loss.\n",
    "\n",
    "        *** THIS IS A BASE CLASS: YOU DO NOT NEED TO IMPLEMENT THIS ***\n",
    "\n",
    "        Arguments:\n",
    "            X - (np.array) An Nx(d+1) array of features, where N is the number\n",
    "                of examples and d is the number of features. The +1 refers to\n",
    "                the bias term.\n",
    "            w - (np.array) A 1D array of parameters of length d+1. The current\n",
    "                parameters learned by the model. The +1 refers to the bias\n",
    "                term.\n",
    "            y - (np.array) A 1D array of targets of length N.\n",
    "        Returns:\n",
    "            gradient - (np.array) The (d+1)-dimensional gradient of the loss\n",
    "                function with respect to the model parameters. The +1 refers to\n",
    "                the bias term.\n",
    "        \"\"\"\n",
    "        pass\n",
    "\n",
    "\n",
    "class SquaredLoss(Loss):\n",
    "    \"\"\"\n",
    "    The squared loss function.\n",
    "    \"\"\"\n",
    "\n",
    "    def forward(self, X, w, y):\n",
    "        \"\"\"\n",
    "        Computes the forward pass through the loss function. If\n",
    "        self.regularization is not None, also adds the forward pass of the\n",
    "        regularization term to the loss. The squared loss for a single example\n",
    "        is given as follows:\n",
    "\n",
    "        L_s(x, y; w) = (1/2) (y - w^T x)^2\n",
    "\n",
    "        The squared loss over a dataset of N points is the average of this\n",
    "        expression over all N examples.\n",
    "\n",
    "        Arguments:\n",
    "            X - (np.array) An Nx(d+1) array of features, where N is the number\n",
    "                of examples and d is the number of features. The +1 refers to\n",
    "                the bias term.\n",
    "            w - (np.array) A 1D array of parameters of length d+1. The current\n",
    "                parameters learned by the model. The +1 refers to the bias\n",
    "                term.\n",
    "            y - (np.array) A 1D array of targets of length N.\n",
    "        Returns:\n",
    "            loss - (float) The calculated loss normalized by the number of\n",
    "                examples, N.\n",
    "        \"\"\"\n",
    "\n",
    "        N = X.shape[0]\n",
    "\n",
    "        if self.regularization:\n",
    "            return np.sum(((y - X.dot(w))**2)/(2*N), dtype=float)+self.regularization.forward(w) \n",
    "        else:\n",
    "            return np.sum(((y - X.dot(w))**2)/(2*N), dtype=float)\n",
    "\n",
    "    def backward(self, X, w, y):\n",
    "        \"\"\"\n",
    "        Computes the gradient of the loss function with respect to the model\n",
    "        parameters. If self.regularization is not None, also adds the backward\n",
    "        pass of the regularization term to the loss.\n",
    "\n",
    "        Arguments:\n",
    "            X - (np.array) An Nx(d+1) array of features, where N is the number\n",
    "                of examples and d is the number of features. The +1 refers to\n",
    "                the bias term.\n",
    "            w - (np.array) A 1D array of parameters of length d+1. The current\n",
    "                parameters learned by the model. The +1 refers to the bias\n",
    "                term.\n",
    "            y - (np.array) A 1D array of targets of length N.\n",
    "        Returns:\n",
    "            gradient - (np.array) The (d+1)-dimensional gradient of the loss\n",
    "                function with respect to the model parameters. The +1 refers to\n",
    "                the bias term.\n",
    "        \"\"\"\n",
    "        N = X.shape[0]\n",
    "\n",
    "        if self.regularization:\n",
    "            return -X.T.dot((y-X.dot(w.T)).reshape(-1,1)).T / N + self.regularization.backward(w)\n",
    "        else:\n",
    "            return -X.T.dot((y-X.dot(w.T)).reshape(-1,1)).T / N\n",
    "\n",
    "\n",
    "class HingeLoss(Loss):\n",
    "    \"\"\"\n",
    "    The hinge loss function.\n",
    "\n",
    "    https://en.wikipedia.org/wiki/Hinge_loss\n",
    "    \"\"\"\n",
    "\n",
    "    def forward(self, X, w, y):\n",
    "        \"\"\"\n",
    "        Computes the forward pass through the loss function. If\n",
    "        self.regularization is not None, also adds the forward pass of the\n",
    "        regularization term to the loss. The hinge loss for a single example\n",
    "        is given as follows:\n",
    "\n",
    "        L_h(x, y; w) = max(0, 1 - y w^T x)\n",
    "\n",
    "        The hinge loss over a dataset of N points is the average of this\n",
    "        expression over all N examples.\n",
    "\n",
    "        Arguments:\n",
    "            X - (np.array) An Nx(d+1) array of features, where N is the number\n",
    "                of examples and d is the number of features. The +1 refers to\n",
    "                the bias term.\n",
    "            w - (np.array) A 1D array of parameters of length d+1. The current\n",
    "                parameters learned by the model. The +1 refers to the bias\n",
    "                term.\n",
    "            y - (np.array) A 1D array of targets of length N.\n",
    "        Returns:\n",
    "            loss - (float) The calculated loss normalized by the number of\n",
    "                examples, N.\n",
    "        \"\"\"\n",
    "        N = X.shape[0]\n",
    "\n",
    "        result = np.zeros(N)\n",
    "        for ii in range(N):\n",
    "            result[ii] = max((0, 1-y[ii]*(X.dot(w.reshape(-1,1)))[ii]))\n",
    "\n",
    "\n",
    "\n",
    "        if self.regularization:\n",
    "            return sum(result) / N + self.regularization.forward(w)\n",
    "        else:\n",
    "            return sum(result) / N\n",
    "\n",
    "    def backward(self, X, w, y):\n",
    "        \"\"\"\n",
    "        Computes the gradient of the loss function with respect to the model\n",
    "        parameters. If self.regularization is not None, also adds the backward\n",
    "        pass of the regularization term to the loss.\n",
    "\n",
    "        Arguments:\n",
    "            X - (np.array) An Nx(d+1) array of features, where N is the number\n",
    "                of examples and d is the number of features. The +1 refers to\n",
    "                the bias term.\n",
    "            w - (np.array) A 1D array of parameters of length d+1. The current\n",
    "                parameters learned by the model. The +1 refers to the bias\n",
    "                term.\n",
    "            y - (np.array) A 1D array of targets of length N.\n",
    "        Returns:\n",
    "            gradient - (np.array) The (d+1)-dimensional gradient of the loss\n",
    "                function with respect to the model parameters. The +1 refers to\n",
    "                the bias term.\n",
    "        \"\"\"\n",
    "        N = X.shape[0]\n",
    "        gradient = np.zeros(X.shape[1])\n",
    "\n",
    "        result = np.zeros(N)\n",
    "        for ii in range(N):\n",
    "            if 1-y[ii]*(X.dot(w.reshape(-1,1)))[ii] > 0:\n",
    "                gradient -= y[ii] * X[ii] \n",
    "            else:\n",
    "                gradient += np.zeros(X.shape[1])\n",
    "\n",
    "        if self.regularization:\n",
    "            return gradient / N + self.regularization.backward(w)\n",
    "        else:\n",
    "            return gradient / N\n",
    "\n",
    "\n",
    "class ZeroOneLoss(Loss):\n",
    "    \"\"\"\n",
    "    The 0-1 loss function.\n",
    "\n",
    "    The loss is 0 iff w^T x == y, else the loss is 1.\n",
    "\n",
    "    *** YOU DO NOT NEED TO IMPLEMENT THIS ***\n",
    "    \"\"\"\n",
    "\n",
    "    def forward(self, X, w, y):\n",
    "        \"\"\"\n",
    "        Computes the forward pass through the loss function. If\n",
    "        self.regularization is not None, also adds the forward pass of the\n",
    "        regularization term to the loss. The squared loss for a single example\n",
    "        is given as follows:\n",
    "\n",
    "        L_0-1(x, y; w) = {0 iff w^T x == y, else 1}\n",
    "\n",
    "        The squared loss over a dataset of N points is the average of this\n",
    "        expression over all N examples.\n",
    "\n",
    "        Arguments:\n",
    "            X - (np.array) An Nx(d+1) array of features, where N is the number\n",
    "                of examples and d is the number of features. The +1 refers to\n",
    "                the bias term.\n",
    "            w - (np.array) A 1D array of parameters of length d+1. The current\n",
    "                parameters learned by the model. The +1 refers to the bias\n",
    "                term.\n",
    "            y - (np.array) A 1D array of targets of length N.\n",
    "        Returns:\n",
    "            loss - (float) The average loss.\n",
    "        \"\"\"\n",
    "        predictions = (X @ w > 0.0).astype(int) * 2 - 1\n",
    "        loss = np.sum((predictions != y).astype(float)) / len(X)\n",
    "        if self.regularization:\n",
    "            loss += self.regularization.forward(w)\n",
    "        return loss\n",
    "\n",
    "    def backward(self, X, w, y):\n",
    "        \"\"\"\n",
    "        Computes the gradient of the loss function with respect to the model\n",
    "        parameters. If self.regularization is not None, also adds the backward\n",
    "        pass of the regularization term to the loss.\n",
    "\n",
    "        Arguments:\n",
    "            X - (np.array) An Nx(d+1) array of features, where N is the number\n",
    "                of examples and d is the number of features. The +1 refers to\n",
    "                the bias term.\n",
    "            w - (np.array) A 1D array of parameters of length d+1. The current\n",
    "                parameters learned by the model. The +1 refers to the bias\n",
    "                term.\n",
    "            y - (np.array) A 1D array of targets of length N.\n",
    "        Returns:\n",
    "            gradient - (np.array) The (d+1)-dimensional gradient of the loss\n",
    "                function with respect to the model parameters. The +1 refers to\n",
    "                the bias term.\n",
    "        \"\"\"\n",
    "        # This function purposefully left blank\n",
    "        raise ValueError('No need to use this function for the homework :p')\n",
    "\n",
    "\n",
    "class GradientDescent:\n",
    "    \"\"\"\n",
    "    This is a linear classifier similar to the one you implemented in the\n",
    "    linear regressor homework. This is the classification via regression\n",
    "    case. The goal here is to learn some hyperplane, y = w^T x + b, such that\n",
    "    when features, x, are processed by our model (w and b), the result is\n",
    "    some value y. If y is in [0.0, +inf), the predicted classification label\n",
    "    is +1 and if y is in (-inf, 0.0) the predicted classification label is\n",
    "    -1.\n",
    "\n",
    "    The catch here is that we will not be using the closed form solution,\n",
    "    rather, we will be using gradient descent. In your fit function you\n",
    "    will determine a loss and update your model (w and b) using gradient\n",
    "    descent. More details below.\n",
    "\n",
    "    Arguments:\n",
    "        loss - (string) The loss function to use. Either 'hinge' or 'squared'.\n",
    "        regularization - (string or None) The type of regularization to use.\n",
    "            One of 'l1', 'l2', or None. See regularization.py for more details.\n",
    "        learning_rate - (float) The size of each gradient descent update step.\n",
    "        reg_param - (float) The hyperparameter that controls the amount of\n",
    "            regularization to perform. Must be non-negative.\n",
    "    \"\"\"\n",
    "    def __init__(self, loss, regularization=None,\n",
    "                 learning_rate=0.01, reg_param=0.05):\n",
    "        self.learning_rate = learning_rate\n",
    "\n",
    "        # Select regularizer\n",
    "        if regularization == 'l1':\n",
    "            regularizer = L1Regularization(reg_param)\n",
    "        elif regularization == 'l2':\n",
    "            regularizer = L2Regularization(reg_param)\n",
    "        elif regularization is None:\n",
    "            regularizer = None\n",
    "        else:\n",
    "            raise ValueError(\n",
    "                'Regularizer {} is not defined'.format(regularization))\n",
    "\n",
    "        # Select loss function\n",
    "        if loss == 'hinge':\n",
    "            self.loss = HingeLoss(regularizer)\n",
    "        elif loss == 'squared':\n",
    "            self.loss = SquaredLoss(regularizer)\n",
    "        else:\n",
    "            raise ValueError('Loss function {} is not defined'.format(loss))\n",
    "\n",
    "        self.model = None\n",
    "\n",
    "    def fit(self, features, targets, batch_size=None, max_iter=1000):\n",
    "        \"\"\"\n",
    "        Fits a gradient descent learner to the features and targets. The\n",
    "        pseudocode for the fitting algorithm is as follow:\n",
    "          - Initialize the model parameters to uniform random values in the\n",
    "            interval [-0.1, +0.1].\n",
    "          - While not converged:\n",
    "            - Compute the gradient of the loss with respect to the current\n",
    "              batch.\n",
    "            - Update the model parameters by moving them in the direction\n",
    "              opposite to the current gradient. Use the learning rate as the\n",
    "              step size.\n",
    "        For the convergence criteria, compute the loss over all examples. If\n",
    "        this loss changes by less than 1e-4 during an update, assume that the\n",
    "        model has converged. If this convergence criteria has not been met\n",
    "        after max_iter iterations, also assume convergence and terminate.\n",
    "\n",
    "        You should include a bias term by APPENDING a column of 1s to your\n",
    "        feature matrix. The bias term is then the last value in self.model.\n",
    "\n",
    "        Arguments:\n",
    "            features - (np.array) An Nxd array of features, where N is the\n",
    "                number of examples and d is the number of features.\n",
    "            targets - (np.array) A 1D array of targets of length N.\n",
    "            batch_size - (int or None) The number of examples used in each\n",
    "                iteration. If None, use all of the examples in each update.\n",
    "            max_iter - (int) The maximum number of updates to perform.\n",
    "        Modifies:\n",
    "            self.model - (np.array) A 1D array of model parameters of length\n",
    "                d+1. The +1 refers to the bias term.\n",
    "        \"\"\"\n",
    "\n",
    "        # Adding bias term\n",
    "        features = np.append(features, np.ones(features.shape[0]).reshape(-1,1),  axis=1)\n",
    "\n",
    "        # Initializing model parameters in interval [-.1, +.1]\n",
    "        self.model = (np.random.rand(features.shape[1])-.5)/5\n",
    "\n",
    "        # Tolerance for convergence\n",
    "        tolerance = 1e-4\n",
    "        \n",
    "        # Accuracies\n",
    "        accuracies = []\n",
    "        losses = []\n",
    "        \n",
    "        # Instantiating indices of feature data\n",
    "        all_indices = list(range(len(features)))\n",
    "        np.random.shuffle(all_indices)\n",
    "\n",
    "        for iteration in range(max_iter):\n",
    "            \n",
    "            if iteration % 100 == 0:\n",
    "                print('ITERATION', iteration)\n",
    "                \n",
    "            if batch_size:\n",
    "                \n",
    "                # Case of STOCHASTIC GRADIENT DESCENT\n",
    "                if batch_size == 1:\n",
    "                    \n",
    "                    # If we've run out of indices then we've finished an epoch and we need to reset the indices for another epoch\n",
    "                    if len(all_indices) == 0:\n",
    "                        all_indices = list(range(len(features)))\n",
    "                        np.random.shuffle(all_indices)\n",
    "                    \n",
    "                    # Take an index\n",
    "                    indices = all_indices.pop()\n",
    "                    # Use it for training\n",
    "                    batch_features = features[indices].reshape(1, -1)\n",
    "                    batch_targets = targets[indices].flatten()#.reshape(-1, 1)\n",
    "                    \n",
    "                \n",
    "                # Case of MINI BATCH GRADIENT DESCENT\n",
    "                else:\n",
    "                    indices = np.random.choice(range(features.shape[0]), batch_size)\n",
    "                    batch_features = features[indices]\n",
    "                    batch_targets = targets[indices]\n",
    "            else:\n",
    "                batch_features = features\n",
    "                batch_targets = targets\n",
    "\n",
    "            \n",
    "            # Calculating Results for each EPOCH\n",
    "#             if iteration % 1000 == 0:\n",
    "            # Calculating current loss\n",
    "            current_loss = self.loss.forward(features, self.model, targets)\n",
    "\n",
    "            # Calculating current accuracy\n",
    "#             current_predictions = self.predict(features)\n",
    "\n",
    "            # Record accuracy & loss\n",
    "#             losses.append(current_loss)\n",
    "#             accuracies.append(accuracy(targets, current_predictions))\n",
    "            \n",
    "            \n",
    "            \n",
    "            # Update model weights\n",
    "#             print('BATCH_FEATURES.SHAPE', batch_features.shape)\n",
    "#             print('BATCH_TARGETS.SHAPE', batch_targets.shape)\n",
    "            self.model = self.model - self.learning_rate * self.loss.backward(batch_features, self.model, batch_targets)\n",
    "            self.model = self.model.flatten()\n",
    "\n",
    "#             if iteration % 1000 == 0:\n",
    "            # Calculating new_loss\n",
    "            new_loss = self.loss.forward(features, self.model, targets)\n",
    "\n",
    "            # Checking for convergence\n",
    "            if np.abs(current_loss-new_loss) < tolerance:\n",
    "                break\n",
    "                \n",
    "#         return losses, accuracies\n",
    "\n",
    "    def predict(self, features):\n",
    "        \"\"\"\n",
    "        Predicts the class labels of each example in features. Model output\n",
    "        values at and above 0 are predicted to have label +1. Non-positive\n",
    "        output values are predicted to have label -1.\n",
    "\n",
    "        NOTE: your predict function should make use of your confidence\n",
    "        function (see below).\n",
    "\n",
    "        Arguments:\n",
    "            features - (np.array) A Nxd array of features, where N is the\n",
    "                number of examples and d is the number of features.\n",
    "        Returns:\n",
    "            predictions - (np.array) A 1D array of predictions of length N,\n",
    "                where index d corresponds to the prediction of row N of\n",
    "                features.\n",
    "        \"\"\"\n",
    "\n",
    "        confidences = self.confidence(features)\n",
    "        return np.where(confidences >= 0, 1, -1).reshape(1,-1).flatten()\n",
    "\n",
    "    def confidence(self, features):\n",
    "        \"\"\"\n",
    "        Returns the raw model output of the prediction. In other words, rather\n",
    "        than predicting +1 for values above 0 and -1 for other values, this\n",
    "        function returns the original, unquantized value.\n",
    "\n",
    "        Arguments:\n",
    "            features - (np.array) A Nxd array of features, where N is the\n",
    "                number of examples and d is the number of features.\n",
    "        Returns:\n",
    "            confidence - (np.array) A 1D array of confidence values of length\n",
    "                N, where index d corresponds to the confidence of row N of\n",
    "                features.\n",
    "        \"\"\"\n",
    "        # Adding bias term\n",
    "        features = np.append(features, np.ones(features.shape[0]).reshape(-1,1),  axis=1) # <------------------------------------------ MODIFICATION\n",
    "\n",
    "        return features.dot(self.model.T)\n",
    "\n",
    "\n",
    "\n",
    "\n",
    "class MultiClassGradientDescent:\n",
    "    \"\"\"\n",
    "    Implements linear gradient descent for multiclass classification. Uses\n",
    "    One-vs-All (OVA) classification for aggregating binary classification\n",
    "    results to the multiclass setting.\n",
    "\n",
    "    Arguments:\n",
    "        loss - (string) The loss function to use. One of 'hinge' or 'squared'.\n",
    "        regularization - (string or None) The type of regularization to use.\n",
    "            One of 'l1', 'l2', or None. See regularization.py for more details.\n",
    "        learning_rate - (float) The size of each gradient descent update step.\n",
    "        reg_param - (float) The hyperparameter that controls the amount of\n",
    "            regularization to perform. Must be non-negative.\n",
    "    \"\"\"\n",
    "\n",
    "    def __init__(self, loss, regularization=None,\n",
    "                 learning_rate=0.01, reg_param=0.05):\n",
    "        self.loss = loss\n",
    "        self.regularization = regularization\n",
    "        self.learning_rate = learning_rate\n",
    "        self.reg_param = reg_param\n",
    "\n",
    "        self.model = []\n",
    "        self.classes = None\n",
    "\n",
    "    def fit(self, features, targets, batch_size=None, max_iter=1000):\n",
    "        \"\"\"\n",
    "        Fits a multiclass gradient descent learner to the features and targets\n",
    "        by using One-vs-All classification. In other words, for each of the c\n",
    "        output classes, train a GradientDescent classifier to determine whether\n",
    "        each example does or does not belong to that class.\n",
    "\n",
    "        Store your c GradientDescent classifiers in the list self.model. Index\n",
    "        c of self.model should correspond to the binary classifier trained to\n",
    "        predict whether examples do or do not belong to class c.\n",
    "\n",
    "        Arguments:\n",
    "            features - (np.array) An Nxd array of features, where N is the\n",
    "                number of examples and d is the number of features.\n",
    "            targets - (np.array) A 1D array of targets of size N. Contains c\n",
    "                unique values (the possible class labels).\n",
    "            batch_size - (int or None) The number of examples used in each\n",
    "                iteration. If None, use all of the examples in each update.\n",
    "            max_iter - (int) The maximum number of updates to perform.\n",
    "        Modifies:\n",
    "            self.model - (list) A list of c GradientDescent objects. The models\n",
    "                trained to perform OVA classification for each class.\n",
    "            self.classes - (np.array) A numpy array of the unique target\n",
    "                values. Required to associate a model index with a target value\n",
    "                in predict.\n",
    "        \"\"\"\n",
    "        self.classes = np.unique(targets)\n",
    "\n",
    "        for unique_class in self.classes:\n",
    "            one_vs_all_targets = np.where(targets == unique_class, 1, -1)\n",
    "            new_model = GradientDescent(self.loss, self.regularization, self.learning_rate, self.reg_param)\n",
    "            new_model.fit(features, one_vs_all_targets, batch_size, max_iter)\n",
    "            self.model.append(new_model)\n",
    "\n",
    "    def predict(self, features):\n",
    "        \"\"\"\n",
    "        Predicts the class labels of each example in features using OVA\n",
    "        aggregation. In other words, predict as the output class the class that\n",
    "        receives the highest confidence score from your c GradientDescent\n",
    "        classifiers. Predictions should be in the form of integers that\n",
    "        correspond to the index of the predicted class.\n",
    "\n",
    "        Arguments:\n",
    "            features - (np.array) A Nxd array of features, where N is the\n",
    "                number of examples and d is the number of features.\n",
    "        Returns:\n",
    "            predictions - (np.array) A 1D array of predictions of length N,\n",
    "                where index d corresponds to the prediction of row N of\n",
    "                features.\n",
    "        \"\"\"\n",
    "        raw_predictions = np.zeros((features.shape[0], len(self.classes)))\n",
    "\n",
    "        for ii in range(len(self.classes)):\n",
    "            raw_predictions[:,ii] = self.model[ii].confidence(features)\n",
    "\n",
    "        index_predictions = np.argmax(raw_predictions, axis=1)\n",
    "\n",
    "        return np.array([self.classes[ii] for ii in index_predictions])\n",
    "    \n",
    "    \n",
    "def accuracy(ground_truth, predictions):\n",
    "    \"\"\"\n",
    "    Reports the classification accuracy.\n",
    "\n",
    "    Arguments:\n",
    "        ground_truth - (np.array) A 1D numpy array of length N. The true class\n",
    "            labels.\n",
    "        predictions - (np.array) A 1D numpy array of length N. The class labels\n",
    "            predicted by the model.\n",
    "    Returns:\n",
    "        accuracy - (float) The accuracy of the predictions.\n",
    "    \"\"\"\n",
    "    return np.mean(ground_truth == predictions)\n",
    "\n",
    "\n",
    "def confusion_matrix(ground_truth, predictions):\n",
    "    \"\"\"\n",
    "    Reports the classification accuracy.\n",
    "\n",
    "    Arguments:\n",
    "        ground_truth - (np.array) A 1D numpy array of length N. The true class\n",
    "            labels.\n",
    "        predictions - (np.array) A 1D numpy array of length N. The class labels\n",
    "            predicted by the model.\n",
    "    Returns:\n",
    "        confusion_matrix - (np.array) The confusion matrix. A CxC numpy array,\n",
    "            where C is the number of unique classes. Index i, j is the number\n",
    "            of times an example belonging to class i was predicted to belong\n",
    "            to class j.\n",
    "    \"\"\"\n",
    "    classes = np.unique(ground_truth)\n",
    "    confusion = np.zeros((len(classes), len(classes)))\n",
    "    for i, prediction in enumerate(predictions):\n",
    "        confusion[ground_truth[i], prediction] += 1\n",
    "    return confusion\n",
    "\n",
    "\n",
    "\n"
   ]
  },
  {
   "cell_type": "markdown",
   "metadata": {},
   "source": [
    "# Q4 - a"
   ]
  },
  {
   "cell_type": "code",
   "execution_count": 604,
   "metadata": {},
   "outputs": [],
   "source": [
    "train_features, test_features, train_targets, test_targets = load_data('mnist-binary', fraction=1)"
   ]
  },
  {
   "cell_type": "code",
   "execution_count": 605,
   "metadata": {},
   "outputs": [
    {
     "name": "stdout",
     "output_type": "stream",
     "text": [
      "(1000, 784)\n",
      "(1000,)\n"
     ]
    }
   ],
   "source": [
    "print(train_features.shape)\n",
    "print(train_targets.shape)"
   ]
  },
  {
   "cell_type": "code",
   "execution_count": 606,
   "metadata": {},
   "outputs": [],
   "source": [
    "loss_func = 'squared'\n",
    "reg = 'l1'\n",
    "lr = 1e-5\n",
    "\n",
    "gd_l1 = GradientDescent(loss=loss_func, regularization=reg, learning_rate=lr)"
   ]
  },
  {
   "cell_type": "code",
   "execution_count": 607,
   "metadata": {},
   "outputs": [],
   "source": [
    "loss_func = 'squared'\n",
    "reg = 'l2'\n",
    "\n",
    "gd_l2 = GradientDescent(loss=loss_func, regularization=reg, learning_rate=lr)"
   ]
  },
  {
   "cell_type": "code",
   "execution_count": 608,
   "metadata": {},
   "outputs": [
    {
     "name": "stdout",
     "output_type": "stream",
     "text": [
      "ITERATION 0\n",
      "ITERATION 100\n",
      "ITERATION 200\n",
      "ITERATION 300\n",
      "ITERATION 400\n",
      "ITERATION 500\n",
      "ITERATION 600\n",
      "ITERATION 700\n",
      "ITERATION 800\n",
      "ITERATION 900\n",
      "ITERATION 1000\n",
      "ITERATION 1100\n",
      "ITERATION 1200\n",
      "ITERATION 1300\n",
      "ITERATION 1400\n",
      "ITERATION 1500\n",
      "ITERATION 1600\n",
      "ITERATION 1700\n",
      "ITERATION 1800\n",
      "ITERATION 1900\n"
     ]
    }
   ],
   "source": [
    "gd_l1.fit(train_features, train_targets, max_iter=2000)"
   ]
  },
  {
   "cell_type": "code",
   "execution_count": 611,
   "metadata": {},
   "outputs": [
    {
     "data": {
      "text/plain": [
       "407"
      ]
     },
     "execution_count": 611,
     "metadata": {},
     "output_type": "execute_result"
    }
   ],
   "source": [
    "\n",
    "sum(np.where(gd_l1.model < epsilon, 0, 1))"
   ]
  },
  {
   "cell_type": "code",
   "execution_count": 612,
   "metadata": {},
   "outputs": [
    {
     "name": "stdout",
     "output_type": "stream",
     "text": [
      "ITERATION 0\n",
      "ITERATION 100\n",
      "ITERATION 200\n",
      "ITERATION 300\n",
      "ITERATION 400\n",
      "ITERATION 500\n",
      "ITERATION 600\n",
      "ITERATION 700\n",
      "ITERATION 800\n",
      "ITERATION 900\n",
      "ITERATION 1000\n",
      "ITERATION 1100\n",
      "ITERATION 1200\n",
      "ITERATION 1300\n",
      "ITERATION 1400\n",
      "ITERATION 1500\n",
      "ITERATION 1600\n",
      "ITERATION 1700\n",
      "ITERATION 1800\n",
      "ITERATION 1900\n",
      "ITERATION 0\n",
      "ITERATION 100\n",
      "ITERATION 200\n",
      "ITERATION 300\n",
      "ITERATION 400\n",
      "ITERATION 500\n",
      "ITERATION 600\n",
      "ITERATION 700\n",
      "ITERATION 800\n",
      "ITERATION 900\n",
      "ITERATION 1000\n",
      "ITERATION 1100\n",
      "ITERATION 1200\n",
      "ITERATION 1300\n",
      "ITERATION 1400\n",
      "ITERATION 0\n",
      "ITERATION 100\n",
      "ITERATION 200\n",
      "ITERATION 300\n",
      "ITERATION 400\n",
      "ITERATION 500\n",
      "ITERATION 600\n",
      "ITERATION 700\n",
      "ITERATION 800\n",
      "ITERATION 900\n",
      "ITERATION 1000\n",
      "ITERATION 1100\n",
      "ITERATION 1200\n",
      "ITERATION 1300\n",
      "ITERATION 1400\n",
      "ITERATION 1500\n",
      "ITERATION 1600\n",
      "ITERATION 1700\n",
      "ITERATION 1800\n",
      "ITERATION 1900\n",
      "ITERATION 0\n",
      "ITERATION 100\n",
      "ITERATION 200\n",
      "ITERATION 300\n",
      "ITERATION 400\n",
      "ITERATION 500\n",
      "ITERATION 600\n",
      "ITERATION 700\n",
      "ITERATION 800\n",
      "ITERATION 900\n",
      "ITERATION 1000\n",
      "ITERATION 1100\n",
      "ITERATION 1200\n",
      "ITERATION 1300\n",
      "ITERATION 1400\n",
      "ITERATION 1500\n",
      "ITERATION 1600\n",
      "ITERATION 1700\n",
      "ITERATION 1800\n",
      "ITERATION 1900\n",
      "ITERATION 0\n",
      "ITERATION 100\n",
      "ITERATION 200\n",
      "ITERATION 300\n",
      "ITERATION 400\n",
      "ITERATION 500\n",
      "ITERATION 600\n",
      "ITERATION 700\n",
      "ITERATION 800\n",
      "ITERATION 900\n",
      "ITERATION 1000\n",
      "ITERATION 1100\n",
      "ITERATION 1200\n",
      "ITERATION 1300\n",
      "ITERATION 1400\n",
      "ITERATION 1500\n",
      "ITERATION 1600\n",
      "ITERATION 1700\n",
      "ITERATION 1800\n",
      "ITERATION 1900\n",
      "ITERATION 0\n",
      "ITERATION 100\n",
      "ITERATION 200\n",
      "ITERATION 300\n",
      "ITERATION 400\n",
      "ITERATION 500\n",
      "ITERATION 600\n",
      "ITERATION 700\n",
      "ITERATION 800\n",
      "ITERATION 900\n",
      "ITERATION 1000\n",
      "ITERATION 1100\n",
      "ITERATION 1200\n",
      "ITERATION 1300\n",
      "ITERATION 1400\n",
      "ITERATION 1500\n",
      "ITERATION 1600\n",
      "ITERATION 1700\n",
      "ITERATION 1800\n",
      "ITERATION 1900\n",
      "ITERATION 0\n",
      "ITERATION 100\n",
      "ITERATION 200\n",
      "ITERATION 300\n",
      "ITERATION 400\n",
      "ITERATION 500\n",
      "ITERATION 600\n",
      "ITERATION 700\n",
      "ITERATION 800\n",
      "ITERATION 900\n",
      "ITERATION 1000\n",
      "ITERATION 1100\n",
      "ITERATION 1200\n",
      "ITERATION 1300\n",
      "ITERATION 1400\n",
      "ITERATION 1500\n",
      "ITERATION 1600\n",
      "ITERATION 1700\n",
      "ITERATION 1800\n",
      "ITERATION 1900\n",
      "ITERATION 0\n",
      "ITERATION 100\n",
      "ITERATION 200\n",
      "ITERATION 300\n",
      "ITERATION 400\n",
      "ITERATION 500\n",
      "ITERATION 600\n",
      "ITERATION 700\n",
      "ITERATION 800\n",
      "ITERATION 900\n",
      "ITERATION 1000\n",
      "ITERATION 1100\n",
      "ITERATION 1200\n",
      "ITERATION 1300\n",
      "ITERATION 1400\n",
      "ITERATION 1500\n",
      "ITERATION 1600\n",
      "ITERATION 1700\n",
      "ITERATION 1800\n",
      "ITERATION 1900\n",
      "ITERATION 0\n",
      "ITERATION 100\n",
      "ITERATION 200\n",
      "ITERATION 300\n",
      "ITERATION 400\n",
      "ITERATION 500\n",
      "ITERATION 600\n",
      "ITERATION 700\n",
      "ITERATION 800\n",
      "ITERATION 900\n",
      "ITERATION 1000\n",
      "ITERATION 1100\n",
      "ITERATION 1200\n",
      "ITERATION 1300\n",
      "ITERATION 1400\n",
      "ITERATION 1500\n",
      "ITERATION 1600\n",
      "ITERATION 1700\n",
      "ITERATION 1800\n",
      "ITERATION 1900\n",
      "ITERATION 0\n",
      "ITERATION 100\n",
      "ITERATION 200\n",
      "ITERATION 300\n",
      "ITERATION 400\n",
      "ITERATION 500\n",
      "ITERATION 600\n",
      "ITERATION 700\n",
      "ITERATION 800\n",
      "ITERATION 900\n",
      "ITERATION 0\n",
      "ITERATION 100\n",
      "ITERATION 200\n",
      "ITERATION 300\n",
      "ITERATION 400\n",
      "ITERATION 500\n",
      "ITERATION 600\n",
      "ITERATION 700\n",
      "ITERATION 800\n",
      "ITERATION 900\n",
      "ITERATION 1000\n",
      "ITERATION 1100\n",
      "ITERATION 1200\n",
      "ITERATION 1300\n",
      "ITERATION 1400\n",
      "ITERATION 1500\n",
      "ITERATION 1600\n",
      "ITERATION 1700\n",
      "ITERATION 1800\n",
      "ITERATION 1900\n",
      "ITERATION 0\n",
      "ITERATION 100\n",
      "ITERATION 200\n",
      "ITERATION 300\n",
      "ITERATION 400\n",
      "ITERATION 500\n",
      "ITERATION 600\n",
      "ITERATION 700\n",
      "ITERATION 800\n",
      "ITERATION 900\n",
      "ITERATION 1000\n",
      "ITERATION 1100\n",
      "ITERATION 1200\n",
      "ITERATION 1300\n",
      "ITERATION 1400\n",
      "ITERATION 1500\n",
      "ITERATION 1600\n",
      "ITERATION 1700\n",
      "ITERATION 1800\n",
      "ITERATION 1900\n"
     ]
    }
   ],
   "source": [
    "epsilon = .001\n",
    "loss_func = 'squared'\n",
    "reg = 'l1'\n",
    "lr = 1e-5\n",
    "\n",
    "non_zero_l1 = []\n",
    "non_zero_l2 = []\n",
    "lambdas = [1e-3, 1e-2, 1e-1, 1, 10, 100]\n",
    "\n",
    "for lambda_ in lambdas:\n",
    "    gd_l1 = GradientDescent(loss=loss_func, regularization=reg, learning_rate=lr, reg_param=lambda_)\n",
    "    gd_l2 = GradientDescent(loss=loss_func, regularization=reg, learning_rate=lr, reg_param=lambda_)\n",
    "    \n",
    "    gd_l1.fit(train_features, train_targets, max_iter=2000)\n",
    "    gd_l2.fit(train_features, train_targets, max_iter=2000)\n",
    "\n",
    "    non_zero_l1.append(sum(np.where(gd_l1.model < epsilon, 0, 1)))\n",
    "    non_zero_l2.append(sum(np.where(gd_l2.model < epsilon, 0, 1)))\n"
   ]
  },
  {
   "cell_type": "code",
   "execution_count": 613,
   "metadata": {},
   "outputs": [
    {
     "data": {
      "text/plain": [
       "[391, 389, 373, 318, 0, 0]"
      ]
     },
     "execution_count": 613,
     "metadata": {},
     "output_type": "execute_result"
    }
   ],
   "source": [
    "non_zero_l1"
   ]
  },
  {
   "cell_type": "code",
   "execution_count": 614,
   "metadata": {},
   "outputs": [
    {
     "data": {
      "text/plain": [
       "[368, 386, 387, 297, 7, 1]"
      ]
     },
     "execution_count": 614,
     "metadata": {},
     "output_type": "execute_result"
    }
   ],
   "source": [
    "non_zero_l2"
   ]
  },
  {
   "cell_type": "code",
   "execution_count": 619,
   "metadata": {},
   "outputs": [
    {
     "data": {
      "text/plain": [
       "array([-3., -2., -1.,  0.,  1.,  2.])"
      ]
     },
     "execution_count": 619,
     "metadata": {},
     "output_type": "execute_result"
    }
   ],
   "source": [
    "np.log10(np.array(lambdas))"
   ]
  },
  {
   "cell_type": "code",
   "execution_count": 630,
   "metadata": {},
   "outputs": [
    {
     "data": {
      "text/plain": [
       "<matplotlib.legend.Legend at 0x7fa4c93c8580>"
      ]
     },
     "execution_count": 630,
     "metadata": {},
     "output_type": "execute_result"
    },
    {
     "data": {
      "image/png": "[encoded data removed]",
      "text/plain": [
       "<Figure size 1440x720 with 1 Axes>"
      ]
     },
     "metadata": {
      "needs_background": "light"
     },
     "output_type": "display_data"
    }
   ],
   "source": [
    "plt.figure(figsize=(20,10))\n",
    "plt.xlabel(\"Log10 Lambda (Regularization Strength)\", fontsize=20)\n",
    "plt.ylabel(\"Number of non-zero model parameters\", fontsize=20)\n",
    "plt.title('# Non-Zero parameters vs Strength of Regularization', fontsize=30)\n",
    "plt.plot(np.log10(np.array(lambdas)), non_zero_l1, label='L1 Regularization')\n",
    "plt.plot(np.log10(np.array(lambdas)), non_zero_l2, label='L2 Regularization')\n",
    "plt.legend(loc=\"lower left\")\n"
   ]
  },
  {
   "cell_type": "code",
   "execution_count": 622,
   "metadata": {},
   "outputs": [
    {
     "data": {
      "text/plain": [
       "[<matplotlib.lines.Line2D at 0x7fa4ef90b0a0>]"
      ]
     },
     "execution_count": 622,
     "metadata": {},
     "output_type": "execute_result"
    },
    {
     "data": {
      "image/png": "[encoded data removed]",
      "text/plain": [
       "<Figure size 432x288 with 1 Axes>"
      ]
     },
     "metadata": {
      "needs_background": "light"
     },
     "output_type": "display_data"
    }
   ],
   "source": [
    "plt.xlabel(\"Log10 Lambda (Regularization Strength)\", fontsize=10)\n",
    "plt.ylabel(\"Number of non-zero model parameters\", fontsize=10)\n",
    "plt.title('# Non-Zero parameters vs L2 Regularization', fontsize=20)\n",
    "plt.plot(np.log10(np.array(lambdas)), non_zero_l2)"
   ]
  },
  {
   "cell_type": "markdown",
   "metadata": {},
   "source": [
    "# Q4-c"
   ]
  },
  {
   "cell_type": "code",
   "execution_count": 690,
   "metadata": {},
   "outputs": [],
   "source": [
    "epsilon = .001\n",
    "loss_func = 'squared'\n",
    "reg = 'l1'\n",
    "lr = 1e-5\n",
    "\n",
    "gd_l1 = GradientDescent(loss=loss_func, regularization=reg, learning_rate=lr, reg_param=1)"
   ]
  },
  {
   "cell_type": "code",
   "execution_count": 691,
   "metadata": {},
   "outputs": [
    {
     "name": "stdout",
     "output_type": "stream",
     "text": [
      "ITERATION 0\n",
      "ITERATION 100\n",
      "ITERATION 200\n",
      "ITERATION 300\n",
      "ITERATION 400\n",
      "ITERATION 500\n",
      "ITERATION 600\n",
      "ITERATION 700\n",
      "ITERATION 800\n",
      "ITERATION 900\n",
      "ITERATION 1000\n",
      "ITERATION 1100\n",
      "ITERATION 1200\n",
      "ITERATION 1300\n",
      "ITERATION 1400\n",
      "ITERATION 1500\n",
      "ITERATION 1600\n",
      "ITERATION 1700\n",
      "ITERATION 1800\n",
      "ITERATION 1900\n"
     ]
    }
   ],
   "source": [
    "gd_l1.fit(train_features, train_targets, max_iter=2000)"
   ]
  },
  {
   "cell_type": "code",
   "execution_count": 692,
   "metadata": {},
   "outputs": [
    {
     "data": {
      "text/plain": [
       "(785,)"
      ]
     },
     "execution_count": 692,
     "metadata": {},
     "output_type": "execute_result"
    }
   ],
   "source": [
    "gd_l1.model.shape"
   ]
  },
  {
   "cell_type": "code",
   "execution_count": 693,
   "metadata": {},
   "outputs": [
    {
     "data": {
      "text/plain": [
       "(784,)"
      ]
     },
     "execution_count": 693,
     "metadata": {},
     "output_type": "execute_result"
    }
   ],
   "source": [
    "values = gd_l1.model[:-1]; values.shape"
   ]
  },
  {
   "cell_type": "code",
   "execution_count": 694,
   "metadata": {},
   "outputs": [],
   "source": [
    "non_zero_values = np.where(values < epsilon, 0, 1)"
   ]
  },
  {
   "cell_type": "code",
   "execution_count": 695,
   "metadata": {},
   "outputs": [],
   "source": [
    "square_values = non_zero_values.reshape((28,28))"
   ]
  },
  {
   "cell_type": "code",
   "execution_count": 696,
   "metadata": {},
   "outputs": [
    {
     "data": {
      "image/png": "[encoded data removed]",
      "text/plain": [
       "<Figure size 1440x720 with 1 Axes>"
      ]
     },
     "metadata": {
      "needs_background": "light"
     },
     "output_type": "display_data"
    }
   ],
   "source": [
    "plt.figure(figsize=(20,10))\n",
    "plt.imshow(square_values, cmap='hot')\n",
    "plt.show()\n",
    " "
   ]
  },
  {
   "cell_type": "code",
   "execution_count": 657,
   "metadata": {},
   "outputs": [
    {
     "data": {
      "image/png": "[encoded data removed]",
      "text/plain": [
       "<Figure size 1440x720 with 1 Axes>"
      ]
     },
     "metadata": {
      "needs_background": "light"
     },
     "output_type": "display_data"
    }
   ],
   "source": [
    "plt.figure(figsize=(20,10))\n",
    "plt.imshow(square_values, cmap='hot')\n",
    "plt.show()"
   ]
  },
  {
   "cell_type": "code",
   "execution_count": null,
   "metadata": {},
   "outputs": [],
   "source": []
  },
  {
   "cell_type": "markdown",
   "metadata": {},
   "source": [
    "# Q3 - a"
   ]
  },
  {
   "cell_type": "code",
   "execution_count": 586,
   "metadata": {},
   "outputs": [],
   "source": [
    "train_features, test_features, train_targets, test_targets = load_data('mnist-multiclass', fraction=.75)"
   ]
  },
  {
   "cell_type": "code",
   "execution_count": 587,
   "metadata": {},
   "outputs": [
    {
     "name": "stdout",
     "output_type": "stream",
     "text": [
      "(375, 784)\n",
      "(375,)\n"
     ]
    }
   ],
   "source": [
    "print(train_features.shape)\n",
    "print(train_targets.shape)"
   ]
  },
  {
   "cell_type": "code",
   "execution_count": 588,
   "metadata": {},
   "outputs": [
    {
     "name": "stdout",
     "output_type": "stream",
     "text": [
      "(125, 784)\n",
      "(125,)\n"
     ]
    }
   ],
   "source": [
    "print(test_features.shape)\n",
    "print(test_targets.shape)"
   ]
  },
  {
   "cell_type": "code",
   "execution_count": 589,
   "metadata": {},
   "outputs": [],
   "source": [
    "loss_func = 'squared'\n",
    "reg = 'l1'\n",
    "\n",
    "mgd = MultiClassGradientDescent(loss=loss_func, regularization=reg)"
   ]
  },
  {
   "cell_type": "code",
   "execution_count": 590,
   "metadata": {},
   "outputs": [
    {
     "name": "stdout",
     "output_type": "stream",
     "text": [
      "ITERATION 0\n",
      "ITERATION 100\n",
      "ITERATION 200\n",
      "ITERATION 0\n",
      "ITERATION 100\n",
      "ITERATION 0\n",
      "ITERATION 100\n",
      "ITERATION 200\n",
      "ITERATION 0\n",
      "ITERATION 100\n",
      "ITERATION 200\n",
      "ITERATION 0\n",
      "ITERATION 100\n"
     ]
    }
   ],
   "source": [
    "mgd.fit(train_features, train_targets)"
   ]
  },
  {
   "cell_type": "code",
   "execution_count": 593,
   "metadata": {},
   "outputs": [
    {
     "data": {
      "text/plain": [
       "array([2, 1, 0, 4, 1, 4, 0, 0, 1, 3, 4, 4, 0, 4, 0, 1, 3, 1, 3, 0, 2, 1,\n",
       "       1, 1, 1, 4, 1, 3, 3, 4, 4, 4, 3, 0, 4, 1, 3, 4, 4, 3, 0, 0, 2, 1,\n",
       "       3, 2, 2, 4, 3, 1, 3, 3, 1, 4, 1, 0, 2, 2, 1, 4, 3, 4, 4, 4, 2, 4,\n",
       "       0, 1, 0, 1, 4, 3, 1, 1, 2, 0, 4, 1, 0, 3, 4, 4, 4, 4, 1, 3, 0, 2,\n",
       "       1, 1, 1, 0, 2, 0, 1, 0, 0, 4, 2, 3, 3, 2, 1, 0, 3, 2, 2, 2, 3, 3,\n",
       "       2, 2, 2, 0, 0, 2, 1, 0, 3, 0, 0, 0, 0, 2, 3], dtype=int8)"
      ]
     },
     "execution_count": 593,
     "metadata": {},
     "output_type": "execute_result"
    }
   ],
   "source": [
    "pred = mgd.predict(test_features); pred"
   ]
  },
  {
   "cell_type": "code",
   "execution_count": 594,
   "metadata": {},
   "outputs": [
    {
     "data": {
      "text/plain": [
       "array([[24.,  0.,  1.,  0.,  0.],\n",
       "       [ 0., 24.,  0.,  1.,  0.],\n",
       "       [ 0.,  3., 19.,  1.,  2.],\n",
       "       [ 2.,  1.,  0., 21.,  1.],\n",
       "       [ 1.,  0.,  1.,  0., 23.]])"
      ]
     },
     "execution_count": 594,
     "metadata": {},
     "output_type": "execute_result"
    }
   ],
   "source": [
    "confusion_matrix(test_targets, pred)"
   ]
  },
  {
   "cell_type": "code",
   "execution_count": null,
   "metadata": {},
   "outputs": [],
   "source": []
  },
  {
   "cell_type": "code",
   "execution_count": null,
   "metadata": {},
   "outputs": [],
   "source": []
  },
  {
   "cell_type": "code",
   "execution_count": null,
   "metadata": {},
   "outputs": [],
   "source": []
  },
  {
   "cell_type": "code",
   "execution_count": null,
   "metadata": {},
   "outputs": [],
   "source": []
  },
  {
   "cell_type": "code",
   "execution_count": null,
   "metadata": {},
   "outputs": [],
   "source": []
  },
  {
   "cell_type": "markdown",
   "metadata": {},
   "source": [
    "# Q2 - Part a"
   ]
  },
  {
   "cell_type": "code",
   "execution_count": 409,
   "metadata": {},
   "outputs": [],
   "source": [
    "train_features, test_features, train_targets, test_targets = load_data('synthetic', fraction=1)"
   ]
  },
  {
   "cell_type": "code",
   "execution_count": 379,
   "metadata": {},
   "outputs": [
    {
     "data": {
      "text/plain": [
       "array([[0.],\n",
       "       [1.],\n",
       "       [2.],\n",
       "       [3.],\n",
       "       [4.],\n",
       "       [5.]])"
      ]
     },
     "execution_count": 379,
     "metadata": {},
     "output_type": "execute_result"
    }
   ],
   "source": [
    "train_features"
   ]
  },
  {
   "cell_type": "code",
   "execution_count": 380,
   "metadata": {},
   "outputs": [
    {
     "data": {
      "text/plain": [
       "array([-1, -1,  1,  1, -1,  1])"
      ]
     },
     "execution_count": 380,
     "metadata": {},
     "output_type": "execute_result"
    }
   ],
   "source": [
    "train_targets"
   ]
  },
  {
   "cell_type": "code",
   "execution_count": 381,
   "metadata": {},
   "outputs": [
    {
     "data": {
      "text/plain": [
       "array([], shape=(1, 0), dtype=float64)"
      ]
     },
     "execution_count": 381,
     "metadata": {},
     "output_type": "execute_result"
    }
   ],
   "source": [
    "test_features"
   ]
  },
  {
   "cell_type": "code",
   "execution_count": 382,
   "metadata": {},
   "outputs": [
    {
     "data": {
      "text/plain": [
       "array([], dtype=float64)"
      ]
     },
     "execution_count": 382,
     "metadata": {},
     "output_type": "execute_result"
    }
   ],
   "source": [
    "test_targets"
   ]
  },
  {
   "cell_type": "markdown",
   "metadata": {},
   "source": [
    "Using only the bias term, determine the 0-1 loss over the entire dataset by explicitly setting your bias values to 0.5, -0.5, -1.5, -2.5, -3.5, -4.5, and -5.5"
   ]
  },
  {
   "cell_type": "code",
   "execution_count": 419,
   "metadata": {},
   "outputs": [],
   "source": [
    "biases = np.array([0.5, -0.5, -1.5, -2.5, -3.5, -4.5, -5.5])"
   ]
  },
  {
   "cell_type": "code",
   "execution_count": 384,
   "metadata": {},
   "outputs": [],
   "source": [
    "train_features = np.append(train_features, np.ones(train_features.shape[0]).reshape(-1,1),  axis=1)"
   ]
  },
  {
   "cell_type": "code",
   "execution_count": 430,
   "metadata": {},
   "outputs": [
    {
     "data": {
      "text/plain": [
       "array([0., 1., 2., 3., 4., 5.])"
      ]
     },
     "execution_count": 430,
     "metadata": {},
     "output_type": "execute_result"
    }
   ],
   "source": [
    "train_features.T.flatten()"
   ]
  },
  {
   "cell_type": "code",
   "execution_count": 394,
   "metadata": {},
   "outputs": [
    {
     "data": {
      "text/plain": [
       "array([[ 0.5, -0.5, -1.5, -2.5, -3.5, -4.5, -5.5],\n",
       "       [ 1. ,  1. ,  1. ,  1. ,  1. ,  1. ,  1. ]])"
      ]
     },
     "execution_count": 394,
     "metadata": {},
     "output_type": "execute_result"
    }
   ],
   "source": [
    "np.array([biases, np.ones(len(biases))])"
   ]
  },
  {
   "cell_type": "code",
   "execution_count": 448,
   "metadata": {},
   "outputs": [],
   "source": [
    "g_x = np.zeros((7,6))\n",
    "\n",
    "for ii in range(len(g_x)):\n",
    "    g_x[ii] = (biases[ii]*np.ones(6).reshape(-1,1) + train_features).T.flatten()\n"
   ]
  },
  {
   "cell_type": "code",
   "execution_count": 449,
   "metadata": {},
   "outputs": [
    {
     "data": {
      "text/plain": [
       "array([[ 0.5,  1.5,  2.5,  3.5,  4.5,  5.5],\n",
       "       [-0.5,  0.5,  1.5,  2.5,  3.5,  4.5],\n",
       "       [-1.5, -0.5,  0.5,  1.5,  2.5,  3.5],\n",
       "       [-2.5, -1.5, -0.5,  0.5,  1.5,  2.5],\n",
       "       [-3.5, -2.5, -1.5, -0.5,  0.5,  1.5],\n",
       "       [-4.5, -3.5, -2.5, -1.5, -0.5,  0.5],\n",
       "       [-5.5, -4.5, -3.5, -2.5, -1.5, -0.5]])"
      ]
     },
     "execution_count": 449,
     "metadata": {},
     "output_type": "execute_result"
    }
   ],
   "source": [
    "g_x"
   ]
  },
  {
   "cell_type": "code",
   "execution_count": 452,
   "metadata": {},
   "outputs": [
    {
     "data": {
      "text/plain": [
       "array([1, 1, 1, 1, 1, 1])"
      ]
     },
     "execution_count": 452,
     "metadata": {},
     "output_type": "execute_result"
    }
   ],
   "source": [
    "np.where(g_x[0] > 0, 1, -1)"
   ]
  },
  {
   "cell_type": "code",
   "execution_count": null,
   "metadata": {},
   "outputs": [],
   "source": []
  },
  {
   "cell_type": "code",
   "execution_count": 454,
   "metadata": {},
   "outputs": [],
   "source": [
    "h_x = np.zeros((7,6))\n",
    "\n",
    "for ii in range(g_x.shape[0]):\n",
    "    h_x[ii] = np.where(g_x[ii] > 0, 1, -1)"
   ]
  },
  {
   "cell_type": "code",
   "execution_count": 455,
   "metadata": {},
   "outputs": [
    {
     "data": {
      "text/plain": [
       "array([[ 1.,  1.,  1.,  1.,  1.,  1.],\n",
       "       [-1.,  1.,  1.,  1.,  1.,  1.],\n",
       "       [-1., -1.,  1.,  1.,  1.,  1.],\n",
       "       [-1., -1., -1.,  1.,  1.,  1.],\n",
       "       [-1., -1., -1., -1.,  1.,  1.],\n",
       "       [-1., -1., -1., -1., -1.,  1.],\n",
       "       [-1., -1., -1., -1., -1., -1.]])"
      ]
     },
     "execution_count": 455,
     "metadata": {},
     "output_type": "execute_result"
    }
   ],
   "source": [
    "h_x"
   ]
  },
  {
   "cell_type": "code",
   "execution_count": 459,
   "metadata": {},
   "outputs": [],
   "source": [
    "zero_one_loss = np.zeros(7)\n",
    "\n",
    "for ii in range(h_x.shape[0]):\n",
    "    zero_one_loss[ii] = sum(np.where(h_x[ii] != train_targets, 1, 0))"
   ]
  },
  {
   "cell_type": "code",
   "execution_count": 460,
   "metadata": {},
   "outputs": [
    {
     "data": {
      "text/plain": [
       "array([3., 2., 1., 2., 3., 2., 3.])"
      ]
     },
     "execution_count": 460,
     "metadata": {},
     "output_type": "execute_result"
    }
   ],
   "source": [
    "zero_one_loss"
   ]
  },
  {
   "cell_type": "code",
   "execution_count": 463,
   "metadata": {},
   "outputs": [
    {
     "data": {
      "text/plain": [
       "array([ 0.5, -0.5, -1.5, -2.5, -3.5, -4.5, -5.5])"
      ]
     },
     "execution_count": 463,
     "metadata": {},
     "output_type": "execute_result"
    }
   ],
   "source": [
    "biases"
   ]
  },
  {
   "cell_type": "code",
   "execution_count": 468,
   "metadata": {},
   "outputs": [
    {
     "data": {
      "text/plain": [
       "[<matplotlib.lines.Line2D at 0x7fa4eba4a370>]"
      ]
     },
     "execution_count": 468,
     "metadata": {},
     "output_type": "execute_result"
    },
    {
     "data": {
      "image/png": "[encoded data removed]",
      "text/plain": [
       "<Figure size 432x288 with 1 Axes>"
      ]
     },
     "metadata": {
      "needs_background": "light"
     },
     "output_type": "display_data"
    }
   ],
   "source": [
    "plt.xlabel(\"Bias\", fontsize=20)\n",
    "plt.ylabel(\"0-1 Loss\", fontsize=20)\n",
    "plt.title('Loss vs Bias', fontsize=20)\n",
    "plt.plot(biases, zero_one_loss)"
   ]
  },
  {
   "cell_type": "code",
   "execution_count": 466,
   "metadata": {},
   "outputs": [],
   "source": [
    "x = [1,0,0,-1,-1,-2,-2,-3,-3,-4,-4,-5,-5,-6]\n",
    "y = [3,3,2,2,1,1,2,2,3,3,2,2,3,3]"
   ]
  },
  {
   "cell_type": "code",
   "execution_count": 469,
   "metadata": {},
   "outputs": [
    {
     "data": {
      "text/plain": [
       "[<matplotlib.lines.Line2D at 0x7fa4eb982d60>]"
      ]
     },
     "execution_count": 469,
     "metadata": {},
     "output_type": "execute_result"
    },
    {
     "data": {
      "image/png": "[encoded data removed]",
      "text/plain": [
       "<Figure size 432x288 with 1 Axes>"
      ]
     },
     "metadata": {
      "needs_background": "light"
     },
     "output_type": "display_data"
    }
   ],
   "source": [
    "plt.xlabel(\"Bias\", fontsize=20)\n",
    "plt.ylabel(\"0-1 Loss\", fontsize=20)\n",
    "plt.title('Loss vs Bias - Step Function', fontsize=20)\n",
    "plt.plot(x,y)"
   ]
  },
  {
   "cell_type": "markdown",
   "metadata": {},
   "source": [
    "# Q2 - Part b "
   ]
  },
  {
   "cell_type": "code",
   "execution_count": 494,
   "metadata": {},
   "outputs": [
    {
     "name": "stdout",
     "output_type": "stream",
     "text": [
      "[[0.]\n",
      " [1.]\n",
      " [2.]\n",
      " [3.]\n",
      " [4.]\n",
      " [5.]]\n",
      "[-1 -1  1  1 -1  1]\n"
     ]
    }
   ],
   "source": [
    "print(train_features)\n",
    "print(train_targets)"
   ]
  },
  {
   "cell_type": "code",
   "execution_count": 504,
   "metadata": {},
   "outputs": [
    {
     "data": {
      "text/plain": [
       "array([[0.],\n",
       "       [1.],\n",
       "       [2.],\n",
       "       [3.]])"
      ]
     },
     "execution_count": 504,
     "metadata": {},
     "output_type": "execute_result"
    }
   ],
   "source": [
    "new_tf = train_features[:4]; new_tf"
   ]
  },
  {
   "cell_type": "code",
   "execution_count": 505,
   "metadata": {},
   "outputs": [
    {
     "data": {
      "text/plain": [
       "array([-1, -1,  1,  1])"
      ]
     },
     "execution_count": 505,
     "metadata": {},
     "output_type": "execute_result"
    }
   ],
   "source": [
    "new_tt = train_targets[:4]; new_tt"
   ]
  },
  {
   "cell_type": "code",
   "execution_count": 539,
   "metadata": {},
   "outputs": [
    {
     "data": {
      "text/plain": [
       "array([[0],\n",
       "       [1],\n",
       "       [4],\n",
       "       [5]])"
      ]
     },
     "execution_count": 539,
     "metadata": {},
     "output_type": "execute_result"
    }
   ],
   "source": [
    "new_tf = np.array([0,1,4,5]).reshape(-1,1) ; \n",
    "new_tt = np.array([-1,-1,-1,1])\n",
    "new_tf"
   ]
  },
  {
   "cell_type": "code",
   "execution_count": 540,
   "metadata": {},
   "outputs": [],
   "source": [
    "g_x = np.zeros((7,4))\n",
    "\n",
    "for ii in range(len(g_x)):\n",
    "    g_x[ii] = (biases[ii]*np.ones(4).reshape(-1,1) + new_tf).T.flatten()\n"
   ]
  },
  {
   "cell_type": "code",
   "execution_count": 541,
   "metadata": {},
   "outputs": [],
   "source": [
    "h_x = np.zeros((7,4))\n",
    "\n",
    "for ii in range(g_x.shape[0]):\n",
    "    h_x[ii] = np.where(g_x[ii] > 0, 1, -1)"
   ]
  },
  {
   "cell_type": "code",
   "execution_count": 542,
   "metadata": {},
   "outputs": [],
   "source": [
    "zero_one_loss = np.zeros(7)\n",
    "\n",
    "for ii in range(h_x.shape[0]):\n",
    "    zero_one_loss[ii] = sum(np.where(h_x[ii] != new_tt, 1, 0))"
   ]
  },
  {
   "cell_type": "code",
   "execution_count": 543,
   "metadata": {},
   "outputs": [
    {
     "data": {
      "text/plain": [
       "array([[ 0.5,  1.5,  4.5,  5.5],\n",
       "       [-0.5,  0.5,  3.5,  4.5],\n",
       "       [-1.5, -0.5,  2.5,  3.5],\n",
       "       [-2.5, -1.5,  1.5,  2.5],\n",
       "       [-3.5, -2.5,  0.5,  1.5],\n",
       "       [-4.5, -3.5, -0.5,  0.5],\n",
       "       [-5.5, -4.5, -1.5, -0.5]])"
      ]
     },
     "execution_count": 543,
     "metadata": {},
     "output_type": "execute_result"
    }
   ],
   "source": [
    "g_x"
   ]
  },
  {
   "cell_type": "code",
   "execution_count": 544,
   "metadata": {},
   "outputs": [
    {
     "data": {
      "text/plain": [
       "array([[ 1.,  1.,  1.,  1.],\n",
       "       [-1.,  1.,  1.,  1.],\n",
       "       [-1., -1.,  1.,  1.],\n",
       "       [-1., -1.,  1.,  1.],\n",
       "       [-1., -1.,  1.,  1.],\n",
       "       [-1., -1., -1.,  1.],\n",
       "       [-1., -1., -1., -1.]])"
      ]
     },
     "execution_count": 544,
     "metadata": {},
     "output_type": "execute_result"
    }
   ],
   "source": [
    "h_x"
   ]
  },
  {
   "cell_type": "code",
   "execution_count": 545,
   "metadata": {},
   "outputs": [
    {
     "data": {
      "text/plain": [
       "array([3., 2., 1., 1., 1., 0., 1.])"
      ]
     },
     "execution_count": 545,
     "metadata": {},
     "output_type": "execute_result"
    }
   ],
   "source": [
    "zero_one_loss"
   ]
  },
  {
   "cell_type": "code",
   "execution_count": 546,
   "metadata": {},
   "outputs": [
    {
     "data": {
      "text/plain": [
       "[<matplotlib.lines.Line2D at 0x7fa4ef52ad30>]"
      ]
     },
     "execution_count": 546,
     "metadata": {},
     "output_type": "execute_result"
    },
    {
     "data": {
      "image/png": "[encoded data removed]",
      "text/plain": [
       "<Figure size 432x288 with 1 Axes>"
      ]
     },
     "metadata": {
      "needs_background": "light"
     },
     "output_type": "display_data"
    }
   ],
   "source": [
    "plt.xlabel(\"Bias\", fontsize=20)\n",
    "plt.ylabel(\"0-1 Loss\", fontsize=20)\n",
    "plt.title('Loss vs Bias', fontsize=20)\n",
    "plt.plot(biases, zero_one_loss)"
   ]
  },
  {
   "cell_type": "code",
   "execution_count": 547,
   "metadata": {},
   "outputs": [],
   "source": [
    "x = [1,0,0,-1,-1,-2,-3,-4,-4,-5,-5,-6]\n",
    "y = [3,3,2,2,1,1,1,1,0,0,1,1]"
   ]
  },
  {
   "cell_type": "code",
   "execution_count": 548,
   "metadata": {},
   "outputs": [
    {
     "data": {
      "text/plain": [
       "[<matplotlib.lines.Line2D at 0x7fa4ef7a9ac0>]"
      ]
     },
     "execution_count": 548,
     "metadata": {},
     "output_type": "execute_result"
    },
    {
     "data": {
      "image/png": "[encoded data removed]",
      "text/plain": [
       "<Figure size 432x288 with 1 Axes>"
      ]
     },
     "metadata": {
      "needs_background": "light"
     },
     "output_type": "display_data"
    }
   ],
   "source": [
    "plt.xlabel(\"Bias\", fontsize=20)\n",
    "plt.ylabel(\"0-1 Loss\", fontsize=20)\n",
    "plt.title('Loss vs Bias - Step Function', fontsize=20)\n",
    "plt.plot(x,y)"
   ]
  },
  {
   "cell_type": "markdown",
   "metadata": {},
   "source": [
    "# Q1 - Part a"
   ]
  },
  {
   "cell_type": "code",
   "execution_count": 248,
   "metadata": {},
   "outputs": [
    {
     "data": {
      "text/plain": [
       "<AxesSubplot:title={'center':'Loss over Iterations'}, xlabel='Iterations', ylabel='Loss'>"
      ]
     },
     "execution_count": 248,
     "metadata": {},
     "output_type": "execute_result"
    },
    {
     "data": {
      "image/png": "[encoded data removed]",
      "text/plain": [
       "<Figure size 432x288 with 1 Axes>"
      ]
     },
     "metadata": {
      "needs_background": "light"
     },
     "output_type": "display_data"
    }
   ],
   "source": [
    "plt.xlabel(\"Iterations\", fontsize=20)\n",
    "plt.ylabel(\"Loss\", fontsize=20)\n",
    "plt.title('Loss over Iterations', fontsize=20)\n",
    "# plt.plot(range(len(losses)), losses, \"-\", label=\"Degree 9, Lowest Train MSE\")\n",
    "sns.lineplot(x=range(len(losses)), y=losses)"
   ]
  },
  {
   "cell_type": "code",
   "execution_count": 247,
   "metadata": {},
   "outputs": [
    {
     "data": {
      "text/plain": [
       "<AxesSubplot:title={'center':'Accuracy over Iterations'}, xlabel='Iterations', ylabel='Accuracy'>"
      ]
     },
     "execution_count": 247,
     "metadata": {},
     "output_type": "execute_result"
    },
    {
     "data": {
      "image/png": "[encoded data removed]",
      "text/plain": [
       "<Figure size 432x288 with 1 Axes>"
      ]
     },
     "metadata": {
      "needs_background": "light"
     },
     "output_type": "display_data"
    }
   ],
   "source": [
    "plt.xlabel(\"Iterations\", fontsize=20)\n",
    "plt.ylabel(\"Accuracy\", fontsize=20)\n",
    "plt.title('Accuracy over Iterations', fontsize=20)\n",
    "# plt.plot(range(len(losses)), losses, \"-\", label=\"Degree 9, Lowest Train MSE\")\n",
    "sns.lineplot(x=range(len(accuracies)), y=accuracies)"
   ]
  },
  {
   "cell_type": "markdown",
   "metadata": {},
   "source": [
    "# Q1 - Part b"
   ]
  },
  {
   "cell_type": "code",
   "execution_count": 339,
   "metadata": {},
   "outputs": [],
   "source": [
    "lr = 1e-4\n",
    "loss_func = 'hinge'\n",
    "\n",
    "gd = GradientDescent(loss=loss_func, learning_rate=lr)"
   ]
  },
  {
   "cell_type": "markdown",
   "metadata": {},
   "source": [
    "After each training iteration through the dataset (using batch gradient descent on just the training data), compute both the loss and accuracy of the model on the full training dataset."
   ]
  },
  {
   "cell_type": "code",
   "execution_count": 340,
   "metadata": {},
   "outputs": [
    {
     "name": "stdout",
     "output_type": "stream",
     "text": [
      "ITERATION 0\n",
      "ITERATION 1000\n",
      "ITERATION 2000\n",
      "ITERATION 3000\n",
      "ITERATION 4000\n",
      "ITERATION 5000\n",
      "ITERATION 6000\n",
      "ITERATION 7000\n",
      "ITERATION 8000\n",
      "ITERATION 9000\n",
      "ITERATION 10000\n",
      "ITERATION 11000\n",
      "ITERATION 12000\n",
      "ITERATION 13000\n",
      "ITERATION 14000\n"
     ]
    }
   ],
   "source": [
    "losses, accuracies = gd.fit(train_mnist, train_digits, batch_size=1, max_iter = 1000 * 15)"
   ]
  },
  {
   "cell_type": "code",
   "execution_count": null,
   "metadata": {},
   "outputs": [],
   "source": []
  },
  {
   "cell_type": "code",
   "execution_count": 341,
   "metadata": {},
   "outputs": [
    {
     "data": {
      "text/plain": [
       "<AxesSubplot:title={'center':'Loss over Iterations'}, xlabel='Iterations', ylabel='Loss'>"
      ]
     },
     "execution_count": 341,
     "metadata": {},
     "output_type": "execute_result"
    },
    {
     "data": {
      "image/png": "[encoded data removed]",
      "text/plain": [
       "<Figure size 432x288 with 1 Axes>"
      ]
     },
     "metadata": {
      "needs_background": "light"
     },
     "output_type": "display_data"
    }
   ],
   "source": [
    "plt.xlabel(\"Iterations\", fontsize=20)\n",
    "plt.ylabel(\"Loss\", fontsize=20)\n",
    "plt.title('Loss over Iterations', fontsize=20)\n",
    "# plt.plot(range(len(losses)), losses, \"-\", label=\"Degree 9, Lowest Train MSE\")\n",
    "sns.lineplot(x=range(len(losses)), y=losses)"
   ]
  },
  {
   "cell_type": "code",
   "execution_count": 342,
   "metadata": {},
   "outputs": [
    {
     "data": {
      "text/plain": [
       "<AxesSubplot:title={'center':'Accuracy over Iterations'}, xlabel='Iterations', ylabel='Accuracy'>"
      ]
     },
     "execution_count": 342,
     "metadata": {},
     "output_type": "execute_result"
    },
    {
     "data": {
      "image/png": "[encoded data removed]",
      "text/plain": [
       "<Figure size 432x288 with 1 Axes>"
      ]
     },
     "metadata": {
      "needs_background": "light"
     },
     "output_type": "display_data"
    }
   ],
   "source": [
    "plt.xlabel(\"Iterations\", fontsize=20)\n",
    "plt.ylabel(\"Accuracy\", fontsize=20)\n",
    "plt.title('Accuracy over Iterations', fontsize=20)\n",
    "# plt.plot(range(len(losses)), losses, \"-\", label=\"Degree 9, Lowest Train MSE\")\n",
    "sns.lineplot(x=range(len(accuracies)), y=accuracies)"
   ]
  },
  {
   "cell_type": "code",
   "execution_count": 343,
   "metadata": {},
   "outputs": [],
   "source": [
    "losses_e = [losses[ii] for ii in range(len(losses)) if ii%1000==0]\n",
    "acc_e = [accuracies[ii] for ii in range(len(accuracies)) if ii%1000==0]"
   ]
  },
  {
   "cell_type": "code",
   "execution_count": 346,
   "metadata": {},
   "outputs": [
    {
     "data": {
      "text/plain": [
       "<AxesSubplot:title={'center':'Loss over Iterations'}, xlabel='Iterations', ylabel='Loss'>"
      ]
     },
     "execution_count": 346,
     "metadata": {},
     "output_type": "execute_result"
    },
    {
     "data": {
      "image/png": "[encoded data removed]",
      "text/plain": [
       "<Figure size 432x288 with 1 Axes>"
      ]
     },
     "metadata": {
      "needs_background": "light"
     },
     "output_type": "display_data"
    }
   ],
   "source": [
    "plt.xlabel(\"Iterations\", fontsize=20)\n",
    "plt.ylabel(\"Loss\", fontsize=20)\n",
    "plt.title('Loss over Iterations', fontsize=20)\n",
    "# plt.plot(range(len(losses)), losses, \"-\", label=\"Degree 9, Lowest Train MSE\")\n",
    "sns.lineplot(x=range(len(losses_e)), y=losses_e)"
   ]
  },
  {
   "cell_type": "code",
   "execution_count": 347,
   "metadata": {},
   "outputs": [
    {
     "data": {
      "text/plain": [
       "<AxesSubplot:title={'center':'Accuracy over Iterations'}, xlabel='Iterations', ylabel='Accuracy'>"
      ]
     },
     "execution_count": 347,
     "metadata": {},
     "output_type": "execute_result"
    },
    {
     "data": {
      "image/png": "[encoded data removed]",
      "text/plain": [
       "<Figure size 432x288 with 1 Axes>"
      ]
     },
     "metadata": {
      "needs_background": "light"
     },
     "output_type": "display_data"
    }
   ],
   "source": [
    "plt.xlabel(\"Iterations\", fontsize=20)\n",
    "plt.ylabel(\"Accuracy\", fontsize=20)\n",
    "plt.title('Accuracy over Iterations', fontsize=20)\n",
    "# plt.plot(range(len(losses)), losses, \"-\", label=\"Degree 9, Lowest Train MSE\")\n",
    "sns.lineplot(x=range(len(acc_e)), y=acc_e)"
   ]
  },
  {
   "cell_type": "code",
   "execution_count": null,
   "metadata": {},
   "outputs": [],
   "source": []
  },
  {
   "cell_type": "code",
   "execution_count": null,
   "metadata": {},
   "outputs": [],
   "source": []
  },
  {
   "cell_type": "code",
   "execution_count": null,
   "metadata": {},
   "outputs": [],
   "source": []
  },
  {
   "cell_type": "code",
   "execution_count": 374,
   "metadata": {},
   "outputs": [],
   "source": [
    "lr = 1e-4\n",
    "loss_func = 'hinge'\n",
    "\n",
    "gd = GradientDescent(loss=loss_func, learning_rate=lr)"
   ]
  },
  {
   "cell_type": "markdown",
   "metadata": {},
   "source": [
    "After each training iteration through the dataset (using batch gradient descent on just the training data), compute both the loss and accuracy of the model on the full training dataset."
   ]
  },
  {
   "cell_type": "code",
   "execution_count": 375,
   "metadata": {},
   "outputs": [
    {
     "name": "stdout",
     "output_type": "stream",
     "text": [
      "ITERATION 0\n"
     ]
    }
   ],
   "source": [
    "losses_new, accuracies_new = gd.fit(train_mnist, train_digits, batch_size=1, max_iter = 1000 * 1000)"
   ]
  },
  {
   "cell_type": "code",
   "execution_count": 372,
   "metadata": {},
   "outputs": [
    {
     "data": {
      "text/plain": [
       "2"
      ]
     },
     "execution_count": 372,
     "metadata": {},
     "output_type": "execute_result"
    }
   ],
   "source": [
    "len(losses_new)"
   ]
  },
  {
   "cell_type": "code",
   "execution_count": 367,
   "metadata": {},
   "outputs": [
    {
     "data": {
      "text/plain": [
       "<AxesSubplot:title={'center':'Loss over Epochs'}, xlabel='Epochs', ylabel='Loss'>"
      ]
     },
     "execution_count": 367,
     "metadata": {},
     "output_type": "execute_result"
    },
    {
     "data": {
      "image/png": "[encoded data removed]",
      "text/plain": [
       "<Figure size 432x288 with 1 Axes>"
      ]
     },
     "metadata": {
      "needs_background": "light"
     },
     "output_type": "display_data"
    }
   ],
   "source": [
    "plt.xlabel(\"Epochs\", fontsize=20)\n",
    "plt.ylabel(\"Loss\", fontsize=20)\n",
    "plt.title('Loss over Epochs', fontsize=20)\n",
    "# plt.plot(range(len(losses)), losses, \"-\", label=\"Degree 9, Lowest Train MSE\")\n",
    "sns.lineplot(x=range(len(losses_new)), y=losses_new)"
   ]
  },
  {
   "cell_type": "code",
   "execution_count": 368,
   "metadata": {},
   "outputs": [
    {
     "data": {
      "text/plain": [
       "<AxesSubplot:title={'center':'Accuracy over Epochs'}, xlabel='Epochs', ylabel='Accuracy'>"
      ]
     },
     "execution_count": 368,
     "metadata": {},
     "output_type": "execute_result"
    },
    {
     "data": {
      "image/png": "[encoded data removed]",
      "text/plain": [
       "<Figure size 432x288 with 1 Axes>"
      ]
     },
     "metadata": {
      "needs_background": "light"
     },
     "output_type": "display_data"
    }
   ],
   "source": [
    "plt.xlabel(\"Epochs\", fontsize=20)\n",
    "plt.ylabel(\"Accuracy\", fontsize=20)\n",
    "plt.title('Accuracy over Epochs', fontsize=20)\n",
    "# plt.plot(range(len(losses)), losses, \"-\", label=\"Degree 9, Lowest Train MSE\")\n",
    "sns.lineplot(x=range(len(accuracies_new)), y=accuracies_new)"
   ]
  },
  {
   "cell_type": "code",
   "execution_count": 363,
   "metadata": {},
   "outputs": [],
   "source": [
    "losses_e_new = [losses_new[ii] for ii in range(len(losses_new)) if ii%1000==0]\n",
    "acc_e_new = [accuracies_new[ii] for ii in range(len(accuracies_new)) if ii%1000==0]"
   ]
  },
  {
   "cell_type": "code",
   "execution_count": null,
   "metadata": {},
   "outputs": [],
   "source": []
  },
  {
   "cell_type": "code",
   "execution_count": null,
   "metadata": {},
   "outputs": [],
   "source": []
  },
  {
   "cell_type": "code",
   "execution_count": null,
   "metadata": {},
   "outputs": [],
   "source": []
  },
  {
   "cell_type": "code",
   "execution_count": null,
   "metadata": {},
   "outputs": [],
   "source": []
  },
  {
   "cell_type": "code",
   "execution_count": null,
   "metadata": {},
   "outputs": [],
   "source": []
  },
  {
   "cell_type": "code",
   "execution_count": null,
   "metadata": {},
   "outputs": [],
   "source": []
  },
  {
   "cell_type": "code",
   "execution_count": null,
   "metadata": {},
   "outputs": [],
   "source": []
  },
  {
   "cell_type": "code",
   "execution_count": null,
   "metadata": {},
   "outputs": [],
   "source": []
  },
  {
   "cell_type": "code",
   "execution_count": null,
   "metadata": {},
   "outputs": [],
   "source": []
  },
  {
   "cell_type": "code",
   "execution_count": null,
   "metadata": {},
   "outputs": [],
   "source": []
  },
  {
   "cell_type": "code",
   "execution_count": null,
   "metadata": {},
   "outputs": [],
   "source": []
  },
  {
   "cell_type": "code",
   "execution_count": null,
   "metadata": {},
   "outputs": [],
   "source": []
  },
  {
   "cell_type": "code",
   "execution_count": null,
   "metadata": {},
   "outputs": [],
   "source": []
  },
  {
   "cell_type": "code",
   "execution_count": null,
   "metadata": {},
   "outputs": [],
   "source": []
  },
  {
   "cell_type": "code",
   "execution_count": null,
   "metadata": {},
   "outputs": [],
   "source": []
  }
 ],
 "metadata": {
  "kernelspec": {
   "display_name": "hw5-gradient-descent",
   "language": "python",
   "name": "hw5-gradient-descent"
  },
  "language_info": {
   "codemirror_mode": {
    "name": "ipython",
    "version": 3
   },
   "file_extension": ".py",
   "mimetype": "text/x-python",
   "name": "python",
   "nbconvert_exporter": "python",
   "pygments_lexer": "ipython3",
   "version": "3.8.5"
  }
 },
 "nbformat": 4,
 "nbformat_minor": 4
}
