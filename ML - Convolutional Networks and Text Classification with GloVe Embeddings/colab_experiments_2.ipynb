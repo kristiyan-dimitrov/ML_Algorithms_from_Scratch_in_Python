{
 "cells": [
  {
   "cell_type": "code",
   "execution_count": null,
   "metadata": {
    "id": "t2g94-chzySp"
   },
   "outputs": [],
   "source": [
    "# !unzip text_data.zip"
   ]
  },
  {
   "cell_type": "code",
   "execution_count": null,
   "metadata": {
    "id": "Vrk2eEyfy_Oh"
   },
   "outputs": [],
   "source": [
    "from my_dataset import MyDataset\n",
    "from load_data import *\n",
    "from preprocess import *\n",
    "# from run_torch_model import *\n",
    "from run_torch_model_CUDA import *\n",
    "from text_model import *\n",
    "\n",
    "import matplotlib.pyplot as plt\n",
    "from matplotlib import style\n",
    "style.use('fivethirtyeight')\n",
    "from collections import Counter\n",
    "import numpy as np\n",
    "from sklearn.metrics import classification_report\n",
    "import time\n",
    "import csv\n",
    "import os\n",
    "\n",
    "import torch\n",
    "import torchvision\n",
    "import torchvision.transforms as transforms\n",
    "import matplotlib.pyplot as plt\n",
    "import numpy as np\n",
    "import torch.optim as optim\n",
    "import torch.nn as nn\n",
    "import torch.nn.functional as F"
   ]
  },
  {
   "cell_type": "code",
   "execution_count": null,
   "metadata": {
    "colab": {
     "base_uri": "https://localhost:8080/"
    },
    "id": "k0nZPyCUzuMA",
    "outputId": "e14a3294-5411-4448-efd4-b5c3aebcd910"
   },
   "outputs": [
    {
     "name": "stdout",
     "output_type": "stream",
     "text": [
      "Using device:  cuda\n"
     ]
    }
   ],
   "source": [
    "device = torch.device('cuda' if torch.cuda.is_available()  else 'cpu')\n",
    "print('Using device: ', device)"
   ]
  },
  {
   "cell_type": "code",
   "execution_count": null,
   "metadata": {
    "colab": {
     "base_uri": "https://localhost:8080/"
    },
    "id": "HcHwL8vm49v4",
    "outputId": "4efaf4ce-8b1b-4f45-b1be-31f962e304cf"
   },
   "outputs": [
    {
     "name": "stdout",
     "output_type": "stream",
     "text": [
      "name, driver_version, memory.total [MiB]\n",
      "Tesla T4, 418.67, 15079 MiB\n"
     ]
    }
   ],
   "source": [
    "# Checking the type of GPU\n",
    "!nvidia-smi --query-gpu=gpu_name,driver_version,memory.total --format=csv"
   ]
  },
  {
   "cell_type": "code",
   "execution_count": null,
   "metadata": {
    "id": "3u5CcX1gzuJb"
   },
   "outputs": [],
   "source": [
    "folder = 'text_data'\n",
    "\n",
    "# AGN Data\n",
    "agn_sub_folder = 'agn_small'\n",
    "agn_path = os.path.join(folder, agn_sub_folder)\n",
    "\n",
    "# DBPedia Data\n",
    "dbpedia_sub_folder = 'dbpedia_small'\n",
    "dbpedia_path = os.path.join(folder, dbpedia_sub_folder)\n",
    "\n",
    "# Loading both datasets\n",
    "train_agn, dev_agn, test_agn = load_data(agn_path)\n",
    "train_dbpedia, dev_dbpedia, test_dbpedia = load_data(dbpedia_path)"
   ]
  },
  {
   "cell_type": "code",
   "execution_count": null,
   "metadata": {
    "colab": {
     "base_uri": "https://localhost:8080/",
     "height": 52
    },
    "id": "4-T9TVZ3zuGp",
    "outputId": "742a5f84-80a1-4703-cd67-8063f8eadfec"
   },
   "outputs": [
    {
     "data": {
      "application/vnd.google.colaboratory.intrinsic+json": {
       "type": "string"
      },
      "text/plain": [
       "\"Fannie Mae Discloses Document Request The mortgage giant said today that prosecutors had asked the company to preserve documents as part of an investigation into Fannie Mae's accounting practices.\""
      ]
     },
     "execution_count": 114,
     "metadata": {
      "tags": []
     },
     "output_type": "execute_result"
    }
   ],
   "source": [
    "train_agn[0]['text']"
   ]
  },
  {
   "cell_type": "code",
   "execution_count": null,
   "metadata": {
    "colab": {
     "base_uri": "https://localhost:8080/"
    },
    "id": "U9fg2v1hzuEB",
    "outputId": "d03298ff-5d33-4ed8-b661-fe802eb392ba"
   },
   "outputs": [
    {
     "name": "stdout",
     "output_type": "stream",
     "text": [
      "AGN DATA\n",
      "TRAINING  5000\n",
      "DEV  5000\n",
      "TEST  5000\n",
      "DBPEDIA DATA\n",
      "TRAINING  5000\n",
      "DEV  10000\n",
      "TEST  10000\n"
     ]
    }
   ],
   "source": [
    "print(\"AGN DATA\")\n",
    "print(\"TRAINING \", len(train_agn))\n",
    "print(\"DEV \", len(dev_agn))\n",
    "print(\"TEST \", len(test_agn))\n",
    "print(\"DBPEDIA DATA\")\n",
    "print(\"TRAINING \", len(train_dbpedia))\n",
    "print(\"DEV \", len(dev_dbpedia))\n",
    "print(\"TEST \", len(test_dbpedia))"
   ]
  },
  {
   "cell_type": "code",
   "execution_count": null,
   "metadata": {
    "id": "hbGidBOzzuBP"
   },
   "outputs": [],
   "source": [
    "train_texts_agn = [x['text'] for x in train_agn]\n",
    "train_labels_agn = [x['label'] for x in train_agn]\n",
    "dev_texts_agn = [x['text'] for x in dev_agn]\n",
    "dev_labels_agn = [x['label'] for x in dev_agn]\n",
    "test_texts_agn = [x['text'] for x in test_agn]\n",
    "test_labels_agn = [x['label'] for x in test_agn]"
   ]
  },
  {
   "cell_type": "code",
   "execution_count": null,
   "metadata": {
    "colab": {
     "base_uri": "https://localhost:8080/"
    },
    "id": "kcZcvM4J0pix",
    "outputId": "4db329ab-cecf-45ef-9f1e-f49df50a0369"
   },
   "outputs": [
    {
     "data": {
      "text/plain": [
       "array([0, 1, 2, 3])"
      ]
     },
     "execution_count": 117,
     "metadata": {
      "tags": []
     },
     "output_type": "execute_result"
    }
   ],
   "source": [
    "np.unique(train_labels_agn)"
   ]
  },
  {
   "cell_type": "code",
   "execution_count": null,
   "metadata": {
    "id": "M1-CAajzzt-m"
   },
   "outputs": [],
   "source": [
    "train_texts_dbpedia = [x['text'] for x in train_dbpedia]\n",
    "train_labels_dbpedia = [x['label'] for x in train_dbpedia]\n",
    "dev_texts_dbpedia = [x['text'] for x in dev_dbpedia]\n",
    "dev_labels_dbpedia = [x['label'] for x in dev_dbpedia]\n",
    "test_texts_dbpedia = [x['text'] for x in test_dbpedia]\n",
    "test_labels_dbpedia = [x['label'] for x in test_dbpedia]"
   ]
  },
  {
   "cell_type": "code",
   "execution_count": null,
   "metadata": {
    "colab": {
     "base_uri": "https://localhost:8080/"
    },
    "id": "wVonaAxqzt7s",
    "outputId": "2cd89695-0554-41e1-9963-7312468b6205"
   },
   "outputs": [
    {
     "data": {
      "text/plain": [
       "array(['1', '10', '11', '12', '13', '14', '2', '3', '4', '5', '6', '7',\n",
       "       '8', '9'], dtype='<U2')"
      ]
     },
     "execution_count": 119,
     "metadata": {
      "tags": []
     },
     "output_type": "execute_result"
    }
   ],
   "source": [
    "np.unique(train_labels_dbpedia)"
   ]
  },
  {
   "cell_type": "code",
   "execution_count": null,
   "metadata": {
    "id": "uLXOTQMU1bAq"
   },
   "outputs": [],
   "source": [
    "def _non_rare_vocabulary(texts, min_freq=20): # <------------ IMPORTANT PARAMETER\n",
    "\n",
    "    counter = Counter(texts[0])\n",
    "\n",
    "    for text in texts[1:]:\n",
    "        counter += Counter(text)\n",
    "\n",
    "    print(\"Size of vocabulary BEFORE removing rare tokens: \", len(counter))\n",
    "\n",
    "    sorted_items = sorted(counter.items(), key = lambda x: x[1])\n",
    "\n",
    "    index = 0\n",
    "\n",
    "    for sorted_item in sorted_items:\n",
    "        \n",
    "        if sorted_item[1] >= min_freq:\n",
    "            break\n",
    "            \n",
    "        index+=1\n",
    "        \n",
    "    print(\"Size of vocabulary AFTER  removing rare tokens: \", len(sorted_items[index:]))\n",
    "        \n",
    "    return [x[0] for x in sorted_items[index:]]\n",
    "\n",
    "\n",
    "def _bag_of_words(texts, vocabulary):\n",
    "\n",
    "    bow = np.zeros((len(texts), len(vocabulary)))\n",
    "    \n",
    "    for ii in range(len(texts)):\n",
    "        \n",
    "        for word in texts[ii]:\n",
    "            \n",
    "            if word in vocabulary:\n",
    "                \n",
    "                bow[ii, vocabulary.index(word)] += 1\n",
    "                \n",
    "    return bow\n",
    "\n",
    "\n",
    "def _term_document_frequency(term, texts):\n",
    "\n",
    "    counter = 0\n",
    "    \n",
    "    for text in texts:\n",
    "        if term in text:\n",
    "            counter += 1\n",
    "            \n",
    "    if counter == 0:\n",
    "      print(\"TERM WITH 0 doc_freq \", term)\n",
    "\n",
    "    return counter\n",
    "\n",
    "\n",
    "def _idf(texts, vocabulary):\n",
    "    \n",
    "    doc_freq = np.zeros((len(vocabulary),))\n",
    "    N = len(texts)\n",
    "                        \n",
    "    for ii in range(len(vocabulary)):\n",
    "        doc_freq[ii] = np.log(N / _term_document_frequency(vocabulary[ii], texts))\n",
    "        \n",
    "    return doc_freq\n",
    "\n",
    "\n",
    "def _tf_idf( texts, vocabulary):\n",
    "    \n",
    "    # Instantiate results\n",
    "    tfidf = np.zeros((len(texts), len(vocabulary)))\n",
    "    \n",
    "    # One-off calculation of Inverse Document Frequency\n",
    "    doc_freq = _idf(texts, vocabulary)\n",
    "    \n",
    "    for ii in range(len(texts)):\n",
    "        # Find Term Frequency for each word in a text\n",
    "        for word in texts[ii]:\n",
    "            \n",
    "            if word in vocabulary:\n",
    "                \n",
    "                tfidf[ii, vocabulary.index(word)] += 1\n",
    "        \n",
    "        # Multiply the Term Frequency by Inverse Document Frequency\n",
    "        tfidf[ii, ] *= tfidf[ii, ] * doc_freq\n",
    "                \n",
    "    return tfidf\n",
    "\n"
   ]
  },
  {
   "cell_type": "markdown",
   "metadata": {
    "id": "I8TXc4e01Iw2"
   },
   "source": [
    "# TRAINING"
   ]
  },
  {
   "cell_type": "code",
   "execution_count": null,
   "metadata": {
    "colab": {
     "base_uri": "https://localhost:8080/"
    },
    "id": "raazWR4X1PVz",
    "outputId": "f04b5ed9-4134-46ac-d467-e0ad4df582d7"
   },
   "outputs": [
    {
     "name": "stdout",
     "output_type": "stream",
     "text": [
      "[nltk_data] Downloading package stopwords to /root/nltk_data...\n",
      "[nltk_data]   Package stopwords is already up-to-date!\n"
     ]
    },
    {
     "data": {
      "text/plain": [
       "True"
      ]
     },
     "execution_count": 184,
     "metadata": {
      "tags": []
     },
     "output_type": "execute_result"
    }
   ],
   "source": [
    "texts = train_texts_agn\n",
    "labels = train_labels_agn\n",
    "val_texts = dev_texts_agn\n",
    "val_labels = dev_labels_agn\n",
    "nltk.download('stopwords')"
   ]
  },
  {
   "cell_type": "code",
   "execution_count": null,
   "metadata": {
    "colab": {
     "base_uri": "https://localhost:8080/"
    },
    "id": "Uil4nUHvzt5E",
    "outputId": "285707f8-f56b-4a7e-ca13-27d210c0e17a"
   },
   "outputs": [
    {
     "name": "stdout",
     "output_type": "stream",
     "text": [
      "FINISHED PREPROCESSING\n",
      "Size of vocabulary BEFORE removing rare tokens:  17186\n",
      "Size of vocabulary AFTER  removing rare tokens:  2594\n",
      "DEFINED VOCABULARY\n"
     ]
    }
   ],
   "source": [
    "preprocessed_texts = preprocess_texts(texts)\n",
    "print(\"FINISHED PREPROCESSING\")\n",
    "vocabulary = _non_rare_vocabulary(preprocessed_texts\n",
    "                                  , min_freq = 10)\n",
    "print(\"DEFINED VOCABULARY\")"
   ]
  },
  {
   "cell_type": "code",
   "execution_count": null,
   "metadata": {
    "colab": {
     "base_uri": "https://localhost:8080/"
    },
    "id": "10k1QQj_5sfw",
    "outputId": "c165d0ac-830e-44c5-94a9-1f2be77065ce"
   },
   "outputs": [
    {
     "name": "stdout",
     "output_type": "stream",
     "text": [
      "FEATURES.shape  (5000, 2594)\n"
     ]
    }
   ],
   "source": [
    "# TRAINING DATA\n",
    "\n",
    "# BAG OF WORDS\n",
    "# features = _bag_of_words(preprocessed_texts, vocabulary)\n",
    "\n",
    "# TFIDF\n",
    "features = _tf_idf(preprocessed_texts, vocabulary)\n",
    "\n",
    "print(\"FEATURES.shape \", features.shape)"
   ]
  },
  {
   "cell_type": "code",
   "execution_count": null,
   "metadata": {
    "colab": {
     "base_uri": "https://localhost:8080/"
    },
    "id": "cY_x7ixPOEC1",
    "outputId": "be1ac3e9-515a-4b44-901c-c0d8f176e353"
   },
   "outputs": [
    {
     "data": {
      "text/plain": [
       "True"
      ]
     },
     "execution_count": 189,
     "metadata": {
      "tags": []
     },
     "output_type": "execute_result"
    }
   ],
   "source": [
    "'kuznetsova' in vocabulary"
   ]
  },
  {
   "cell_type": "code",
   "execution_count": null,
   "metadata": {
    "colab": {
     "base_uri": "https://localhost:8080/",
     "height": 392
    },
    "id": "Rd_IlWOz6_Bi",
    "outputId": "2e26c5ac-55f9-4dc3-d098-1f6f76afa192"
   },
   "outputs": [
    {
     "name": "stdout",
     "output_type": "stream",
     "text": [
      "TERM WITH 0 doc_freq  kuznetsova\n"
     ]
    },
    {
     "ename": "ZeroDivisionError",
     "evalue": "ignored",
     "output_type": "error",
     "traceback": [
      "\u001b[0;31m---------------------------------------------------------------------------\u001b[0m",
      "\u001b[0;31mZeroDivisionError\u001b[0m                         Traceback (most recent call last)",
      "\u001b[0;32m<ipython-input-187-00f7123013ae>\u001b[0m in \u001b[0;36m<module>\u001b[0;34m()\u001b[0m\n\u001b[1;32m      4\u001b[0m \u001b[0;31m# val_features = _bag_of_words(preprocessed_val_texts, vocabulary)\u001b[0m\u001b[0;34m\u001b[0m\u001b[0;34m\u001b[0m\u001b[0;34m\u001b[0m\u001b[0m\n\u001b[1;32m      5\u001b[0m \u001b[0;34m\u001b[0m\u001b[0m\n\u001b[0;32m----> 6\u001b[0;31m \u001b[0mval_features\u001b[0m \u001b[0;34m=\u001b[0m \u001b[0m_tf_idf\u001b[0m\u001b[0;34m(\u001b[0m\u001b[0mpreprocessed_val_texts\u001b[0m\u001b[0;34m,\u001b[0m \u001b[0mvocabulary\u001b[0m\u001b[0;34m)\u001b[0m\u001b[0;34m\u001b[0m\u001b[0;34m\u001b[0m\u001b[0m\n\u001b[0m\u001b[1;32m      7\u001b[0m \u001b[0;34m\u001b[0m\u001b[0m\n\u001b[1;32m      8\u001b[0m \u001b[0mprint\u001b[0m\u001b[0;34m(\u001b[0m\u001b[0;34m\"VAL_FEATURES.shape \"\u001b[0m\u001b[0;34m,\u001b[0m \u001b[0mval_features\u001b[0m\u001b[0;34m.\u001b[0m\u001b[0mshape\u001b[0m\u001b[0;34m)\u001b[0m\u001b[0;34m\u001b[0m\u001b[0;34m\u001b[0m\u001b[0m\n",
      "\u001b[0;32m<ipython-input-183-77c887130656>\u001b[0m in \u001b[0;36m_tf_idf\u001b[0;34m(texts, vocabulary)\u001b[0m\n\u001b[1;32m     70\u001b[0m \u001b[0;34m\u001b[0m\u001b[0m\n\u001b[1;32m     71\u001b[0m     \u001b[0;31m# One-off calculation of Inverse Document Frequency\u001b[0m\u001b[0;34m\u001b[0m\u001b[0;34m\u001b[0m\u001b[0;34m\u001b[0m\u001b[0m\n\u001b[0;32m---> 72\u001b[0;31m     \u001b[0mdoc_freq\u001b[0m \u001b[0;34m=\u001b[0m \u001b[0m_idf\u001b[0m\u001b[0;34m(\u001b[0m\u001b[0mtexts\u001b[0m\u001b[0;34m,\u001b[0m \u001b[0mvocabulary\u001b[0m\u001b[0;34m)\u001b[0m\u001b[0;34m\u001b[0m\u001b[0;34m\u001b[0m\u001b[0m\n\u001b[0m\u001b[1;32m     73\u001b[0m \u001b[0;34m\u001b[0m\u001b[0m\n\u001b[1;32m     74\u001b[0m     \u001b[0;32mfor\u001b[0m \u001b[0mii\u001b[0m \u001b[0;32min\u001b[0m \u001b[0mrange\u001b[0m\u001b[0;34m(\u001b[0m\u001b[0mlen\u001b[0m\u001b[0;34m(\u001b[0m\u001b[0mtexts\u001b[0m\u001b[0;34m)\u001b[0m\u001b[0;34m)\u001b[0m\u001b[0;34m:\u001b[0m\u001b[0;34m\u001b[0m\u001b[0;34m\u001b[0m\u001b[0m\n",
      "\u001b[0;32m<ipython-input-183-77c887130656>\u001b[0m in \u001b[0;36m_idf\u001b[0;34m(texts, vocabulary)\u001b[0m\n\u001b[1;32m     59\u001b[0m \u001b[0;34m\u001b[0m\u001b[0m\n\u001b[1;32m     60\u001b[0m     \u001b[0;32mfor\u001b[0m \u001b[0mii\u001b[0m \u001b[0;32min\u001b[0m \u001b[0mrange\u001b[0m\u001b[0;34m(\u001b[0m\u001b[0mlen\u001b[0m\u001b[0;34m(\u001b[0m\u001b[0mvocabulary\u001b[0m\u001b[0;34m)\u001b[0m\u001b[0;34m)\u001b[0m\u001b[0;34m:\u001b[0m\u001b[0;34m\u001b[0m\u001b[0;34m\u001b[0m\u001b[0m\n\u001b[0;32m---> 61\u001b[0;31m         \u001b[0mdoc_freq\u001b[0m\u001b[0;34m[\u001b[0m\u001b[0mii\u001b[0m\u001b[0;34m]\u001b[0m \u001b[0;34m=\u001b[0m \u001b[0mnp\u001b[0m\u001b[0;34m.\u001b[0m\u001b[0mlog\u001b[0m\u001b[0;34m(\u001b[0m\u001b[0mN\u001b[0m \u001b[0;34m/\u001b[0m \u001b[0m_term_document_frequency\u001b[0m\u001b[0;34m(\u001b[0m\u001b[0mvocabulary\u001b[0m\u001b[0;34m[\u001b[0m\u001b[0mii\u001b[0m\u001b[0;34m]\u001b[0m\u001b[0;34m,\u001b[0m \u001b[0mtexts\u001b[0m\u001b[0;34m)\u001b[0m\u001b[0;34m)\u001b[0m\u001b[0;34m\u001b[0m\u001b[0;34m\u001b[0m\u001b[0m\n\u001b[0m\u001b[1;32m     62\u001b[0m \u001b[0;34m\u001b[0m\u001b[0m\n\u001b[1;32m     63\u001b[0m     \u001b[0;32mreturn\u001b[0m \u001b[0mdoc_freq\u001b[0m\u001b[0;34m\u001b[0m\u001b[0;34m\u001b[0m\u001b[0m\n",
      "\u001b[0;31mZeroDivisionError\u001b[0m: division by zero"
     ]
    }
   ],
   "source": [
    "# VALIDATION DATA\n",
    "preprocessed_val_texts = preprocess_texts(val_texts)\n",
    "\n",
    "# val_features = _bag_of_words(preprocessed_val_texts, vocabulary)\n",
    "\n",
    "val_features = _tf_idf(preprocessed_val_texts, vocabulary)\n",
    "\n",
    "print(\"VAL_FEATURES.shape \", val_features.shape)"
   ]
  },
  {
   "cell_type": "code",
   "execution_count": null,
   "metadata": {
    "id": "ouEmfXNT5sWb"
   },
   "outputs": [],
   "source": [
    "# TRAINING\n",
    "train_dataset = MyDataset(features, labels)\n",
    "val_dataset = MyDataset(val_features, val_labels)\n",
    "\n",
    "model = Text_Classifier(input_size = len(vocabulary)\n",
    "                        , output_size = len(np.unique(labels)))\n",
    "\n",
    "trained_model, loss, accuracy = run_model(model\n",
    "                                          , running_mode='train'\n",
    "                                          , train_set = train_dataset\n",
    "                                          , valid_set = val_dataset\n",
    "                                          , batch_size = 10\n",
    "                                          , stop_thr=1e-4\n",
    "                                          , learning_rate = 1e-4 * 10\n",
    "                                          , n_epochs = 100\n",
    "                                          , shuffle = True\n",
    "                                          , device=device)"
   ]
  },
  {
   "cell_type": "code",
   "execution_count": null,
   "metadata": {
    "colab": {
     "base_uri": "https://localhost:8080/",
     "height": 457
    },
    "id": "ryZ-bb-P6GKc",
    "outputId": "156cb7b0-94d4-4990-e4e5-684827f92df7"
   },
   "outputs": [
    {
     "data": {
      "text/plain": [
       "<matplotlib.legend.Legend at 0x7fd5c366c7f0>"
      ]
     },
     "execution_count": 172,
     "metadata": {
      "tags": []
     },
     "output_type": "execute_result"
    },
    {
     "data": {
      "image/png": "[encoded data removed]",
      "text/plain": [
       "<Figure size 1440x720 with 1 Axes>"
      ]
     },
     "metadata": {
      "tags": []
     },
     "output_type": "display_data"
    }
   ],
   "source": [
    "plt.figure(figsize=(20,10))\n",
    "n_epochs = 98\n",
    "plt.plot(range(n_epochs), loss['train'], label='Training')\n",
    "plt.plot(range(n_epochs), loss['valid'], label='Validation')\n",
    "\n",
    "plt.title('Training Loss')\n",
    "plt.ylabel(\"Loss\")\n",
    "plt.xlabel('Epoch')\n",
    "plt.legend()"
   ]
  },
  {
   "cell_type": "code",
   "execution_count": null,
   "metadata": {
    "colab": {
     "base_uri": "https://localhost:8080/",
     "height": 458
    },
    "id": "FxpCRWJN6OpB",
    "outputId": "7431a1f1-8af2-4f20-85c9-9688c770fcf9"
   },
   "outputs": [
    {
     "data": {
      "text/plain": [
       "<matplotlib.legend.Legend at 0x7fd61222f048>"
      ]
     },
     "execution_count": 173,
     "metadata": {
      "tags": []
     },
     "output_type": "execute_result"
    },
    {
     "data": {
      "image/png": "[encoded data removed]",
      "text/plain": [
       "<Figure size 1440x720 with 1 Axes>"
      ]
     },
     "metadata": {
      "tags": []
     },
     "output_type": "display_data"
    }
   ],
   "source": [
    "plt.figure(figsize=(20,10))\n",
    "plt.plot(range(n_epochs), accuracy['train'], label='Training')\n",
    "plt.plot(range(n_epochs), accuracy['valid'], label='Validation')\n",
    "\n",
    "plt.title('Training Accuracy')\n",
    "plt.ylabel(\"Accuracy\")\n",
    "plt.xlabel('Epoch')\n",
    "plt.legend()"
   ]
  },
  {
   "cell_type": "markdown",
   "metadata": {
    "id": "SooC-I-33VsY"
   },
   "source": [
    "# TESTING"
   ]
  },
  {
   "cell_type": "code",
   "execution_count": null,
   "metadata": {
    "id": "ydVofyi81x_M"
   },
   "outputs": [],
   "source": [
    "test_texts = test_texts_agn\n",
    "test_labels = test_labels_agn"
   ]
  },
  {
   "cell_type": "code",
   "execution_count": null,
   "metadata": {
    "id": "80pGOqCxzt2R"
   },
   "outputs": [],
   "source": [
    "preprocessed_test_texts = preprocess_texts(test_texts)\n",
    "\n",
    "test_features = _bag_of_words  (preprocessed_test_texts, vocabulary)\n",
    "\n",
    "test_dataset = MyDataset(test_features, test_labels) # dummy labels\n",
    "\n",
    "test_dataloader = torch.utils.data.DataLoader(test_dataset\n",
    "                                                , batch_size=len(test_features) # Will just 1 batch work?\n",
    "                                                , shuffle=False\n",
    "                                                , num_workers=2) \n",
    "\n",
    "with torch.no_grad():\n",
    "\n",
    "    for batch, labels in test_dataloader:\n",
    "\n",
    "        batch, labels = batch.to(device), labels.to(device)\n",
    "\n",
    "        output = trained_model(batch.float())\n",
    "\n",
    "        predicted = torch.max(output.data, 1)[1]"
   ]
  },
  {
   "cell_type": "code",
   "execution_count": null,
   "metadata": {
    "colab": {
     "base_uri": "https://localhost:8080/"
    },
    "id": "s54t2y05ztzh",
    "outputId": "35051ebd-eb56-449e-ac7f-d2fc0e00c973"
   },
   "outputs": [
    {
     "name": "stdout",
     "output_type": "stream",
     "text": [
      "              precision    recall  f1-score   support\n",
      "\n",
      "           0       0.85      0.86      0.85      1250\n",
      "           1       0.91      0.94      0.92      1250\n",
      "           2       0.81      0.80      0.80      1250\n",
      "           3       0.82      0.80      0.81      1250\n",
      "\n",
      "    accuracy                           0.85      5000\n",
      "   macro avg       0.85      0.85      0.85      5000\n",
      "weighted avg       0.85      0.85      0.85      5000\n",
      "\n"
     ]
    }
   ],
   "source": [
    "print(classification_report(test_labels,predicted.cpu()))"
   ]
  },
  {
   "cell_type": "code",
   "execution_count": null,
   "metadata": {
    "id": "pbjA9uXVztuN"
   },
   "outputs": [],
   "source": [
    "test_loss, test_accuracy = run_model(model\n",
    "                                      , running_mode='test'\n",
    "                                      , test_set = test_dataset\n",
    "                                      , batch_size = len(test_features)\n",
    "                                      , shuffle = True)"
   ]
  },
  {
   "cell_type": "code",
   "execution_count": null,
   "metadata": {
    "colab": {
     "base_uri": "https://localhost:8080/"
    },
    "id": "Yz7oiRcJztrb",
    "outputId": "36c975a2-50a1-491a-c06f-45e0a59f3333"
   },
   "outputs": [
    {
     "data": {
      "text/plain": [
       "0.4524252414703369"
      ]
     },
     "execution_count": 178,
     "metadata": {
      "tags": []
     },
     "output_type": "execute_result"
    }
   ],
   "source": [
    "test_loss"
   ]
  },
  {
   "cell_type": "code",
   "execution_count": null,
   "metadata": {
    "colab": {
     "base_uri": "https://localhost:8080/"
    },
    "id": "OAIn4Sqfztoq",
    "outputId": "f58cc30e-1402-4e81-de9c-e5a1cea66e5d"
   },
   "outputs": [
    {
     "data": {
      "text/plain": [
       "84.88"
      ]
     },
     "execution_count": 179,
     "metadata": {
      "tags": []
     },
     "output_type": "execute_result"
    }
   ],
   "source": [
    "test_accuracy"
   ]
  },
  {
   "cell_type": "markdown",
   "metadata": {
    "id": "5_WYWuAk1vc0"
   },
   "source": [
    "# <<<<<<<<<< TRAINING WITH GLOVE >>>>>>>>>>>>"
   ]
  },
  {
   "cell_type": "code",
   "execution_count": null,
   "metadata": {
    "id": "ao5g5knq3gVj"
   },
   "outputs": [],
   "source": [
    "# !unzip text_data.zip"
   ]
  },
  {
   "cell_type": "code",
   "execution_count": null,
   "metadata": {
    "id": "ssFL4H7M2oVB"
   },
   "outputs": [],
   "source": [
    "from my_dataset import MyDataset\n",
    "from load_data import *\n",
    "from preprocess import *\n",
    "# from run_torch_model import *\n",
    "from run_torch_model_CUDA import *\n",
    "from text_model import *\n",
    "\n",
    "import gensim.downloader\n",
    "import gensim\n",
    "\n",
    "import matplotlib.pyplot as plt\n",
    "from matplotlib import style\n",
    "style.use('fivethirtyeight')\n",
    "from collections import Counter\n",
    "import numpy as np\n",
    "from sklearn.metrics import classification_report\n",
    "import time\n",
    "import csv\n",
    "import os\n",
    "\n",
    "import torch\n",
    "import torchvision\n",
    "import torchvision.transforms as transforms\n",
    "import matplotlib.pyplot as plt\n",
    "import numpy as np\n",
    "import torch.optim as optim\n",
    "import torch.nn as nn\n",
    "import torch.nn.functional as F"
   ]
  },
  {
   "cell_type": "code",
   "execution_count": null,
   "metadata": {
    "colab": {
     "base_uri": "https://localhost:8080/"
    },
    "id": "MSgbIUE52m9i",
    "outputId": "17c15ee8-92b1-4bcc-9f10-7957234598d8"
   },
   "outputs": [
    {
     "name": "stdout",
     "output_type": "stream",
     "text": [
      "Using device:  cuda\n"
     ]
    }
   ],
   "source": [
    "device = torch.device('cuda' if torch.cuda.is_available()  else 'cpu')\n",
    "print('Using device: ', device)"
   ]
  },
  {
   "cell_type": "code",
   "execution_count": null,
   "metadata": {
    "colab": {
     "base_uri": "https://localhost:8080/"
    },
    "id": "OQsbgGtN7XRH",
    "outputId": "0c8e61c1-bcf0-45f6-8ef6-6a0bd6b0ee03"
   },
   "outputs": [
    {
     "name": "stdout",
     "output_type": "stream",
     "text": [
      "[nltk_data] Downloading package stopwords to /root/nltk_data...\n",
      "[nltk_data]   Package stopwords is already up-to-date!\n",
      "DONE WITH STOPWORDS DOWNLOAD\n",
      "[============================================------] 88.7% 333.5/376.1MB downloaded\n",
      "DONE WITH GLOVE DOWNLOAD\n"
     ]
    }
   ],
   "source": [
    "nltk.download('stopwords')\n",
    "print(\"DONE WITH STOPWORDS DOWNLOAD\")\n",
    "# glove = gensim.downloader.load('glove-wiki-gigaword-50')\n",
    "glove = gensim.downloader.load('glove-wiki-gigaword-300')\n",
    "print(\"DONE WITH GLOVE DOWNLOAD\")"
   ]
  },
  {
   "cell_type": "code",
   "execution_count": null,
   "metadata": {
    "id": "A_eZlLKq2m6k"
   },
   "outputs": [],
   "source": [
    "folder = 'text_data'\n",
    "\n",
    "# AGN Data\n",
    "agn_sub_folder = 'agn_small'\n",
    "agn_path = os.path.join(folder, agn_sub_folder)\n",
    "\n",
    "# DBPedia Data\n",
    "dbpedia_sub_folder = 'dbpedia_small'\n",
    "dbpedia_path = os.path.join(folder, dbpedia_sub_folder)\n",
    "\n",
    "# Loading both datasets\n",
    "train_agn, dev_agn, test_agn = load_data(agn_path)\n",
    "train_dbpedia, dev_dbpedia, test_dbpedia = load_data(dbpedia_path)\n",
    "\n",
    "# Texts & Labels - AGN\n",
    "train_texts_agn = [x['text'] for x in train_agn]\n",
    "train_labels_agn = [x['label'] for x in train_agn]\n",
    "dev_texts_agn = [x['text'] for x in dev_agn]\n",
    "dev_labels_agn = [x['label'] for x in dev_agn]\n",
    "test_texts_agn = [x['text'] for x in test_agn]\n",
    "test_labels_agn = [x['label'] for x in test_agn]\n",
    "\n",
    "# Texts & Labels - DBPedia\n",
    "train_texts_dbpedia = [x['text'] for x in train_dbpedia]\n",
    "train_labels_dbpedia = [x['label'] for x in train_dbpedia]\n",
    "dev_texts_dbpedia = [x['text'] for x in dev_dbpedia]\n",
    "dev_labels_dbpedia = [x['label'] for x in dev_dbpedia]\n",
    "test_texts_dbpedia = [x['text'] for x in test_dbpedia]\n",
    "test_labels_dbpedia = [x['label'] for x in test_dbpedia]"
   ]
  },
  {
   "cell_type": "code",
   "execution_count": null,
   "metadata": {
    "colab": {
     "base_uri": "https://localhost:8080/",
     "height": 52
    },
    "id": "IV1K-TBsumpv",
    "outputId": "3566f6fa-47d8-4517-8e32-4bf0a17d9a63"
   },
   "outputs": [
    {
     "data": {
      "application/vnd.google.colaboratory.intrinsic+json": {
       "type": "string"
      },
      "text/plain": [
       "' Coleophora acutipennella is a moth of the Coleophoridae family. It is found in North America including California.'"
      ]
     },
     "execution_count": 184,
     "metadata": {
      "tags": []
     },
     "output_type": "execute_result"
    }
   ],
   "source": [
    "train_texts_dbpedia[0]"
   ]
  },
  {
   "cell_type": "code",
   "execution_count": null,
   "metadata": {
    "id": "GSHCh2ZV1udF"
   },
   "outputs": [],
   "source": [
    "def docs_to_vecs(texts):\n",
    "\n",
    "    doc_vecs = []\n",
    "    \n",
    "    for text in texts:\n",
    "\n",
    "        lst_vec = []\n",
    "    \n",
    "        for word in text:\n",
    "            try:\n",
    "                lst_vec.append(glove.get_vector(word))\n",
    "            except:\n",
    "                pass # Ignore word if it's not in vocabulary of glove_50\n",
    "    \n",
    "        vec = np.array(lst_vec)\n",
    "        np_vec = np.concatenate((np.min(vec, axis=0), np.max(vec, axis=0), np.mean(vec, axis=0)))\n",
    "\n",
    "        doc_vecs.append(np_vec)\n",
    "    \n",
    "    return np.array(doc_vecs)"
   ]
  },
  {
   "cell_type": "markdown",
   "metadata": {
    "id": "ubbfFRlL4Vlp"
   },
   "source": [
    "## Working with AGN data"
   ]
  },
  {
   "cell_type": "code",
   "execution_count": null,
   "metadata": {
    "colab": {
     "base_uri": "https://localhost:8080/"
    },
    "id": "crbrdm3_4TIR",
    "outputId": "2861b682-f4a4-4e59-eada-679f07752971"
   },
   "outputs": [
    {
     "name": "stdout",
     "output_type": "stream",
     "text": [
      "PREPROCESSED TRAIN TEXTS:  5000\n",
      "PREPROCESSED DEV TEXTS:  5000\n",
      "PREPROCESSED TEST TEXTS:  5000\n"
     ]
    }
   ],
   "source": [
    "preprocessed_train_texts = preprocess_texts(train_texts_agn)\n",
    "print(\"PREPROCESSED TRAIN TEXTS: \", len(preprocessed_train_texts))\n",
    "preprocessed_dev_texts = preprocess_texts(dev_texts_agn)\n",
    "print(\"PREPROCESSED DEV TEXTS: \", len(preprocessed_dev_texts))\n",
    "preprocessed_test_texts = preprocess_texts(test_texts_agn)\n",
    "print(\"PREPROCESSED TEST TEXTS: \", len(preprocessed_test_texts))"
   ]
  },
  {
   "cell_type": "code",
   "execution_count": null,
   "metadata": {
    "colab": {
     "base_uri": "https://localhost:8080/"
    },
    "id": "r9dQoyL2ztl5",
    "outputId": "0ca2e90a-3187-4556-f65c-230146c78306"
   },
   "outputs": [
    {
     "name": "stdout",
     "output_type": "stream",
     "text": [
      "TRAIN FEATURES SHAPE  (5000, 900)\n",
      "DEV FEATURES SHAPE  (5000, 900)\n",
      "TEST FEATURES SHAPE  (5000, 900)\n"
     ]
    }
   ],
   "source": [
    "train_features = docs_to_vecs(preprocessed_train_texts)\n",
    "print(\"TRAIN FEATURES SHAPE \", train_features.shape)\n",
    "dev_features = docs_to_vecs(preprocessed_dev_texts)\n",
    "print(\"DEV FEATURES SHAPE \", dev_features.shape)\n",
    "test_features = docs_to_vecs(preprocessed_test_texts)\n",
    "print(\"TEST FEATURES SHAPE \", test_features.shape)"
   ]
  },
  {
   "cell_type": "code",
   "execution_count": null,
   "metadata": {
    "id": "xJxKFlkcztjJ"
   },
   "outputs": [],
   "source": [
    "train_dataset = MyDataset(train_features, train_labels_agn)\n",
    "dev_dataset = MyDataset(dev_features, dev_labels_agn)\n",
    "test_dataset = MyDataset(test_features, test_labels_agn)"
   ]
  },
  {
   "cell_type": "code",
   "execution_count": null,
   "metadata": {
    "colab": {
     "base_uri": "https://localhost:8080/"
    },
    "id": "Z1nTQ-yZztau",
    "outputId": "3c327b64-519f-4a4f-dd0d-967b7a5e76c9"
   },
   "outputs": [
    {
     "name": "stdout",
     "output_type": "stream",
     "text": [
      "STARTING EPOCH #0\n",
      "STARTING EPOCH #1\n",
      "STARTING EPOCH #2\n",
      "STARTING EPOCH #3\n",
      "STARTING EPOCH #4\n",
      "STARTING EPOCH #5\n",
      "STARTING EPOCH #6\n",
      "STARTING EPOCH #7\n",
      "STARTING EPOCH #8\n",
      "STARTING EPOCH #9\n",
      "REACHED STOP CONDITION\n",
      "OLD_VALID_LOSS  0.36964614606411195\n",
      "NEW_VALID_LOSS  0.3853264065092197\n"
     ]
    }
   ],
   "source": [
    "model = Text_Classifier(input_size = train_features.shape[1]\n",
    "                        , output_size = len(np.unique(train_labels_agn)))\n",
    "\n",
    "trained_model, loss, accuracy = run_model(model\n",
    "                                          , running_mode='train'\n",
    "                                          , train_set = train_dataset\n",
    "                                          , valid_set = dev_dataset\n",
    "                                          , batch_size = 1\n",
    "                                          , stop_thr=1e-4\n",
    "                                          , learning_rate = 1e-4 * 5\n",
    "                                          , n_epochs = 150\n",
    "                                          , shuffle = True\n",
    "                                          , device=device)"
   ]
  },
  {
   "cell_type": "code",
   "execution_count": null,
   "metadata": {
    "colab": {
     "base_uri": "https://localhost:8080/",
     "height": 437
    },
    "id": "MYUX7lT_ztXz",
    "outputId": "92463688-483b-4439-8ac8-aa83a70f2be6"
   },
   "outputs": [
    {
     "data": {
      "text/plain": [
       "<matplotlib.legend.Legend at 0x7fe98c906e10>"
      ]
     },
     "execution_count": 125,
     "metadata": {
      "tags": []
     },
     "output_type": "execute_result"
    },
    {
     "data": {
      "image/png": "[encoded data removed]",
      "text/plain": [
       "<Figure size 1440x720 with 1 Axes>"
      ]
     },
     "metadata": {
      "tags": []
     },
     "output_type": "display_data"
    }
   ],
   "source": [
    "plt.figure(figsize=(20,10))\n",
    "n_epochs = 10\n",
    "plt.plot(range(n_epochs), loss['train'], label='Training')\n",
    "plt.plot(range(n_epochs), loss['valid'], label='Validation')\n",
    "\n",
    "plt.title('Training Loss')\n",
    "plt.ylabel(\"Loss\")\n",
    "plt.xlabel('Epoch')\n",
    "plt.legend()"
   ]
  },
  {
   "cell_type": "code",
   "execution_count": null,
   "metadata": {
    "colab": {
     "base_uri": "https://localhost:8080/",
     "height": 438
    },
    "id": "duZzFp9RztUz",
    "outputId": "06aeb847-920f-4f1c-d14a-133e0d8a08b1"
   },
   "outputs": [
    {
     "data": {
      "text/plain": [
       "<matplotlib.legend.Legend at 0x7fe98c8c3320>"
      ]
     },
     "execution_count": 126,
     "metadata": {
      "tags": []
     },
     "output_type": "execute_result"
    },
    {
     "data": {
      "image/png": "[encoded data removed]",
      "text/plain": [
       "<Figure size 1440x720 with 1 Axes>"
      ]
     },
     "metadata": {
      "tags": []
     },
     "output_type": "display_data"
    }
   ],
   "source": [
    "plt.figure(figsize=(20,10))\n",
    "plt.plot(range(n_epochs), accuracy['train'], label='Training')\n",
    "plt.plot(range(n_epochs), accuracy['valid'], label='Validation')\n",
    "\n",
    "plt.title('Training Accuracy')\n",
    "plt.ylabel(\"Accuracy\")\n",
    "plt.xlabel('Epoch')\n",
    "plt.legend()"
   ]
  },
  {
   "cell_type": "markdown",
   "metadata": {
    "id": "ZhwOaMMP9Al6"
   },
   "source": [
    "## TESTING"
   ]
  },
  {
   "cell_type": "code",
   "execution_count": null,
   "metadata": {
    "colab": {
     "base_uri": "https://localhost:8080/"
    },
    "id": "KJMeNg0F_Pm3",
    "outputId": "4c9e8b47-8308-4298-c014-36af583419c8"
   },
   "outputs": [
    {
     "name": "stdout",
     "output_type": "stream",
     "text": [
      "TEST LOSS  0.39780834317207336\n",
      "TEST ACCURACY  85.66\n"
     ]
    }
   ],
   "source": [
    "test_loss, test_accuracy = run_model(model\n",
    "                                      , running_mode='test'\n",
    "                                      , test_set = test_dataset\n",
    "                                      , batch_size = len(test_features)\n",
    "                                      , shuffle = True)\n",
    "\n",
    "print(\"TEST LOSS \", test_loss)\n",
    "print(\"TEST ACCURACY \", test_accuracy)"
   ]
  },
  {
   "cell_type": "code",
   "execution_count": null,
   "metadata": {
    "colab": {
     "base_uri": "https://localhost:8080/"
    },
    "id": "hW_GgiwbztR7",
    "outputId": "00ac96d4-1fd0-42ae-e148-abf3e95afd18"
   },
   "outputs": [
    {
     "name": "stdout",
     "output_type": "stream",
     "text": [
      "              precision    recall  f1-score   support\n",
      "\n",
      "           0       0.90      0.86      0.88      1250\n",
      "           1       0.95      0.95      0.95      1250\n",
      "           2       0.72      0.92      0.81      1250\n",
      "           3       0.90      0.70      0.79      1250\n",
      "\n",
      "    accuracy                           0.86      5000\n",
      "   macro avg       0.87      0.86      0.86      5000\n",
      "weighted avg       0.87      0.86      0.86      5000\n",
      "\n"
     ]
    }
   ],
   "source": [
    "test_dataloader = torch.utils.data.DataLoader(test_dataset\n",
    "                                                , batch_size=len(test_dataset) # Will just 1 batch work?\n",
    "                                                , shuffle=False\n",
    "                                                , num_workers=2) \n",
    "\n",
    "with torch.no_grad():\n",
    "\n",
    "    for batch, labels in test_dataloader:\n",
    "\n",
    "        batch, labels = batch.to(device), labels.to(device)\n",
    "\n",
    "        output = trained_model(batch.float())\n",
    "\n",
    "        predicted = torch.max(output.data, 1)[1]\n",
    "\n",
    "print(classification_report(test_labels_agn, predicted.cpu()))"
   ]
  },
  {
   "cell_type": "markdown",
   "metadata": {
    "id": "fIkEPNSfmiS-"
   },
   "source": [
    "## Working with DBPedia"
   ]
  },
  {
   "cell_type": "code",
   "execution_count": null,
   "metadata": {
    "colab": {
     "base_uri": "https://localhost:8080/"
    },
    "id": "cb8_I4smztOm",
    "outputId": "45c9ba57-7875-46e6-f751-7569e8a45a44"
   },
   "outputs": [
    {
     "name": "stdout",
     "output_type": "stream",
     "text": [
      "PREPROCESSED TRAIN TEXTS:  5000\n",
      "PREPROCESSED DEV TEXTS:  10000\n",
      "PREPROCESSED TEST TEXTS:  10000\n"
     ]
    }
   ],
   "source": [
    "preprocessed_train_texts_dbpedia = preprocess_texts(train_texts_dbpedia)\n",
    "print(\"PREPROCESSED TRAIN TEXTS: \", len(preprocessed_train_texts_dbpedia))\n",
    "preprocessed_dev_texts_dbpedia = preprocess_texts(dev_texts_dbpedia)\n",
    "print(\"PREPROCESSED DEV TEXTS: \", len(preprocessed_dev_texts_dbpedia))\n",
    "preprocessed_test_texts_dbpedia = preprocess_texts(test_texts_dbpedia)\n",
    "print(\"PREPROCESSED TEST TEXTS: \", len(preprocessed_test_texts_dbpedia))"
   ]
  },
  {
   "cell_type": "code",
   "execution_count": null,
   "metadata": {
    "colab": {
     "base_uri": "https://localhost:8080/",
     "height": 35
    },
    "id": "8rl4L_RKoMzy",
    "outputId": "b2d90a80-0997-4aff-9b43-3548bcf6160b"
   },
   "outputs": [
    {
     "data": {
      "application/vnd.google.colaboratory.intrinsic+json": {
       "type": "string"
      },
      "text/plain": [
       "' The Ss.'"
      ]
     },
     "execution_count": 141,
     "metadata": {
      "tags": []
     },
     "output_type": "execute_result"
    }
   ],
   "source": [
    "train_texts_dbpedia[779]"
   ]
  },
  {
   "cell_type": "code",
   "execution_count": null,
   "metadata": {
    "id": "Cx7WiMUVnTqQ"
   },
   "outputs": [],
   "source": [
    "def docs_to_vecs_dbpedia(texts):\n",
    " "
   ]
  },
  {
   "cell_type": "code",
   "execution_count": null,
   "metadata": {
    "colab": {
     "base_uri": "https://localhost:8080/"
    },
    "id": "kEB3rNNUztEi",
    "outputId": "0da8aa95-bc8f-4c17-e7c3-c8acf5ffca7f"
   },
   "outputs": [
    {
     "name": "stdout",
     "output_type": "stream",
     "text": [
      "TRAIN FEATURES SHAPE  (5000, 900)\n",
      "DEV FEATURES SHAPE  (10000, 900)\n",
      "TEST FEATURES SHAPE  (10000, 900)\n"
     ]
    }
   ],
   "source": [
    "train_features_dbpedia = docs_to_vecs_dbpedia(preprocessed_train_texts_dbpedia)\n",
    "print(\"TRAIN FEATURES SHAPE \", train_features_dbpedia.shape)\n",
    "dev_features_dbpedia = docs_to_vecs_dbpedia(preprocessed_dev_texts_dbpedia)\n",
    "print(\"DEV FEATURES SHAPE \", dev_features_dbpedia.shape)\n",
    "test_features_dbpedia = docs_to_vecs_dbpedia(preprocessed_test_texts_dbpedia)\n",
    "print(\"TEST FEATURES SHAPE \", test_features_dbpedia.shape)"
   ]
  },
  {
   "cell_type": "code",
   "execution_count": null,
   "metadata": {
    "id": "NXY0fhiLnBct"
   },
   "outputs": [],
   "source": [
    "train_dataset_dbpedia = MyDataset(torch.Tensor(train_features_dbpedia), train_labels_dbpedia)\n",
    "dev_dataset_dbpedia = MyDataset(torch.Tensor(dev_features_dbpedia), dev_labels_dbpedia)\n",
    "test_dataset_dbpedia = MyDataset(torch.Tensor(test_features_dbpedia), test_labels_dbpedia)"
   ]
  },
  {
   "cell_type": "code",
   "execution_count": null,
   "metadata": {
    "id": "4P7rw5YjsjrK"
   },
   "outputs": [],
   "source": [
    "train_dataloader_dbpedia = torch.utils.data.DataLoader(train_dataset_dbpedia\n",
    "                                                        , batch_size=10\n",
    "                                                        , shuffle=False # I think for the test dataset I don't need shuffle=True\n",
    "                                                        , num_workers=2) "
   ]
  },
  {
   "cell_type": "code",
   "execution_count": null,
   "metadata": {
    "colab": {
     "base_uri": "https://localhost:8080/"
    },
    "id": "dMjcdBlWssmO",
    "outputId": "1b5668af-b25f-4061-87a9-aee602872d44"
   },
   "outputs": [
    {
     "name": "stdout",
     "output_type": "stream",
     "text": [
      "torch.Size([10, 900])\n"
     ]
    }
   ],
   "source": [
    "for batch, labels in train_dataloader_dbpedia:\n",
    "    print(batch.shape)\n",
    "    break"
   ]
  },
  {
   "cell_type": "markdown",
   "metadata": {
    "id": "PeRy98mTqiHZ"
   },
   "source": [
    "## TRAINING"
   ]
  },
  {
   "cell_type": "code",
   "execution_count": null,
   "metadata": {
    "colab": {
     "base_uri": "https://localhost:8080/",
     "height": 375
    },
    "id": "cFJYyI1jqKot",
    "outputId": "e29f2a00-c847-43a0-9280-549d5216bb43"
   },
   "outputs": [
    {
     "name": "stdout",
     "output_type": "stream",
     "text": [
      "STARTING EPOCH #0\n"
     ]
    },
    {
     "ename": "AttributeError",
     "evalue": "ignored",
     "output_type": "error",
     "traceback": [
      "\u001b[0;31m---------------------------------------------------------------------------\u001b[0m",
      "\u001b[0;31mAttributeError\u001b[0m                            Traceback (most recent call last)",
      "\u001b[0;32m<ipython-input-197-2049d1493679>\u001b[0m in \u001b[0;36m<module>\u001b[0;34m()\u001b[0m\n\u001b[1;32m     11\u001b[0m                                           \u001b[0;34m,\u001b[0m \u001b[0mn_epochs\u001b[0m \u001b[0;34m=\u001b[0m \u001b[0;36m150\u001b[0m\u001b[0;34m\u001b[0m\u001b[0;34m\u001b[0m\u001b[0m\n\u001b[1;32m     12\u001b[0m                                           \u001b[0;34m,\u001b[0m \u001b[0mshuffle\u001b[0m \u001b[0;34m=\u001b[0m \u001b[0;32mTrue\u001b[0m\u001b[0;34m\u001b[0m\u001b[0;34m\u001b[0m\u001b[0m\n\u001b[0;32m---> 13\u001b[0;31m                                           , device=device)\n\u001b[0m",
      "\u001b[0;32m/content/run_torch_model_CUDA.py\u001b[0m in \u001b[0;36mrun_model\u001b[0;34m(model, running_mode, train_set, valid_set, test_set, batch_size, learning_rate, n_epochs, stop_thr, shuffle, device)\u001b[0m\n\u001b[1;32m     97\u001b[0m         \u001b[0msolver\u001b[0m \u001b[0;34m=\u001b[0m \u001b[0moptim\u001b[0m\u001b[0;34m.\u001b[0m\u001b[0mSGD\u001b[0m\u001b[0;34m(\u001b[0m\u001b[0mparams\u001b[0m\u001b[0;34m=\u001b[0m\u001b[0mmodel\u001b[0m\u001b[0;34m.\u001b[0m\u001b[0mparameters\u001b[0m\u001b[0;34m(\u001b[0m\u001b[0;34m)\u001b[0m \u001b[0;34m,\u001b[0m\u001b[0mlr\u001b[0m\u001b[0;34m=\u001b[0m\u001b[0mlearning_rate\u001b[0m\u001b[0;34m)\u001b[0m\u001b[0;34m\u001b[0m\u001b[0;34m\u001b[0m\u001b[0m\n\u001b[1;32m     98\u001b[0m \u001b[0;34m\u001b[0m\u001b[0m\n\u001b[0;32m---> 99\u001b[0;31m         \u001b[0;31m# Training the given number of epochs\u001b[0m\u001b[0;34m\u001b[0m\u001b[0;34m\u001b[0m\u001b[0;34m\u001b[0m\u001b[0m\n\u001b[0m\u001b[1;32m    100\u001b[0m         \u001b[0;32mfor\u001b[0m \u001b[0mepoch\u001b[0m \u001b[0;32min\u001b[0m \u001b[0mrange\u001b[0m\u001b[0;34m(\u001b[0m\u001b[0mn_epochs\u001b[0m\u001b[0;34m)\u001b[0m\u001b[0;34m:\u001b[0m\u001b[0;34m\u001b[0m\u001b[0;34m\u001b[0m\u001b[0m\n\u001b[1;32m    101\u001b[0m             \u001b[0mprint\u001b[0m\u001b[0;34m(\u001b[0m\u001b[0;34mf\"STARTING EPOCH #{epoch}\"\u001b[0m\u001b[0;34m)\u001b[0m\u001b[0;34m\u001b[0m\u001b[0;34m\u001b[0m\u001b[0m\n",
      "\u001b[0;32m/content/run_torch_model_CUDA.py\u001b[0m in \u001b[0;36m_train\u001b[0;34m(model, data_loader, optimizer, device)\u001b[0m\n\u001b[1;32m    171\u001b[0m     \u001b[0mmodel\u001b[0m\u001b[0;34m.\u001b[0m\u001b[0mto\u001b[0m\u001b[0;34m(\u001b[0m\u001b[0mdevice\u001b[0m\u001b[0;34m)\u001b[0m\u001b[0;34m\u001b[0m\u001b[0;34m\u001b[0m\u001b[0m\n\u001b[1;32m    172\u001b[0m \u001b[0;34m\u001b[0m\u001b[0m\n\u001b[0;32m--> 173\u001b[0;31m     \u001b[0;32mfor\u001b[0m \u001b[0mbatch\u001b[0m\u001b[0;34m,\u001b[0m \u001b[0mlabels\u001b[0m \u001b[0;32min\u001b[0m \u001b[0mdata_loader\u001b[0m\u001b[0;34m:\u001b[0m \u001b[0;31m# Per this doc, (batch,labels) = trainloader.__getitem__(); https://pytorch.org/docs/stable/torchvision/datasets.html#cifar\u001b[0m\u001b[0;34m\u001b[0m\u001b[0;34m\u001b[0m\u001b[0m\n\u001b[0m\u001b[1;32m    174\u001b[0m \u001b[0;34m\u001b[0m\u001b[0m\n\u001b[1;32m    175\u001b[0m         \u001b[0;31m# moving batch/labels onto the gpu/cpu\u001b[0m\u001b[0;34m\u001b[0m\u001b[0;34m\u001b[0m\u001b[0;34m\u001b[0m\u001b[0m\n",
      "\u001b[0;31mAttributeError\u001b[0m: 'tuple' object has no attribute 'to'"
     ]
    }
   ],
   "source": [
    "model = Text_Classifier(input_size = train_features_dbpedia.shape[1]\n",
    "                        , output_size = len(np.unique(train_labels_dbpedia)))\n",
    "\n",
    "trained_model, loss, accuracy = run_model(model\n",
    "                                          , running_mode='train'\n",
    "                                          , train_set = train_dataset_dbpedia\n",
    "                                          , valid_set = dev_dataset_dbpedia\n",
    "                                          , batch_size = 1\n",
    "                                          , stop_thr=1e-4\n",
    "                                          , learning_rate = 1e-4 * 5\n",
    "                                          , n_epochs = 150\n",
    "                                          , shuffle = True\n",
    "                                          , device=device)"
   ]
  },
  {
   "cell_type": "code",
   "execution_count": null,
   "metadata": {
    "id": "ifwz3J37qsK5"
   },
   "outputs": [],
   "source": []
  }
 ],
 "metadata": {
  "accelerator": "GPU",
  "colab": {
   "collapsed_sections": [],
   "name": "Untitled3.ipynb",
   "provenance": []
  },
  "kernelspec": {
   "display_name": "Python 3",
   "language": "python",
   "name": "python3"
  },
  "language_info": {
   "codemirror_mode": {
    "name": "ipython",
    "version": 3
   },
   "file_extension": ".py",
   "mimetype": "text/x-python",
   "name": "python",
   "nbconvert_exporter": "python",
   "pygments_lexer": "ipython3",
   "version": "3.7.4"
  }
 },
 "nbformat": 4,
 "nbformat_minor": 4
}
