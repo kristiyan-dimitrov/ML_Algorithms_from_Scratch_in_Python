{
 "cells": [
  {
   "cell_type": "code",
   "execution_count": 77,
   "metadata": {},
   "outputs": [],
   "source": [
    "import json\n",
    "import os\n",
    "import pickle\n",
    "import matplotlib.pyplot as plt\n",
    "\n",
    "import sys\n",
    "sys.path.append(\"..\") "
   ]
  },
  {
   "cell_type": "code",
   "execution_count": 5,
   "metadata": {},
   "outputs": [],
   "source": [
    "def load_synth_data(dataset_name, base_folder='data'):\n",
    "    \"\"\"\n",
    "    This function loads the synthesized data provided in a picke file in the\n",
    "    /data directory.\n",
    "    \"\"\"\n",
    "\n",
    "    data_path = os.path.join(base_folder, dataset_name)\n",
    "\n",
    "    with open(data_path, 'rb') as handle:\n",
    "        data = pickle.load(handle)\n",
    "\n",
    "    trainX = data['trainX']\n",
    "    trainY = data['trainY']\n",
    "\n",
    "    return trainX, trainY"
   ]
  },
  {
   "cell_type": "code",
   "execution_count": 6,
   "metadata": {},
   "outputs": [],
   "source": [
    "X, y = load_synth_data(\"synth_data\")"
   ]
  },
  {
   "cell_type": "code",
   "execution_count": 37,
   "metadata": {},
   "outputs": [],
   "source": [
    "# X[0]"
   ]
  },
  {
   "cell_type": "code",
   "execution_count": 8,
   "metadata": {},
   "outputs": [
    {
     "data": {
      "text/plain": [
       "(10000, 28, 28)"
      ]
     },
     "execution_count": 8,
     "metadata": {},
     "output_type": "execute_result"
    }
   ],
   "source": [
    "X.shape"
   ]
  },
  {
   "cell_type": "code",
   "execution_count": 38,
   "metadata": {},
   "outputs": [
    {
     "data": {
      "text/plain": [
       "<matplotlib.image.AxesImage at 0x7f9e68924700>"
      ]
     },
     "execution_count": 38,
     "metadata": {},
     "output_type": "execute_result"
    },
    {
     "data": {
      "image/png": "[encoded data removed]",
      "text/plain": [
       "<Figure size 432x288 with 1 Axes>"
      ]
     },
     "metadata": {
      "needs_background": "light"
     },
     "output_type": "display_data"
    }
   ],
   "source": [
    "plt.imshow(X[4999], cmap='gray')"
   ]
  },
  {
   "cell_type": "code",
   "execution_count": 39,
   "metadata": {},
   "outputs": [
    {
     "data": {
      "text/plain": [
       "<matplotlib.image.AxesImage at 0x7f9e68882d90>"
      ]
     },
     "execution_count": 39,
     "metadata": {},
     "output_type": "execute_result"
    },
    {
     "data": {
      "image/png": "[encoded data removed]",
      "text/plain": [
       "<Figure size 432x288 with 1 Axes>"
      ]
     },
     "metadata": {
      "needs_background": "light"
     },
     "output_type": "display_data"
    }
   ],
   "source": [
    "plt.imshow(X[5000], cmap='gray')"
   ]
  },
  {
   "cell_type": "code",
   "execution_count": 19,
   "metadata": {},
   "outputs": [
    {
     "data": {
      "text/plain": [
       "(10000,)"
      ]
     },
     "execution_count": 19,
     "metadata": {},
     "output_type": "execute_result"
    }
   ],
   "source": [
    "y.shape"
   ]
  },
  {
   "cell_type": "code",
   "execution_count": 31,
   "metadata": {},
   "outputs": [
    {
     "data": {
      "text/plain": [
       "1.0"
      ]
     },
     "execution_count": 31,
     "metadata": {},
     "output_type": "execute_result"
    }
   ],
   "source": [
    "y[9999]"
   ]
  },
  {
   "cell_type": "markdown",
   "metadata": {},
   "source": [
    "Apparently, \n",
    "- all the images from 0 to 4,999 are 3 horizontal yellow lines in X, classified as 0 in y\n",
    "- all the images from 4,999 to 9,999 are 3 vertical yellow lines in X, classified as 1 in y"
   ]
  },
  {
   "cell_type": "markdown",
   "metadata": {},
   "source": [
    "# Experimenting for Text Classification"
   ]
  },
  {
   "cell_type": "code",
   "execution_count": 343,
   "metadata": {},
   "outputs": [],
   "source": [
    "import json\n",
    "import os\n",
    "\n",
    "import matplotlib.pyplot as plt\n",
    "import numpy as np\n",
    "import sklearn\n",
    "\n",
    "from src.preprocess import *\n",
    "\n",
    "from collections import Counter"
   ]
  },
  {
   "cell_type": "code",
   "execution_count": 344,
   "metadata": {},
   "outputs": [],
   "source": [
    "def load_data(path):\n",
    "    if 'cache' not in load_data.__dict__:\n",
    "        load_data.cache = dict()\n",
    "    if path not in load_data.cache:\n",
    "        load_data.cache[path] = dict()\n",
    "        with open(os.path.join(path, 'train.jsonl')) as f:\n",
    "            train_exs = [json.loads(line) for line in f]\n",
    "        with open(os.path.join(path, 'dev.jsonl')) as f:\n",
    "            dev_exs = [json.loads(line) for line in f]\n",
    "        with open(os.path.join(path, 'test.jsonl')) as f:\n",
    "            test_exs = [json.loads(line) for line in f]\n",
    "        load_data.cache[path] = {\n",
    "            'train_exs': train_exs,\n",
    "            'dev_exs': dev_exs,\n",
    "            'test_exs': test_exs,\n",
    "            }\n",
    "    return load_data.cache[path]['train_exs'], load_data.cache[path]['dev_exs'], load_data.cache[path]['test_exs']\n"
   ]
  },
  {
   "cell_type": "code",
   "execution_count": 345,
   "metadata": {},
   "outputs": [],
   "source": [
    "folder = 'data'\n",
    "\n",
    "# AGN Data\n",
    "agn_sub_folder = 'agn_small'\n",
    "agn_path = os.path.join(folder, agn_sub_folder)\n",
    "\n",
    "# DBPedia Data\n",
    "dbpedia_sub_folder = 'dbpedia_small'\n",
    "dbpedia_path = os.path.join(folder, dbpedia_sub_folder)\n",
    "\n",
    "# Loading both datasets\n",
    "train_agn, dev_agn, test_agn = load_data(agn_path)\n",
    "train_dbpedia, dev_dbpedia, test_dbpedia = load_data(dbpedia_path)\n"
   ]
  },
  {
   "cell_type": "code",
   "execution_count": 346,
   "metadata": {},
   "outputs": [
    {
     "data": {
      "text/plain": [
       "\"Fannie Mae Discloses Document Request The mortgage giant said today that prosecutors had asked the company to preserve documents as part of an investigation into Fannie Mae's accounting practices.\""
      ]
     },
     "execution_count": 346,
     "metadata": {},
     "output_type": "execute_result"
    }
   ],
   "source": [
    "train_agn[0]['text']"
   ]
  },
  {
   "cell_type": "code",
   "execution_count": 347,
   "metadata": {},
   "outputs": [
    {
     "data": {
      "text/plain": [
       "2"
      ]
     },
     "execution_count": 347,
     "metadata": {},
     "output_type": "execute_result"
    }
   ],
   "source": [
    "train_agn[0]['label']"
   ]
  },
  {
   "cell_type": "code",
   "execution_count": 348,
   "metadata": {},
   "outputs": [
    {
     "name": "stdout",
     "output_type": "stream",
     "text": [
      "AGN DATA\n",
      "TRAINING  5000\n",
      "DEV  5000\n",
      "TEST  5000\n"
     ]
    }
   ],
   "source": [
    "print(\"AGN DATA\")\n",
    "print(\"TRAINING \", len(train_agn))\n",
    "print(\"DEV \", len(dev_agn))\n",
    "print(\"TEST \", len(test_agn))"
   ]
  },
  {
   "cell_type": "code",
   "execution_count": 349,
   "metadata": {},
   "outputs": [
    {
     "name": "stdout",
     "output_type": "stream",
     "text": [
      "DBPEDIA DATA\n",
      "TRAINING  5000\n",
      "DEV  10000\n",
      "TEST  10000\n"
     ]
    }
   ],
   "source": [
    "print(\"DBPEDIA DATA\")\n",
    "print(\"TRAINING \", len(train_dbpedia))\n",
    "print(\"DEV \", len(dev_dbpedia))\n",
    "print(\"TEST \", len(test_dbpedia))"
   ]
  },
  {
   "cell_type": "code",
   "execution_count": 350,
   "metadata": {},
   "outputs": [],
   "source": [
    "train_texts_agn = [x['text'] for x in train_agn]\n",
    "train_labels_agn = [x['label'] for x in train_agn]\n",
    "dev_texts_agn = [x['text'] for x in dev_agn]\n",
    "dev_labels_agn = [x['label'] for x in dev_agn]\n",
    "test_texts_agn = [x['text'] for x in test_agn]\n",
    "test_labels_agn = [x['label'] for x in test_agn]"
   ]
  },
  {
   "cell_type": "code",
   "execution_count": 351,
   "metadata": {},
   "outputs": [
    {
     "data": {
      "text/plain": [
       "array([0, 1, 2, 3])"
      ]
     },
     "execution_count": 351,
     "metadata": {},
     "output_type": "execute_result"
    }
   ],
   "source": [
    "np.unique(train_labels_agn)"
   ]
  },
  {
   "cell_type": "code",
   "execution_count": 352,
   "metadata": {},
   "outputs": [],
   "source": [
    "train_texts_dbpedia = [x['text'] for x in train_dbpedia]\n",
    "train_labels_dbpedia = [x['label'] for x in train_dbpedia]\n",
    "dev_texts_dbpedia = [x['text'] for x in dev_dbpedia]\n",
    "dev_labels_dbpedia = [x['label'] for x in dev_dbpedia]\n",
    "test_texts_dbpedia = [x['text'] for x in test_dbpedia]\n",
    "test_labels_dbpedia = [x['label'] for x in test_dbpedia]"
   ]
  },
  {
   "cell_type": "code",
   "execution_count": 353,
   "metadata": {},
   "outputs": [
    {
     "data": {
      "text/plain": [
       "array(['1', '10', '11', '12', '13', '14', '2', '3', '4', '5', '6', '7',\n",
       "       '8', '9'], dtype='<U2')"
      ]
     },
     "execution_count": 353,
     "metadata": {},
     "output_type": "execute_result"
    }
   ],
   "source": [
    "np.unique(train_labels_dbpedia)"
   ]
  },
  {
   "cell_type": "code",
   "execution_count": 354,
   "metadata": {},
   "outputs": [
    {
     "data": {
      "text/plain": [
       "{0: '1',\n",
       " 1: '10',\n",
       " 2: '11',\n",
       " 3: '12',\n",
       " 4: '13',\n",
       " 5: '14',\n",
       " 6: '2',\n",
       " 7: '3',\n",
       " 8: '4',\n",
       " 9: '5',\n",
       " 10: '6',\n",
       " 11: '7',\n",
       " 12: '8',\n",
       " 13: '9'}"
      ]
     },
     "execution_count": 354,
     "metadata": {},
     "output_type": "execute_result"
    }
   ],
   "source": [
    "dict(zip(range(len(np.unique(train_labels_dbpedia))), np.unique(train_labels_dbpedia)))"
   ]
  },
  {
   "cell_type": "code",
   "execution_count": 356,
   "metadata": {},
   "outputs": [],
   "source": [
    "t = torch.Tensor(2)"
   ]
  },
  {
   "cell_type": "code",
   "execution_count": 365,
   "metadata": {},
   "outputs": [
    {
     "data": {
      "text/plain": [
       "-3.6893488147419103e+19"
      ]
     },
     "execution_count": 365,
     "metadata": {},
     "output_type": "execute_result"
    }
   ],
   "source": [
    "t[1].item()"
   ]
  },
  {
   "cell_type": "code",
   "execution_count": 367,
   "metadata": {},
   "outputs": [
    {
     "data": {
      "text/plain": [
       "2.0"
      ]
     },
     "execution_count": 367,
     "metadata": {},
     "output_type": "execute_result"
    }
   ],
   "source": [
    "torch.Tensor([2]).item()"
   ]
  },
  {
   "cell_type": "code",
   "execution_count": 368,
   "metadata": {},
   "outputs": [
    {
     "data": {
      "text/plain": [
       "1"
      ]
     },
     "execution_count": 368,
     "metadata": {},
     "output_type": "execute_result"
    }
   ],
   "source": [
    "int(True)"
   ]
  },
  {
   "cell_type": "code",
   "execution_count": 68,
   "metadata": {},
   "outputs": [
    {
     "name": "stdout",
     "output_type": "stream",
     "text": [
      "5.42 s ± 0 ns per loop (mean ± std. dev. of 1 run, 1 loop each)\n"
     ]
    }
   ],
   "source": [
    "%timeit -n1 -r1 preprocess_texts(train_texts_agn)"
   ]
  },
  {
   "cell_type": "code",
   "execution_count": 69,
   "metadata": {},
   "outputs": [
    {
     "name": "stdout",
     "output_type": "stream",
     "text": [
      "18.9 s ± 0 ns per loop (mean ± std. dev. of 1 run, 1 loop each)\n"
     ]
    }
   ],
   "source": [
    "%timeit -n1 -r1 [preprocess_string(x) for x in train_texts_agn]"
   ]
  },
  {
   "cell_type": "markdown",
   "metadata": {},
   "source": [
    "### Preprocessing is at least 3x faster with multiprocessing module!"
   ]
  },
  {
   "cell_type": "code",
   "execution_count": 119,
   "metadata": {},
   "outputs": [],
   "source": [
    "preprocessed_train_texts_agn = preprocess_texts(train_texts_agn)"
   ]
  },
  {
   "cell_type": "code",
   "execution_count": 120,
   "metadata": {},
   "outputs": [
    {
     "data": {
      "text/plain": [
       "17186"
      ]
     },
     "execution_count": 120,
     "metadata": {},
     "output_type": "execute_result"
    }
   ],
   "source": [
    "len(counter_all_texts)"
   ]
  },
  {
   "cell_type": "code",
   "execution_count": 243,
   "metadata": {},
   "outputs": [],
   "source": [
    "def non_rare_vocabulary(texts, min_freq=20):\n",
    "    \n",
    "    counter = Counter(texts[0])\n",
    "\n",
    "    for text in texts[1:]:\n",
    "        counter += Counter(text)\n",
    "    \n",
    "    print(\"Size of dictionary BEFORE removing rare tokens: \", len(counter))\n",
    "    \n",
    "    sorted_items = sorted(counter.items(), key = lambda x: x[1])\n",
    "    \n",
    "    index = 0\n",
    "    \n",
    "    for sorted_item in sorted_items:\n",
    "        \n",
    "        if sorted_item[1] >= min_freq:\n",
    "            break\n",
    "            \n",
    "        index+=1\n",
    "        \n",
    "    print(\"Size of dictionary AFTER  removing rare tokens: \", len(sorted_items[index:]))\n",
    "        \n",
    "    return [x[0] for x in sorted_items[index:]]"
   ]
  },
  {
   "cell_type": "code",
   "execution_count": 244,
   "metadata": {},
   "outputs": [
    {
     "name": "stdout",
     "output_type": "stream",
     "text": [
      "Size of dictionary BEFORE removing rare tokens:  17186\n",
      "Size of dictionary AFTER  removing rare tokens:  1264\n"
     ]
    }
   ],
   "source": [
    "vocabulary = non_rare_vocabulary(preprocessed_train_texts_agn)"
   ]
  },
  {
   "cell_type": "code",
   "execution_count": 143,
   "metadata": {},
   "outputs": [],
   "source": [
    "dictionary = dict(zip(vocabulary, range(len(vocabulary))))"
   ]
  },
  {
   "cell_type": "code",
   "execution_count": 250,
   "metadata": {},
   "outputs": [],
   "source": [
    "def bag_of_words(texts, vocabulary):\n",
    "    \n",
    "    bow = np.zeros((len(texts), len(vocabulary)))\n",
    "    \n",
    "    for ii in range(len(texts)):\n",
    "        \n",
    "        for word in texts[ii]:\n",
    "            \n",
    "            if word in vocabulary:\n",
    "                \n",
    "                bow[ii, vocabulary.index(word)] += 1\n",
    "                \n",
    "    return bow"
   ]
  },
  {
   "cell_type": "code",
   "execution_count": 248,
   "metadata": {},
   "outputs": [],
   "source": [
    "bow = bag_of_words(preprocessed_train_texts_agn, vocabulary)"
   ]
  },
  {
   "cell_type": "code",
   "execution_count": 249,
   "metadata": {},
   "outputs": [
    {
     "data": {
      "text/plain": [
       "(5000, 1264)"
      ]
     },
     "execution_count": 249,
     "metadata": {},
     "output_type": "execute_result"
    }
   ],
   "source": [
    "bow.shape"
   ]
  },
  {
   "cell_type": "code",
   "execution_count": 251,
   "metadata": {},
   "outputs": [],
   "source": [
    "def term_document_frequency(term, texts):\n",
    "    \n",
    "    counter = 0\n",
    "    \n",
    "    for text in texts:\n",
    "        if term in text:\n",
    "            counter += 1\n",
    "            \n",
    "    return counter\n",
    "\n",
    "\n",
    "def idf(texts, vocabulary):\n",
    "    \n",
    "    doc_freq = np.zeros((len(vocabulary),))\n",
    "    N = len(texts)\n",
    "                        \n",
    "    for ii in range(len(vocabulary)):\n",
    "        doc_freq[ii] = np.log(N / term_document_frequency(vocabulary[ii], texts))\n",
    "        \n",
    "    return doc_freq\n",
    "\n",
    "\n",
    "def tf_idf(texts, vocabulary):\n",
    "    \n",
    "    # Instantiate results\n",
    "    tfidf = np.zeros((len(texts), len(vocabulary)))\n",
    "    \n",
    "    # One-off calculation of Inverse Document Frequency\n",
    "    doc_freq = idf(texts, vocabulary)\n",
    "    \n",
    "    for ii in range(len(texts)):\n",
    "        # Find Term Frequency for each word in a text\n",
    "        for word in texts[ii]:\n",
    "            \n",
    "            if word in vocabulary:\n",
    "                \n",
    "                tfidf[ii, vocabulary.index(word)] += 1\n",
    "        \n",
    "        # Multiply the Term Frequency by Inverse Document Frequency\n",
    "        tfidf[ii, ] *= tfidf[ii, ] * doc_freq\n",
    "                \n",
    "    return tfidf"
   ]
  },
  {
   "cell_type": "code",
   "execution_count": 263,
   "metadata": {},
   "outputs": [
    {
     "data": {
      "text/plain": [
       "1264"
      ]
     },
     "execution_count": 263,
     "metadata": {},
     "output_type": "execute_result"
    }
   ],
   "source": [
    "len(vocabulary) # min freq = 20 => 1264"
   ]
  },
  {
   "cell_type": "code",
   "execution_count": 270,
   "metadata": {},
   "outputs": [],
   "source": [
    "doc_freq = np.zeros((len(vocabulary),))\n",
    "N = len(preprocessed_train_texts_agn)"
   ]
  },
  {
   "cell_type": "code",
   "execution_count": 271,
   "metadata": {},
   "outputs": [
    {
     "data": {
      "text/plain": [
       "5000"
      ]
     },
     "execution_count": 271,
     "metadata": {},
     "output_type": "execute_result"
    }
   ],
   "source": [
    "N"
   ]
  },
  {
   "cell_type": "code",
   "execution_count": 268,
   "metadata": {},
   "outputs": [
    {
     "data": {
      "text/plain": [
       "array([0., 0., 0., ..., 0., 0., 0.])"
      ]
     },
     "execution_count": 268,
     "metadata": {},
     "output_type": "execute_result"
    }
   ],
   "source": [
    "doc_freq"
   ]
  },
  {
   "cell_type": "code",
   "execution_count": 266,
   "metadata": {},
   "outputs": [],
   "source": [
    "for ii in range(len(vocabulary)):\n",
    "    \n",
    "    tdf = term_document_frequency(vocabulary[ii], preprocessed_train_texts_agn)\n",
    "    if tdf == 0:\n",
    "        print(vocabulary[ii])"
   ]
  },
  {
   "cell_type": "code",
   "execution_count": 272,
   "metadata": {},
   "outputs": [],
   "source": [
    "preprocessed_dev_texts_agn = preprocess_texts(dev_texts_agn)"
   ]
  },
  {
   "cell_type": "code",
   "execution_count": 273,
   "metadata": {},
   "outputs": [
    {
     "data": {
      "text/plain": [
       "5000"
      ]
     },
     "execution_count": 273,
     "metadata": {},
     "output_type": "execute_result"
    }
   ],
   "source": [
    "len(preprocessed_dev_texts_agn)"
   ]
  },
  {
   "cell_type": "code",
   "execution_count": 275,
   "metadata": {},
   "outputs": [
    {
     "name": "stdout",
     "output_type": "stream",
     "text": [
      "Size of dictionary BEFORE removing rare tokens:  17186\n",
      "Size of dictionary AFTER  removing rare tokens:  2594\n"
     ]
    }
   ],
   "source": [
    "vocabulary_10 = non_rare_vocabulary(preprocessed_train_texts_agn, min_freq=10)"
   ]
  },
  {
   "cell_type": "code",
   "execution_count": 276,
   "metadata": {},
   "outputs": [
    {
     "name": "stdout",
     "output_type": "stream",
     "text": [
      "kuznetsova\n",
      "terry\n",
      "tying\n",
      "logic\n",
      "renault\n",
      "maryland\n"
     ]
    }
   ],
   "source": [
    "for ii in range(len(vocabulary_10)):\n",
    "    \n",
    "    tdf = term_document_frequency(vocabulary_10[ii], preprocessed_dev_texts_agn)\n",
    "    if tdf == 0:\n",
    "        print(vocabulary_10[ii])"
   ]
  },
  {
   "cell_type": "code",
   "execution_count": 277,
   "metadata": {},
   "outputs": [
    {
     "data": {
      "text/plain": [
       "0"
      ]
     },
     "execution_count": 277,
     "metadata": {},
     "output_type": "execute_result"
    }
   ],
   "source": [
    "term_document_frequency('kuznetsova', preprocessed_dev_texts_agn)"
   ]
  },
  {
   "cell_type": "code",
   "execution_count": 278,
   "metadata": {},
   "outputs": [
    {
     "data": {
      "text/plain": [
       "8"
      ]
     },
     "execution_count": 278,
     "metadata": {},
     "output_type": "execute_result"
    }
   ],
   "source": [
    "term_document_frequency('kuznetsova', preprocessed_train_texts_agn)"
   ]
  },
  {
   "cell_type": "code",
   "execution_count": null,
   "metadata": {},
   "outputs": [],
   "source": []
  },
  {
   "cell_type": "code",
   "execution_count": 252,
   "metadata": {},
   "outputs": [],
   "source": [
    "tfidf_test = tf_idf(preprocessed_train_texts_agn, vocabulary)"
   ]
  },
  {
   "cell_type": "code",
   "execution_count": 254,
   "metadata": {},
   "outputs": [
    {
     "data": {
      "text/plain": [
       "(1264,)"
      ]
     },
     "execution_count": 254,
     "metadata": {},
     "output_type": "execute_result"
    }
   ],
   "source": [
    "bow[0].shape"
   ]
  },
  {
   "cell_type": "code",
   "execution_count": 253,
   "metadata": {},
   "outputs": [
    {
     "data": {
      "text/plain": [
       "(1264,)"
      ]
     },
     "execution_count": 253,
     "metadata": {},
     "output_type": "execute_result"
    }
   ],
   "source": [
    "tfidf_test[0].shape"
   ]
  },
  {
   "cell_type": "code",
   "execution_count": 226,
   "metadata": {},
   "outputs": [],
   "source": [
    "doc_freq = idf(preprocessed_train_texts_agn, vocabulary)"
   ]
  },
  {
   "cell_type": "code",
   "execution_count": 237,
   "metadata": {},
   "outputs": [
    {
     "data": {
      "text/plain": [
       "2578"
      ]
     },
     "execution_count": 237,
     "metadata": {},
     "output_type": "execute_result"
    }
   ],
   "source": [
    "el = 2\n",
    "sum(bow[el] * doc_freq == tfidf_test[el])"
   ]
  },
  {
   "cell_type": "code",
   "execution_count": 239,
   "metadata": {},
   "outputs": [],
   "source": [
    "sample = preprocessed_train_texts_agn[2]"
   ]
  },
  {
   "cell_type": "code",
   "execution_count": 242,
   "metadata": {},
   "outputs": [
    {
     "data": {
      "text/plain": [
       "array([[0., 0., 0., ..., 3., 0., 1.]])"
      ]
     },
     "execution_count": 242,
     "metadata": {},
     "output_type": "execute_result"
    }
   ],
   "source": [
    "bag_of_words([sample], dictionary)"
   ]
  },
  {
   "cell_type": "code",
   "execution_count": null,
   "metadata": {},
   "outputs": [],
   "source": []
  },
  {
   "cell_type": "code",
   "execution_count": null,
   "metadata": {},
   "outputs": [],
   "source": []
  },
  {
   "cell_type": "code",
   "execution_count": null,
   "metadata": {},
   "outputs": [],
   "source": []
  },
  {
   "cell_type": "markdown",
   "metadata": {},
   "source": [
    "# Pretrained gensim GloVe"
   ]
  },
  {
   "cell_type": "code",
   "execution_count": 331,
   "metadata": {},
   "outputs": [
    {
     "ename": "ModuleNotFoundError",
     "evalue": "No module named 'glove_preprocess'",
     "output_type": "error",
     "traceback": [
      "\u001b[0;31m---------------------------------------------------------------------------\u001b[0m",
      "\u001b[0;31mModuleNotFoundError\u001b[0m                       Traceback (most recent call last)",
      "\u001b[0;32m<ipython-input-331-66fa391ae1fc>\u001b[0m in \u001b[0;36m<module>\u001b[0;34m\u001b[0m\n\u001b[0;32m----> 1\u001b[0;31m \u001b[0;32mfrom\u001b[0m \u001b[0mglove_preprocess\u001b[0m \u001b[0;32mimport\u001b[0m \u001b[0;34m*\u001b[0m\u001b[0;34m\u001b[0m\u001b[0;34m\u001b[0m\u001b[0m\n\u001b[0m",
      "\u001b[0;31mModuleNotFoundError\u001b[0m: No module named 'glove_preprocess'"
     ]
    }
   ],
   "source": [
    "from glove_preprocess import *"
   ]
  },
  {
   "cell_type": "code",
   "execution_count": 280,
   "metadata": {},
   "outputs": [
    {
     "name": "stdout",
     "output_type": "stream",
     "text": [
      "['fasttext-wiki-news-subwords-300', 'conceptnet-numberbatch-17-06-300', 'word2vec-ruscorpora-300', 'word2vec-google-news-300', 'glove-wiki-gigaword-50', 'glove-wiki-gigaword-100', 'glove-wiki-gigaword-200', 'glove-wiki-gigaword-300', 'glove-twitter-25', 'glove-twitter-50', 'glove-twitter-100', 'glove-twitter-200', '__testing_word2vec-matrix-synopsis']\n"
     ]
    }
   ],
   "source": [
    "import gensim.downloader\n",
    "print(list(gensim.downloader.info()['models'].keys()))"
   ]
  },
  {
   "cell_type": "code",
   "execution_count": 286,
   "metadata": {},
   "outputs": [],
   "source": [
    "glove_50 = gensim.downloader.load('glove-wiki-gigaword-50')"
   ]
  },
  {
   "cell_type": "code",
   "execution_count": 295,
   "metadata": {},
   "outputs": [],
   "source": [
    "glove_300 = gensim.downloader.load('glove-wiki-gigaword-300')"
   ]
  },
  {
   "cell_type": "code",
   "execution_count": 332,
   "metadata": {},
   "outputs": [],
   "source": [
    "def docs_to_vecs(texts):\n",
    "    \n",
    "    doc_vecs = []\n",
    "    \n",
    "    for text in texts:\n",
    "        doc_vecs.append(doc_to_vec(text))\n",
    "    \n",
    "    return np.array(doc_vecs)\n",
    "    "
   ]
  },
  {
   "cell_type": "code",
   "execution_count": 340,
   "metadata": {},
   "outputs": [],
   "source": [
    "def doc_to_vec(text):\n",
    "    \n",
    "    lst_vec = []\n",
    "    \n",
    "    for word in text:\n",
    "        try:\n",
    "            lst_vec.append(glove_50.get_vector(word))\n",
    "        except:\n",
    "            pass # Ignore word if it's not in vocabulary of glove_50\n",
    "    \n",
    "    vec = np.array(lst_vec)\n",
    "    \n",
    "    return np.concatenate((np.min(vec, axis=0), np.max(vec, axis=0), np.mean(vec, axis=0)))"
   ]
  },
  {
   "cell_type": "code",
   "execution_count": 341,
   "metadata": {},
   "outputs": [],
   "source": [
    "doc_vecs = docs_to_vecs(preprocessed_train_texts_agn)"
   ]
  },
  {
   "cell_type": "code",
   "execution_count": 342,
   "metadata": {},
   "outputs": [
    {
     "data": {
      "text/plain": [
       "(5000, 150)"
      ]
     },
     "execution_count": 342,
     "metadata": {},
     "output_type": "execute_result"
    }
   ],
   "source": [
    "doc_vecs.shape"
   ]
  },
  {
   "cell_type": "code",
   "execution_count": 326,
   "metadata": {},
   "outputs": [
    {
     "data": {
      "text/plain": [
       "array([-0.34665, -1.2208 , -1.6818 , -0.32276, -1.086  , -0.91728,\n",
       "       -1.48   , -1.1169 , -0.66653, -0.90342, -0.68009, -0.43626,\n",
       "       -1.495  , -0.7545 , -0.69254, -0.67989, -1.2313 , -1.2488 ,\n",
       "       -1.2487 , -1.1134 , -0.48666, -0.89571, -1.0948 , -1.0104 ,\n",
       "       -1.2839 , -2.8148 , -0.81646, -0.72781, -1.2785 , -1.1074 ,\n",
       "       -0.85929, -1.554  , -1.4286 , -1.7039 , -0.97489, -0.98191,\n",
       "       -1.156  , -1.2601 , -0.70122, -1.8901 , -1.2894 , -0.96999,\n",
       "       -0.2044 , -0.73446, -1.0029 , -1.324  , -1.2698 , -0.53378,\n",
       "       -0.41208, -1.2563 ,  1.252  ,  0.70103,  1.0218 ,  1.9264 ,\n",
       "        1.0336 ,  0.55007,  0.38074,  1.0704 ,  0.97724,  0.60625,\n",
       "        0.7839 ,  1.9683 ,  0.86728,  0.69134,  1.1775 ,  0.76867,\n",
       "        1.1758 ,  0.86418,  1.7109 ,  0.93362,  1.919  ,  1.0976 ,\n",
       "        0.56247,  0.33546,  0.52887, -0.36292,  0.57246,  0.40181,\n",
       "        0.82769,  0.52532,  3.6203 ,  0.10631,  1.5299 ,  1.6715 ,\n",
       "        0.88006,  0.69213,  1.0897 ,  0.73337,  1.7019 ,  0.88233,\n",
       "        0.92427,  1.3186 ,  1.2361 ,  2.1889 ,  1.1066 ,  0.62769,\n",
       "        0.25961,  1.6408 ,  0.96175,  1.2018 ], dtype=float32)"
      ]
     },
     "execution_count": 326,
     "metadata": {},
     "output_type": "execute_result"
    }
   ],
   "source": [
    "doc_to_lst_vec(preprocessed_train_texts_agn[0])"
   ]
  },
  {
   "cell_type": "code",
   "execution_count": 307,
   "metadata": {},
   "outputs": [
    {
     "data": {
      "text/plain": [
       "20"
      ]
     },
     "execution_count": 307,
     "metadata": {},
     "output_type": "execute_result"
    }
   ],
   "source": [
    "len(preprocessed_train_texts_agn[0])"
   ]
  },
  {
   "cell_type": "code",
   "execution_count": 309,
   "metadata": {},
   "outputs": [
    {
     "data": {
      "text/plain": [
       "(20, 50)"
      ]
     },
     "execution_count": 309,
     "metadata": {},
     "output_type": "execute_result"
    }
   ],
   "source": [
    "vec = doc_to_lst_vec(preprocessed_train_texts_agn[0])\n",
    "vec.shape"
   ]
  },
  {
   "cell_type": "code",
   "execution_count": 324,
   "metadata": {},
   "outputs": [
    {
     "data": {
      "text/plain": [
       "(100,)"
      ]
     },
     "execution_count": 324,
     "metadata": {},
     "output_type": "execute_result"
    }
   ],
   "source": [
    "np.concatenate((np.min(vec, axis=0), np.max(vec, axis=0))).shape"
   ]
  },
  {
   "cell_type": "code",
   "execution_count": 316,
   "metadata": {},
   "outputs": [
    {
     "data": {
      "text/plain": [
       "array([ 0.5129216 , -0.3456387 ,  0.11658785,  0.37906614,  0.07267785,\n",
       "        0.12695189, -0.5628189 , -0.18563476,  0.14696649, -0.21250646,\n",
       "       -0.20769611,  0.51875883, -0.24164061, -0.28366277,  0.4381968 ,\n",
       "        0.22160034, -0.297945  , -0.21991885,  0.6341165 , -0.07414886,\n",
       "        0.5203911 ,  0.12426932, -0.11121847, -0.4230724 , -0.24759929,\n",
       "       -1.3041091 , -0.20250769, -0.2281249 , -0.38858035, -0.25279957,\n",
       "        2.1322832 , -0.43749842, -0.09611396, -0.09402324,  0.08958058,\n",
       "       -0.2428383 , -0.3070224 , -0.19834761,  0.41254443, -0.48689333,\n",
       "       -0.31469467, -0.12435479,  0.3625005 ,  0.32293645, -0.113247  ,\n",
       "       -0.3375218 , -0.35044962,  0.5436712 ,  0.22465971,  0.09516959],\n",
       "      dtype=float32)"
      ]
     },
     "execution_count": 316,
     "metadata": {},
     "output_type": "execute_result"
    }
   ],
   "source": [
    "np.mean(vec, axis=0)"
   ]
  },
  {
   "cell_type": "code",
   "execution_count": null,
   "metadata": {},
   "outputs": [],
   "source": []
  },
  {
   "cell_type": "code",
   "execution_count": 303,
   "metadata": {},
   "outputs": [
    {
     "name": "stdout",
     "output_type": "stream",
     "text": [
      "The slowest run took 4.37 times longer than the fastest. This could mean that an intermediate result is being cached.\n",
      "55.2 µs ± 32 µs per loop (mean ± std. dev. of 3 runs, 1 loop each)\n"
     ]
    }
   ],
   "source": [
    "%timeit -n1 -r3 doc_to_lst_vec(preprocessed_train_texts_agn[0])"
   ]
  },
  {
   "cell_type": "code",
   "execution_count": 298,
   "metadata": {},
   "outputs": [
    {
     "data": {
      "text/plain": [
       "[array([ 0.51858 , -1.2208  ,  0.6279  ,  0.3215  , -0.81454 ,  0.19868 ,\n",
       "        -1.0625  , -0.78582 ,  0.13986 , -0.015715, -0.68009 ,  1.9683  ,\n",
       "         0.17382 , -0.0353  , -0.082481,  0.50708 , -0.24114 , -0.28463 ,\n",
       "         1.3451  ,  0.24414 ,  0.43136 , -0.017569, -0.044608, -1.0104  ,\n",
       "        -0.081388, -0.38584 ,  0.41714 , -0.69551 , -0.99668 ,  0.030061,\n",
       "         0.99328 , -0.38101 ,  0.41525 ,  1.0554  ,  0.42508 , -0.24135 ,\n",
       "        -0.80147 , -0.8814  ,  1.0809  , -1.5758  , -1.2894  , -0.058513,\n",
       "         0.10407 ,  0.86128 , -0.17925 , -0.42157 , -0.51703 ,  0.060946,\n",
       "         0.96175 ,  0.24866 ], dtype=float32),\n",
       " array([ 0.23011 , -0.31189 ,  0.35439 ,  0.71926 , -1.086   ,  0.37271 ,\n",
       "        -0.44409 , -0.4782  , -0.14431 , -0.40757 , -0.48845 ,  1.0953  ,\n",
       "        -0.25289 , -0.7545  ,  0.15286 ,  0.76867 , -0.45392 , -0.033975,\n",
       "         1.7109  ,  0.93362 ,  0.14199 ,  0.33371 , -0.081341, -0.23418 ,\n",
       "         0.24652 , -0.36292 ,  0.081633, -0.57218 , -1.2785  , -0.86829 ,\n",
       "         1.2277  , -0.33888 ,  0.6176  ,  1.6715  ,  0.82343 , -0.4609  ,\n",
       "        -0.66706 , -1.2601  ,  0.76497 , -0.88972 , -1.0678  ,  0.20112 ,\n",
       "         0.22176 , -0.4304  , -0.26724 , -1.324   ,  0.15568 , -0.53378 ,\n",
       "         0.49684 ,  0.41076 ], dtype=float32),\n",
       " array([ 0.80406  , -0.23345  ,  0.52602  ,  0.20624  ,  0.63846  ,\n",
       "         0.37599  , -0.25401  ,  0.47523  ,  0.2593   , -0.43255  ,\n",
       "        -0.50056  ,  0.073657 ,  0.36355  , -0.45736  ,  0.60274  ,\n",
       "         0.1295   , -0.56832  ,  0.082703 ,  1.5099   ,  0.64469  ,\n",
       "         0.049192 ,  0.050603 ,  0.158    ,  0.14643  ,  0.18213  ,\n",
       "        -0.41875  , -0.80297  , -0.29989  ,  0.50963  ,  0.014074 ,\n",
       "        -0.85929  , -0.33664  ,  0.41956  , -0.11075  ,  0.096926 ,\n",
       "        -0.21215  , -1.156    ,  0.73337  , -0.31628  , -0.73223  ,\n",
       "         0.23014  , -0.96999  ,  1.09     ,  0.67714  , -0.12867  ,\n",
       "        -0.0079511, -0.32581  ,  1.1937   , -0.3402   ,  0.34904  ],\n",
       "       dtype=float32),\n",
       " array([ 0.63233 ,  0.06281 , -0.090378, -0.1447  ,  0.82826 ,  0.21718 ,\n",
       "        -0.34635 , -0.64597 ,  0.23408 , -0.21346 , -0.29508 ,  0.051847,\n",
       "        -0.033956,  0.15124 ,  0.6391  , -0.22949 , -0.86406 , -1.2488  ,\n",
       "         1.3047  ,  0.18185 ,  0.52633 , -0.2245  ,  0.20145 , -0.31795 ,\n",
       "         0.049516, -1.1036  , -0.47273 ,  0.1853  , -0.18674 , -0.41879 ,\n",
       "         2.4011  , -1.5254  , -1.4062  , -1.0606  , -0.36679 , -0.10285 ,\n",
       "         0.53645 ,  0.08508 , -0.70122 , -0.29139 ,  0.86944 , -0.96837 ,\n",
       "         0.21042 , -0.099389, -0.62152 ,  0.33001 ,  0.12192 ,  1.6408  ,\n",
       "         0.086932, -0.51442 ], dtype=float32),\n",
       " array([ 0.8193  , -0.19212 , -0.14198 ,  0.13525 ,  0.42609 , -0.023614,\n",
       "        -0.10159 ,  0.83753 ,  0.11054 , -0.31483 , -0.09264 ,  0.38373 ,\n",
       "         0.54822 , -0.24573 ,  0.9833  ,  0.12936 , -0.71575 , -0.83041 ,\n",
       "         0.56588 , -0.38963 ,  0.77007 ,  0.2073  , -0.11585 , -0.32915 ,\n",
       "        -0.30001 , -2.0367  ,  0.57246 , -0.34548 , -0.68138 , -0.37841 ,\n",
       "         2.3661  , -0.57012 , -1.4286  , -0.33628 ,  0.2629  , -0.52116 ,\n",
       "         1.0897  , -0.36716 , -0.33698 , -0.54819 ,  0.54504 ,  0.50215 ,\n",
       "         0.23911 , -0.20697 , -0.5798  , -0.21805 , -0.48641 ,  1.0687  ,\n",
       "        -0.19632 ,  0.44475 ], dtype=float32),\n",
       " array([ 0.47283 , -0.135   ,  1.0218  , -0.32276 , -0.5406  ,  0.3989  ,\n",
       "        -1.0487  , -0.28097 , -0.15182 ,  0.60625 , -0.43184 ,  1.0431  ,\n",
       "         0.068913, -0.14745 ,  0.38001 ,  0.76009 , -0.34219 , -0.39616 ,\n",
       "         1.0061  ,  0.36641 ,  1.1562  , -0.89571 , -1.0948  , -0.13459 ,\n",
       "        -1.2839  , -0.88779 ,  0.16402 , -0.40916 ,  0.042761,  0.44189 ,\n",
       "         2.5703  , -0.28956 ,  1.5299  ,  0.40876 ,  0.88006 , -0.024696,\n",
       "        -0.8327  , -1.2457  ,  1.7019  , -1.8901  , -1.17    , -0.60696 ,\n",
       "         0.35837 ,  1.5207  , -0.31869 , -0.61511 ,  0.25961 ,  1.0777  ,\n",
       "         0.83017 ,  0.18904 ], dtype=float32),\n",
       " array([ 1.2466  , -0.21742 ,  0.4366  ,  1.9264  ,  0.49906 ,  0.2176  ,\n",
       "        -0.96462 , -0.65042 ,  0.59095 , -0.013253,  0.49465 ,  0.25415 ,\n",
       "        -0.44156 ,  0.69134 ,  0.028736,  0.38296 ,  0.22575 ,  0.77448 ,\n",
       "        -1.2487  , -1.1134  ,  0.44521 , -0.43804 , -0.8705  , -0.86085 ,\n",
       "        -0.40186 , -1.1345  , -0.75136 ,  0.40181 , -0.63214 , -0.29766 ,\n",
       "         2.3408  ,  0.037981,  0.33912 ,  1.0944  , -0.97489 , -0.45401 ,\n",
       "        -1.051   , -0.081312,  0.58394 , -0.78965 ,  0.10811 , -0.33473 ,\n",
       "         0.10544 ,  0.16805 ,  1.1066  ,  0.37643 , -0.52391 , -0.45909 ,\n",
       "        -0.011865, -0.94933 ], dtype=float32),\n",
       " array([ 0.38973  , -0.2121   ,  0.51837  ,  0.80136  ,  1.0336   ,\n",
       "        -0.27784  , -0.84525  , -0.25333  ,  0.12586  , -0.90342  ,\n",
       "         0.24975  ,  0.22022  , -1.2053   , -0.53771  ,  1.0446   ,\n",
       "         0.62778  ,  0.39704  , -0.15812  ,  0.38102  , -0.54674  ,\n",
       "        -0.44009  ,  1.0976   ,  0.013069 , -0.89971  ,  0.41226  ,\n",
       "        -2.2309   ,  0.28997  ,  0.32175  , -0.72738  , -0.092244 ,\n",
       "         3.028    , -0.062599 ,  0.038329 ,  0.0072918, -0.35388  ,\n",
       "        -0.92256  ,  0.097932 ,  0.10068  ,  1.2116   ,  0.88233  ,\n",
       "        -0.46297  ,  1.3186   ,  0.32705  , -0.73446  ,  0.89301  ,\n",
       "        -0.45324  , -1.2698   ,  0.86119  ,  0.1415   ,  1.2018   ],\n",
       "       dtype=float32),\n",
       " array([ 2.7751e-04,  4.2673e-01, -8.2938e-02,  2.7601e-01,  6.4721e-01,\n",
       "        -9.1728e-01, -6.3471e-01, -2.8023e-01, -6.6653e-01, -2.8436e-01,\n",
       "        -6.4249e-02, -4.3626e-01, -1.0830e-01, -3.5818e-01,  7.2311e-01,\n",
       "         6.5368e-01, -2.9573e-01,  1.2007e-01, -2.9959e-02, -2.0594e-01,\n",
       "         2.0017e-01,  1.6421e-01,  1.5202e-01, -2.4855e-02,  5.2887e-01,\n",
       "        -1.3625e+00, -5.6036e-01,  1.7777e-01, -9.1003e-02,  9.7549e-02,\n",
       "         3.5102e+00,  1.0631e-01,  6.5602e-02, -8.0777e-02, -1.2553e-01,\n",
       "        -6.9932e-01, -1.5068e-02,  3.9353e-01, -2.8195e-03,  2.0635e-01,\n",
       "        -4.7726e-01, -1.2639e-01,  2.9399e-01,  1.0000e-01,  3.4015e-04,\n",
       "         6.2769e-01, -4.5344e-01,  3.9615e-01,  1.8857e-02,  1.7536e-01],\n",
       "       dtype=float32),\n",
       " array([ 0.97874 , -0.88053 ,  0.05079 ,  0.32699 ,  0.59206 ,  0.30962 ,\n",
       "         0.38074 ,  1.0704  , -0.52044 ,  0.15094 , -0.39435 , -0.1978  ,\n",
       "        -0.80065 , -0.33847 ,  0.92873 , -0.34199 , -0.67646 , -0.69386 ,\n",
       "         0.31517 , -0.36368 ,  0.99191 ,  0.67355 ,  0.14806 , -0.053993,\n",
       "        -1.2325  , -2.8148  ,  0.21772 , -0.085493, -0.90799 , -1.1074  ,\n",
       "         1.5166  , -0.83397 , -0.54961 , -1.4537  ,  0.75987 , -0.27878 ,\n",
       "         0.11938 ,  0.22727 ,  0.22141 , -0.39323 , -0.13707 ,  0.69706 ,\n",
       "         0.80745 ,  0.46206 ,  0.26882 , -1.0213  , -0.56217 ,  0.66755 ,\n",
       "         0.23585 , -0.32393 ], dtype=float32),\n",
       " array([ 0.30223  , -0.037525 ,  0.064813 , -0.11347  ,  0.86964  ,\n",
       "        -0.34098  , -0.80298  ,  0.65853  , -0.42797  , -0.61368  ,\n",
       "        -0.1592   ,  0.56978  , -0.23922  , -0.1868   ,  1.0778   ,\n",
       "         0.46471  , -0.16932  , -0.37244  ,  0.53189  , -0.67248  ,\n",
       "         0.2037   ,  0.92642  ,  0.40655  , -0.12211  ,  0.35366  ,\n",
       "        -2.3814   ,  0.016283 , -0.029915 , -0.65479  , -0.75188  ,\n",
       "         2.3825   ,  0.078445 , -0.94136  , -0.50593  , -0.055964 ,\n",
       "        -0.58799  ,  0.48748  , -0.068667 ,  0.33584  ,  0.0062263,\n",
       "         0.055027 ,  0.80432  , -0.16203  , -0.049612 ,  0.26343  ,\n",
       "        -0.32295  , -0.78767  ,  0.45976  , -0.22192  ,  0.78108  ],\n",
       "       dtype=float32),\n",
       " array([ 0.62583 , -0.57703 ,  0.41163 ,  0.86812 , -0.083097,  0.26555 ,\n",
       "        -1.48    , -0.38792 ,  0.42727 ,  0.1168  ,  0.7839  ,  0.81352 ,\n",
       "        -0.78763 , -0.6544  , -0.099214,  0.20658 , -0.73315 ,  0.86418 ,\n",
       "        -0.26917 , -0.93792 ,  1.919   , -0.17473 , -0.61905 , -0.5035  ,\n",
       "        -0.9341  , -1.6755  , -0.79399 , -0.32003 , -0.067678, -0.12344 ,\n",
       "         3.2909  , -0.43151 ,  0.3879  ,  0.38733 , -0.018419, -0.98191 ,\n",
       "        -0.53189 ,  0.39866 ,  0.89452 , -0.40963 ,  0.58922 , -0.52377 ,\n",
       "         0.27893 , -0.25766 , -0.30457 , -0.066305, -1.1221  ,  0.21582 ,\n",
       "        -0.15586 ,  0.64018 ], dtype=float32),\n",
       " array([ 0.15117  ,  0.70103  , -0.40982  ,  0.1851   ,  0.55736  ,\n",
       "        -0.16108  , -0.5344   ,  0.035866 ,  0.97724  , -0.019836 ,\n",
       "        -0.0093634,  0.24943  ,  0.86728  , -0.42602  , -0.69254  ,\n",
       "         0.62954  ,  1.1758   , -0.6277   ,  0.83309  , -0.071727 ,\n",
       "        -0.48666  , -0.15166  , -0.83013  , -0.83201  ,  0.024594 ,\n",
       "        -0.72384  , -0.66241  , -0.39181  ,  0.82769  , -0.45607  ,\n",
       "         2.2933   ,  0.054244 , -0.9639   , -0.62188  , -0.40489  ,\n",
       "         0.26175  , -0.69339  , -0.053166 ,  0.11852  , -0.66362  ,\n",
       "        -0.21574  , -0.96145  ,  0.45852  ,  0.30579  , -0.64783  ,\n",
       "         0.31193  , -0.40753  , -0.21631  , -0.10354  , -0.4257   ],\n",
       "       dtype=float32),\n",
       " array([ 0.78832  , -0.035879 ,  0.63397  ,  0.28429  ,  0.5699   ,\n",
       "         0.059393 , -0.84328  , -0.10986  ,  0.15657  , -0.43812  ,\n",
       "        -0.47727  ,  0.42653  , -0.076859 , -0.45302  ,  1.1775   ,\n",
       "        -0.45634  , -1.2313   , -1.0898   ,  1.1861   , -0.41939  ,\n",
       "         1.0127   , -0.0046488,  0.56247  , -0.58167  , -0.62821  ,\n",
       "        -1.5398   , -0.68014  , -0.30054  , -0.049028 , -0.92805  ,\n",
       "         2.2319   , -1.554    , -0.71693  , -1.4428   ,  0.047011 ,\n",
       "         0.69213  ,  0.056929 ,  0.11658  , -0.25784  , -0.0746   ,\n",
       "         0.92427  , -0.38406  ,  0.89441  ,  0.62299  , -0.37639  ,\n",
       "        -0.37327  , -0.38451  ,  1.3034   , -0.12447  , -1.2563   ],\n",
       "       dtype=float32),\n",
       " array([ 0.70504  ,  0.18255  , -0.75188  ,  0.0039397, -0.053423 ,\n",
       "         0.29625  , -0.42377  , -0.013111 ,  0.16573  , -0.43932  ,\n",
       "         0.07506  , -0.16262  , -0.26635  , -0.40453  , -0.098246 ,\n",
       "         0.14215  ,  0.34546  ,  0.3634   , -0.40502  ,  0.3591   ,\n",
       "         0.37462  , -0.33984  , -0.24689  ,  0.33546  , -0.36193  ,\n",
       "        -1.7587   , -0.72343  ,  0.14269  , -0.099759 , -0.16071  ,\n",
       "         3.6203   , -0.25283  , -0.24719  , -0.53168  , -0.050993 ,\n",
       "         0.017225 , -0.12073  , -0.021644 , -0.36179  , -0.086212 ,\n",
       "        -0.32108  , -0.16623  , -0.2044   , -0.46124  , -0.85036  ,\n",
       "         0.16189  , -0.14281  , -0.13137  , -0.41208  , -0.092147 ],\n",
       "       dtype=float32),\n",
       " array([ 1.252    , -0.61414  , -0.32648  ,  0.70506  , -0.075753 ,\n",
       "         0.37693  , -0.057267 ,  0.5249   ,  0.93365  , -0.82696  ,\n",
       "        -0.58949  ,  0.035164 , -1.495    ,  0.011154 ,  1.0813   ,\n",
       "        -0.67989  , -0.54568  , -0.26465  ,  0.0084573, -0.13989  ,\n",
       "         0.91637  ,  0.44943  ,  0.11898  , -0.51478  , -0.68206  ,\n",
       "        -2.5211   , -0.024897 ,  0.25036  , -0.52294  ,  0.18746  ,\n",
       "         2.2091   , -1.1696   , -0.69227  , -1.7039   ,  0.033632 ,\n",
       "         0.14221  , -0.081491 , -0.27491  ,  0.55344  , -0.17341  ,\n",
       "        -0.57096  ,  0.10764  ,  0.3689   ,  0.17867  ,  0.10024  ,\n",
       "        -0.90984  ,  0.024629 ,  1.3539   ,  0.55869  , -0.11607  ],\n",
       "       dtype=float32),\n",
       " array([ 0.51858 , -1.2208  ,  0.6279  ,  0.3215  , -0.81454 ,  0.19868 ,\n",
       "        -1.0625  , -0.78582 ,  0.13986 , -0.015715, -0.68009 ,  1.9683  ,\n",
       "         0.17382 , -0.0353  , -0.082481,  0.50708 , -0.24114 , -0.28463 ,\n",
       "         1.3451  ,  0.24414 ,  0.43136 , -0.017569, -0.044608, -1.0104  ,\n",
       "        -0.081388, -0.38584 ,  0.41714 , -0.69551 , -0.99668 ,  0.030061,\n",
       "         0.99328 , -0.38101 ,  0.41525 ,  1.0554  ,  0.42508 , -0.24135 ,\n",
       "        -0.80147 , -0.8814  ,  1.0809  , -1.5758  , -1.2894  , -0.058513,\n",
       "         0.10407 ,  0.86128 , -0.17925 , -0.42157 , -0.51703 ,  0.060946,\n",
       "         0.96175 ,  0.24866 ], dtype=float32),\n",
       " array([ 0.23011 , -0.31189 ,  0.35439 ,  0.71926 , -1.086   ,  0.37271 ,\n",
       "        -0.44409 , -0.4782  , -0.14431 , -0.40757 , -0.48845 ,  1.0953  ,\n",
       "        -0.25289 , -0.7545  ,  0.15286 ,  0.76867 , -0.45392 , -0.033975,\n",
       "         1.7109  ,  0.93362 ,  0.14199 ,  0.33371 , -0.081341, -0.23418 ,\n",
       "         0.24652 , -0.36292 ,  0.081633, -0.57218 , -1.2785  , -0.86829 ,\n",
       "         1.2277  , -0.33888 ,  0.6176  ,  1.6715  ,  0.82343 , -0.4609  ,\n",
       "        -0.66706 , -1.2601  ,  0.76497 , -0.88972 , -1.0678  ,  0.20112 ,\n",
       "         0.22176 , -0.4304  , -0.26724 , -1.324   ,  0.15568 , -0.53378 ,\n",
       "         0.49684 ,  0.41076 ], dtype=float32),\n",
       " array([-0.060757, -1.1731  ,  0.18846 ,  0.3781  , -0.17724 ,  0.55007 ,\n",
       "         0.11642 , -1.1169  ,  0.37766 , -0.23238 , -0.21123 ,  0.2008  ,\n",
       "        -0.78939 , -0.31377 ,  0.76239 , -0.44848 , -0.30536 ,  0.19994 ,\n",
       "         0.35953 , -0.34278 ,  1.1711  ,  0.22089 ,  0.39379 , -0.91729 ,\n",
       "        -0.56081 , -0.87678 , -0.81646 , -0.59667 , -0.39168 ,  0.52532 ,\n",
       "         2.4125  , -0.44773 ,  0.31469 , -0.36885 ,  0.042919,  0.022925,\n",
       "        -0.8817  ,  0.40938 ,  1.143   , -0.37375 , -0.71801 , -0.24206 ,\n",
       "         1.2361  ,  1.182   , -1.0029  , -0.69144 ,  0.094998,  1.5783  ,\n",
       "         0.76583 ,  0.090209], dtype=float32),\n",
       " array([-0.34665 , -0.91222 , -1.6818  , -0.016127, -0.47689 ,  0.049569,\n",
       "        -0.40343 , -1.0484  ,  0.35614 ,  0.45462 , -0.19493 ,  0.72273 ,\n",
       "        -0.27842 , -0.42395 ,  0.083861, -0.089653, -0.26551 , -0.484   ,\n",
       "         0.52134 , -0.18697 ,  0.4513  ,  0.29223 , -0.34964 , -0.36172 ,\n",
       "        -0.4479  , -1.118   , -0.019406, -0.72781 ,  0.41118 ,  0.068827,\n",
       "         2.8894  , -0.11321 , -0.13702 , -1.0149  , -0.47737 ,  0.19692 ,\n",
       "        -0.22729 , -0.035944, -0.22809 ,  0.52428 , -0.82765 , -0.91807 ,\n",
       "         0.29609 ,  2.1889  ,  0.82633 , -0.38779 , -0.32129 ,  0.80889 ,\n",
       "         0.50444 ,  0.39099 ], dtype=float32)]"
      ]
     },
     "execution_count": 298,
     "metadata": {},
     "output_type": "execute_result"
    }
   ],
   "source": [
    "doc_to_lst_vec(preprocessed_train_texts_agn[0])"
   ]
  },
  {
   "cell_type": "code",
   "execution_count": 293,
   "metadata": {},
   "outputs": [
    {
     "data": {
      "text/plain": [
       "array([-0.90743 ,  0.30887 ,  1.0604  ,  0.088596,  0.30813 ,  0.38332 ,\n",
       "       -0.43078 , -0.096476,  0.51664 ,  0.186   ,  0.28332 , -0.76336 ,\n",
       "       -0.636   ,  0.52167 ,  0.88101 ,  0.1594  ,  0.30474 , -0.31674 ,\n",
       "       -1.5727  , -1.1203  ,  0.43566 , -0.53812 , -0.37352 , -0.47691 ,\n",
       "        0.92426 , -0.99819 , -0.30322 , -0.065498,  0.49301 , -0.1758  ,\n",
       "        2.1002  ,  0.7036  ,  0.037695,  0.78172 , -0.13428 , -0.85177 ,\n",
       "       -0.060642,  0.47088 ,  0.014336, -0.6508  , -0.59218 , -0.34837 ,\n",
       "        0.34901 ,  0.012822,  0.19881 , -1.148   ,  1.2566  , -0.35399 ,\n",
       "        0.15462 , -0.007928], dtype=float32)"
      ]
     },
     "execution_count": 293,
     "metadata": {},
     "output_type": "execute_result"
    }
   ],
   "source": [
    "glove_50.get_vector(vocabulary[0])"
   ]
  },
  {
   "cell_type": "code",
   "execution_count": 288,
   "metadata": {},
   "outputs": [
    {
     "data": {
      "text/plain": [
       "'jump'"
      ]
     },
     "execution_count": 288,
     "metadata": {},
     "output_type": "execute_result"
    }
   ],
   "source": [
    "vocabulary[0]"
   ]
  },
  {
   "cell_type": "code",
   "execution_count": 291,
   "metadata": {},
   "outputs": [
    {
     "data": {
      "text/plain": [
       "array([ 4.1856e-01,  1.1667e-01,  1.4532e-01, -1.5860e-01, -1.0859e-01,\n",
       "        6.5428e-01,  6.0782e-01,  1.9933e-01,  6.4012e-02, -8.5111e-01,\n",
       "       -2.6930e-01,  4.5384e-02,  5.3103e-01, -5.0595e-01,  2.9599e-01,\n",
       "       -1.4278e-01,  2.2715e-01,  4.3917e-01, -9.5810e-02, -3.4818e-02,\n",
       "       -7.8255e-02,  3.1025e-01,  2.4654e-01,  1.3593e-01,  7.2104e-01,\n",
       "        2.4174e-01,  3.7919e-01, -5.2771e-01,  6.7417e-02, -5.1387e-04,\n",
       "       -4.7082e-01, -3.5409e-01,  7.1399e-02, -4.5007e-01, -1.2700e+00,\n",
       "       -3.9152e-02, -4.3962e-01, -3.0530e-01,  4.2129e-01,  5.5825e-01,\n",
       "       -2.4132e-01, -2.7852e-01, -2.9255e-01,  2.8258e-01, -1.0905e-01,\n",
       "        2.2107e-01,  2.5958e-02, -4.6881e-02,  2.0935e-01,  1.0207e-02,\n",
       "       -6.2091e-02,  1.4928e-01, -1.9476e-01, -6.8775e-02, -3.7693e-01,\n",
       "        5.0580e-01, -2.1583e-01, -2.7067e-01, -4.5578e-01,  3.4214e-01,\n",
       "       -1.8316e-01,  4.4525e-01, -2.7951e-03, -1.0516e-02, -1.2205e-01,\n",
       "       -5.5907e-01, -3.2110e-01,  5.4732e-01,  2.8810e-01, -1.0704e-01,\n",
       "       -7.1523e-01,  4.0446e-01, -3.8448e-01, -3.2900e-01, -4.5998e-02,\n",
       "       -5.0194e-01,  3.1876e-01, -2.3635e-01,  3.2976e-02, -2.1738e-01,\n",
       "        4.8220e-01, -4.6803e-01,  5.2510e-01, -2.7516e-01,  3.8330e-01,\n",
       "        4.9441e-02, -1.4620e-01, -3.9799e-02,  2.2722e-01, -3.1428e-01,\n",
       "        7.3366e-01,  4.1286e-01, -2.2208e-01, -4.6792e-01,  5.1934e-01,\n",
       "       -5.0540e-01, -9.3410e-01,  5.0172e-01, -2.5137e-01, -4.5172e-01,\n",
       "       -8.5059e-01,  2.5602e-01, -4.8709e-01,  2.9887e-01,  2.0906e-01,\n",
       "       -6.6182e-01,  3.0927e-02, -5.9918e-01, -4.1983e-01, -1.1965e-02,\n",
       "       -4.5071e-01, -7.6210e-02, -4.3021e-01, -3.9703e-01,  1.9647e-01,\n",
       "        6.3661e-02, -3.3681e-01, -4.3516e-01,  1.6680e-01,  2.2632e-01,\n",
       "       -1.2391e-01, -1.9579e-01,  8.4643e-01, -3.1677e-01,  2.6765e-01,\n",
       "        3.9783e-01,  1.7533e-01,  3.9248e-01,  1.6944e-01, -5.4965e-01,\n",
       "       -3.3748e-01,  4.7353e-01, -1.9662e-01,  2.2850e-01, -2.7337e-01,\n",
       "        1.5865e-01, -4.0267e-01, -8.1386e-02, -6.1806e-01,  3.4963e-01,\n",
       "       -2.7116e-01, -3.6929e-01, -1.6609e-02,  1.2833e-01, -7.7271e-01,\n",
       "        3.7017e-01, -1.4194e-01,  1.5010e-01,  4.2589e-01,  3.0770e-01,\n",
       "        3.9959e-02, -2.4565e-02, -2.3191e-02, -4.7885e-01, -1.2221e-01,\n",
       "        8.9285e-02, -1.8303e-01, -2.1915e-01,  3.1062e-02, -1.6835e-01,\n",
       "        2.1067e-01, -2.5501e-01, -1.3628e-02, -1.3052e-01,  4.4656e-01,\n",
       "        1.5486e-01,  2.6132e-01,  2.1501e-01, -2.7009e-01,  9.5866e-02,\n",
       "        5.9655e-02,  1.8109e-01,  1.4966e-01, -3.4605e-01,  5.2059e-01,\n",
       "       -4.4722e-01,  4.4936e-01, -4.5057e-02,  1.4336e-01,  3.6151e-01,\n",
       "        2.8136e-01,  3.9561e-01,  2.1166e-01, -3.4509e-01,  1.3547e-01,\n",
       "        2.0408e-01,  1.1619e-01,  4.6339e-02, -5.2258e-02,  4.7586e-01,\n",
       "       -2.1276e-01,  1.3424e-02,  3.9055e-01, -5.0619e-01, -1.4729e-02,\n",
       "        4.1841e-01, -6.7456e-01, -2.0750e-01,  1.4554e-01, -1.6660e-01,\n",
       "        1.5261e+00,  3.4890e-01, -4.9030e-01,  4.3497e-01, -4.9070e-01,\n",
       "        3.9539e-01, -2.6113e-01,  3.5127e-01,  1.3368e-02,  6.3511e-01,\n",
       "       -4.2771e-01, -3.3216e-01, -3.1369e-01, -5.8383e-01, -8.4796e-03,\n",
       "        2.7939e-01, -6.0075e-02, -9.6490e-02, -8.1273e-02, -4.3271e-01,\n",
       "        2.4932e-01, -3.3688e-01,  9.5684e-02, -1.6287e-03,  1.4697e-01,\n",
       "       -3.5536e-01, -2.7569e-01,  2.8427e-01,  4.4486e-01,  6.0192e-02,\n",
       "       -4.3679e-01,  3.6040e-01, -7.2551e-02, -1.2607e-01,  3.3188e-01,\n",
       "        1.5106e-01, -2.1667e-01,  1.1033e-01,  1.6403e-01, -8.3972e-02,\n",
       "        2.8866e-01, -2.2149e-01, -4.8788e-01,  2.1211e-01, -7.8789e-01,\n",
       "       -3.4815e-01,  1.9257e-01, -8.8161e-02, -9.6721e-02, -5.5017e-02,\n",
       "       -4.7166e-01, -2.7688e-01,  2.3229e-01, -1.5762e-01, -1.2357e-01,\n",
       "       -3.1320e-01,  2.0011e-01,  2.0360e-01, -3.1591e-02,  7.3657e-01,\n",
       "        9.3711e-02, -1.3595e-01,  2.4898e-01, -6.0605e-02, -1.0981e-01,\n",
       "       -3.2170e-01, -3.4882e-01,  1.0528e-01, -4.9972e-01, -1.4239e-01,\n",
       "        3.6499e-01, -2.4653e-01, -2.5310e-01,  5.4492e-02, -3.3672e-02,\n",
       "       -3.7764e-01, -1.1479e+00,  2.6248e-02, -3.6474e-01,  6.7726e-02,\n",
       "       -1.3439e-01,  3.3049e-03,  4.2459e-01,  6.3325e-01, -3.6701e-01,\n",
       "       -2.7349e-01,  9.5257e-02,  7.6060e-02, -8.8947e-01,  3.0245e-01,\n",
       "        3.0622e-01,  2.3678e-02,  3.8456e-02, -3.1593e-01,  5.5226e-01,\n",
       "        1.6047e-01, -8.8847e-02, -5.7647e-03,  3.1433e-01,  9.5902e-02],\n",
       "      dtype=float32)"
      ]
     },
     "execution_count": 291,
     "metadata": {},
     "output_type": "execute_result"
    }
   ],
   "source": [
    "glove_300.get_vector(vocabulary[0])"
   ]
  },
  {
   "cell_type": "markdown",
   "metadata": {},
   "source": [
    "# Try a Non-DL model"
   ]
  },
  {
   "cell_type": "code",
   "execution_count": 1,
   "metadata": {},
   "outputs": [],
   "source": [
    "import json\n",
    "import os\n",
    "\n",
    "import matplotlib.pyplot as plt\n",
    "import numpy as np\n",
    "import sklearn\n",
    "from gensim.utils import simple_preprocess\n",
    "import gensim.downloader\n",
    "import multiprocessing\n",
    "import nltk\n",
    "from nltk.corpus import stopwords\n",
    "\n",
    "from collections import Counter\n",
    "\n",
    "from sklearn.ensemble import RandomForestClassifier\n",
    "# from sklearn.ensemble import GradientBoostingClassifier\n",
    "from sklearn.linear_model import LogisticRegression\n",
    "from sklearn.naive_bayes import GaussianNB"
   ]
  },
  {
   "cell_type": "code",
   "execution_count": 2,
   "metadata": {},
   "outputs": [],
   "source": [
    "def load_data(path):\n",
    "    if 'cache' not in load_data.__dict__:\n",
    "        load_data.cache = dict()\n",
    "    if path not in load_data.cache:\n",
    "        load_data.cache[path] = dict()\n",
    "        with open(os.path.join(path, 'train.jsonl')) as f:\n",
    "            train_exs = [json.loads(line) for line in f]\n",
    "        with open(os.path.join(path, 'dev.jsonl')) as f:\n",
    "            dev_exs = [json.loads(line) for line in f]\n",
    "        with open(os.path.join(path, 'test.jsonl')) as f:\n",
    "            test_exs = [json.loads(line) for line in f]\n",
    "        load_data.cache[path] = {\n",
    "            'train_exs': train_exs,\n",
    "            'dev_exs': dev_exs,\n",
    "            'test_exs': test_exs,\n",
    "            }\n",
    "    return load_data.cache[path]['train_exs'], load_data.cache[path]['dev_exs'], load_data.cache[path]['test_exs']\n",
    "\n",
    "def preprocess_string(string):\n",
    "    '''Tokenizes and removes stopwords'''\n",
    "\n",
    "    # Convert string to list of lowercase tokens, which are not too long (1 character) or too short (>15 characters)\n",
    "    tokenized_string = simple_preprocess(string\n",
    "                                         , min_len = 3 # default 2\n",
    "                                         , max_len = 15) # default 15\n",
    "\n",
    "    no_stops_string = [word for word in tokenized_string if word not in stopwords.words('english')]\n",
    "\n",
    "    return no_stops_string\n",
    "\n",
    "\n",
    "def preprocess_texts(texts):\n",
    "\n",
    "    pool=multiprocessing.Pool(multiprocessing.cpu_count())\n",
    "\n",
    "    preprocessed_texts = pool.map(preprocess_string, texts)\n",
    "\n",
    "    pool.close()\n",
    "\n",
    "    return preprocessed_texts"
   ]
  },
  {
   "cell_type": "code",
   "execution_count": 3,
   "metadata": {},
   "outputs": [],
   "source": [
    "folder = 'data'\n",
    "\n",
    "# AGN Data\n",
    "agn_sub_folder = 'agn_small'\n",
    "agn_path = os.path.join(folder, agn_sub_folder)\n",
    "\n",
    "# DBPedia Data\n",
    "dbpedia_sub_folder = 'dbpedia_small'\n",
    "dbpedia_path = os.path.join(folder, dbpedia_sub_folder)\n",
    "\n",
    "# Loading both datasets\n",
    "train_agn, dev_agn, test_agn = load_data(agn_path)\n",
    "train_dbpedia, dev_dbpedia, test_dbpedia = load_data(dbpedia_path)\n",
    "\n",
    "# Texts & Labels - AGN\n",
    "train_texts_agn = [x['text'] for x in train_agn]\n",
    "train_labels_agn = [x['label'] for x in train_agn]\n",
    "dev_texts_agn = [x['text'] for x in dev_agn]\n",
    "dev_labels_agn = [x['label'] for x in dev_agn]\n",
    "test_texts_agn = [x['text'] for x in test_agn]\n",
    "test_labels_agn = [x['label'] for x in test_agn]\n",
    "\n",
    "# Texts & Labels - DBPedia\n",
    "train_texts_dbpedia = [x['text'] for x in train_dbpedia]\n",
    "train_labels_dbpedia = [x['label'] for x in train_dbpedia]\n",
    "dev_texts_dbpedia = [x['text'] for x in dev_dbpedia]\n",
    "dev_labels_dbpedia = [x['label'] for x in dev_dbpedia]\n",
    "test_texts_dbpedia = [x['text'] for x in test_dbpedia]\n",
    "test_labels_dbpedia = [x['label'] for x in test_dbpedia]"
   ]
  },
  {
   "cell_type": "code",
   "execution_count": 5,
   "metadata": {},
   "outputs": [
    {
     "name": "stdout",
     "output_type": "stream",
     "text": [
      "[--------------------------------------------------] 1.4% 23.5/1662.8MB downloaded"
     ]
    },
    {
     "name": "stderr",
     "output_type": "stream",
     "text": [
      "IOPub message rate exceeded.\n",
      "The notebook server will temporarily stop sending output\n",
      "to the client in order to avoid crashing it.\n",
      "To change this limit, set the config variable\n",
      "`--NotebookApp.iopub_msg_rate_limit`.\n",
      "\n",
      "Current values:\n",
      "NotebookApp.iopub_msg_rate_limit=1000.0 (msgs/sec)\n",
      "NotebookApp.rate_limit_window=3.0 (secs)\n",
      "\n"
     ]
    },
    {
     "name": "stdout",
     "output_type": "stream",
     "text": [
      "[=-------------------------------------------------] 3.3% 54.4/1662.8MB downloaded"
     ]
    },
    {
     "name": "stderr",
     "output_type": "stream",
     "text": [
      "IOPub message rate exceeded.\n",
      "The notebook server will temporarily stop sending output\n",
      "to the client in order to avoid crashing it.\n",
      "To change this limit, set the config variable\n",
      "`--NotebookApp.iopub_msg_rate_limit`.\n",
      "\n",
      "Current values:\n",
      "NotebookApp.iopub_msg_rate_limit=1000.0 (msgs/sec)\n",
      "NotebookApp.rate_limit_window=3.0 (secs)\n",
      "\n"
     ]
    },
    {
     "name": "stdout",
     "output_type": "stream",
     "text": [
      "[=====---------------------------------------------] 11.1% 185.0/1662.8MB downloaded"
     ]
    },
    {
     "name": "stderr",
     "output_type": "stream",
     "text": [
      "IOPub message rate exceeded.\n",
      "The notebook server will temporarily stop sending output\n",
      "to the client in order to avoid crashing it.\n",
      "To change this limit, set the config variable\n",
      "`--NotebookApp.iopub_msg_rate_limit`.\n",
      "\n",
      "Current values:\n",
      "NotebookApp.iopub_msg_rate_limit=1000.0 (msgs/sec)\n",
      "NotebookApp.rate_limit_window=3.0 (secs)\n",
      "\n"
     ]
    },
    {
     "name": "stdout",
     "output_type": "stream",
     "text": [
      "[======--------------------------------------------] 13.7% 227.1/1662.8MB downloaded"
     ]
    },
    {
     "name": "stderr",
     "output_type": "stream",
     "text": [
      "IOPub message rate exceeded.\n",
      "The notebook server will temporarily stop sending output\n",
      "to the client in order to avoid crashing it.\n",
      "To change this limit, set the config variable\n",
      "`--NotebookApp.iopub_msg_rate_limit`.\n",
      "\n",
      "Current values:\n",
      "NotebookApp.iopub_msg_rate_limit=1000.0 (msgs/sec)\n",
      "NotebookApp.rate_limit_window=3.0 (secs)\n",
      "\n"
     ]
    },
    {
     "name": "stdout",
     "output_type": "stream",
     "text": [
      "[========------------------------------------------] 17.1% 284.4/1662.8MB downloaded"
     ]
    },
    {
     "name": "stderr",
     "output_type": "stream",
     "text": [
      "IOPub message rate exceeded.\n",
      "The notebook server will temporarily stop sending output\n",
      "to the client in order to avoid crashing it.\n",
      "To change this limit, set the config variable\n",
      "`--NotebookApp.iopub_msg_rate_limit`.\n",
      "\n",
      "Current values:\n",
      "NotebookApp.iopub_msg_rate_limit=1000.0 (msgs/sec)\n",
      "NotebookApp.rate_limit_window=3.0 (secs)\n",
      "\n"
     ]
    },
    {
     "name": "stdout",
     "output_type": "stream",
     "text": [
      "[=========-----------------------------------------] 19.7% 327.2/1662.8MB downloaded"
     ]
    },
    {
     "name": "stderr",
     "output_type": "stream",
     "text": [
      "IOPub message rate exceeded.\n",
      "The notebook server will temporarily stop sending output\n",
      "to the client in order to avoid crashing it.\n",
      "To change this limit, set the config variable\n",
      "`--NotebookApp.iopub_msg_rate_limit`.\n",
      "\n",
      "Current values:\n",
      "NotebookApp.iopub_msg_rate_limit=1000.0 (msgs/sec)\n",
      "NotebookApp.rate_limit_window=3.0 (secs)\n",
      "\n"
     ]
    },
    {
     "name": "stdout",
     "output_type": "stream",
     "text": [
      "[===========---------------------------------------] 22.4% 371.7/1662.8MB downloaded"
     ]
    },
    {
     "name": "stderr",
     "output_type": "stream",
     "text": [
      "IOPub message rate exceeded.\n",
      "The notebook server will temporarily stop sending output\n",
      "to the client in order to avoid crashing it.\n",
      "To change this limit, set the config variable\n",
      "`--NotebookApp.iopub_msg_rate_limit`.\n",
      "\n",
      "Current values:\n",
      "NotebookApp.iopub_msg_rate_limit=1000.0 (msgs/sec)\n",
      "NotebookApp.rate_limit_window=3.0 (secs)\n",
      "\n"
     ]
    },
    {
     "name": "stdout",
     "output_type": "stream",
     "text": [
      "[============--------------------------------------] 24.9% 414.6/1662.8MB downloaded"
     ]
    },
    {
     "name": "stderr",
     "output_type": "stream",
     "text": [
      "IOPub message rate exceeded.\n",
      "The notebook server will temporarily stop sending output\n",
      "to the client in order to avoid crashing it.\n",
      "To change this limit, set the config variable\n",
      "`--NotebookApp.iopub_msg_rate_limit`.\n",
      "\n",
      "Current values:\n",
      "NotebookApp.iopub_msg_rate_limit=1000.0 (msgs/sec)\n",
      "NotebookApp.rate_limit_window=3.0 (secs)\n",
      "\n"
     ]
    },
    {
     "name": "stdout",
     "output_type": "stream",
     "text": [
      "[=============-------------------------------------] 27.5% 457.7/1662.8MB downloaded"
     ]
    },
    {
     "name": "stderr",
     "output_type": "stream",
     "text": [
      "IOPub message rate exceeded.\n",
      "The notebook server will temporarily stop sending output\n",
      "to the client in order to avoid crashing it.\n",
      "To change this limit, set the config variable\n",
      "`--NotebookApp.iopub_msg_rate_limit`.\n",
      "\n",
      "Current values:\n",
      "NotebookApp.iopub_msg_rate_limit=1000.0 (msgs/sec)\n",
      "NotebookApp.rate_limit_window=3.0 (secs)\n",
      "\n"
     ]
    },
    {
     "name": "stdout",
     "output_type": "stream",
     "text": [
      "[===============-----------------------------------] 30.2% 502.0/1662.8MB downloaded"
     ]
    },
    {
     "name": "stderr",
     "output_type": "stream",
     "text": [
      "IOPub message rate exceeded.\n",
      "The notebook server will temporarily stop sending output\n",
      "to the client in order to avoid crashing it.\n",
      "To change this limit, set the config variable\n",
      "`--NotebookApp.iopub_msg_rate_limit`.\n",
      "\n",
      "Current values:\n",
      "NotebookApp.iopub_msg_rate_limit=1000.0 (msgs/sec)\n",
      "NotebookApp.rate_limit_window=3.0 (secs)\n",
      "\n"
     ]
    },
    {
     "name": "stdout",
     "output_type": "stream",
     "text": [
      "[================----------------------------------] 33.2% 552.1/1662.8MB downloaded"
     ]
    },
    {
     "name": "stderr",
     "output_type": "stream",
     "text": [
      "IOPub message rate exceeded.\n",
      "The notebook server will temporarily stop sending output\n",
      "to the client in order to avoid crashing it.\n",
      "To change this limit, set the config variable\n",
      "`--NotebookApp.iopub_msg_rate_limit`.\n",
      "\n",
      "Current values:\n",
      "NotebookApp.iopub_msg_rate_limit=1000.0 (msgs/sec)\n",
      "NotebookApp.rate_limit_window=3.0 (secs)\n",
      "\n"
     ]
    },
    {
     "name": "stdout",
     "output_type": "stream",
     "text": [
      "[=================---------------------------------] 35.6% 592.1/1662.8MB downloaded"
     ]
    },
    {
     "name": "stderr",
     "output_type": "stream",
     "text": [
      "IOPub message rate exceeded.\n",
      "The notebook server will temporarily stop sending output\n",
      "to the client in order to avoid crashing it.\n",
      "To change this limit, set the config variable\n",
      "`--NotebookApp.iopub_msg_rate_limit`.\n",
      "\n",
      "Current values:\n",
      "NotebookApp.iopub_msg_rate_limit=1000.0 (msgs/sec)\n",
      "NotebookApp.rate_limit_window=3.0 (secs)\n",
      "\n"
     ]
    },
    {
     "name": "stdout",
     "output_type": "stream",
     "text": [
      "[===================-------------------------------] 38.4% 638.9/1662.8MB downloaded"
     ]
    },
    {
     "name": "stderr",
     "output_type": "stream",
     "text": [
      "IOPub message rate exceeded.\n",
      "The notebook server will temporarily stop sending output\n",
      "to the client in order to avoid crashing it.\n",
      "To change this limit, set the config variable\n",
      "`--NotebookApp.iopub_msg_rate_limit`.\n",
      "\n",
      "Current values:\n",
      "NotebookApp.iopub_msg_rate_limit=1000.0 (msgs/sec)\n",
      "NotebookApp.rate_limit_window=3.0 (secs)\n",
      "\n"
     ]
    },
    {
     "name": "stdout",
     "output_type": "stream",
     "text": [
      "[====================------------------------------] 41.3% 687.4/1662.8MB downloaded"
     ]
    },
    {
     "name": "stderr",
     "output_type": "stream",
     "text": [
      "IOPub message rate exceeded.\n",
      "The notebook server will temporarily stop sending output\n",
      "to the client in order to avoid crashing it.\n",
      "To change this limit, set the config variable\n",
      "`--NotebookApp.iopub_msg_rate_limit`.\n",
      "\n",
      "Current values:\n",
      "NotebookApp.iopub_msg_rate_limit=1000.0 (msgs/sec)\n",
      "NotebookApp.rate_limit_window=3.0 (secs)\n",
      "\n"
     ]
    },
    {
     "name": "stdout",
     "output_type": "stream",
     "text": [
      "[=====================-----------------------------] 43.2% 718.2/1662.8MB downloaded"
     ]
    },
    {
     "name": "stderr",
     "output_type": "stream",
     "text": [
      "IOPub message rate exceeded.\n",
      "The notebook server will temporarily stop sending output\n",
      "to the client in order to avoid crashing it.\n",
      "To change this limit, set the config variable\n",
      "`--NotebookApp.iopub_msg_rate_limit`.\n",
      "\n",
      "Current values:\n",
      "NotebookApp.iopub_msg_rate_limit=1000.0 (msgs/sec)\n",
      "NotebookApp.rate_limit_window=3.0 (secs)\n",
      "\n"
     ]
    },
    {
     "name": "stdout",
     "output_type": "stream",
     "text": [
      "[======================----------------------------] 45.2% 751.7/1662.8MB downloaded"
     ]
    },
    {
     "name": "stderr",
     "output_type": "stream",
     "text": [
      "IOPub message rate exceeded.\n",
      "The notebook server will temporarily stop sending output\n",
      "to the client in order to avoid crashing it.\n",
      "To change this limit, set the config variable\n",
      "`--NotebookApp.iopub_msg_rate_limit`.\n",
      "\n",
      "Current values:\n",
      "NotebookApp.iopub_msg_rate_limit=1000.0 (msgs/sec)\n",
      "NotebookApp.rate_limit_window=3.0 (secs)\n",
      "\n"
     ]
    },
    {
     "name": "stdout",
     "output_type": "stream",
     "text": [
      "[========================--------------------------] 49.8% 828.6/1662.8MB downloaded"
     ]
    },
    {
     "name": "stderr",
     "output_type": "stream",
     "text": [
      "IOPub message rate exceeded.\n",
      "The notebook server will temporarily stop sending output\n",
      "to the client in order to avoid crashing it.\n",
      "To change this limit, set the config variable\n",
      "`--NotebookApp.iopub_msg_rate_limit`.\n",
      "\n",
      "Current values:\n",
      "NotebookApp.iopub_msg_rate_limit=1000.0 (msgs/sec)\n",
      "NotebookApp.rate_limit_window=3.0 (secs)\n",
      "\n"
     ]
    },
    {
     "name": "stdout",
     "output_type": "stream",
     "text": [
      "[=================================================-] 99.8% 1659.8/1662.8MB downloaded\n"
     ]
    }
   ],
   "source": [
    "# glove = gensim.downloader.load('glove-wiki-gigaword-50')\n",
    "#  glove = gensim.downloader.load('glove-wiki-gigaword-300') \n",
    "# glove = gensim.downloader.load('fasttext-wiki-news-subwords-300')\n",
    "# glove = gensim.downloader.load('glove-twitter-200')\n",
    "glove = gensim.downloader.load('word2vec-google-news-300')\n",
    "\n",
    "def docs_to_vecs(texts):\n",
    "    \n",
    "\n",
    "    # print(\"RETRIEVED GLOVE EMBEDDINGS\")\n",
    "\n",
    "    doc_vecs = []\n",
    "    \n",
    "    for text in texts:\n",
    "\n",
    "        lst_vec = []\n",
    "    \n",
    "        for word in text:\n",
    "            try:\n",
    "                lst_vec.append(glove.get_vector(word))\n",
    "            except:\n",
    "                pass # Ignore word if it's not in vocabulary of glove_50\n",
    "    \n",
    "        vec = np.array(lst_vec)\n",
    "        if len(vec) == 0:\n",
    "            np_vec = np.zeros((900,)) # train text 779 is \"The Ss.\", which becomes [] when preprocessed and breaks things; this solves for that.\n",
    "        else:\n",
    "            np_vec = np.concatenate((np.min(vec, axis=0), np.max(vec, axis=0), np.mean(vec, axis=0)))\n",
    "\n",
    "        doc_vecs.append(np_vec)\n",
    "    \n",
    "    return np.array(doc_vecs)"
   ]
  },
  {
   "cell_type": "code",
   "execution_count": 6,
   "metadata": {},
   "outputs": [
    {
     "name": "stdout",
     "output_type": "stream",
     "text": [
      "PREPROCESSED TRAIN TEXTS:  5000\n",
      "PREPROCESSED DEV TEXTS:  10000\n",
      "PREPROCESSED TEST TEXTS:  10000\n"
     ]
    }
   ],
   "source": [
    "preprocessed_train_texts = preprocess_texts(train_texts_dbpedia)\n",
    "print(\"PREPROCESSED TRAIN TEXTS: \", len(preprocessed_train_texts))\n",
    "preprocessed_dev_texts = preprocess_texts(dev_texts_dbpedia)\n",
    "print(\"PREPROCESSED DEV TEXTS: \", len(preprocessed_dev_texts))\n",
    "preprocessed_test_texts = preprocess_texts(test_texts_dbpedia)\n",
    "print(\"PREPROCESSED TEST TEXTS: \", len(preprocessed_test_texts))"
   ]
  },
  {
   "cell_type": "code",
   "execution_count": 7,
   "metadata": {},
   "outputs": [
    {
     "name": "stdout",
     "output_type": "stream",
     "text": [
      "TRAIN FEATURES SHAPE  (5000, 900)\n",
      "DEV FEATURES SHAPE  (10000, 900)\n",
      "TEST FEATURES SHAPE  (10000, 900)\n"
     ]
    }
   ],
   "source": [
    "train_features = docs_to_vecs(preprocessed_train_texts)\n",
    "print(\"TRAIN FEATURES SHAPE \", train_features.shape)\n",
    "dev_features = docs_to_vecs(preprocessed_dev_texts)\n",
    "print(\"DEV FEATURES SHAPE \", dev_features.shape)\n",
    "test_features = docs_to_vecs(preprocessed_test_texts)\n",
    "print(\"TEST FEATURES SHAPE \", test_features.shape) "
   ]
  },
  {
   "cell_type": "code",
   "execution_count": 8,
   "metadata": {},
   "outputs": [
    {
     "data": {
      "text/plain": [
       "(10000, 900)"
      ]
     },
     "execution_count": 8,
     "metadata": {},
     "output_type": "execute_result"
    }
   ],
   "source": [
    "test_features.shape"
   ]
  },
  {
   "cell_type": "markdown",
   "metadata": {},
   "source": [
    "## word2vec-google-news-300"
   ]
  },
  {
   "cell_type": "code",
   "execution_count": 9,
   "metadata": {},
   "outputs": [
    {
     "data": {
      "text/plain": [
       "0.8508"
      ]
     },
     "execution_count": 9,
     "metadata": {},
     "output_type": "execute_result"
    }
   ],
   "source": [
    "nb = GaussianNB()\n",
    "nb.fit(train_features, train_labels_dbpedia)\n",
    "nb.score(test_features, test_labels_dbpedia)"
   ]
  },
  {
   "cell_type": "code",
   "execution_count": 13,
   "metadata": {},
   "outputs": [
    {
     "data": {
      "text/plain": [
       "0.9348"
      ]
     },
     "execution_count": 13,
     "metadata": {},
     "output_type": "execute_result"
    }
   ],
   "source": [
    "rf = RandomForestClassifier(n_estimators=500)\n",
    "rf.fit(train_features, train_labels_dbpedia)\n",
    "rf.score(test_features, test_labels_dbpedia)"
   ]
  },
  {
   "cell_type": "code",
   "execution_count": 12,
   "metadata": {},
   "outputs": [
    {
     "data": {
      "text/plain": [
       "0.9481"
      ]
     },
     "execution_count": 12,
     "metadata": {},
     "output_type": "execute_result"
    }
   ],
   "source": [
    "logreg = LogisticRegression(max_iter=1000)\n",
    "logreg.fit(train_features, train_labels_dbpedia)\n",
    "logreg.score(test_features, test_labels_dbpedia)"
   ]
  },
  {
   "cell_type": "markdown",
   "metadata": {},
   "source": [
    "## fasttext-wiki-news-subwords-300"
   ]
  },
  {
   "cell_type": "code",
   "execution_count": 19,
   "metadata": {},
   "outputs": [
    {
     "data": {
      "text/plain": [
       "0.8279"
      ]
     },
     "execution_count": 19,
     "metadata": {},
     "output_type": "execute_result"
    }
   ],
   "source": [
    "nb = GaussianNB()\n",
    "nb.fit(train_features, train_labels_dbpedia)\n",
    "nb.score(test_features, test_labels_dbpedia)"
   ]
  },
  {
   "cell_type": "code",
   "execution_count": 20,
   "metadata": {},
   "outputs": [
    {
     "data": {
      "text/plain": [
       "0.9246"
      ]
     },
     "execution_count": 20,
     "metadata": {},
     "output_type": "execute_result"
    }
   ],
   "source": [
    "rf = RandomForestClassifier(n_estimators=300)\n",
    "rf.fit(train_features, train_labels_dbpedia)\n",
    "rf.score(test_features, test_labels_dbpedia)"
   ]
  },
  {
   "cell_type": "code",
   "execution_count": 21,
   "metadata": {},
   "outputs": [
    {
     "data": {
      "text/plain": [
       "0.9234"
      ]
     },
     "execution_count": 21,
     "metadata": {},
     "output_type": "execute_result"
    }
   ],
   "source": [
    "logreg = LogisticRegression(max_iter=500)\n",
    "logreg.fit(train_features, train_labels_dbpedia)\n",
    "logreg.score(test_features, test_labels_dbpedia)"
   ]
  },
  {
   "cell_type": "markdown",
   "metadata": {},
   "source": [
    "## Glove 300"
   ]
  },
  {
   "cell_type": "code",
   "execution_count": 11,
   "metadata": {},
   "outputs": [
    {
     "data": {
      "text/plain": [
       "0.8695"
      ]
     },
     "execution_count": 11,
     "metadata": {},
     "output_type": "execute_result"
    }
   ],
   "source": [
    "nb = GaussianNB()\n",
    "nb.fit(train_features, train_labels_dbpedia)\n",
    "nb.score(test_features, test_labels_dbpedia)"
   ]
  },
  {
   "cell_type": "code",
   "execution_count": 25,
   "metadata": {},
   "outputs": [
    {
     "data": {
      "text/plain": [
       "0.9346"
      ]
     },
     "execution_count": 25,
     "metadata": {},
     "output_type": "execute_result"
    }
   ],
   "source": [
    "rf = RandomForestClassifier(n_estimators=300)\n",
    "rf.fit(train_features, train_labels_dbpedia)\n",
    "rf.score(test_features, test_labels_dbpedia)"
   ]
  },
  {
   "cell_type": "code",
   "execution_count": 26,
   "metadata": {},
   "outputs": [
    {
     "name": "stderr",
     "output_type": "stream",
     "text": [
      "/Users/kristiyan/opt/anaconda3/lib/python3.7/site-packages/sklearn/linear_model/_logistic.py:764: ConvergenceWarning: lbfgs failed to converge (status=1):\n",
      "STOP: TOTAL NO. of ITERATIONS REACHED LIMIT.\n",
      "\n",
      "Increase the number of iterations (max_iter) or scale the data as shown in:\n",
      "    https://scikit-learn.org/stable/modules/preprocessing.html\n",
      "Please also refer to the documentation for alternative solver options:\n",
      "    https://scikit-learn.org/stable/modules/linear_model.html#logistic-regression\n",
      "  extra_warning_msg=_LOGISTIC_SOLVER_CONVERGENCE_MSG)\n"
     ]
    },
    {
     "data": {
      "text/plain": [
       "0.9528"
      ]
     },
     "execution_count": 26,
     "metadata": {},
     "output_type": "execute_result"
    }
   ],
   "source": [
    "logreg = LogisticRegression(max_iter=500)\n",
    "logreg.fit(train_features, train_labels_dbpedia)\n",
    "logreg.score(test_features, test_labels_dbpedia)"
   ]
  },
  {
   "cell_type": "markdown",
   "metadata": {},
   "source": [
    "# Appendix"
   ]
  },
  {
   "cell_type": "code",
   "execution_count": 71,
   "metadata": {},
   "outputs": [
    {
     "data": {
      "text/plain": [
       "Counter({'fannie': 2,\n",
       "         'mae': 2,\n",
       "         'discloses': 1,\n",
       "         'document': 1,\n",
       "         'request': 1,\n",
       "         'mortgage': 1,\n",
       "         'giant': 1,\n",
       "         'said': 1,\n",
       "         'today': 1,\n",
       "         'prosecutors': 1,\n",
       "         'asked': 1,\n",
       "         'company': 1,\n",
       "         'preserve': 1,\n",
       "         'documents': 1,\n",
       "         'part': 1,\n",
       "         'investigation': 1,\n",
       "         'accounting': 1,\n",
       "         'practices': 1})"
      ]
     },
     "execution_count": 71,
     "metadata": {},
     "output_type": "execute_result"
    }
   ],
   "source": [
    "Counter(preprocessed_train_texts_agn[0])"
   ]
  },
  {
   "cell_type": "code",
   "execution_count": 72,
   "metadata": {},
   "outputs": [
    {
     "data": {
      "text/plain": [
       "Counter({'fannie': 2,\n",
       "         'mae': 2,\n",
       "         'discloses': 1,\n",
       "         'document': 1,\n",
       "         'request': 1,\n",
       "         'mortgage': 1,\n",
       "         'giant': 1,\n",
       "         'said': 2,\n",
       "         'today': 1,\n",
       "         'prosecutors': 1,\n",
       "         'asked': 1,\n",
       "         'company': 1,\n",
       "         'preserve': 1,\n",
       "         'documents': 1,\n",
       "         'part': 1,\n",
       "         'investigation': 1,\n",
       "         'accounting': 1,\n",
       "         'practices': 1,\n",
       "         'amp': 3,\n",
       "         'vonage': 2,\n",
       "         'battle': 1,\n",
       "         'voice': 1,\n",
       "         'calls': 2,\n",
       "         'getting': 1,\n",
       "         'cheaper': 1,\n",
       "         'announced': 1,\n",
       "         'lower': 1,\n",
       "         'monthly': 2,\n",
       "         'charges': 1,\n",
       "         'late': 1,\n",
       "         'last': 1,\n",
       "         'week': 1,\n",
       "         'would': 1,\n",
       "         'reduce': 1,\n",
       "         'charge': 1,\n",
       "         'five': 1,\n",
       "         'dollars': 1,\n",
       "         'month': 1,\n",
       "         'unlimited': 1,\n",
       "         'local': 1,\n",
       "         'long': 1,\n",
       "         'distance': 1,\n",
       "         'canada': 1})"
      ]
     },
     "execution_count": 72,
     "metadata": {},
     "output_type": "execute_result"
    }
   ],
   "source": [
    "Counter(preprocessed_train_texts_agn[0]) + Counter(preprocessed_train_texts_agn[1])"
   ]
  },
  {
   "cell_type": "code",
   "execution_count": 73,
   "metadata": {},
   "outputs": [],
   "source": [
    "cnt0 = Counter(preprocessed_train_texts_agn[0])"
   ]
  },
  {
   "cell_type": "code",
   "execution_count": 74,
   "metadata": {},
   "outputs": [],
   "source": [
    "cnt1 = Counter(preprocessed_train_texts_agn[1])"
   ]
  },
  {
   "cell_type": "code",
   "execution_count": 75,
   "metadata": {},
   "outputs": [
    {
     "data": {
      "text/plain": [
       "18"
      ]
     },
     "execution_count": 75,
     "metadata": {},
     "output_type": "execute_result"
    }
   ],
   "source": [
    "len(cnt0.keys())"
   ]
  },
  {
   "cell_type": "code",
   "execution_count": 76,
   "metadata": {},
   "outputs": [
    {
     "data": {
      "text/plain": [
       "26"
      ]
     },
     "execution_count": 76,
     "metadata": {},
     "output_type": "execute_result"
    }
   ],
   "source": [
    "len(cnt1.keys())"
   ]
  },
  {
   "cell_type": "code",
   "execution_count": 77,
   "metadata": {},
   "outputs": [
    {
     "data": {
      "text/plain": [
       "{'said'}"
      ]
     },
     "execution_count": 77,
     "metadata": {},
     "output_type": "execute_result"
    }
   ],
   "source": [
    "set(cnt0.keys()).intersection(set(cnt1.keys()))"
   ]
  },
  {
   "cell_type": "code",
   "execution_count": 78,
   "metadata": {},
   "outputs": [
    {
     "data": {
      "text/plain": [
       "43"
      ]
     },
     "execution_count": 78,
     "metadata": {},
     "output_type": "execute_result"
    }
   ],
   "source": [
    "len((cnt0+cnt1))"
   ]
  },
  {
   "cell_type": "code",
   "execution_count": 79,
   "metadata": {},
   "outputs": [
    {
     "data": {
      "text/plain": [
       "Counter({'A': 3, 'C': 1, 'B': 2})"
      ]
     },
     "execution_count": 79,
     "metadata": {},
     "output_type": "execute_result"
    }
   ],
   "source": [
    "lst0 = ['A','A','C']\n",
    "lst1 = ['A','B','B']\n",
    "Counter(lst0)+Counter(lst1)\n"
   ]
  },
  {
   "cell_type": "code",
   "execution_count": 256,
   "metadata": {},
   "outputs": [],
   "source": [
    "import torch\n",
    "import torchvision\n",
    "import torchvision.transforms as transforms\n",
    "import torch.optim as optim\n",
    "import torch.nn as nn\n",
    "import torch.nn.functional as F\n",
    "from torchvision import datasets, transforms\n",
    "from torch.utils.data import DataLoader"
   ]
  },
  {
   "cell_type": "code",
   "execution_count": 260,
   "metadata": {},
   "outputs": [
    {
     "data": {
      "text/plain": [
       "tensor([1., 2., 3., 1., 2., 3.])"
      ]
     },
     "execution_count": 260,
     "metadata": {},
     "output_type": "execute_result"
    }
   ],
   "source": [
    "torch.cat((torch.Tensor([1,2,3]), torch.Tensor([1,2,3])), 0)"
   ]
  },
  {
   "cell_type": "code",
   "execution_count": 261,
   "metadata": {},
   "outputs": [
    {
     "data": {
      "text/plain": [
       "tensor([])"
      ]
     },
     "execution_count": 261,
     "metadata": {},
     "output_type": "execute_result"
    }
   ],
   "source": [
    "torch.Tensor([])"
   ]
  },
  {
   "cell_type": "code",
   "execution_count": null,
   "metadata": {},
   "outputs": [],
   "source": []
  }
 ],
 "metadata": {
  "kernelspec": {
   "display_name": "Python 3",
   "language": "python",
   "name": "python3"
  },
  "language_info": {
   "codemirror_mode": {
    "name": "ipython",
    "version": 3
   },
   "file_extension": ".py",
   "mimetype": "text/x-python",
   "name": "python",
   "nbconvert_exporter": "python",
   "pygments_lexer": "ipython3",
   "version": "3.7.4"
  }
 },
 "nbformat": 4,
 "nbformat_minor": 4
}
