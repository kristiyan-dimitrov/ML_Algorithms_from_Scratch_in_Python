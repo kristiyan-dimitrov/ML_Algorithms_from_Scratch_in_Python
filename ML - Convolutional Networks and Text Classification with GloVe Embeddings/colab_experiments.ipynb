{
 "cells": [
  {
   "cell_type": "code",
   "execution_count": null,
   "metadata": {
    "id": "K9QXhifxWt8p"
   },
   "outputs": [],
   "source": [
    "# if you need any other modules feel free to add them here\n",
    "import sys\n",
    "sys.path.append(\"..\") \n",
    "\n",
    "from my_dataset import MyDataset\n",
    "from dogs import *\n",
    "\n",
    "import matplotlib.pyplot as plt\n",
    "from matplotlib import style\n",
    "style.use('fivethirtyeight')\n",
    "import numpy as np\n",
    "import pickle\n",
    "import time\n",
    "import csv\n",
    "import os\n",
    "\n",
    "import torch\n",
    "import torchvision\n",
    "import torchvision.transforms as transforms\n",
    "import torch.optim as optim\n",
    "import torch.nn as nn\n",
    "import torch.nn.functional as F\n",
    "from torchvision import datasets, transforms\n",
    "from torch.utils.data import DataLoader"
   ]
  },
  {
   "cell_type": "code",
   "execution_count": null,
   "metadata": {
    "colab": {
     "base_uri": "https://localhost:8080/"
    },
    "id": "N5bJxvXcXBel",
    "outputId": "099677a7-d420-4d24-f23d-dd5c92a151a7"
   },
   "outputs": [
    {
     "name": "stdout",
     "output_type": "stream",
     "text": [
      "Using device:  cuda\n"
     ]
    }
   ],
   "source": [
    "device = torch.device('cuda' if torch.cuda.is_available()  else 'cpu')\n",
    "print('Using device: ', device)"
   ]
  },
  {
   "cell_type": "code",
   "execution_count": null,
   "metadata": {
    "colab": {
     "base_uri": "https://localhost:8080/"
    },
    "id": "7C_atgl_XBXj",
    "outputId": "225b1682-addd-4210-b80a-12aa33f495ed"
   },
   "outputs": [
    {
     "name": "stdout",
     "output_type": "stream",
     "text": [
      "name, driver_version, memory.total [MiB]\n",
      "Tesla T4, 418.67, 15079 MiB\n"
     ]
    }
   ],
   "source": [
    "!nvidia-smi --query-gpu=gpu_name,driver_version,memory.total --format=csv"
   ]
  },
  {
   "cell_type": "code",
   "execution_count": null,
   "metadata": {
    "id": "Xt-6kb7paFr6"
   },
   "outputs": [],
   "source": [
    "# !unzip DogSet.zip"
   ]
  },
  {
   "cell_type": "code",
   "execution_count": null,
   "metadata": {
    "id": "zZKIQb3-XBQo"
   },
   "outputs": [],
   "source": [
    "base_folder = '../data'\n",
    "sub_folder = 'DogSet'\n",
    "dataset_name = 'dogs.csv'\n",
    "data_path = os.path.join(base_folder, sub_folder, dataset_name)"
   ]
  },
  {
   "cell_type": "code",
   "execution_count": null,
   "metadata": {
    "colab": {
     "base_uri": "https://localhost:8080/"
    },
    "id": "pqcId-3iXBJW",
    "outputId": "8a4a0b4a-b64e-41a9-d776-0a62245c8569"
   },
   "outputs": [
    {
     "name": "stdout",
     "output_type": "stream",
     "text": [
      "loading train...\n",
      "loading valid...\n",
      "loading test...\n"
     ]
    }
   ],
   "source": [
    "dogs_dataset = DogsDataset(os.path.join(sub_folder))"
   ]
  },
  {
   "cell_type": "code",
   "execution_count": null,
   "metadata": {
    "colab": {
     "base_uri": "https://localhost:8080/"
    },
    "id": "TQcVAazkXOgE",
    "outputId": "4538611f-4400-4dcb-b403-d96f48aa39cf"
   },
   "outputs": [
    {
     "name": "stdout",
     "output_type": "stream",
     "text": [
      "(7665, 64, 64, 3)\n",
      "(7665,)\n"
     ]
    }
   ],
   "source": [
    "train_dogs_features, train_dogs_targets = dogs_dataset.get_train_examples()\n",
    "print(train_dogs_features.shape) # `[num_examples, height, width, n_channels]`)\n",
    "print(train_dogs_targets.shape)"
   ]
  },
  {
   "cell_type": "code",
   "execution_count": null,
   "metadata": {
    "colab": {
     "base_uri": "https://localhost:8080/"
    },
    "id": "9buP76FZXOdV",
    "outputId": "8a9041ba-542e-48eb-b2f2-730b62843d0f"
   },
   "outputs": [
    {
     "data": {
      "text/plain": [
       "(2000, 64, 64, 3)"
      ]
     },
     "execution_count": 56,
     "metadata": {
      "tags": []
     },
     "output_type": "execute_result"
    }
   ],
   "source": [
    "valid_dogs_features, valid_dogs_targets = dogs_dataset.get_validation_examples()\n",
    "valid_dogs_features.shape # `[num_examples, height, width, n_channels]`"
   ]
  },
  {
   "cell_type": "code",
   "execution_count": null,
   "metadata": {
    "colab": {
     "base_uri": "https://localhost:8080/"
    },
    "id": "nQDgACumXOaj",
    "outputId": "9ec8db02-a2dc-4390-b269-026f627c14eb"
   },
   "outputs": [
    {
     "data": {
      "text/plain": [
       "(555, 64, 64, 3)"
      ]
     },
     "execution_count": 57,
     "metadata": {
      "tags": []
     },
     "output_type": "execute_result"
    }
   ],
   "source": [
    "test_dogs_features, test_dogs_targets = dogs_dataset.get_test_examples()\n",
    "test_dogs_features.shape # `[num_examples, height, width, n_channels"
   ]
  },
  {
   "cell_type": "code",
   "execution_count": null,
   "metadata": {
    "id": "1xyQFOwkXOX0"
   },
   "outputs": [],
   "source": [
    "# Converting to datasets\n",
    "train_dog_set = MyDataset(train_dogs_features, train_dogs_targets)\n",
    "valid_dog_set = MyDataset(valid_dogs_features, valid_dogs_targets)\n",
    "test_dog_set = MyDataset(test_dogs_features, test_dogs_targets)"
   ]
  },
  {
   "cell_type": "code",
   "execution_count": null,
   "metadata": {
    "id": "Eo-OJW4zXOVR"
   },
   "outputs": [],
   "source": [
    "# Converting to dataloaders\n",
    "\n",
    "train_dogs_loader = torch.utils.data.DataLoader(train_dog_set\n",
    "                                                , batch_size=10\n",
    "                                                , shuffle=True # I think for the test dataset I don't need shuffle=True\n",
    "                                                , num_workers=2) \n",
    "\n",
    "valid_dogs_loader = torch.utils.data.DataLoader(valid_dog_set\n",
    "                                                , batch_size=10\n",
    "                                                , shuffle=True # I think for the test dataset I don't need shuffle=True\n",
    "                                                , num_workers=2) \n",
    "\n",
    "test_dogs_loader = torch.utils.data.DataLoader(test_dog_set\n",
    "                                                , batch_size=10\n",
    "                                                , shuffle=True # I think for the test dataset I don't need shuffle=True\n",
    "                                                , num_workers=2) "
   ]
  },
  {
   "cell_type": "code",
   "execution_count": null,
   "metadata": {
    "id": "As2yNZl9XOSf"
   },
   "outputs": [],
   "source": [
    "class Dog_Classifier_Conv(nn.Module):\n",
    "    \"\"\"\n",
    "    This is the class that creates a convolutional neural network for classifying dog breeds\n",
    "    from the DogSet dataset.\n",
    "\n",
    "    Inputs:\n",
    "    kernel_size: list of length 2 containing kernel sizes for the two convolutional layers\n",
    "                 e.g., kernel_size = [(3,3), (3,3)]\n",
    "    stride: list of length 2 containing strides for the two convolutional layers\n",
    "            e.g., stride = [(1,1), (1,1)]\n",
    "\n",
    "    \"\"\"\n",
    "\n",
    "    def __init__(self, kernel_size, stride):\n",
    "        super(Dog_Classifier_Conv, self).__init__()\n",
    "        self.conv1 = nn.Conv2d(3, 16, kernel_size[0], stride[0]) # First Convolutional layer - should have 3 input channels, because DogSet images are RGB\n",
    "        self.pool = nn.MaxPool2d(2, 2) # Maxpooling\n",
    "        self.conv2 = nn.Conv2d(16, 32, kernel_size[1], stride[1]) # 2nd Conv. layer - should have 16 input layers, because that's\n",
    "        self.pool = nn.MaxPool2d(2, 2) # Maxpooling\n",
    "\n",
    "        # (I-K)/S + 1 => Size of channel after going through convolution with kernel size K, stride S, input is I\n",
    "        # The formula is actually the same for a Maxpool when there is no padding or dilation i.e. with defaults\n",
    "\n",
    "        size_first_conv = np.floor((64-kernel_size[0][0])/stride[0][0]+1) # Assuming square kernels & strides; images in DogSet are 64x64\n",
    "        size_first_pool = np.floor((size_first_conv-2)/2+1)\n",
    "        size_second_conv = np.floor((size_first_pool-kernel_size[1][0])/stride[1][0]+1)\n",
    "        size_second_pool = np.floor((size_second_conv-2)/2+1)\n",
    "        input_for_final_layer = 32 * size_second_pool * size_second_pool # 32 for the number of channels from last conv. layer\n",
    "\n",
    "        self.fc3 = nn.Linear(int(input_for_final_layer), 10)\n",
    "\n",
    "\n",
    "    def forward(self, inputs):\n",
    "        # Note that the ordering of dimensions in the input may not be what you\n",
    "        # need for the convolutional layers.  The permute() function can help.\n",
    "        x = self.pool(F.relu(self.conv1(inputs.permute(0,3,1,2)))) # Conv. Layer expects input in shape [N, C, H, W], but default is [N, H, W, C]\n",
    "        x = self.pool(F.relu(self.conv2(x)))\n",
    "        x = x.reshape(-1, self.num_flat_features(x)) # Flattens # IMPORTANT: Had to replace .view with .reshape, because otherwise it would break when moving to CUDA\n",
    "        x = self.fc3(x)\n",
    "        return x\n",
    "\n",
    "    def num_flat_features(self, x):\n",
    "        size = x.size()[1:]  # all dimensions except the batch dimension\n",
    "        num_features = 1\n",
    "        for s in size:\n",
    "            num_features *= s\n",
    "        return num_features"
   ]
  },
  {
   "cell_type": "code",
   "execution_count": null,
   "metadata": {
    "id": "Nn6MI1rMXOPm"
   },
   "outputs": [],
   "source": [
    "def run_model(model,running_mode='train', train_set=None, valid_set=None, test_set=None,\n",
    "    batch_size=1, learning_rate=0.01, n_epochs=1, stop_thr=1e-4, shuffle=True, device=torch.device('cuda')):\n",
    "    \"\"\"\n",
    "    This function either trains or evaluates a model.\n",
    "\n",
    "    training mode: the model is trained and evaluated on a validation set, if provided.\n",
    "                   If no validation set is provided, the training is performed for a fixed\n",
    "                   number of epochs.\n",
    "                   Otherwise, the model should be evaluted on the validation set\n",
    "                   at the end of each epoch and the training should be stopped based on one\n",
    "                   of these two conditions (whichever happens first):\n",
    "                   1. The validation loss stops improving.\n",
    "                   2. The maximum number of epochs is reached.\n",
    "\n",
    "    testing mode: the trained model is evaluated on the testing set\n",
    "\n",
    "    Inputs:\n",
    "\n",
    "    model: the neural network to be trained or evaluated\n",
    "    running_mode: string, 'train' or 'test'\n",
    "    train_set: the training dataset object generated using the class MyDataset\n",
    "    valid_set: the validation dataset object generated using the class MyDataset\n",
    "    test_set: the testing dataset object generated using the class MyDataset\n",
    "    batch_size: number of training samples fed to the model at each training step\n",
    "    learning_rate: determines the step size in moving towards a local minimum\n",
    "    n_epochs: maximum number of epoch for training the model\n",
    "    stop_thr: if the validation loss from one epoch to the next is less than this\n",
    "              value, stop training\n",
    "    shuffle: determines if the shuffle property of the DataLoader is on/off\n",
    "\n",
    "    Outputs when running_mode == 'train':\n",
    "\n",
    "    model: the trained model\n",
    "    loss: dictionary with keys 'train' and 'valid'\n",
    "          The value of each key is a list of loss values. Each loss value is the average\n",
    "          of training/validation loss over one epoch.\n",
    "          If the validation set is not provided just return an empty list.\n",
    "    acc: dictionary with keys 'train' and 'valid'\n",
    "         The value of each key is a list of accuracies (percentage of correctly classified\n",
    "         samples in the dataset). Each accuracy value is the average of training/validation\n",
    "         accuracies over one epoch.\n",
    "         If the validation set is not provided just return an empty list.\n",
    "\n",
    "    Outputs when running_mode == 'test':\n",
    "\n",
    "    loss: the average loss value over the testing set.\n",
    "    accuracy: percentage of correctly classified samples in the testing set.\n",
    "\n",
    "    Summary of the operations this function should perform:\n",
    "    1. Use the DataLoader class to generate training, validation, or test data loaders\n",
    "    2. In the training mode:\n",
    "       - define an optimizer (we use SGD in this homework)\n",
    "       - call the train function (see below) for a number of epochs untill a stopping\n",
    "         criterion is met\n",
    "       - call the test function (see below) with the validation data loader at each epoch\n",
    "         if the validation set is provided\n",
    "\n",
    "    3. In the testing mode:\n",
    "       - call the test function (see below) with the test data loader and return the results\n",
    "\n",
    "    \"\"\"\n",
    "\n",
    "    if running_mode == 'train':\n",
    "\n",
    "        # Variables to return\n",
    "        loss = {}\n",
    "        loss['train'] = []\n",
    "        loss['valid'] = []\n",
    "\n",
    "        accuracy = {}\n",
    "        accuracy['train'] = []\n",
    "        accuracy['valid'] = []\n",
    "\n",
    "        train_dataloader = torch.utils.data.DataLoader(train_set\n",
    "                                                        , batch_size=batch_size\n",
    "                                                        , shuffle=shuffle # I think for the test dataset I don't need shuffle=True\n",
    "                                                        , num_workers=2) \n",
    "\n",
    "        if valid_set:\n",
    "            valid_dataloader = torch.utils.data.DataLoader(valid_set\n",
    "                                                            , batch_size=batch_size\n",
    "                                                            , shuffle=shuffle # I think for the test dataset I don't need shuffle=True\n",
    "                                                            , num_workers=2) \n",
    "\n",
    "        # Solver necessary for training\n",
    "        solver = optim.SGD(params=model.parameters() ,lr=learning_rate)\n",
    "\n",
    "        # Training the given number of epochs\n",
    "        for epoch in range(n_epochs):\n",
    "            print(f\"STARTING EPOCH #{epoch}\")\n",
    "            model, epoch_train_loss, epoch_train_acc = _train(model, train_dataloader, solver, device)\n",
    "\n",
    "            loss['train'].append(epoch_train_loss)\n",
    "            accuracy['train'].append(epoch_train_acc)\n",
    "\n",
    "            # VALIDATION\n",
    "            if valid_set:\n",
    "\n",
    "                epoch_valid_loss, epoch_valid_acc = _test(model, valid_dataloader, device)\n",
    "\n",
    "                loss['valid'].append(epoch_valid_loss)\n",
    "                accuracy['valid'].append(epoch_valid_acc)\n",
    "\n",
    "                # BREAK CONDITION\n",
    "                if len(accuracy['valid']) > 1:\n",
    "                    new_valid_loss = loss['valid'][-1]\n",
    "                    old_valid_loss = loss['valid'][-2] # Taking -2, because the new_valid_loss has already been added\n",
    "\n",
    "                    if old_valid_loss - new_valid_loss < stop_thr:\n",
    "                        print(\"REACHED STOP CONDITION\")\n",
    "                        print(\"OLD_VALID_LOSS \", old_valid_loss)\n",
    "                        print(\"NEW_VALID_LOSS \", new_valid_loss)\n",
    "                        break \n",
    "\n",
    "        return model, loss, accuracy\n",
    "\n",
    "    ###################\n",
    "    #### TEST MODE ####\n",
    "    ###################\n",
    "\n",
    "    if running_mode == 'test':\n",
    "\n",
    "        loss = {}\n",
    "        accuracy = {}\n",
    "\n",
    "        test_dataloader = torch.utils.data.DataLoader(test_set\n",
    "                                                        , batch_size=batch_size\n",
    "                                                        , shuffle=shuffle # I think for the test dataset I don't need shuffle=True\n",
    "                                                        , num_workers=2) \n",
    "\n",
    "        loss, accuracy = _test(model, test_dataloader, device)\n",
    "\n",
    "        return loss, accuracy\n",
    "\n",
    "\n",
    "def _train(model,data_loader,optimizer,device=torch.device('cuda')):\n",
    "\n",
    "    \"\"\"\n",
    "    This function implements ONE EPOCH of training a neural network on a given dataset.\n",
    "    Example: training the Digit_Classifier on the MNIST dataset\n",
    "    Use nn.CrossEntropyLoss() for the loss function\n",
    "\n",
    "\n",
    "    Inputs:\n",
    "    model: the neural network to be trained\n",
    "    data_loader: for loading the netowrk input and targets from the training dataset\n",
    "    optimizer: the optimiztion method, e.g., SGD\n",
    "    device: we run everything on CPU in this homework\n",
    "\n",
    "    Outputs:\n",
    "    model: the trained model\n",
    "    train_loss: average loss value on the entire training dataset\n",
    "    train_accuracy: average accuracy on the entire training dataset\n",
    "    \"\"\"\n",
    "    minibatches = len(data_loader)\n",
    "\n",
    "    epoch_train_loss = 0.0\n",
    "    correct = 0\n",
    "    total = 0 \n",
    "    model.to(device) \n",
    "\n",
    "    for batch, labels in data_loader: # Per this doc, (batch,labels) = trainloader.__getitem__(); https://pytorch.org/docs/stable/torchvision/datasets.html#cifar\n",
    "\n",
    "        # moving batch/labels onto the gpu/cpu\n",
    "        batch, labels = batch.to(device), labels.to(device)\n",
    "        \n",
    "        # zeroing the parameters of the model \n",
    "        # because we want to optimize them\n",
    "        optimizer.zero_grad()\n",
    "        \n",
    "        # forward pass\n",
    "        # getting the predictions from our model by passing in a mini-batch\n",
    "        # the ouput will have shape (mini-batch-size, number-of-classes)\n",
    "        # where each element of output is the probabliity of that example being\n",
    "        # the classification correspoding to the index of the value\n",
    "        output = model(batch.float()) # <---- Added .float() as a modification to avoid Runtime error per this post: https://stackoverflow.com/questions/56741087/how-to-fix-runtimeerror-expected-object-of-scalar-type-float-but-got-scalar-typ\n",
    "        \n",
    "        # Calculating loss\n",
    "        loss_function = nn.CrossEntropyLoss()\n",
    "        loss = loss_function(output, labels.long()) # <---- Added .long() per a CampusWire discussion in post #2505\n",
    "        \n",
    "        # Calculating accuracy\n",
    "        predicted = torch.max(output.data, 1)[1]\n",
    "        total += labels.size(0)\n",
    "        correct += (predicted == labels).sum().item()\n",
    "\n",
    "        # backward pass\n",
    "        loss.backward()\n",
    "        \n",
    "        # optimize the parameters\n",
    "        optimizer.step()\n",
    "        \n",
    "        # add the loss of a mini-batch to the list of epoch loss\n",
    "        epoch_train_loss += loss.item()\n",
    "\n",
    "    # TRAINING METRICS\n",
    "    train_loss = epoch_train_loss/minibatches\n",
    "    train_accuracy = 100 * correct / total\n",
    "\n",
    "    return model, train_loss, train_accuracy\n",
    "\n",
    "\n",
    "def _test(model, data_loader, device=torch.device('cuda')):\n",
    "    \"\"\"\n",
    "    This function evaluates a trained neural network on a validation set\n",
    "    or a testing set.\n",
    "    Use nn.CrossEntropyLoss() for the loss function\n",
    "\n",
    "    Inputs:\n",
    "    model: trained neural network\n",
    "    data_loader: for loading the netowrk input and targets from the validation or testing dataset\n",
    "    device: we run everything on CPU in this homework\n",
    "\n",
    "    Output:\n",
    "    test_loss: average loss value on the entire validation or testing dataset\n",
    "    test_accuracy: percentage of correctly classified samples in the validation or testing dataset\n",
    "    \"\"\"\n",
    "    correct = 0\n",
    "    total = 0\n",
    "    model = model.to(device)\n",
    "\n",
    "    loss_function = nn.CrossEntropyLoss()\n",
    "    minibatches = len(data_loader)\n",
    "    epoch_loss = 0.0\n",
    "    # since we're testing the model we don't need to perform backprop\n",
    "    with torch.no_grad(): # Disables gradient calculation to save memory; we're sure we won't be using Tensor.backward()\n",
    "        for batch, labels in data_loader:\n",
    "            \n",
    "            batch, labels = batch, labels # So we don't modify original dataset?\n",
    "            # moving batch/labels onto the gpu/cpu\n",
    "            batch, labels = batch.to(device), labels.to(device)\n",
    "\n",
    "            output = model(batch.float()) # <---- Added .float() to solve for RuntimeError\n",
    "            # this gives us the index with the highest value outputed from the last layer\n",
    "            # which coressponds to the most probable label/classification for an image\n",
    "\n",
    "            loss = loss_function(output, labels.long())\n",
    "            epoch_loss += loss.item()\n",
    "\n",
    "            predicted = torch.max(output.data, 1)[1]\n",
    "            total += labels.size(0)\n",
    "            correct += (predicted == labels).sum().item()\n",
    "\n",
    "    test_accuracy = 100 * correct / total\n",
    "    test_loss = epoch_loss/minibatches\n",
    "    \n",
    "\n",
    "    return test_loss, test_accuracy\n",
    "\n"
   ]
  },
  {
   "cell_type": "code",
   "execution_count": null,
   "metadata": {
    "colab": {
     "base_uri": "https://localhost:8080/"
    },
    "id": "O4DCGI7qYbjG",
    "outputId": "cecba4e4-1f50-473e-b3df-e251a0423ab3"
   },
   "outputs": [
    {
     "name": "stdout",
     "output_type": "stream",
     "text": [
      "STARTING EPOCH #0\n",
      "STARTING EPOCH #1\n",
      "STARTING EPOCH #2\n",
      "STARTING EPOCH #3\n",
      "STARTING EPOCH #4\n",
      "STARTING EPOCH #5\n",
      "STARTING EPOCH #6\n",
      "STARTING EPOCH #7\n",
      "STARTING EPOCH #8\n",
      "STARTING EPOCH #9\n",
      "STARTING EPOCH #10\n",
      "STARTING EPOCH #11\n",
      "STARTING EPOCH #12\n",
      "STARTING EPOCH #13\n",
      "STARTING EPOCH #14\n",
      "STARTING EPOCH #15\n",
      "STARTING EPOCH #16\n",
      "STARTING EPOCH #17\n",
      "STARTING EPOCH #18\n",
      "STARTING EPOCH #19\n",
      "STARTING EPOCH #20\n",
      "STARTING EPOCH #21\n",
      "STARTING EPOCH #22\n",
      "STARTING EPOCH #23\n",
      "STARTING EPOCH #24\n",
      "STARTING EPOCH #25\n",
      "STARTING EPOCH #26\n",
      "STARTING EPOCH #27\n",
      "STARTING EPOCH #28\n",
      "STARTING EPOCH #29\n",
      "STARTING EPOCH #30\n",
      "STARTING EPOCH #31\n",
      "STARTING EPOCH #32\n",
      "STARTING EPOCH #33\n",
      "STARTING EPOCH #34\n",
      "STARTING EPOCH #35\n",
      "STARTING EPOCH #36\n",
      "STARTING EPOCH #37\n",
      "STARTING EPOCH #38\n",
      "STARTING EPOCH #39\n",
      "STARTING EPOCH #40\n",
      "STARTING EPOCH #41\n",
      "STARTING EPOCH #42\n",
      "STARTING EPOCH #43\n",
      "STARTING EPOCH #44\n",
      "STARTING EPOCH #45\n",
      "STARTING EPOCH #46\n",
      "STARTING EPOCH #47\n",
      "STARTING EPOCH #48\n",
      "STARTING EPOCH #49\n",
      "STARTING EPOCH #50\n",
      "STARTING EPOCH #51\n",
      "STARTING EPOCH #52\n",
      "STARTING EPOCH #53\n",
      "STARTING EPOCH #54\n",
      "STARTING EPOCH #55\n",
      "STARTING EPOCH #56\n",
      "STARTING EPOCH #57\n",
      "STARTING EPOCH #58\n",
      "REACHED STOP CONDITION\n",
      "OLD_VALID_LOSS  2.0514441788196565\n",
      "NEW_VALID_LOSS  2.0519702529907224\n"
     ]
    }
   ],
   "source": [
    "# %%timeit -n1 -r1\n",
    "\n",
    "model = Dog_Classifier_Conv(kernel_size = [(3,3), (3,3)]\n",
    "                            , stride = [(1,1), (1,1)])\n",
    "\n",
    "trained_model, loss, accuracy = run_model(model\n",
    "                                          , running_mode='train'\n",
    "                                          , train_set = train_dog_set\n",
    "                                          , valid_set = valid_dog_set\n",
    "                                          , batch_size = 20\n",
    "                                          , learning_rate = 1e-4\n",
    "                                          , n_epochs = 100\n",
    "                                          , stop_thr = 1e-4\n",
    "                                          , shuffle = True\n",
    "                                          , device = device)"
   ]
  },
  {
   "cell_type": "code",
   "execution_count": null,
   "metadata": {
    "colab": {
     "base_uri": "https://localhost:8080/",
     "height": 692
    },
    "id": "i0XOkpX_XOMs",
    "outputId": "7116d171-33f3-4bf3-aacc-0968e03b7ad3"
   },
   "outputs": [
    {
     "data": {
      "text/plain": [
       "<matplotlib.legend.Legend at 0x7f2d1c58bc50>"
      ]
     },
     "execution_count": 115,
     "metadata": {
      "tags": []
     },
     "output_type": "execute_result"
    },
    {
     "data": {
      "image/png": "[encoded data removed]",
      "text/plain": [
       "<Figure size 1440x720 with 1 Axes>"
      ]
     },
     "metadata": {
      "tags": []
     },
     "output_type": "display_data"
    }
   ],
   "source": [
    "plt.figure(figsize=(20,10))\n",
    "n_epochs = 59\n",
    "plt.plot(range(n_epochs), loss['train'], label='Training')\n",
    "plt.plot(range(n_epochs), loss['valid'], label='Validation')\n",
    "\n",
    "plt.title('Training and Validation Loss')\n",
    "plt.ylabel(\"Loss\")\n",
    "plt.xlabel('Epoch')\n",
    "plt.legend()"
   ]
  },
  {
   "cell_type": "code",
   "execution_count": null,
   "metadata": {
    "colab": {
     "base_uri": "https://localhost:8080/",
     "height": 692
    },
    "id": "Lif2MCwAXOJr",
    "outputId": "7a6c334c-7685-413f-f48d-375bd8195b39"
   },
   "outputs": [
    {
     "data": {
      "text/plain": [
       "<matplotlib.legend.Legend at 0x7f2d5a5284a8>"
      ]
     },
     "execution_count": 111,
     "metadata": {
      "tags": []
     },
     "output_type": "execute_result"
    },
    {
     "data": {
      "image/png": "[encoded data removed]",
      "text/plain": [
       "<Figure size 1440x720 with 1 Axes>"
      ]
     },
     "metadata": {
      "tags": []
     },
     "output_type": "display_data"
    }
   ],
   "source": [
    "plt.figure(figsize=(20,10))\n",
    "plt.plot(range(n_epochs), accuracy['train'], label='Training')\n",
    "plt.plot(range(n_epochs), accuracy['valid'], label='Validation')\n",
    "\n",
    "plt.title('Training and Validation Accuracy')\n",
    "plt.ylabel(\"Accuracy\")\n",
    "plt.xlabel('Epoch')\n",
    "plt.legend()"
   ]
  },
  {
   "cell_type": "code",
   "execution_count": null,
   "metadata": {
    "id": "C5b8YbrKXOGn"
   },
   "outputs": [],
   "source": [
    "test_loss, test_accuracy = run_model(model\n",
    "                                      , running_mode='test'\n",
    "                                      , test_set = test_dog_set\n",
    "                                      , batch_size = 10\n",
    "                                      , shuffle = True)"
   ]
  },
  {
   "cell_type": "code",
   "execution_count": null,
   "metadata": {
    "colab": {
     "base_uri": "https://localhost:8080/"
    },
    "id": "of3pEFWjXOBp",
    "outputId": "faf5b815-af8c-4f78-87fd-583799641b2b"
   },
   "outputs": [
    {
     "data": {
      "text/plain": [
       "2.066626780799457"
      ]
     },
     "execution_count": 113,
     "metadata": {
      "tags": []
     },
     "output_type": "execute_result"
    }
   ],
   "source": [
    "test_loss"
   ]
  },
  {
   "cell_type": "code",
   "execution_count": null,
   "metadata": {
    "colab": {
     "base_uri": "https://localhost:8080/"
    },
    "id": "GUOc63sIj84w",
    "outputId": "7ba2871a-3966-4a91-a708-c4955e8e94a0"
   },
   "outputs": [
    {
     "data": {
      "text/plain": [
       "26.306306306306308"
      ]
     },
     "execution_count": 114,
     "metadata": {
      "tags": []
     },
     "output_type": "execute_result"
    }
   ],
   "source": [
    "test_accuracy"
   ]
  },
  {
   "cell_type": "markdown",
   "metadata": {
    "id": "KqrrDNJE51qa"
   },
   "source": [
    "# Synth Data"
   ]
  },
  {
   "cell_type": "code",
   "execution_count": null,
   "metadata": {
    "id": "6SeHzWDh-grW"
   },
   "outputs": [],
   "source": [
    "def load_synth_data(dataset_name):\n",
    "    \"\"\"\n",
    "    This function loads the synthesized data provided in a picke file\n",
    "    \"\"\"\n",
    "\n",
    "    data_path = os.path.join(dataset_name)\n",
    "\n",
    "    with open(data_path, 'rb') as handle:\n",
    "        data = pickle.load(handle)\n",
    "\n",
    "    trainX = data['trainX']\n",
    "    trainY = data['trainY']\n",
    "\n",
    "    return trainX, trainY"
   ]
  },
  {
   "cell_type": "code",
   "execution_count": null,
   "metadata": {
    "id": "VqzygzXQj813"
   },
   "outputs": [],
   "source": [
    "class Synth_Classifier(nn.Module):\n",
    "    \"\"\"\n",
    "    This is the class that creates a convolutional neural network for classifying\n",
    "    synthesized images.\n",
    "\n",
    "    Inputs:\n",
    "    kernel_size: list of length 3 containing kernel sizes for the three convolutional layers\n",
    "                 e.g., kernel_size = [(5,5), (3,3),(3,3)]\n",
    "    stride: list of length 3 containing strides for the three convolutional layers\n",
    "            e.g., stride = [(1,1), (1,1),(1,1)]\n",
    "\n",
    "    \"\"\"\n",
    "\n",
    "    def __init__(self, kernel_size, stride):\n",
    "        super(Synth_Classifier, self).__init__()\n",
    "        self.conv1 = nn.Conv2d(1, 2, kernel_size[0], stride[0]) \n",
    "        self.pool = nn.MaxPool2d(2, 2) # Maxpooling\n",
    "        self.conv2 = nn.Conv2d(2, 4, kernel_size[1], stride[1]) # 2nd Conv. layer - should have 16 input layers, because that's\n",
    "        self.pool = nn.MaxPool2d(2, 2) # Maxpooling\n",
    "        self.conv3 = nn.Conv2d(4, 8, kernel_size[2], stride[2]) # 2nd Conv. layer - should have 16 input layers, because that's\n",
    "        self.pool = nn.MaxPool2d(2, 2) # Maxpooling\n",
    "\n",
    "        size_first_conv = np.floor((28-kernel_size[0][0])/stride[0][0]+1) # Assuming square kernels & strides; images in SynthData are 28x28, single channel\n",
    "        size_first_pool = np.floor((size_first_conv-2)/2+1)\n",
    "        size_second_conv = np.floor((size_first_pool-kernel_size[1][0])/stride[1][0]+1)\n",
    "        size_second_pool = np.floor((size_second_conv-2)/2+1)\n",
    "        size_third_conv = np.floor((size_second_pool-kernel_size[2][0])/stride[2][0]+1)\n",
    "        size_third_pool = np.floor((size_third_conv-2)/2+1)\n",
    "\n",
    "        input_for_final_layer = 8 * size_third_pool * size_third_pool # 8 for the number of channels from last conv. layer\n",
    "        self.fc4 = nn.Linear(int(input_for_final_layer), 2)\n",
    "\n",
    "    def forward(self, inputs):\n",
    "        # Note that the ordering of dimensions in the input may not be what you\n",
    "        # need for the convolutional layers.  The permute() function can help.\n",
    "        x = inputs.unsqueeze(1) # Adding a single dummy dimension to represent the 1 channel\n",
    "        x = self.pool(F.relu(self.conv1(x))) # No need for .permute here, so comment to the right is irrelevant --> # Conv. Layer expects input in shape [N, C, H, W], but default is [N, H, W, C]\n",
    "        x = self.pool(F.relu(self.conv2(x)))\n",
    "        x = self.pool(F.relu(self.conv3(x)))\n",
    "        x = x.view(-1, self.num_flat_features(x)) # Flattens\n",
    "        x = self.fc4(x)\n",
    "        return x\n",
    "\n",
    "    def num_flat_features(self, x):\n",
    "        size = x.size()[1:]  # all dimensions except the batch dimension\n",
    "        num_features = 1\n",
    "        for s in size:\n",
    "            num_features *= s\n",
    "        return num_features\n",
    "\n"
   ]
  },
  {
   "cell_type": "code",
   "execution_count": null,
   "metadata": {
    "id": "FCqh9tKP-rXC"
   },
   "outputs": [],
   "source": [
    "X, y = load_synth_data(\"synth_data\")"
   ]
  },
  {
   "cell_type": "code",
   "execution_count": null,
   "metadata": {
    "colab": {
     "base_uri": "https://localhost:8080/"
    },
    "id": "D5tGcuj0-zc7",
    "outputId": "f672c582-7b6a-4ba5-ff19-d79ab72e3f2e"
   },
   "outputs": [
    {
     "data": {
      "text/plain": [
       "(28, 28)"
      ]
     },
     "execution_count": 136,
     "metadata": {
      "tags": []
     },
     "output_type": "execute_result"
    }
   ],
   "source": [
    "X[0].shape"
   ]
  },
  {
   "cell_type": "code",
   "execution_count": null,
   "metadata": {
    "id": "rGE5NGnS_TBm"
   },
   "outputs": [],
   "source": [
    "train_synth_set = MyDataset(X, y)"
   ]
  },
  {
   "cell_type": "code",
   "execution_count": null,
   "metadata": {
    "colab": {
     "base_uri": "https://localhost:8080/"
    },
    "id": "4gEQP9DPj8zN",
    "outputId": "cf9264d2-a0e8-46f3-ad97-207b977afc64"
   },
   "outputs": [
    {
     "name": "stdout",
     "output_type": "stream",
     "text": [
      "STARTING EPOCH #0\n",
      "STARTING EPOCH #1\n",
      "STARTING EPOCH #2\n",
      "STARTING EPOCH #3\n",
      "STARTING EPOCH #4\n",
      "STARTING EPOCH #5\n",
      "STARTING EPOCH #6\n",
      "STARTING EPOCH #7\n",
      "STARTING EPOCH #8\n",
      "STARTING EPOCH #9\n",
      "STARTING EPOCH #10\n",
      "STARTING EPOCH #11\n",
      "STARTING EPOCH #12\n",
      "STARTING EPOCH #13\n",
      "STARTING EPOCH #14\n",
      "STARTING EPOCH #15\n",
      "STARTING EPOCH #16\n",
      "STARTING EPOCH #17\n",
      "STARTING EPOCH #18\n",
      "STARTING EPOCH #19\n",
      "STARTING EPOCH #20\n",
      "STARTING EPOCH #21\n",
      "STARTING EPOCH #22\n",
      "STARTING EPOCH #23\n",
      "STARTING EPOCH #24\n",
      "STARTING EPOCH #25\n",
      "STARTING EPOCH #26\n",
      "STARTING EPOCH #27\n",
      "STARTING EPOCH #28\n",
      "STARTING EPOCH #29\n",
      "STARTING EPOCH #30\n",
      "STARTING EPOCH #31\n",
      "STARTING EPOCH #32\n",
      "STARTING EPOCH #33\n",
      "STARTING EPOCH #34\n",
      "STARTING EPOCH #35\n",
      "STARTING EPOCH #36\n",
      "STARTING EPOCH #37\n",
      "STARTING EPOCH #38\n",
      "STARTING EPOCH #39\n",
      "STARTING EPOCH #40\n",
      "STARTING EPOCH #41\n",
      "STARTING EPOCH #42\n",
      "STARTING EPOCH #43\n",
      "STARTING EPOCH #44\n",
      "STARTING EPOCH #45\n",
      "STARTING EPOCH #46\n",
      "STARTING EPOCH #47\n",
      "STARTING EPOCH #48\n",
      "STARTING EPOCH #49\n"
     ]
    }
   ],
   "source": [
    "model = Synth_Classifier(kernel_size = [(5,5), (3,3), (3,3)]\n",
    "                            , stride = [(1,1), (1,1), (1,1)])\n",
    "\n",
    "trained_model, loss, accuracy = run_model(model\n",
    "                                          , running_mode='train'\n",
    "                                          , train_set = train_synth_set\n",
    "                                          , batch_size = 50\n",
    "                                          , learning_rate = 1e-4\n",
    "                                          , n_epochs = 50\n",
    "                                          , shuffle = True\n",
    "                                          , device = device)"
   ]
  },
  {
   "cell_type": "code",
   "execution_count": null,
   "metadata": {
    "colab": {
     "base_uri": "https://localhost:8080/"
    },
    "id": "Y-s9x7Npj8wf",
    "outputId": "5a12e38b-ce37-42ec-e393-95eef460b8c0"
   },
   "outputs": [
    {
     "data": {
      "text/plain": [
       "Parameter containing:\n",
       "tensor([[[[ 0.0575,  0.0426,  0.0457, -0.0126,  0.0260],\n",
       "          [-0.1576, -0.1033, -0.1909,  0.1288, -0.1639],\n",
       "          [-0.0763,  0.0567,  0.1546, -0.1765, -0.1649],\n",
       "          [-0.0063, -0.0618,  0.0364,  0.0053,  0.0206],\n",
       "          [ 0.1919,  0.0772, -0.0702,  0.0178, -0.0569]]],\n",
       "\n",
       "\n",
       "        [[[ 0.1996, -0.1399, -0.0903, -0.0046, -0.0782],\n",
       "          [ 0.1776,  0.1558,  0.0419, -0.0778, -0.0463],\n",
       "          [ 0.1394, -0.1060, -0.1861, -0.0688,  0.1493],\n",
       "          [ 0.0629,  0.1076,  0.0698,  0.0815,  0.0559],\n",
       "          [-0.1324,  0.1524,  0.1262,  0.1843, -0.0532]]]], device='cuda:0',\n",
       "       requires_grad=True)"
      ]
     },
     "execution_count": 178,
     "metadata": {
      "tags": []
     },
     "output_type": "execute_result"
    }
   ],
   "source": [
    "# We have TWO, 5x5 kernels\n",
    "trained_model.conv1.weight"
   ]
  },
  {
   "cell_type": "code",
   "execution_count": null,
   "metadata": {
    "colab": {
     "base_uri": "https://localhost:8080/"
    },
    "id": "27Ok2KV6CaFC",
    "outputId": "7bbb9971-259d-4bb0-852e-f4f2f9b158cd"
   },
   "outputs": [
    {
     "name": "stdout",
     "output_type": "stream",
     "text": [
      "torch.Size([2, 1, 5, 5])\n"
     ]
    }
   ],
   "source": [
    "print(trained_model.conv1.weight.shape)"
   ]
  },
  {
   "cell_type": "code",
   "execution_count": null,
   "metadata": {
    "colab": {
     "base_uri": "https://localhost:8080/",
     "height": 299
    },
    "id": "OiFhAO-AD7g2",
    "outputId": "99f04284-dcec-4ca9-95a1-bb8d4df51c48"
   },
   "outputs": [
    {
     "data": {
      "text/plain": [
       "<matplotlib.image.AxesImage at 0x7f2d1c072160>"
      ]
     },
     "execution_count": 180,
     "metadata": {
      "tags": []
     },
     "output_type": "execute_result"
    },
    {
     "data": {
      "image/png": "[encoded data removed]",
      "text/plain": [
       "<Figure size 432x288 with 1 Axes>"
      ]
     },
     "metadata": {
      "tags": []
     },
     "output_type": "display_data"
    }
   ],
   "source": [
    "plt.imshow(trained_model.conv1.weight[0][0].cpu().detach().numpy(), cmap='gray')"
   ]
  },
  {
   "cell_type": "code",
   "execution_count": null,
   "metadata": {
    "colab": {
     "base_uri": "https://localhost:8080/",
     "height": 299
    },
    "id": "LaUEd6dND7XA",
    "outputId": "e482aacf-342e-4372-b1f5-18bd59e82bc9"
   },
   "outputs": [
    {
     "data": {
      "text/plain": [
       "<matplotlib.image.AxesImage at 0x7f2d17791518>"
      ]
     },
     "execution_count": 181,
     "metadata": {
      "tags": []
     },
     "output_type": "execute_result"
    },
    {
     "data": {
      "image/png": "[encoded data removed]",
      "text/plain": [
       "<Figure size 432x288 with 1 Axes>"
      ]
     },
     "metadata": {
      "tags": []
     },
     "output_type": "display_data"
    }
   ],
   "source": [
    "plt.imshow(trained_model.conv1.weight[1][0].cpu().detach().numpy(), cmap='gray')"
   ]
  },
  {
   "cell_type": "code",
   "execution_count": null,
   "metadata": {
    "colab": {
     "base_uri": "https://localhost:8080/"
    },
    "id": "5Ioy0Gayj8tf",
    "outputId": "5705df77-d97f-4852-d389-852cf89322fc"
   },
   "outputs": [
    {
     "data": {
      "text/plain": [
       "Parameter containing:\n",
       "tensor([[[[-0.2331,  0.1863,  0.0979],\n",
       "          [ 0.0942,  0.0024, -0.1573],\n",
       "          [-0.0235,  0.1051, -0.1944]],\n",
       "\n",
       "         [[ 0.1206, -0.2284,  0.1249],\n",
       "          [-0.2116,  0.1808, -0.0130],\n",
       "          [ 0.2189, -0.1128, -0.1338]]],\n",
       "\n",
       "\n",
       "        [[[-0.2150,  0.0452, -0.0063],\n",
       "          [ 0.0681,  0.0932, -0.1613],\n",
       "          [ 0.2064,  0.1731,  0.0140]],\n",
       "\n",
       "         [[-0.1788, -0.0473,  0.0166],\n",
       "          [ 0.0255, -0.1645, -0.0668],\n",
       "          [ 0.2088,  0.1077, -0.0271]]],\n",
       "\n",
       "\n",
       "        [[[ 0.2198, -0.0558, -0.1410],\n",
       "          [-0.0046,  0.1520, -0.0277],\n",
       "          [ 0.1358,  0.1363,  0.0330]],\n",
       "\n",
       "         [[ 0.0740,  0.0338,  0.0794],\n",
       "          [ 0.0874, -0.0839, -0.1510],\n",
       "          [-0.0642,  0.1864,  0.1860]]],\n",
       "\n",
       "\n",
       "        [[[ 0.1836, -0.0743, -0.0745],\n",
       "          [ 0.1793, -0.1143, -0.1051],\n",
       "          [ 0.0263, -0.0215,  0.2001]],\n",
       "\n",
       "         [[-0.0709, -0.2077, -0.0112],\n",
       "          [-0.1794, -0.1724,  0.0058],\n",
       "          [-0.1392, -0.2086, -0.0988]]]], device='cuda:0', requires_grad=True)"
      ]
     },
     "execution_count": 174,
     "metadata": {
      "tags": []
     },
     "output_type": "execute_result"
    }
   ],
   "source": [
    "# We have FOUR, 3x3 filters, for each of the TWO INPUT channels\n",
    "trained_model.conv2.weight"
   ]
  },
  {
   "cell_type": "code",
   "execution_count": null,
   "metadata": {
    "colab": {
     "base_uri": "https://localhost:8080/"
    },
    "id": "O-i4q9KxCmNq",
    "outputId": "71a50333-0ca2-4393-967a-b8fa7738c4ce"
   },
   "outputs": [
    {
     "name": "stdout",
     "output_type": "stream",
     "text": [
      "torch.Size([4, 2, 3, 3])\n"
     ]
    }
   ],
   "source": [
    "print(trained_model.conv2.weight.shape)"
   ]
  },
  {
   "cell_type": "code",
   "execution_count": null,
   "metadata": {
    "colab": {
     "base_uri": "https://localhost:8080/"
    },
    "id": "vaDL7ttHj8p5",
    "outputId": "22546148-81d7-424e-81dc-2e8e4283feb1"
   },
   "outputs": [
    {
     "data": {
      "text/plain": [
       "Parameter containing:\n",
       "tensor([[[[ 0.1148,  0.0122,  0.1599],\n",
       "          [-0.0527,  0.0962, -0.0003],\n",
       "          [-0.1663, -0.0989,  0.1483]],\n",
       "\n",
       "         [[-0.1487,  0.1140,  0.1479],\n",
       "          [-0.0130,  0.0496,  0.1101],\n",
       "          [ 0.0705,  0.0428,  0.1543]],\n",
       "\n",
       "         [[ 0.0111,  0.1097, -0.1280],\n",
       "          [-0.0911, -0.0470,  0.0145],\n",
       "          [-0.0611,  0.0744,  0.1523]],\n",
       "\n",
       "         [[-0.1383, -0.0483,  0.0573],\n",
       "          [-0.0423,  0.0005,  0.0886],\n",
       "          [ 0.0058, -0.0522,  0.0583]]],\n",
       "\n",
       "\n",
       "        [[[ 0.0924,  0.0626,  0.0321],\n",
       "          [-0.1556, -0.1052, -0.0971],\n",
       "          [ 0.1352,  0.1505, -0.1048]],\n",
       "\n",
       "         [[ 0.1073, -0.0950,  0.1184],\n",
       "          [ 0.0735, -0.0807, -0.1105],\n",
       "          [ 0.1317,  0.1545,  0.0838]],\n",
       "\n",
       "         [[-0.0638, -0.0622, -0.0872],\n",
       "          [-0.0993,  0.0337, -0.1390],\n",
       "          [-0.0540, -0.0146, -0.1522]],\n",
       "\n",
       "         [[ 0.0987,  0.0734,  0.1400],\n",
       "          [ 0.0157, -0.1643,  0.0816],\n",
       "          [ 0.1362, -0.0067, -0.0591]]],\n",
       "\n",
       "\n",
       "        [[[-0.0887,  0.1705,  0.1568],\n",
       "          [-0.0832, -0.0028,  0.0261],\n",
       "          [ 0.1450,  0.1592, -0.1000]],\n",
       "\n",
       "         [[-0.0502,  0.0967, -0.1049],\n",
       "          [ 0.1347,  0.0840,  0.1484],\n",
       "          [ 0.1367,  0.0352,  0.0032]],\n",
       "\n",
       "         [[-0.1580,  0.0521,  0.0856],\n",
       "          [-0.1688,  0.1205,  0.0372],\n",
       "          [ 0.1098, -0.0374,  0.1222]],\n",
       "\n",
       "         [[-0.0410,  0.1317, -0.1453],\n",
       "          [-0.1282,  0.1248, -0.0818],\n",
       "          [-0.0629,  0.1031,  0.1650]]],\n",
       "\n",
       "\n",
       "        [[[ 0.0937, -0.0176,  0.0260],\n",
       "          [-0.1444, -0.1302,  0.1117],\n",
       "          [ 0.1174, -0.0004,  0.1412]],\n",
       "\n",
       "         [[ 0.1431,  0.1010, -0.0113],\n",
       "          [ 0.1100,  0.0558,  0.0651],\n",
       "          [-0.1585,  0.0658,  0.1177]],\n",
       "\n",
       "         [[ 0.1306,  0.0188, -0.0027],\n",
       "          [-0.1425, -0.1238,  0.1530],\n",
       "          [-0.1528, -0.1513,  0.1397]],\n",
       "\n",
       "         [[-0.1283, -0.0481, -0.0831],\n",
       "          [-0.1655, -0.1479,  0.0794],\n",
       "          [ 0.1387, -0.0369,  0.0318]]],\n",
       "\n",
       "\n",
       "        [[[-0.1504,  0.0357,  0.0354],\n",
       "          [ 0.0177, -0.0710,  0.0442],\n",
       "          [-0.1051, -0.1694, -0.1368]],\n",
       "\n",
       "         [[-0.0714,  0.0477,  0.1273],\n",
       "          [ 0.1776, -0.0420,  0.0804],\n",
       "          [-0.1034,  0.0239,  0.0123]],\n",
       "\n",
       "         [[ 0.0671, -0.0343, -0.0865],\n",
       "          [-0.0559,  0.0871,  0.1345],\n",
       "          [ 0.1266,  0.0477,  0.0485]],\n",
       "\n",
       "         [[-0.0701,  0.1644, -0.1074],\n",
       "          [-0.0502,  0.1043,  0.0988],\n",
       "          [-0.0363, -0.0570, -0.1285]]],\n",
       "\n",
       "\n",
       "        [[[-0.1335,  0.1575,  0.1243],\n",
       "          [ 0.0314,  0.0486,  0.1275],\n",
       "          [ 0.0426, -0.1310,  0.1083]],\n",
       "\n",
       "         [[ 0.0453,  0.1547,  0.0644],\n",
       "          [-0.0901,  0.1036,  0.1084],\n",
       "          [ 0.1219, -0.1529,  0.0375]],\n",
       "\n",
       "         [[-0.1602,  0.1475, -0.0044],\n",
       "          [ 0.1358,  0.0162,  0.0891],\n",
       "          [ 0.0586,  0.1020, -0.0225]],\n",
       "\n",
       "         [[ 0.0288,  0.1367,  0.1309],\n",
       "          [ 0.0591, -0.1136,  0.1545],\n",
       "          [ 0.0532, -0.0651, -0.0893]]],\n",
       "\n",
       "\n",
       "        [[[-0.0110, -0.0538, -0.1685],\n",
       "          [-0.1095, -0.1103, -0.0583],\n",
       "          [ 0.0205, -0.0305, -0.1140]],\n",
       "\n",
       "         [[ 0.1595,  0.0194,  0.1531],\n",
       "          [ 0.1182, -0.0556, -0.0404],\n",
       "          [ 0.1236, -0.0663,  0.0370]],\n",
       "\n",
       "         [[ 0.1547,  0.0596,  0.0510],\n",
       "          [-0.0608, -0.0185, -0.1408],\n",
       "          [ 0.1450,  0.1440,  0.0953]],\n",
       "\n",
       "         [[-0.1124, -0.1496,  0.0829],\n",
       "          [-0.0236, -0.0936, -0.0788],\n",
       "          [ 0.1101, -0.1425, -0.1360]]],\n",
       "\n",
       "\n",
       "        [[[ 0.0295, -0.1475, -0.1022],\n",
       "          [-0.1513, -0.0860, -0.0842],\n",
       "          [ 0.0538, -0.0437,  0.0254]],\n",
       "\n",
       "         [[-0.1127, -0.1365,  0.1179],\n",
       "          [-0.1525,  0.1420,  0.0939],\n",
       "          [ 0.0439, -0.1262, -0.0643]],\n",
       "\n",
       "         [[-0.0429, -0.1448, -0.1562],\n",
       "          [-0.1636, -0.0786,  0.0507],\n",
       "          [-0.0055,  0.1362, -0.0695]],\n",
       "\n",
       "         [[ 0.1627, -0.0263, -0.1027],\n",
       "          [ 0.0322,  0.1482,  0.0854],\n",
       "          [-0.0797, -0.0685, -0.1650]]]], device='cuda:0', requires_grad=True)"
      ]
     },
     "execution_count": 176,
     "metadata": {
      "tags": []
     },
     "output_type": "execute_result"
    }
   ],
   "source": [
    "# We have EIGHT, 3x3 filters, for EACH of the FOUR input channels\n",
    "trained_model.conv3.weight"
   ]
  },
  {
   "cell_type": "code",
   "execution_count": null,
   "metadata": {
    "colab": {
     "base_uri": "https://localhost:8080/"
    },
    "id": "rN1IwfvYj8kP",
    "outputId": "d5a3a6ad-b42c-49d9-d716-69be61e02d3b"
   },
   "outputs": [
    {
     "name": "stdout",
     "output_type": "stream",
     "text": [
      "torch.Size([8, 4, 3, 3])\n"
     ]
    }
   ],
   "source": [
    "print(trained_model.conv3.weight.shape)"
   ]
  },
  {
   "cell_type": "code",
   "execution_count": null,
   "metadata": {
    "id": "AKnPf4yAj8V6"
   },
   "outputs": [],
   "source": []
  },
  {
   "cell_type": "code",
   "execution_count": null,
   "metadata": {
    "id": "J6FqHUPaj5uB"
   },
   "outputs": [],
   "source": []
  }
 ],
 "metadata": {
  "accelerator": "GPU",
  "colab": {
   "name": "Untitled2.ipynb",
   "provenance": [],
   "toc_visible": true
  },
  "kernelspec": {
   "display_name": "Python 3",
   "language": "python",
   "name": "python3"
  },
  "language_info": {
   "codemirror_mode": {
    "name": "ipython",
    "version": 3
   },
   "file_extension": ".py",
   "mimetype": "text/x-python",
   "name": "python",
   "nbconvert_exporter": "python",
   "pygments_lexer": "ipython3",
   "version": "3.7.4"
  }
 },
 "nbformat": 4,
 "nbformat_minor": 4
}
