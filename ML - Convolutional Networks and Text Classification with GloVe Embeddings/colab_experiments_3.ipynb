{
 "cells": [
  {
   "cell_type": "code",
   "execution_count": 1,
   "metadata": {
    "colab": {
     "base_uri": "https://localhost:8080/"
    },
    "id": "WcOrUxGmHx32",
    "outputId": "150510e1-2046-40ef-a42b-2425891cce2f"
   },
   "outputs": [
    {
     "name": "stdout",
     "output_type": "stream",
     "text": [
      "Archive:  text_data.zip\n",
      "   creating: text_data/\n",
      "  inflating: __MACOSX/._text_data    \n",
      "  inflating: text_data/.DS_Store     \n",
      "  inflating: __MACOSX/text_data/._.DS_Store  \n",
      "   creating: text_data/agn_small/\n",
      "  inflating: __MACOSX/text_data/._agn_small  \n",
      "   creating: text_data/dbpedia_small/\n",
      "  inflating: __MACOSX/text_data/._dbpedia_small  \n",
      "  inflating: text_data/agn_small/train.jsonl  \n",
      "  inflating: text_data/agn_small/test.jsonl  \n",
      "  inflating: text_data/agn_small/dev.jsonl  \n",
      "  inflating: text_data/dbpedia_small/train.jsonl  \n",
      "  inflating: text_data/dbpedia_small/test.jsonl  \n",
      "  inflating: text_data/dbpedia_small/dev.jsonl  \n"
     ]
    }
   ],
   "source": [
    "# !unzip text_data.zip"
   ]
  },
  {
   "cell_type": "code",
   "execution_count": 21,
   "metadata": {
    "id": "5WIjs-sGH6d9"
   },
   "outputs": [],
   "source": [
    "from my_dataset import MyDataset\n",
    "from load_data import *\n",
    "from preprocess import *\n",
    "# from run_torch_model import *\n",
    "from run_torch_model_CUDA import *\n",
    "from text_model import *\n",
    "\n",
    "import gensim.downloader\n",
    "import gensim\n",
    "\n",
    "import matplotlib.pyplot as plt\n",
    "from matplotlib import style\n",
    "style.use('fivethirtyeight')\n",
    "from collections import Counter\n",
    "import numpy as np\n",
    "from sklearn.metrics import classification_report\n",
    "import time\n",
    "import csv\n",
    "import os\n",
    "\n",
    "import torch\n",
    "import torchvision\n",
    "import torchvision.transforms as transforms\n",
    "import matplotlib.pyplot as plt\n",
    "import numpy as np\n",
    "import torch.optim as optim\n",
    "import torch.nn as nn\n",
    "import torch.nn.functional as F"
   ]
  },
  {
   "cell_type": "code",
   "execution_count": 3,
   "metadata": {
    "colab": {
     "base_uri": "https://localhost:8080/"
    },
    "id": "994WI0FLH6bh",
    "outputId": "3f2676f1-6a0c-4b84-f489-b0656f33d309"
   },
   "outputs": [
    {
     "name": "stdout",
     "output_type": "stream",
     "text": [
      "Using device:  cuda\n"
     ]
    }
   ],
   "source": [
    "device = torch.device('cuda' if torch.cuda.is_available()  else 'cpu')\n",
    "print('Using device: ', device)"
   ]
  },
  {
   "cell_type": "code",
   "execution_count": 5,
   "metadata": {
    "colab": {
     "base_uri": "https://localhost:8080/"
    },
    "id": "sJ-7xfuJH6Yq",
    "outputId": "0a5c9ee4-f273-413d-d9a5-cb666da4c4b7"
   },
   "outputs": [
    {
     "name": "stdout",
     "output_type": "stream",
     "text": [
      "[nltk_data] Downloading package stopwords to /root/nltk_data...\n",
      "[nltk_data]   Package stopwords is already up-to-date!\n",
      "DONE WITH STOPWORDS DOWNLOAD\n",
      "DONE WITH GLOVE DOWNLOAD\n"
     ]
    }
   ],
   "source": [
    "nltk.download('stopwords')\n",
    "print(\"DONE WITH STOPWORDS DOWNLOAD\")\n",
    "# glove = gensim.downloader.load('glove-wiki-gigaword-50')\n",
    "glove = gensim.downloader.load('glove-wiki-gigaword-300')\n",
    "print(\"DONE WITH GLOVE DOWNLOAD\")"
   ]
  },
  {
   "cell_type": "code",
   "execution_count": 6,
   "metadata": {
    "id": "MZnopdkkH6WC"
   },
   "outputs": [],
   "source": [
    "folder = 'text_data'\n",
    "\n",
    "# AGN Data\n",
    "agn_sub_folder = 'agn_small'\n",
    "agn_path = os.path.join(folder, agn_sub_folder)\n",
    "\n",
    "# DBPedia Data\n",
    "dbpedia_sub_folder = 'dbpedia_small'\n",
    "dbpedia_path = os.path.join(folder, dbpedia_sub_folder)\n",
    "\n",
    "# Loading both datasets\n",
    "train_agn, dev_agn, test_agn = load_data(agn_path)\n",
    "train_dbpedia, dev_dbpedia, test_dbpedia = load_data(dbpedia_path)\n",
    "\n",
    "# Texts & Labels - AGN\n",
    "train_texts_agn = [x['text'] for x in train_agn]\n",
    "train_labels_agn = [x['label'] for x in train_agn]\n",
    "dev_texts_agn = [x['text'] for x in dev_agn]\n",
    "dev_labels_agn = [x['label'] for x in dev_agn]\n",
    "test_texts_agn = [x['text'] for x in test_agn]\n",
    "test_labels_agn = [x['label'] for x in test_agn]\n",
    "\n",
    "# Texts & Labels - DBPedia\n",
    "train_texts_dbpedia = [x['text'] for x in train_dbpedia]\n",
    "train_labels_dbpedia = [x['label'] for x in train_dbpedia]\n",
    "dev_texts_dbpedia = [x['text'] for x in dev_dbpedia]\n",
    "dev_labels_dbpedia = [x['label'] for x in dev_dbpedia]\n",
    "test_texts_dbpedia = [x['text'] for x in test_dbpedia]\n",
    "test_labels_dbpedia = [x['label'] for x in test_dbpedia]"
   ]
  },
  {
   "cell_type": "code",
   "execution_count": 7,
   "metadata": {
    "id": "1XqcbtSuH6Th"
   },
   "outputs": [],
   "source": [
    "def docs_to_vecs(texts):\n",
    "\n",
    "    doc_vecs = []\n",
    "    \n",
    "    for text in texts:\n",
    "\n",
    "        lst_vec = []\n",
    "    \n",
    "        for word in text:\n",
    "            try:\n",
    "                lst_vec.append(glove.get_vector(word))\n",
    "            except:\n",
    "                pass # Ignore word if it's not in vocabulary of glove_50\n",
    "    \n",
    "        vec = np.array(lst_vec)\n",
    "        np_vec = np.concatenate((np.min(vec, axis=0), np.max(vec, axis=0), np.mean(vec, axis=0)))\n",
    "\n",
    "        doc_vecs.append(np_vec)\n",
    "    \n",
    "    return np.array(doc_vecs)"
   ]
  },
  {
   "cell_type": "code",
   "execution_count": 8,
   "metadata": {
    "colab": {
     "base_uri": "https://localhost:8080/"
    },
    "id": "l-C5uaFpH6Q_",
    "outputId": "62bab2b5-d1b9-41fc-c6ca-404d8e28b06e"
   },
   "outputs": [
    {
     "name": "stdout",
     "output_type": "stream",
     "text": [
      "PREPROCESSED TRAIN TEXTS:  5000\n",
      "PREPROCESSED DEV TEXTS:  5000\n",
      "PREPROCESSED TEST TEXTS:  5000\n"
     ]
    }
   ],
   "source": [
    "preprocessed_train_texts = preprocess_texts(train_texts_agn)\n",
    "print(\"PREPROCESSED TRAIN TEXTS: \", len(preprocessed_train_texts))\n",
    "preprocessed_dev_texts = preprocess_texts(dev_texts_agn)\n",
    "print(\"PREPROCESSED DEV TEXTS: \", len(preprocessed_dev_texts))\n",
    "preprocessed_test_texts = preprocess_texts(test_texts_agn)\n",
    "print(\"PREPROCESSED TEST TEXTS: \", len(preprocessed_test_texts))"
   ]
  },
  {
   "cell_type": "code",
   "execution_count": 9,
   "metadata": {
    "colab": {
     "base_uri": "https://localhost:8080/"
    },
    "id": "5QqFi89vH6Od",
    "outputId": "129bbcdd-6f7f-4c11-968b-9bc5378b9afc"
   },
   "outputs": [
    {
     "name": "stdout",
     "output_type": "stream",
     "text": [
      "TRAIN FEATURES SHAPE  (5000, 900)\n",
      "DEV FEATURES SHAPE  (5000, 900)\n",
      "TEST FEATURES SHAPE  (5000, 900)\n"
     ]
    }
   ],
   "source": [
    "train_features = docs_to_vecs(preprocessed_train_texts)\n",
    "print(\"TRAIN FEATURES SHAPE \", train_features.shape)\n",
    "dev_features = docs_to_vecs(preprocessed_dev_texts)\n",
    "print(\"DEV FEATURES SHAPE \", dev_features.shape)\n",
    "test_features = docs_to_vecs(preprocessed_test_texts)\n",
    "print(\"TEST FEATURES SHAPE \", test_features.shape)"
   ]
  },
  {
   "cell_type": "code",
   "execution_count": 10,
   "metadata": {
    "id": "Hz3Df2YdH6L2"
   },
   "outputs": [],
   "source": [
    "train_dataset = MyDataset(train_features, train_labels_agn)\n",
    "dev_dataset = MyDataset(dev_features, dev_labels_agn)\n",
    "test_dataset = MyDataset(test_features, test_labels_agn)"
   ]
  },
  {
   "cell_type": "code",
   "execution_count": 62,
   "metadata": {
    "colab": {
     "base_uri": "https://localhost:8080/"
    },
    "id": "DdWXgr1oH6JE",
    "outputId": "cbf4edb6-c2cd-481c-f448-01c323f88bf2"
   },
   "outputs": [
    {
     "name": "stdout",
     "output_type": "stream",
     "text": [
      "STARTING EPOCH #0\n",
      "STARTING EPOCH #1\n",
      "STARTING EPOCH #2\n",
      "STARTING EPOCH #3\n",
      "STARTING EPOCH #4\n",
      "STARTING EPOCH #5\n",
      "STARTING EPOCH #6\n",
      "STARTING EPOCH #7\n",
      "STARTING EPOCH #8\n",
      "STARTING EPOCH #9\n",
      "STARTING EPOCH #10\n",
      "STARTING EPOCH #11\n",
      "STARTING EPOCH #12\n",
      "STARTING EPOCH #13\n",
      "STARTING EPOCH #14\n",
      "STARTING EPOCH #15\n",
      "STARTING EPOCH #16\n",
      "STARTING EPOCH #17\n",
      "STARTING EPOCH #18\n",
      "STARTING EPOCH #19\n",
      "STARTING EPOCH #20\n",
      "STARTING EPOCH #21\n",
      "STARTING EPOCH #22\n",
      "STARTING EPOCH #23\n",
      "STARTING EPOCH #24\n",
      "STARTING EPOCH #25\n",
      "STARTING EPOCH #26\n",
      "STARTING EPOCH #27\n",
      "STARTING EPOCH #28\n",
      "STARTING EPOCH #29\n",
      "STARTING EPOCH #30\n",
      "STARTING EPOCH #31\n",
      "STARTING EPOCH #32\n",
      "STARTING EPOCH #33\n",
      "STARTING EPOCH #34\n",
      "STARTING EPOCH #35\n",
      "STARTING EPOCH #36\n",
      "STARTING EPOCH #37\n",
      "STARTING EPOCH #38\n",
      "STARTING EPOCH #39\n",
      "STARTING EPOCH #40\n",
      "STARTING EPOCH #41\n",
      "STARTING EPOCH #42\n",
      "STARTING EPOCH #43\n",
      "STARTING EPOCH #44\n",
      "STARTING EPOCH #45\n",
      "STARTING EPOCH #46\n",
      "STARTING EPOCH #47\n",
      "STARTING EPOCH #48\n",
      "STARTING EPOCH #49\n",
      "STARTING EPOCH #50\n",
      "STARTING EPOCH #51\n",
      "STARTING EPOCH #52\n",
      "STARTING EPOCH #53\n",
      "STARTING EPOCH #54\n",
      "STARTING EPOCH #55\n",
      "STARTING EPOCH #56\n",
      "STARTING EPOCH #57\n",
      "STARTING EPOCH #58\n",
      "STARTING EPOCH #59\n",
      "STARTING EPOCH #60\n",
      "STARTING EPOCH #61\n",
      "STARTING EPOCH #62\n",
      "STARTING EPOCH #63\n",
      "STARTING EPOCH #64\n",
      "STARTING EPOCH #65\n",
      "STARTING EPOCH #66\n",
      "STARTING EPOCH #67\n",
      "STARTING EPOCH #68\n",
      "STARTING EPOCH #69\n",
      "STARTING EPOCH #70\n",
      "STARTING EPOCH #71\n",
      "STARTING EPOCH #72\n",
      "STARTING EPOCH #73\n",
      "STARTING EPOCH #74\n",
      "STARTING EPOCH #75\n",
      "STARTING EPOCH #76\n",
      "STARTING EPOCH #77\n",
      "STARTING EPOCH #78\n",
      "STARTING EPOCH #79\n",
      "STARTING EPOCH #80\n",
      "STARTING EPOCH #81\n",
      "STARTING EPOCH #82\n",
      "STARTING EPOCH #83\n",
      "STARTING EPOCH #84\n",
      "STARTING EPOCH #85\n",
      "STARTING EPOCH #86\n",
      "STARTING EPOCH #87\n",
      "STARTING EPOCH #88\n",
      "STARTING EPOCH #89\n",
      "STARTING EPOCH #90\n",
      "STARTING EPOCH #91\n",
      "STARTING EPOCH #92\n",
      "STARTING EPOCH #93\n",
      "STARTING EPOCH #94\n",
      "STARTING EPOCH #95\n",
      "STARTING EPOCH #96\n",
      "STARTING EPOCH #97\n",
      "STARTING EPOCH #98\n",
      "STARTING EPOCH #99\n",
      "STARTING EPOCH #100\n",
      "STARTING EPOCH #101\n",
      "STARTING EPOCH #102\n",
      "STARTING EPOCH #103\n",
      "STARTING EPOCH #104\n",
      "STARTING EPOCH #105\n",
      "STARTING EPOCH #106\n",
      "STARTING EPOCH #107\n",
      "STARTING EPOCH #108\n",
      "STARTING EPOCH #109\n",
      "STARTING EPOCH #110\n",
      "STARTING EPOCH #111\n",
      "STARTING EPOCH #112\n",
      "STARTING EPOCH #113\n",
      "STARTING EPOCH #114\n",
      "STARTING EPOCH #115\n",
      "STARTING EPOCH #116\n",
      "STARTING EPOCH #117\n",
      "STARTING EPOCH #118\n",
      "STARTING EPOCH #119\n",
      "STARTING EPOCH #120\n",
      "STARTING EPOCH #121\n",
      "STARTING EPOCH #122\n",
      "STARTING EPOCH #123\n",
      "STARTING EPOCH #124\n",
      "STARTING EPOCH #125\n",
      "STARTING EPOCH #126\n",
      "STARTING EPOCH #127\n",
      "STARTING EPOCH #128\n",
      "STARTING EPOCH #129\n",
      "STARTING EPOCH #130\n",
      "STARTING EPOCH #131\n",
      "STARTING EPOCH #132\n",
      "STARTING EPOCH #133\n",
      "STARTING EPOCH #134\n",
      "STARTING EPOCH #135\n",
      "STARTING EPOCH #136\n",
      "STARTING EPOCH #137\n",
      "STARTING EPOCH #138\n",
      "STARTING EPOCH #139\n",
      "STARTING EPOCH #140\n",
      "STARTING EPOCH #141\n",
      "STARTING EPOCH #142\n",
      "STARTING EPOCH #143\n",
      "STARTING EPOCH #144\n",
      "STARTING EPOCH #145\n",
      "STARTING EPOCH #146\n",
      "STARTING EPOCH #147\n",
      "STARTING EPOCH #148\n",
      "STARTING EPOCH #149\n",
      "STARTING EPOCH #150\n",
      "STARTING EPOCH #151\n",
      "STARTING EPOCH #152\n",
      "STARTING EPOCH #153\n",
      "STARTING EPOCH #154\n",
      "STARTING EPOCH #155\n",
      "STARTING EPOCH #156\n",
      "STARTING EPOCH #157\n",
      "STARTING EPOCH #158\n",
      "STARTING EPOCH #159\n",
      "STARTING EPOCH #160\n",
      "STARTING EPOCH #161\n",
      "STARTING EPOCH #162\n",
      "STARTING EPOCH #163\n",
      "STARTING EPOCH #164\n",
      "STARTING EPOCH #165\n",
      "STARTING EPOCH #166\n",
      "STARTING EPOCH #167\n",
      "STARTING EPOCH #168\n",
      "STARTING EPOCH #169\n",
      "STARTING EPOCH #170\n",
      "STARTING EPOCH #171\n",
      "STARTING EPOCH #172\n",
      "STARTING EPOCH #173\n",
      "STARTING EPOCH #174\n",
      "STARTING EPOCH #175\n",
      "STARTING EPOCH #176\n",
      "STARTING EPOCH #177\n",
      "STARTING EPOCH #178\n",
      "STARTING EPOCH #179\n",
      "STARTING EPOCH #180\n",
      "STARTING EPOCH #181\n",
      "STARTING EPOCH #182\n",
      "STARTING EPOCH #183\n",
      "STARTING EPOCH #184\n",
      "STARTING EPOCH #185\n",
      "STARTING EPOCH #186\n",
      "STARTING EPOCH #187\n",
      "STARTING EPOCH #188\n",
      "STARTING EPOCH #189\n",
      "STARTING EPOCH #190\n",
      "STARTING EPOCH #191\n",
      "STARTING EPOCH #192\n",
      "STARTING EPOCH #193\n",
      "STARTING EPOCH #194\n",
      "STARTING EPOCH #195\n",
      "STARTING EPOCH #196\n",
      "STARTING EPOCH #197\n",
      "STARTING EPOCH #198\n",
      "STARTING EPOCH #199\n",
      "STARTING EPOCH #200\n",
      "STARTING EPOCH #201\n",
      "STARTING EPOCH #202\n",
      "STARTING EPOCH #203\n",
      "STARTING EPOCH #204\n",
      "STARTING EPOCH #205\n",
      "STARTING EPOCH #206\n",
      "STARTING EPOCH #207\n",
      "STARTING EPOCH #208\n",
      "STARTING EPOCH #209\n",
      "STARTING EPOCH #210\n",
      "STARTING EPOCH #211\n",
      "STARTING EPOCH #212\n",
      "STARTING EPOCH #213\n",
      "STARTING EPOCH #214\n",
      "STARTING EPOCH #215\n",
      "STARTING EPOCH #216\n",
      "STARTING EPOCH #217\n",
      "STARTING EPOCH #218\n",
      "STARTING EPOCH #219\n",
      "STARTING EPOCH #220\n",
      "STARTING EPOCH #221\n",
      "STARTING EPOCH #222\n",
      "STARTING EPOCH #223\n",
      "STARTING EPOCH #224\n",
      "STARTING EPOCH #225\n",
      "STARTING EPOCH #226\n",
      "STARTING EPOCH #227\n",
      "STARTING EPOCH #228\n",
      "STARTING EPOCH #229\n",
      "STARTING EPOCH #230\n",
      "STARTING EPOCH #231\n",
      "STARTING EPOCH #232\n",
      "STARTING EPOCH #233\n",
      "STARTING EPOCH #234\n",
      "STARTING EPOCH #235\n",
      "STARTING EPOCH #236\n",
      "STARTING EPOCH #237\n",
      "STARTING EPOCH #238\n",
      "STARTING EPOCH #239\n",
      "STARTING EPOCH #240\n",
      "STARTING EPOCH #241\n",
      "STARTING EPOCH #242\n",
      "STARTING EPOCH #243\n",
      "STARTING EPOCH #244\n",
      "STARTING EPOCH #245\n",
      "STARTING EPOCH #246\n",
      "STARTING EPOCH #247\n",
      "STARTING EPOCH #248\n",
      "STARTING EPOCH #249\n",
      "STARTING EPOCH #250\n",
      "REACHED STOP CONDITION\n",
      "OLD_VALID_LOSS  0.43385406510531904\n",
      "NEW_VALID_LOSS  0.43434182754158973\n"
     ]
    }
   ],
   "source": [
    "model = Text_Classifier(input_size = train_features.shape[1]\n",
    "                        , output_size = len(np.unique(train_labels_agn)))\n",
    "\n",
    "trained_model, loss, accuracy = run_model(model\n",
    "                                          , running_mode='train'\n",
    "                                          , train_set = train_dataset\n",
    "                                          , valid_set = dev_dataset\n",
    "                                          , batch_size = 10\n",
    "                                          , stop_thr=1e-5\n",
    "                                          , learning_rate = 1e-4\n",
    "                                          , n_epochs = 350\n",
    "                                          , shuffle = True\n",
    "                                          , device=device)"
   ]
  },
  {
   "cell_type": "code",
   "execution_count": 60,
   "metadata": {
    "colab": {
     "base_uri": "https://localhost:8080/",
     "height": 349
    },
    "id": "yhNLs-PRH6Ga",
    "outputId": "1a5e366a-7f4d-4001-b1f1-27ef6234e227"
   },
   "outputs": [
    {
     "data": {
      "text/plain": [
       "<matplotlib.legend.Legend at 0x7f64dbe0ed68>"
      ]
     },
     "execution_count": 60,
     "metadata": {
      "tags": []
     },
     "output_type": "execute_result"
    },
    {
     "data": {
      "image/png": "[encoded data removed]",
      "text/plain": [
       "<Figure size 1440x720 with 1 Axes>"
      ]
     },
     "metadata": {
      "tags": []
     },
     "output_type": "display_data"
    }
   ],
   "source": [
    "plt.figure(figsize=(20,10))\n",
    "n_epochs = 252\n",
    "plt.plot(range(n_epochs), loss['train'], label='Training')\n",
    "plt.plot(range(n_epochs), loss['valid'], label='Validation')\n",
    "\n",
    "plt.title('Training Loss')\n",
    "plt.ylabel(\"Loss\")\n",
    "plt.xlabel('Epoch')\n",
    "plt.legend()"
   ]
  },
  {
   "cell_type": "code",
   "execution_count": 61,
   "metadata": {
    "colab": {
     "base_uri": "https://localhost:8080/",
     "height": 692
    },
    "id": "jiiw2kvcH6Dy",
    "outputId": "3ffca3cf-90cf-42b6-ea6b-6a8ecce1afaf"
   },
   "outputs": [
    {
     "data": {
      "text/plain": [
       "<matplotlib.legend.Legend at 0x7f64f733abe0>"
      ]
     },
     "execution_count": 61,
     "metadata": {
      "tags": []
     },
     "output_type": "execute_result"
    },
    {
     "data": {
      "image/png": "[encoded data removed]",
      "text/plain": [
       "<Figure size 1440x720 with 1 Axes>"
      ]
     },
     "metadata": {
      "tags": []
     },
     "output_type": "display_data"
    }
   ],
   "source": [
    "plt.figure(figsize=(20,10))\n",
    "plt.plot(range(n_epochs), accuracy['train'], label='Training')\n",
    "plt.plot(range(n_epochs), accuracy['valid'], label='Validation')\n",
    "\n",
    "plt.title('Training Accuracy')\n",
    "plt.ylabel(\"Accuracy\")\n",
    "plt.xlabel('Epoch')\n",
    "plt.legend()"
   ]
  },
  {
   "cell_type": "markdown",
   "metadata": {
    "id": "2FpGMaflIJvE"
   },
   "source": [
    "## TESTING"
   ]
  },
  {
   "cell_type": "code",
   "execution_count": 57,
   "metadata": {
    "colab": {
     "base_uri": "https://localhost:8080/"
    },
    "id": "fWAUiGHzH6BH",
    "outputId": "ae41517a-2c65-4b41-9fdd-d0ed2d2fc44a"
   },
   "outputs": [
    {
     "name": "stdout",
     "output_type": "stream",
     "text": [
      "TEST LOSS  0.4430743157863617\n",
      "TEST ACCURACY  84.36\n"
     ]
    }
   ],
   "source": [
    "test_loss, test_accuracy = run_model(model\n",
    "                                      , running_mode='test'\n",
    "                                      , test_set = test_dataset\n",
    "                                      , batch_size = len(test_features)\n",
    "                                      , shuffle = True)\n",
    "\n",
    "print(\"TEST LOSS \", test_loss)\n",
    "print(\"TEST ACCURACY \", test_accuracy)"
   ]
  },
  {
   "cell_type": "code",
   "execution_count": 58,
   "metadata": {
    "colab": {
     "base_uri": "https://localhost:8080/"
    },
    "id": "uEUTCVeOH5-W",
    "outputId": "a6713f9b-0f95-41aa-c362-7f8934a9e5c0"
   },
   "outputs": [
    {
     "name": "stdout",
     "output_type": "stream",
     "text": [
      "              precision    recall  f1-score   support\n",
      "\n",
      "           0       0.88      0.86      0.87      1250\n",
      "           1       0.94      0.95      0.94      1250\n",
      "           2       0.78      0.79      0.78      1250\n",
      "           3       0.77      0.78      0.78      1250\n",
      "\n",
      "    accuracy                           0.84      5000\n",
      "   macro avg       0.84      0.84      0.84      5000\n",
      "weighted avg       0.84      0.84      0.84      5000\n",
      "\n"
     ]
    }
   ],
   "source": [
    "test_dataloader = torch.utils.data.DataLoader(test_dataset\n",
    "                                                , batch_size=len(test_dataset) # Will just 1 batch work?\n",
    "                                                , shuffle=False\n",
    "                                                , num_workers=2) \n",
    "\n",
    "with torch.no_grad():\n",
    "\n",
    "    for batch, labels in test_dataloader:\n",
    "\n",
    "        batch, labels = batch.to(device), labels.to(device)\n",
    "\n",
    "        output = trained_model(batch.float())\n",
    "\n",
    "        predicted = torch.max(output.data, 1)[1]\n",
    "\n",
    "print(classification_report(test_labels_agn, predicted.cpu()))"
   ]
  },
  {
   "cell_type": "code",
   "execution_count": null,
   "metadata": {
    "id": "fdVE7cSbH57s"
   },
   "outputs": [],
   "source": []
  },
  {
   "cell_type": "code",
   "execution_count": null,
   "metadata": {
    "id": "3erJzaL0H548"
   },
   "outputs": [],
   "source": []
  }
 ],
 "metadata": {
  "accelerator": "GPU",
  "colab": {
   "collapsed_sections": [],
   "name": "Untitled1.ipynb",
   "provenance": []
  },
  "kernelspec": {
   "display_name": "Python 3",
   "language": "python",
   "name": "python3"
  },
  "language_info": {
   "codemirror_mode": {
    "name": "ipython",
    "version": 3
   },
   "file_extension": ".py",
   "mimetype": "text/x-python",
   "name": "python",
   "nbconvert_exporter": "python",
   "pygments_lexer": "ipython3",
   "version": "3.7.4"
  }
 },
 "nbformat": 4,
 "nbformat_minor": 4
}
