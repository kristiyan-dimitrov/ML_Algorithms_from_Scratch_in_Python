{
 "cells": [
  {
   "cell_type": "code",
   "execution_count": 5,
   "metadata": {
    "id": "eUhfRIGc8Jml"
   },
   "outputs": [],
   "source": [
    "# if you need any other modules feel free to add them here\n",
    "import sys\n",
    "sys.path.append(\"..\") \n",
    "\n",
    "from load_data import load_mnist_data\n",
    "from my_dataset import MyDataset\n",
    "\n",
    "import matplotlib.pyplot as plt\n",
    "import numpy as np\n",
    "import time\n",
    "import csv\n",
    "import os\n",
    "\n",
    "import torch\n",
    "import torchvision\n",
    "import torchvision.transforms as transforms\n",
    "import matplotlib.pyplot as plt\n",
    "import numpy as np\n",
    "import torch.optim as optim\n",
    "import torch.nn as nn\n",
    "import torch.nn.functional as F"
   ]
  },
  {
   "cell_type": "code",
   "execution_count": 6,
   "metadata": {
    "colab": {
     "base_uri": "https://localhost:8080/"
    },
    "id": "4v1MJjsl8wzo",
    "outputId": "5729a3ba-a0e0-4d27-8c99-9a03997544d1"
   },
   "outputs": [
    {
     "name": "stdout",
     "output_type": "stream",
     "text": [
      "Using device:  cuda\n"
     ]
    }
   ],
   "source": [
    "def train_model(model, criterion, optimizer, trainloader, epochs=10, devloader=None, print_info=True):\n",
    "    epochs_loss = []\n",
    "    epoch_acc = []\n",
    "    running_loss = 0.0\n",
    "    # the length of the train loader will give you the number of mini-batches\n",
    "    # not the cleanest solution but for now it generalizes well and avoids \n",
    "    # computation that we don't need\n",
    "    minibatches = len(trainloader)\n",
    "    # moving the network onto the gpu/cpu\n",
    "    model = model.to(device)\n",
    "    for epoch in range(epochs):\n",
    "        epoch_loss = 0.0\n",
    "#         batches_complete = 0\n",
    "        for batch, labels in trainloader: # Per this doc, (batch,labels) = trainloader.__getitem__(); https://pytorch.org/docs/stable/torchvision/datasets.html#cifar\n",
    "\n",
    "            # Keeping track of number of batches processed\n",
    "#             if batches_complete % 1000 == 0:\n",
    "#                 print(\"BATCHES COMPLETE: \", batches_complete)\n",
    "#             batches_complete += 1\n",
    "            \n",
    "            # batch is a tensor with m elements, where each element is \n",
    "            # a training example\n",
    "\n",
    "            # moving batch/labels onto the gpu/cpu\n",
    "            batch, labels = batch.to(device), labels.to(device)\n",
    "            \n",
    "            # zeroing the parameters of the model \n",
    "            # becuase we want to optimize them\n",
    "            optimizer.zero_grad()\n",
    "            \n",
    "            # forward pass\n",
    "            # getting the predictions from our model by passing in a mini-batch\n",
    "            # the ouput will have shape (mini-batch-size, number-of-classes)\n",
    "            # where each element of output is the probabliity of that example being\n",
    "            # the classification correspoding to the index of the value\n",
    "            output = model(batch.float()) # <---- Added .float() as a modification to avoid Runtime error per this post: https://stackoverflow.com/questions/56741087/how-to-fix-runtimeerror-expected-object-of-scalar-type-float-but-got-scalar-typ\n",
    "            loss = criterion(output, labels.long()) # <---- Added .long() per a CampusWire discussion in post #2505\n",
    "            \n",
    "            # backward pass\n",
    "            loss.backward()\n",
    "            \n",
    "            # optimize the parameters\n",
    "            optimizer.step()\n",
    "            \n",
    "            # add the loss of a mini-batch to the list of epoch loss\n",
    "            epoch_loss += loss.item()\n",
    "\n",
    "        #  after each epoch we need to average out the loss across all minibatches\n",
    "        epochs_loss.append(epoch_loss/minibatches)\n",
    "        # printing some info\n",
    "        if print_info:\n",
    "            print(f'Epoch: {epoch} Loss: {epoch_loss/minibatches}')\n",
    "    return model, epoch_loss\n",
    "                \n",
    "\n",
    "def test_model(model, testloader): # Takes in just model you want to test and the data you want to test it on\n",
    "    # variables to keep count of correct labels and the total labels in a mini batch\n",
    "    correct = 0\n",
    "    total = 0\n",
    "    model.to(device) # <---- Added this to try and avoid runtime error\n",
    "    # since we're testing the model we don't need to perform backprop\n",
    "    with torch.no_grad(): # Disables gradient calculation to save memory; we're sure we won't be using Tensor.backward()\n",
    "        for batch, labels in testloader:\n",
    "            batch, labels = batch, labels # So we don't modify original dataset?\n",
    "            batch = batch.to(device) # <---- Added this end line below to fix error when runinng on GPU\n",
    "            labels = labels.to(device)\n",
    "            output = model(batch.float()) # <---- Added .float() to solve for RuntimeError\n",
    "            # this gives us the index with the highest value outputed from the last layer\n",
    "            # which coressponds to the most probable label/classification for an image\n",
    "            predicted = torch.max(output.data, 1)[1]\n",
    "            total += labels.size(0)\n",
    "            correct += (predicted == labels).sum().item()\n",
    "\n",
    "    test_accuracy = 100 * correct / total\n",
    "    return test_accuracy\n",
    "    \n",
    "device = torch.device('cuda' if torch.cuda.is_available()  else 'cpu')\n",
    "print('Using device: ', device)"
   ]
  },
  {
   "cell_type": "code",
   "execution_count": 7,
   "metadata": {
    "colab": {
     "base_uri": "https://localhost:8080/"
    },
    "id": "gCBvM-3iBW1B",
    "outputId": "d87b2033-4af2-429f-a7d3-b0799c90ea16"
   },
   "outputs": [
    {
     "name": "stdout",
     "output_type": "stream",
     "text": [
      "name, driver_version, memory.total [MiB]\n",
      "Tesla T4, 418.67, 15079 MiB\n"
     ]
    }
   ],
   "source": [
    "# Checking the type of GPU\n",
    "!nvidia-smi --query-gpu=gpu_name,driver_version,memory.total --format=csv"
   ]
  },
  {
   "cell_type": "code",
   "execution_count": 8,
   "metadata": {
    "id": "SPGX8u_c9BZe"
   },
   "outputs": [],
   "source": [
    "train_datasets = dict()\n",
    "\n",
    "for size in [500,1000,1500, 2000]:\n",
    "    example_data_split = load_mnist_data(10, 1.0, size/10)\n",
    "    example_training_set = MyDataset(example_data_split[0], example_data_split[2])\n",
    "    train_datasets[size] = example_training_set"
   ]
  },
  {
   "cell_type": "code",
   "execution_count": 9,
   "metadata": {
    "colab": {
     "base_uri": "https://localhost:8080/"
    },
    "id": "t7PAUu-v9FkT",
    "outputId": "55d91128-69a7-45bc-9cbc-27599d8bfe6c"
   },
   "outputs": [
    {
     "name": "stdout",
     "output_type": "stream",
     "text": [
      "(array([0, 1, 2, 3, 4, 5, 6, 7, 8, 9], dtype=int8), array([50, 50, 50, 50, 50, 50, 50, 50, 50, 50]))\n",
      "(array([0, 1, 2, 3, 4, 5, 6, 7, 8, 9], dtype=int8), array([100, 100, 100, 100, 100, 100, 100, 100, 100, 100]))\n",
      "(array([0, 1, 2, 3, 4, 5, 6, 7, 8, 9], dtype=int8), array([150, 150, 150, 150, 150, 150, 150, 150, 150, 150]))\n",
      "(array([0, 1, 2, 3, 4, 5, 6, 7, 8, 9], dtype=int8), array([200, 200, 200, 200, 200, 200, 200, 200, 200, 200]))\n"
     ]
    }
   ],
   "source": [
    "# Let's double-check that all our training datasets are balanced\n",
    "for key, value in train_datasets.items():\n",
    "    print(np.unique(value.y, return_counts=True))"
   ]
  },
  {
   "cell_type": "code",
   "execution_count": 10,
   "metadata": {
    "id": "hFjdx6Dw9RnG"
   },
   "outputs": [],
   "source": [
    "train_loaders = dict()\n",
    "\n",
    "for key, value in train_datasets.items():\n",
    "    \n",
    "    train_loaders[key] = torch.utils.data.DataLoader(value,\n",
    "                                                     batch_size=4,\n",
    "                                                     shuffle=True,\n",
    "                                                     num_workers=2)"
   ]
  },
  {
   "cell_type": "code",
   "execution_count": 11,
   "metadata": {
    "id": "jjfBYYLn9TlT"
   },
   "outputs": [],
   "source": [
    "# I created the training sets above; below I create the testing dataset per the instructions originally in this notebook\n",
    "# testing set\n",
    "data_split = load_mnist_data(10, 0, 100) # I'm a bit confused as to why we call load_mnist_data twice; \n",
    "                                          # it is capable of giving us train & test data at the same time; \n",
    "                                          # aren't we duplicating observations across train and test set this way?\n",
    "                                          # Maybe it's to ensure we all have the same test dataset :shrug\n",
    "testing_set = MyDataset(data_split[1], data_split[3])\n",
    "\n",
    "# And then the test DataLoader\n",
    "test_loader = torch.utils.data.DataLoader(testing_set\n",
    "                                          , batch_size=4\n",
    "                                          , shuffle=False # I think for the test dataset I don't need shuffle=True\n",
    "                                          , num_workers=2) "
   ]
  },
  {
   "cell_type": "code",
   "execution_count": 12,
   "metadata": {
    "colab": {
     "base_uri": "https://localhost:8080/"
    },
    "id": "gZjvY1ef9Vbn",
    "outputId": "a855955a-b3b9-4c85-dc3e-a4979628b448"
   },
   "outputs": [
    {
     "data": {
      "text/plain": [
       "(array([0, 1, 2, 3, 4, 5, 6, 7, 8, 9], dtype=int8),\n",
       " array([100, 100, 100, 100, 100, 100, 100, 100, 100, 100]))"
      ]
     },
     "execution_count": 12,
     "metadata": {
      "tags": []
     },
     "output_type": "execute_result"
    }
   ],
   "source": [
    "np.unique(data_split[3], return_counts=True) # We get 100 samples each when taking size 100;;;When using size=1000, We don't have the full 1000 observations for each class"
   ]
  },
  {
   "cell_type": "code",
   "execution_count": 13,
   "metadata": {
    "id": "Md-jists9XSx"
   },
   "outputs": [],
   "source": [
    "class mnistNet(nn.Module):\n",
    "    def __init__(self):\n",
    "        super(mnistNet, self).__init__()\n",
    "        self.fc1 = nn.Linear(784, 128)\n",
    "        self.fc2 = nn.Linear(128, 64)\n",
    "        self.fc3 = nn.Linear(64, 10)\n",
    "\n",
    "    def forward(self, x):\n",
    "        x = F.relu(self.fc1(x))\n",
    "        x = F.relu(self.fc2(x))\n",
    "        x = self.fc3(x)\n",
    "#         x = F.log_softmax(x, dim=1) # According to the documentation, I don't need to add log_softmax, because it is integrated in the CrossEntropyLoss class\n",
    "        return x"
   ]
  },
  {
   "cell_type": "code",
   "execution_count": 14,
   "metadata": {
    "id": "GsvOMjc99YtY"
   },
   "outputs": [],
   "source": [
    "# Dicionaries to track metrics\n",
    "# training time\n",
    "training_time = {}\n",
    "# training loss\n",
    "training_loss = {}\n",
    "# training accurary \n",
    "training_acc = {}\n",
    "# testing loss \n",
    "# OPTIONAL\n",
    "testing_loss = {}\n",
    "# testing acc\n",
    "testing_acc = {}\n"
   ]
  },
  {
   "cell_type": "code",
   "execution_count": 15,
   "metadata": {
    "colab": {
     "base_uri": "https://localhost:8080/"
    },
    "id": "FtxlKqUX9b03",
    "outputId": "78518f9b-f77c-4c9d-ca5d-2d1a60c06f73"
   },
   "outputs": [
    {
     "name": "stdout",
     "output_type": "stream",
     "text": [
      "Epoch: 0 Loss: 2.296182439804077\n",
      "Epoch: 1 Loss: 2.2526584796905516\n",
      "Epoch: 2 Loss: 2.1713532848358152\n",
      "Epoch: 3 Loss: 2.012085599899292\n",
      "Epoch: 4 Loss: 1.7428592472076416\n",
      "Epoch: 5 Loss: 1.385865303516388\n",
      "Epoch: 6 Loss: 1.060502081155777\n",
      "Epoch: 7 Loss: 0.8432903773784638\n",
      "Epoch: 8 Loss: 0.689264006614685\n",
      "Epoch: 9 Loss: 0.5809567043185234\n",
      "Epoch: 10 Loss: 0.4951387250125408\n",
      "Epoch: 11 Loss: 0.42987738192081454\n",
      "Epoch: 12 Loss: 0.3797242538332939\n",
      "Epoch: 13 Loss: 0.32927333608269693\n",
      "Epoch: 14 Loss: 0.2867784509211779\n",
      "Epoch: 15 Loss: 0.25854796512424943\n",
      "Epoch: 16 Loss: 0.22701621165499092\n",
      "Epoch: 17 Loss: 0.2004079978018999\n",
      "Epoch: 18 Loss: 0.17485644686967133\n",
      "Epoch: 19 Loss: 0.15214270916581155\n",
      "Epoch: 20 Loss: 0.13765898482501507\n",
      "Epoch: 21 Loss: 0.12200029925443232\n",
      "Epoch: 22 Loss: 0.105477826975286\n",
      "Epoch: 23 Loss: 0.09453698626533151\n",
      "Epoch: 24 Loss: 0.0848184593487531\n",
      "Epoch: 25 Loss: 0.07718228360265493\n",
      "Epoch: 26 Loss: 0.07032095680106432\n",
      "Epoch: 27 Loss: 0.06323556123673915\n",
      "Epoch: 28 Loss: 0.05647862572222948\n",
      "Epoch: 29 Loss: 0.051367747481912376\n",
      "Epoch: 30 Loss: 0.04673320879321546\n",
      "Epoch: 31 Loss: 0.041890090391505506\n",
      "Epoch: 32 Loss: 0.03975282141752541\n",
      "Epoch: 33 Loss: 0.03681291045062244\n",
      "Epoch: 34 Loss: 0.033967980830930174\n",
      "Epoch: 35 Loss: 0.031537236467935145\n",
      "Epoch: 36 Loss: 0.028792470918036998\n",
      "Epoch: 37 Loss: 0.02757236357871443\n",
      "Epoch: 38 Loss: 0.025472169349901378\n",
      "Epoch: 39 Loss: 0.023669035585131497\n",
      "Epoch: 40 Loss: 0.022527650400064887\n",
      "Epoch: 41 Loss: 0.021321923130191864\n",
      "Epoch: 42 Loss: 0.020254444968421013\n",
      "Epoch: 43 Loss: 0.018819153267890215\n",
      "Epoch: 44 Loss: 0.018062969815917315\n",
      "Epoch: 45 Loss: 0.016956176523584873\n",
      "Epoch: 46 Loss: 0.016488165624788963\n",
      "Epoch: 47 Loss: 0.015563233641674742\n",
      "Epoch: 48 Loss: 0.01486154139903374\n",
      "Epoch: 49 Loss: 0.014158217720687389\n",
      "Epoch: 50 Loss: 0.013589125211467035\n",
      "Epoch: 51 Loss: 0.013033805268350988\n",
      "Epoch: 52 Loss: 0.012577112920465879\n",
      "Epoch: 53 Loss: 0.012046111815376207\n",
      "Epoch: 54 Loss: 0.011525884864502586\n",
      "Epoch: 55 Loss: 0.011181765806395561\n",
      "Epoch: 56 Loss: 0.010768908331287094\n",
      "Epoch: 57 Loss: 0.010361533415998565\n",
      "Epoch: 58 Loss: 0.010053544158581644\n",
      "Epoch: 59 Loss: 0.009690046611009166\n",
      "Epoch: 60 Loss: 0.009366254013497383\n",
      "Epoch: 61 Loss: 0.009154116954712663\n",
      "Epoch: 62 Loss: 0.008763815857586451\n",
      "Epoch: 63 Loss: 0.008535357284941711\n",
      "Epoch: 64 Loss: 0.008303300527157262\n",
      "Epoch: 65 Loss: 0.008048968388931826\n",
      "Epoch: 66 Loss: 0.007806167540838942\n",
      "Epoch: 67 Loss: 0.007605454915668815\n",
      "Epoch: 68 Loss: 0.007401234397781081\n",
      "Epoch: 69 Loss: 0.0072339244454051365\n",
      "Epoch: 70 Loss: 0.007047961472184398\n",
      "Epoch: 71 Loss: 0.006843118816381321\n",
      "Epoch: 72 Loss: 0.0066771766623714935\n",
      "Epoch: 73 Loss: 0.006512168753251899\n",
      "Epoch: 74 Loss: 0.0063360821288079025\n",
      "Epoch: 75 Loss: 0.006165055490564555\n",
      "Epoch: 76 Loss: 0.006041171146556735\n",
      "Epoch: 77 Loss: 0.005898309167707339\n",
      "Epoch: 78 Loss: 0.005790308047609869\n",
      "Epoch: 79 Loss: 0.005632851622751332\n",
      "Epoch: 80 Loss: 0.005525552697305102\n",
      "Epoch: 81 Loss: 0.005425483704457292\n",
      "Epoch: 82 Loss: 0.0052760548152728\n",
      "Epoch: 83 Loss: 0.00518757912889123\n",
      "Epoch: 84 Loss: 0.005075741160078906\n",
      "Epoch: 85 Loss: 0.004993504571786616\n",
      "Epoch: 86 Loss: 0.004876175100682304\n",
      "Epoch: 87 Loss: 0.004775759959011338\n",
      "Epoch: 88 Loss: 0.004700244572974043\n",
      "Epoch: 89 Loss: 0.0046104764958727175\n",
      "Epoch: 90 Loss: 0.004520399722416186\n",
      "Epoch: 91 Loss: 0.004426682108663954\n",
      "Epoch: 92 Loss: 0.004365317978314124\n",
      "Epoch: 93 Loss: 0.004277005238400307\n",
      "Epoch: 94 Loss: 0.004205549432314001\n",
      "Epoch: 95 Loss: 0.0041271943878091405\n",
      "Epoch: 96 Loss: 0.004064253802604071\n",
      "Epoch: 97 Loss: 0.003978611912229099\n",
      "Epoch: 98 Loss: 0.003927425204354222\n",
      "Epoch: 99 Loss: 0.0038603869630605913\n",
      "Epoch: 0 Loss: 2.2735990133285524\n",
      "Epoch: 1 Loss: 2.11326886510849\n",
      "Epoch: 2 Loss: 1.6156245160102845\n",
      "Epoch: 3 Loss: 1.005100381374359\n",
      "Epoch: 4 Loss: 0.6919026997089386\n",
      "Epoch: 5 Loss: 0.5343618012964726\n",
      "Epoch: 6 Loss: 0.4546251347362995\n",
      "Epoch: 7 Loss: 0.39034519290179015\n",
      "Epoch: 8 Loss: 0.34299010507017375\n",
      "Epoch: 9 Loss: 0.30697662362083794\n",
      "Epoch: 10 Loss: 0.27382182802259925\n",
      "Epoch: 11 Loss: 0.2489584541413933\n",
      "Epoch: 12 Loss: 0.22526737737283112\n",
      "Epoch: 13 Loss: 0.20061026035062968\n",
      "Epoch: 14 Loss: 0.1822059259582311\n",
      "Epoch: 15 Loss: 0.16015385727677495\n",
      "Epoch: 16 Loss: 0.14445825808495283\n",
      "Epoch: 17 Loss: 0.12491540352068842\n",
      "Epoch: 18 Loss: 0.11606613169517369\n",
      "Epoch: 19 Loss: 0.10104752394324168\n",
      "Epoch: 20 Loss: 0.09359376985463314\n",
      "Epoch: 21 Loss: 0.08195024149585516\n",
      "Epoch: 22 Loss: 0.07204709159361664\n",
      "Epoch: 23 Loss: 0.06307577930483967\n",
      "Epoch: 24 Loss: 0.0556266644494608\n",
      "Epoch: 25 Loss: 0.04909446440846659\n",
      "Epoch: 26 Loss: 0.04504672042792663\n",
      "Epoch: 27 Loss: 0.0403533535435563\n",
      "Epoch: 28 Loss: 0.03498515083733946\n",
      "Epoch: 29 Loss: 0.03240798624558374\n",
      "Epoch: 30 Loss: 0.028623275029007345\n",
      "Epoch: 31 Loss: 0.026964400861528702\n",
      "Epoch: 32 Loss: 0.02446826092421543\n",
      "Epoch: 33 Loss: 0.022550127353257267\n",
      "Epoch: 34 Loss: 0.020735946478671396\n",
      "Epoch: 35 Loss: 0.019089762430055997\n",
      "Epoch: 36 Loss: 0.018105108550284056\n",
      "Epoch: 37 Loss: 0.016815861769428012\n",
      "Epoch: 38 Loss: 0.015578600858149003\n",
      "Epoch: 39 Loss: 0.014831301917380187\n",
      "Epoch: 40 Loss: 0.01397457023766765\n",
      "Epoch: 41 Loss: 0.013357686775634647\n",
      "Epoch: 42 Loss: 0.01264111190357653\n",
      "Epoch: 43 Loss: 0.01204217040957883\n",
      "Epoch: 44 Loss: 0.011147212394957024\n",
      "Epoch: 45 Loss: 0.01078834626902244\n",
      "Epoch: 46 Loss: 0.010399720747067477\n",
      "Epoch: 47 Loss: 0.009944124249188462\n",
      "Epoch: 48 Loss: 0.009324416076007765\n",
      "Epoch: 49 Loss: 0.008904084621348375\n",
      "Epoch: 50 Loss: 0.008750296174825053\n",
      "Epoch: 51 Loss: 0.008305936621800356\n",
      "Epoch: 52 Loss: 0.008053834834456212\n",
      "Epoch: 53 Loss: 0.007708159346228058\n",
      "Epoch: 54 Loss: 0.007421276164637675\n",
      "Epoch: 55 Loss: 0.007199498766414763\n",
      "Epoch: 56 Loss: 0.006912869039108045\n",
      "Epoch: 57 Loss: 0.006725625161512653\n",
      "Epoch: 58 Loss: 0.006495217209347174\n",
      "Epoch: 59 Loss: 0.006251711698962026\n",
      "Epoch: 60 Loss: 0.006094907195244559\n",
      "Epoch: 61 Loss: 0.005872482257342199\n",
      "Epoch: 62 Loss: 0.005747060624623373\n",
      "Epoch: 63 Loss: 0.005523480503943574\n",
      "Epoch: 64 Loss: 0.005403653039538767\n",
      "Epoch: 65 Loss: 0.005228367162843825\n",
      "Epoch: 66 Loss: 0.005112169418345729\n",
      "Epoch: 67 Loss: 0.004993283370291465\n",
      "Epoch: 68 Loss: 0.004798608051878546\n",
      "Epoch: 69 Loss: 0.004691062540103303\n",
      "Epoch: 70 Loss: 0.004571346435819578\n",
      "Epoch: 71 Loss: 0.004484720321197528\n",
      "Epoch: 72 Loss: 0.0043520915532608345\n",
      "Epoch: 73 Loss: 0.004256745385893737\n",
      "Epoch: 74 Loss: 0.0041755572173196925\n",
      "Epoch: 75 Loss: 0.004069194032992527\n",
      "Epoch: 76 Loss: 0.003955835903478146\n",
      "Epoch: 77 Loss: 0.0038908350939555023\n",
      "Epoch: 78 Loss: 0.00380723565950575\n",
      "Epoch: 79 Loss: 0.003694911747281367\n",
      "Epoch: 80 Loss: 0.003643798335664087\n",
      "Epoch: 81 Loss: 0.0035605467652239896\n",
      "Epoch: 82 Loss: 0.0035055427337356377\n",
      "Epoch: 83 Loss: 0.0034097395243370557\n",
      "Epoch: 84 Loss: 0.003343974273768708\n",
      "Epoch: 85 Loss: 0.0032920746400523057\n",
      "Epoch: 86 Loss: 0.0032236991262685707\n",
      "Epoch: 87 Loss: 0.003162483989737666\n",
      "Epoch: 88 Loss: 0.0030931655736967513\n",
      "Epoch: 89 Loss: 0.003034778349998305\n",
      "Epoch: 90 Loss: 0.0029969162718471126\n",
      "Epoch: 91 Loss: 0.0029338859997442342\n",
      "Epoch: 92 Loss: 0.0028743716721310194\n",
      "Epoch: 93 Loss: 0.0028266660308145218\n",
      "Epoch: 94 Loss: 0.002767357727508852\n",
      "Epoch: 95 Loss: 0.002744027177155658\n",
      "Epoch: 96 Loss: 0.002694684007634322\n",
      "Epoch: 97 Loss: 0.002653527496213428\n",
      "Epoch: 98 Loss: 0.002602646065175577\n",
      "Epoch: 99 Loss: 0.002567536314085373\n",
      "Epoch: 0 Loss: 2.2336747690836587\n",
      "Epoch: 1 Loss: 1.7102713623046875\n",
      "Epoch: 2 Loss: 0.9245540754795074\n",
      "Epoch: 3 Loss: 0.6011005358894667\n",
      "Epoch: 4 Loss: 0.47280555094281834\n",
      "Epoch: 5 Loss: 0.4053532894651095\n",
      "Epoch: 6 Loss: 0.352112487214307\n",
      "Epoch: 7 Loss: 0.3158400021481017\n",
      "Epoch: 8 Loss: 0.27929317399735254\n",
      "Epoch: 9 Loss: 0.2545129304441313\n",
      "Epoch: 10 Loss: 0.22943101440773656\n",
      "Epoch: 11 Loss: 0.20777144078786175\n",
      "Epoch: 12 Loss: 0.18904918314889074\n",
      "Epoch: 13 Loss: 0.1658608673205599\n",
      "Epoch: 14 Loss: 0.1553236517344291\n",
      "Epoch: 15 Loss: 0.13467623935686424\n",
      "Epoch: 16 Loss: 0.12271627091818178\n",
      "Epoch: 17 Loss: 0.10598082361215104\n",
      "Epoch: 18 Loss: 0.09710267098597251\n",
      "Epoch: 19 Loss: 0.08407339902253201\n",
      "Epoch: 20 Loss: 0.07465689973098537\n",
      "Epoch: 21 Loss: 0.06417092591671583\n",
      "Epoch: 22 Loss: 0.05821079332513424\n",
      "Epoch: 23 Loss: 0.04988720057819349\n",
      "Epoch: 24 Loss: 0.046540939786432624\n",
      "Epoch: 25 Loss: 0.0385193711980246\n",
      "Epoch: 26 Loss: 0.03389938955785086\n",
      "Epoch: 27 Loss: 0.030684583405284988\n",
      "Epoch: 28 Loss: 0.02688371885288507\n",
      "Epoch: 29 Loss: 0.024916933994684465\n",
      "Epoch: 30 Loss: 0.022255728287573825\n",
      "Epoch: 31 Loss: 0.019332705714924184\n",
      "Epoch: 32 Loss: 0.018986869057950873\n",
      "Epoch: 33 Loss: 0.01657825331461451\n",
      "Epoch: 34 Loss: 0.014721520621407157\n",
      "Epoch: 35 Loss: 0.01367214306149981\n",
      "Epoch: 36 Loss: 0.012893766086926916\n",
      "Epoch: 37 Loss: 0.01184357334410394\n",
      "Epoch: 38 Loss: 0.010974574487709712\n",
      "Epoch: 39 Loss: 0.010383219377656738\n",
      "Epoch: 40 Loss: 0.009589410578967849\n",
      "Epoch: 41 Loss: 0.009292834544362753\n",
      "Epoch: 42 Loss: 0.008592133392638061\n",
      "Epoch: 43 Loss: 0.008295080231143705\n",
      "Epoch: 44 Loss: 0.007828587684814314\n",
      "Epoch: 45 Loss: 0.007414026227014195\n",
      "Epoch: 46 Loss: 0.007148460246349714\n",
      "Epoch: 47 Loss: 0.006708176170164734\n",
      "Epoch: 48 Loss: 0.006443137163269967\n",
      "Epoch: 49 Loss: 0.006199248368211556\n",
      "Epoch: 50 Loss: 0.005982638845404532\n",
      "Epoch: 51 Loss: 0.005694143912141347\n",
      "Epoch: 52 Loss: 0.005522173087412132\n",
      "Epoch: 53 Loss: 0.0052952891661496625\n",
      "Epoch: 54 Loss: 0.00506931975269678\n",
      "Epoch: 55 Loss: 0.004950941552283135\n",
      "Epoch: 56 Loss: 0.004740754257653255\n",
      "Epoch: 57 Loss: 0.00459977227266783\n",
      "Epoch: 58 Loss: 0.004414258191147989\n",
      "Epoch: 59 Loss: 0.004306211244855755\n",
      "Epoch: 60 Loss: 0.004146708974752376\n",
      "Epoch: 61 Loss: 0.004021405050883914\n",
      "Epoch: 62 Loss: 0.003906957608752994\n",
      "Epoch: 63 Loss: 0.0038204580169864735\n",
      "Epoch: 64 Loss: 0.0036705623870564824\n",
      "Epoch: 65 Loss: 0.003575951954762786\n",
      "Epoch: 66 Loss: 0.00346978013406139\n",
      "Epoch: 67 Loss: 0.003413781511674339\n",
      "Epoch: 68 Loss: 0.0032910669657685502\n",
      "Epoch: 69 Loss: 0.0032413429026582887\n",
      "Epoch: 70 Loss: 0.003135702528281096\n",
      "Epoch: 71 Loss: 0.0030492244349316026\n",
      "Epoch: 72 Loss: 0.0030080448339540452\n",
      "Epoch: 73 Loss: 0.0029258236214551704\n",
      "Epoch: 74 Loss: 0.00285414207263716\n",
      "Epoch: 75 Loss: 0.0027806998947313938\n",
      "Epoch: 76 Loss: 0.0027232752525245207\n",
      "Epoch: 77 Loss: 0.0026570630627541806\n",
      "Epoch: 78 Loss: 0.002616336559457219\n",
      "Epoch: 79 Loss: 0.0025450149404376435\n",
      "Epoch: 80 Loss: 0.002508457100168016\n",
      "Epoch: 81 Loss: 0.002458567552811625\n",
      "Epoch: 82 Loss: 0.002397939568338188\n",
      "Epoch: 83 Loss: 0.00235584431814065\n",
      "Epoch: 84 Loss: 0.002308768235027268\n",
      "Epoch: 85 Loss: 0.002262057408963751\n",
      "Epoch: 86 Loss: 0.0022011073659667394\n",
      "Epoch: 87 Loss: 0.002170410248158684\n",
      "Epoch: 88 Loss: 0.0021332674231859224\n",
      "Epoch: 89 Loss: 0.002105249968857606\n",
      "Epoch: 90 Loss: 0.0020526199666655886\n",
      "Epoch: 91 Loss: 0.002021755117644716\n",
      "Epoch: 92 Loss: 0.0019897186871039594\n",
      "Epoch: 93 Loss: 0.0019486673711204881\n",
      "Epoch: 94 Loss: 0.001918895406943193\n",
      "Epoch: 95 Loss: 0.0018902756869172872\n",
      "Epoch: 96 Loss: 0.0018566619374208433\n",
      "Epoch: 97 Loss: 0.0018239728089677859\n",
      "Epoch: 98 Loss: 0.0017981682993924249\n",
      "Epoch: 99 Loss: 0.001768161202498959\n",
      "Epoch: 0 Loss: 2.1761472973823546\n",
      "Epoch: 1 Loss: 1.3249728944897652\n",
      "Epoch: 2 Loss: 0.6634265128448605\n",
      "Epoch: 3 Loss: 0.47887348736077545\n",
      "Epoch: 4 Loss: 0.4003603743351996\n",
      "Epoch: 5 Loss: 0.34446703980863097\n",
      "Epoch: 6 Loss: 0.30475187254836783\n",
      "Epoch: 7 Loss: 0.2748451581634581\n",
      "Epoch: 8 Loss: 0.24871746300533415\n",
      "Epoch: 9 Loss: 0.22548293405398726\n",
      "Epoch: 10 Loss: 0.20150451654964127\n",
      "Epoch: 11 Loss: 0.1803266818744596\n",
      "Epoch: 12 Loss: 0.16219268942112103\n",
      "Epoch: 13 Loss: 0.14244516433239915\n",
      "Epoch: 14 Loss: 0.11940403790361598\n",
      "Epoch: 15 Loss: 0.11122649873865885\n",
      "Epoch: 16 Loss: 0.10016495225008111\n",
      "Epoch: 17 Loss: 0.08719302664978022\n",
      "Epoch: 18 Loss: 0.07345665541942435\n",
      "Epoch: 19 Loss: 0.06550652346579591\n",
      "Epoch: 20 Loss: 0.05533207243657671\n",
      "Epoch: 21 Loss: 0.050555221154500035\n",
      "Epoch: 22 Loss: 0.0454033319928858\n",
      "Epoch: 23 Loss: 0.04038208059764293\n",
      "Epoch: 24 Loss: 0.033221442744208615\n",
      "Epoch: 25 Loss: 0.03072937881652615\n",
      "Epoch: 26 Loss: 0.02692355318628688\n",
      "Epoch: 27 Loss: 0.024564237827406032\n",
      "Epoch: 28 Loss: 0.020937818881793645\n",
      "Epoch: 29 Loss: 0.018953899478855646\n",
      "Epoch: 30 Loss: 0.017223251044839342\n",
      "Epoch: 31 Loss: 0.016470873221671355\n",
      "Epoch: 32 Loss: 0.014023793633701643\n",
      "Epoch: 33 Loss: 0.012448556488914618\n",
      "Epoch: 34 Loss: 0.011406953058154614\n",
      "Epoch: 35 Loss: 0.01078606694633845\n",
      "Epoch: 36 Loss: 0.00968025606928768\n",
      "Epoch: 37 Loss: 0.008897649453832856\n",
      "Epoch: 38 Loss: 0.00858741882563561\n",
      "Epoch: 39 Loss: 0.007917133495776852\n",
      "Epoch: 40 Loss: 0.007475808978444547\n",
      "Epoch: 41 Loss: 0.0070619833498067235\n",
      "Epoch: 42 Loss: 0.006591444362001312\n",
      "Epoch: 43 Loss: 0.006264145491489216\n",
      "Epoch: 44 Loss: 0.005850829465465494\n",
      "Epoch: 45 Loss: 0.005700351305215008\n",
      "Epoch: 46 Loss: 0.005479263371391881\n",
      "Epoch: 47 Loss: 0.005148673892796524\n",
      "Epoch: 48 Loss: 0.004953834556539263\n",
      "Epoch: 49 Loss: 0.00477177738971659\n",
      "Epoch: 50 Loss: 0.004544985563913315\n",
      "Epoch: 51 Loss: 0.004361859883100806\n",
      "Epoch: 52 Loss: 0.0041734585166122995\n",
      "Epoch: 53 Loss: 0.004073585370230173\n",
      "Epoch: 54 Loss: 0.003918894283732698\n",
      "Epoch: 55 Loss: 0.0037913670474238187\n",
      "Epoch: 56 Loss: 0.0036519442619243137\n",
      "Epoch: 57 Loss: 0.003514246074336825\n",
      "Epoch: 58 Loss: 0.0034064092595542093\n",
      "Epoch: 59 Loss: 0.0032892296719987824\n",
      "Epoch: 60 Loss: 0.0031862583817591455\n",
      "Epoch: 61 Loss: 0.0031136660619221174\n",
      "Epoch: 62 Loss: 0.003025520024160528\n",
      "Epoch: 63 Loss: 0.002930776947719096\n",
      "Epoch: 64 Loss: 0.002858514742712032\n",
      "Epoch: 65 Loss: 0.002771397864832906\n",
      "Epoch: 66 Loss: 0.00270234685552569\n",
      "Epoch: 67 Loss: 0.002628875212201308\n",
      "Epoch: 68 Loss: 0.002547558858801267\n",
      "Epoch: 69 Loss: 0.002501227944135849\n",
      "Epoch: 70 Loss: 0.0024288716102828403\n",
      "Epoch: 71 Loss: 0.002377195779330947\n",
      "Epoch: 72 Loss: 0.002316567253096366\n",
      "Epoch: 73 Loss: 0.002262003327285129\n",
      "Epoch: 74 Loss: 0.002214456821106964\n",
      "Epoch: 75 Loss: 0.002166235829677021\n",
      "Epoch: 76 Loss: 0.0021105569065284014\n",
      "Epoch: 77 Loss: 0.002071022301304538\n",
      "Epoch: 78 Loss: 0.0020264708623224125\n",
      "Epoch: 79 Loss: 0.001974923338637495\n",
      "Epoch: 80 Loss: 0.001941684092517896\n",
      "Epoch: 81 Loss: 0.0019014405841683128\n",
      "Epoch: 82 Loss: 0.0018625895595207568\n",
      "Epoch: 83 Loss: 0.0018289811656412099\n",
      "Epoch: 84 Loss: 0.0017924878857764953\n",
      "Epoch: 85 Loss: 0.0017531486902249468\n",
      "Epoch: 86 Loss: 0.001726546621963024\n",
      "Epoch: 87 Loss: 0.0016839904881817346\n",
      "Epoch: 88 Loss: 0.0016588843364564205\n",
      "Epoch: 89 Loss: 0.001630912579284427\n",
      "Epoch: 90 Loss: 0.0015949546499684857\n",
      "Epoch: 91 Loss: 0.0015730867101888038\n",
      "Epoch: 92 Loss: 0.0015459461697399774\n",
      "Epoch: 93 Loss: 0.0015182486179335726\n",
      "Epoch: 94 Loss: 0.001493978758055988\n",
      "Epoch: 95 Loss: 0.001463000914968834\n",
      "Epoch: 96 Loss: 0.001447193336304906\n",
      "Epoch: 97 Loss: 0.00142170063885888\n",
      "Epoch: 98 Loss: 0.0013989244293860566\n",
      "Epoch: 99 Loss: 0.0013775145569069878\n"
     ]
    }
   ],
   "source": [
    "for size, train_loader in train_loaders.items():\n",
    "    \n",
    "    start = time.time()\n",
    "\n",
    "    mnist_net = mnistNet()\n",
    "    mnist_net = mnist_net.float()\n",
    "    mnist_net.to(device)\n",
    "    \n",
    "    loss_function = nn.CrossEntropyLoss()\n",
    "    solver = optim.SGD(params=mnist_net.parameters() ,lr=0.01)\n",
    "\n",
    "    trained_model, epochs_loss = train_model(model=mnist_net\n",
    "                                             , criterion = loss_function\n",
    "                                             , optimizer = solver\n",
    "                                             , trainloader = train_loader\n",
    "                                             , epochs = 100\n",
    "                                             , print_info=True)\n",
    "    \n",
    "    end = time.time()\n",
    "    \n",
    "    test_accuracy = test_model(trained_model, test_loader) \n",
    "    \n",
    "    training_time[size] = end-start\n",
    "    training_loss[size] = epochs_loss\n",
    "    testing_acc[size] = test_accuracy"
   ]
  },
  {
   "cell_type": "code",
   "execution_count": 19,
   "metadata": {
    "colab": {
     "base_uri": "https://localhost:8080/"
    },
    "id": "qLi9qNhEAzk7",
    "outputId": "2d1d7cf8-bf28-41c4-ac27-b1ff9ed58dae"
   },
   "outputs": [
    {
     "data": {
      "text/plain": [
       "{500: 54.05074453353882,\n",
       " 1000: 102.80809140205383,\n",
       " 1500: 150.7574336528778,\n",
       " 2000: 201.75717663764954}"
      ]
     },
     "execution_count": 19,
     "metadata": {
      "tags": []
     },
     "output_type": "execute_result"
    }
   ],
   "source": [
    "training_time"
   ]
  },
  {
   "cell_type": "markdown",
   "metadata": {
    "id": "bP45wmXFEFc8"
   },
   "source": [
    "These are the training sizes and training times on Colab with this type of GPU:\n",
    "name, driver_version, memory.total [MiB]\n",
    "Tesla T4, 418.67, 15079 MiB\n",
    "\n",
    "{500: 46.94939208030701,\n",
    " 1000: 82.18376970291138,\n",
    " 1500: 118.70786213874817,\n",
    " 2000: 152.77479720115662}\n",
    "\n",
    "\n",
    " I also tried the same on a TPU and actually got slower training time!\n",
    "\n",
    " {500: 54.05074453353882,\n",
    " 1000: 102.80809140205383,\n",
    " 1500: 150.7574336528778,\n",
    " 2000: 201.75717663764954}\n",
    "\n",
    "\n",
    " The testing accuracies on TPU are:\n",
    " {500: 83.0, 1000: 84.4, 1500: 86.6, 2000: 88.4}\n",
    "\n",
    "\n",
    "\n"
   ]
  },
  {
   "cell_type": "code",
   "execution_count": 27,
   "metadata": {
    "id": "8WmEBm73IB53"
   },
   "outputs": [],
   "source": [
    "gpu={500: 46.94939208030701, 1000: 82.18376970291138, 1500: 118.70786213874817, 2000: 152.77479720115662}"
   ]
  },
  {
   "cell_type": "code",
   "execution_count": 18,
   "metadata": {
    "id": "N6DtYHs2DQwC"
   },
   "outputs": [],
   "source": [
    "from matplotlib import style\n",
    "style.use('fivethirtyeight')"
   ]
  },
  {
   "cell_type": "code",
   "execution_count": 30,
   "metadata": {
    "colab": {
     "base_uri": "https://localhost:8080/",
     "height": 342
    },
    "id": "a_3gZJrUDT44",
    "outputId": "db974240-d6ac-4365-d169-793ed44d4e74"
   },
   "outputs": [
    {
     "data": {
      "text/plain": [
       "<matplotlib.legend.Legend at 0x7f09f522ee10>"
      ]
     },
     "execution_count": 30,
     "metadata": {
      "tags": []
     },
     "output_type": "execute_result"
    },
    {
     "data": {
      "image/png": "[encoded data removed]",
      "text/plain": [
       "<Figure size 432x288 with 1 Axes>"
      ]
     },
     "metadata": {
      "tags": []
     },
     "output_type": "display_data"
    }
   ],
   "source": [
    "plt.plot(list(training_time.keys()), list(training_time.values()), label='TPU')\n",
    "plt.scatter(list(training_time.keys()), list(training_time.values()), s=150)\n",
    "plt.plot(list(gpu.keys()), list(gpu.values()), label='GPU')\n",
    "plt.scatter(list(gpu.keys()), list(gpu.values()), s=150)\n",
    "plt.title(\"Model Size vs Training Time \")\n",
    "plt.xlabel('Training Set Size')\n",
    "plt.ylabel('Time (seconds)')\n",
    "plt.legend()"
   ]
  },
  {
   "cell_type": "code",
   "execution_count": 33,
   "metadata": {
    "id": "MWYmWR-oJlmP"
   },
   "outputs": [],
   "source": [
    "tpu_acc = {500: 83.0, 1000: 84.4, 1500: 86.6, 2000: 88.4}"
   ]
  },
  {
   "cell_type": "code",
   "execution_count": 35,
   "metadata": {
    "colab": {
     "base_uri": "https://localhost:8080/"
    },
    "id": "7TFkCIhXJnaJ",
    "outputId": "b275eb33-9881-4781-b834-132b3cf48ec3"
   },
   "outputs": [
    {
     "data": {
      "text/plain": [
       "{500: 83.0, 1000: 84.4, 1500: 86.6, 2000: 88.4}"
      ]
     },
     "execution_count": 35,
     "metadata": {
      "tags": []
     },
     "output_type": "execute_result"
    }
   ],
   "source": [
    "tpu_acc"
   ]
  },
  {
   "cell_type": "code",
   "execution_count": 16,
   "metadata": {
    "colab": {
     "base_uri": "https://localhost:8080/"
    },
    "id": "wfm1wdclDgKE",
    "outputId": "bfa3091d-acdc-44d3-d0e0-0bb9ba506acd"
   },
   "outputs": [
    {
     "data": {
      "text/plain": [
       "{500: 82.3, 1000: 83.8, 1500: 87.1, 2000: 88.4}"
      ]
     },
     "execution_count": 16,
     "metadata": {
      "tags": []
     },
     "output_type": "execute_result"
    }
   ],
   "source": [
    "testing_acc"
   ]
  },
  {
   "cell_type": "code",
   "execution_count": 20,
   "metadata": {
    "colab": {
     "base_uri": "https://localhost:8080/",
     "height": 342
    },
    "id": "vuhme5q4I1Rm",
    "outputId": "181a828c-9b21-4d22-ffa5-af607639791e"
   },
   "outputs": [
    {
     "data": {
      "text/plain": [
       "Text(0, 0.5, 'Accuracy %')"
      ]
     },
     "execution_count": 20,
     "metadata": {
      "tags": []
     },
     "output_type": "execute_result"
    },
    {
     "data": {
      "image/png": "[encoded data removed]",
      "text/plain": [
       "<Figure size 432x288 with 1 Axes>"
      ]
     },
     "metadata": {
      "tags": []
     },
     "output_type": "display_data"
    }
   ],
   "source": [
    "plt.plot(list(testing_acc.keys()), list(testing_acc.values()))\n",
    "plt.scatter(list(testing_acc.keys()), list(testing_acc.values()), s=150)\n",
    "plt.title(\"Model Size vs Accuracy\")\n",
    "plt.xlabel('Training Set Size')\n",
    "plt.ylabel('Accuracy %')"
   ]
  },
  {
   "cell_type": "code",
   "execution_count": null,
   "metadata": {
    "id": "mT2ZzbrqLyRR"
   },
   "outputs": [],
   "source": []
  }
 ],
 "metadata": {
  "accelerator": "GPU",
  "colab": {
   "name": "Untitled1.ipynb",
   "provenance": []
  },
  "kernelspec": {
   "display_name": "Python 3",
   "language": "python",
   "name": "python3"
  },
  "language_info": {
   "codemirror_mode": {
    "name": "ipython",
    "version": 3
   },
   "file_extension": ".py",
   "mimetype": "text/x-python",
   "name": "python",
   "nbconvert_exporter": "python",
   "pygments_lexer": "ipython3",
   "version": "3.7.4"
  }
 },
 "nbformat": 4,
 "nbformat_minor": 4
}
