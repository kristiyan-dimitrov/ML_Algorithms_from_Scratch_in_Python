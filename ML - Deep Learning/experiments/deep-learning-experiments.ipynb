{
 "cells": [
  {
   "cell_type": "markdown",
   "metadata": {},
   "source": [
    "# Deep Learning Experiments\n",
    "If you would like here is some structure for your experiments in a jupyter notebook. Here are some important keyboard shortcuts \n",
    "* shift + enter - run current cell and move to next cell\n",
    "* ctrl + enter - run current cell "
   ]
  },
  {
   "cell_type": "markdown",
   "metadata": {},
   "source": [
    "## Dependencies"
   ]
  },
  {
   "cell_type": "code",
   "execution_count": 91,
   "metadata": {},
   "outputs": [],
   "source": [
    "# if you need any other modules feel free to add them here\n",
    "import sys\n",
    "sys.path.append(\"..\") \n",
    "\n",
    "# from src.models import Digit_Classifier, Dog_Classifier_FC, Dog_Classifier_Conv, Synth_Classifier\n",
    "# from src.run_model import run_model\n",
    "from data.load_data import load_mnist_data\n",
    "from data.my_dataset import MyDataset\n",
    "from dogs import *\n",
    "\n",
    "import matplotlib.pyplot as plt\n",
    "import numpy as np\n",
    "import time\n",
    "import csv\n",
    "import os\n",
    "\n",
    "import torch\n",
    "import torchvision\n",
    "import torchvision.transforms as transforms\n",
    "import matplotlib.pyplot as plt\n",
    "import numpy as np\n",
    "import torch.optim as optim\n",
    "import torch.nn as nn\n",
    "import torch.nn.functional as F"
   ]
  },
  {
   "cell_type": "code",
   "execution_count": 86,
   "metadata": {},
   "outputs": [
    {
     "name": "stdout",
     "output_type": "stream",
     "text": [
      "Using device:  cpu\n"
     ]
    }
   ],
   "source": [
    "def train_model(model, criterion, optimizer, trainloader, epochs=10, devloader=None, print_info=True):\n",
    "    epochs_loss = []\n",
    "    epoch_acc = []\n",
    "    running_loss = 0.0\n",
    "    # the length of the train loader will give you the number of mini-batches\n",
    "    # not the cleanest solution but for now it generalizes well and avoids \n",
    "    # computation that we don't need\n",
    "    minibatches = len(trainloader)\n",
    "    # moving the network onto the gpu/cpu\n",
    "    model = model.to(device)\n",
    "    for epoch in range(epochs):\n",
    "        epoch_loss = 0.0\n",
    "#         batches_complete = 0\n",
    "        for batch, labels in trainloader: # Per this doc, (batch,labels) = trainloader.__getitem__(); https://pytorch.org/docs/stable/torchvision/datasets.html#cifar\n",
    "\n",
    "            # Keeping track of number of batches processed\n",
    "#             if batches_complete % 1000 == 0:\n",
    "#                 print(\"BATCHES COMPLETE: \", batches_complete)\n",
    "#             batches_complete += 1\n",
    "            \n",
    "            # batch is a tensor with m elements, where each element is \n",
    "            # a training example\n",
    "\n",
    "            # moving batch/labels onto the gpu/cpu\n",
    "            batch, labels = batch.to(device), labels.to(device)\n",
    "            \n",
    "            # zeroing the parameters of the model \n",
    "            # becuase we want to optimize them\n",
    "            optimizer.zero_grad()\n",
    "            \n",
    "            # forward pass\n",
    "            # getting the predictions from our model by passing in a mini-batch\n",
    "            # the ouput will have shape (mini-batch-size, number-of-classes)\n",
    "            # where each element of output is the probabliity of that example being\n",
    "            # the classification correspoding to the index of the value\n",
    "            output = model(batch.float()) # <---- Added .float() as a modification to avoid Runtime error per this post: https://stackoverflow.com/questions/56741087/how-to-fix-runtimeerror-expected-object-of-scalar-type-float-but-got-scalar-typ\n",
    "            loss = criterion(output, labels.long()) # <---- Added .long() per a CampusWire discussion in post #2505\n",
    "            \n",
    "            # backward pass\n",
    "            loss.backward()\n",
    "            \n",
    "            # optimize the parameters\n",
    "            optimizer.step()\n",
    "            \n",
    "            # add the loss of a mini-batch to the list of epoch loss\n",
    "            epoch_loss += loss.item()\n",
    "\n",
    "        #  after each epoch we need to average out the loss across all minibatches\n",
    "        epochs_loss.append(epoch_loss/minibatches)\n",
    "        # printing some info\n",
    "        if print_info:\n",
    "            print(f'Epoch: {epoch} Loss: {epoch_loss/minibatches}')\n",
    "    return model, epoch_loss\n",
    "                \n",
    "\n",
    "def test_model(model, testloader): # Takes in just model you want to test and the data you want to test it on\n",
    "    # variables to keep count of correct labels and the total labels in a mini batch\n",
    "    correct = 0\n",
    "    total = 0\n",
    "    # since we're testing the model we don't need to perform backprop\n",
    "    with torch.no_grad(): # Disables gradient calculation to save memory; we're sure we won't be using Tensor.backward()\n",
    "        for batch, labels in testloader:\n",
    "            batch, labels = batch, labels # So we don't modify original dataset?\n",
    "            output = model(batch.float()) # <---- Added .float() to solve for RuntimeError\n",
    "            # this gives us the index with the highest value outputed from the last layer\n",
    "            # which coressponds to the most probable label/classification for an image\n",
    "            predicted = torch.max(output.data, 1)[1]\n",
    "            total += labels.size(0)\n",
    "            correct += (predicted == labels).sum().item()\n",
    "\n",
    "    test_accuracy = 100 * correct / total\n",
    "    return test_accuracy\n",
    "    \n",
    "device = torch.device('cuda' if torch.cuda.is_available()  else 'cpu')\n",
    "print('Using device: ', device)"
   ]
  },
  {
   "cell_type": "markdown",
   "metadata": {},
   "source": [
    "## MNIST"
   ]
  },
  {
   "cell_type": "markdown",
   "metadata": {},
   "source": [
    "#### Cell for Spliting Data\n",
    "Here I have given you an example of loading in a training dataset. Remember you need 4 differently sized datasets for this part of the experiment (experimenting trainingset size to see how it changes accuracy and training time). I have also given you the testing set you need, you won't need to make any other testing sets. "
   ]
  },
  {
   "cell_type": "markdown",
   "metadata": {},
   "source": [
    "### Ok, I will play around with the load_mnist_data function a bit, to get an idea of how it works (I also read the code)"
   ]
  },
  {
   "cell_type": "code",
   "execution_count": 6,
   "metadata": {},
   "outputs": [],
   "source": [
    "training_size = 50 # this corresponds to examples_per_class parameter"
   ]
  },
  {
   "cell_type": "code",
   "execution_count": 8,
   "metadata": {},
   "outputs": [],
   "source": [
    "example_data_split = load_mnist_data(10, 1.0, training_size)"
   ]
  },
  {
   "cell_type": "code",
   "execution_count": 11,
   "metadata": {},
   "outputs": [
    {
     "data": {
      "text/plain": [
       "(array([[0., 0., 0., ..., 0., 0., 0.],\n",
       "        [0., 0., 0., ..., 0., 0., 0.],\n",
       "        [0., 0., 0., ..., 0., 0., 0.],\n",
       "        ...,\n",
       "        [0., 0., 0., ..., 0., 0., 0.],\n",
       "        [0., 0., 0., ..., 0., 0., 0.],\n",
       "        [0., 0., 0., ..., 0., 0., 0.]]),\n",
       " array([], shape=(1, 0), dtype=float64),\n",
       " array([5, 0, 4, 1, 9, 2, 1, 3, 1, 4, 3, 5, 3, 6, 1, 7, 2, 8, 6, 9, 4, 0,\n",
       "        9, 1, 1, 2, 4, 3, 2, 7, 3, 8, 6, 9, 0, 5, 6, 0, 7, 6, 1, 8, 7, 9,\n",
       "        3, 9, 8, 5, 9, 3, 3, 0, 7, 4, 9, 8, 0, 9, 4, 1, 4, 4, 6, 0, 4, 5,\n",
       "        6, 1, 0, 0, 1, 7, 1, 6, 3, 0, 2, 1, 1, 7, 9, 0, 2, 6, 7, 8, 3, 9,\n",
       "        0, 4, 6, 7, 4, 6, 8, 0, 7, 8, 3, 1, 5, 7, 1, 7, 1, 1, 6, 3, 0, 2,\n",
       "        9, 3, 1, 1, 0, 4, 9, 2, 0, 0, 2, 0, 2, 7, 1, 8, 6, 4, 1, 6, 3, 4,\n",
       "        5, 9, 1, 3, 3, 8, 5, 4, 7, 7, 4, 2, 8, 5, 8, 6, 7, 3, 4, 6, 1, 9,\n",
       "        9, 6, 0, 3, 7, 2, 8, 2, 9, 4, 4, 6, 4, 9, 7, 0, 9, 2, 9, 5, 1, 5,\n",
       "        9, 1, 2, 3, 2, 3, 5, 9, 1, 7, 6, 2, 8, 2, 2, 5, 0, 7, 4, 9, 7, 8,\n",
       "        3, 2, 1, 1, 8, 3, 6, 1, 0, 3, 1, 0, 0, 1, 7, 2, 7, 3, 0, 4, 6, 5,\n",
       "        2, 6, 4, 7, 1, 8, 9, 9, 3, 0, 7, 1, 0, 2, 0, 3, 5, 4, 6, 5, 8, 6,\n",
       "        3, 7, 5, 8, 0, 9, 1, 0, 3, 1, 2, 2, 3, 3, 6, 4, 7, 5, 0, 6, 2, 7,\n",
       "        9, 8, 5, 9, 2, 1, 1, 4, 4, 5, 6, 4, 1, 2, 5, 3, 9, 3, 9, 0, 5, 9,\n",
       "        6, 5, 7, 4, 1, 3, 4, 0, 4, 8, 0, 4, 3, 6, 8, 7, 6, 0, 9, 7, 5, 7,\n",
       "        2, 1, 1, 6, 8, 9, 4, 1, 5, 2, 2, 9, 0, 3, 9, 6, 7, 2, 0, 3, 5, 4,\n",
       "        3, 6, 5, 8, 9, 5, 4, 7, 4, 2, 7, 3, 4, 8, 9, 1, 9, 2, 8, 7, 9, 1,\n",
       "        8, 7, 4, 1, 3, 1, 1, 0, 2, 3, 9, 4, 9, 2, 1, 6, 8, 4, 7, 7, 4, 4,\n",
       "        9, 2, 5, 7, 2, 4, 4, 2, 1, 9, 7, 2, 8, 7, 6, 9, 2, 2, 3, 8, 1, 6,\n",
       "        5, 0, 2, 6, 4, 5, 8, 3, 5, 9, 2, 7, 4, 4, 4, 8, 5, 8, 9, 5, 6, 7,\n",
       "        9, 9, 3, 7, 0, 9, 0, 6, 6, 2, 3, 9, 0, 7, 5, 4, 8, 0, 4, 2, 8, 7,\n",
       "        2, 6, 0, 3, 0, 8, 2, 0, 3, 0, 5, 0, 6, 7, 7, 8, 2, 0, 5, 2, 7, 3,\n",
       "        5, 8, 3, 6, 0, 3, 6, 3, 5, 6, 8, 5, 8, 5, 6, 5, 5, 5, 5, 8, 5, 8,\n",
       "        8, 6, 6, 5, 8, 5, 5, 8, 6, 5, 8, 6, 8, 8, 8, 8], dtype=int8),\n",
       " array([], dtype=float64))"
      ]
     },
     "execution_count": 11,
     "metadata": {},
     "output_type": "execute_result"
    }
   ],
   "source": [
    "example_data_split"
   ]
  },
  {
   "cell_type": "code",
   "execution_count": 10,
   "metadata": {},
   "outputs": [
    {
     "data": {
      "text/plain": [
       "4"
      ]
     },
     "execution_count": 10,
     "metadata": {},
     "output_type": "execute_result"
    }
   ],
   "source": [
    "len(example_data_split)"
   ]
  },
  {
   "cell_type": "code",
   "execution_count": 13,
   "metadata": {},
   "outputs": [
    {
     "data": {
      "text/plain": [
       "(500, 784)"
      ]
     },
     "execution_count": 13,
     "metadata": {},
     "output_type": "execute_result"
    }
   ],
   "source": [
    "example_data_split[0].shape # The first element is the training features, which has 500 flattened images"
   ]
  },
  {
   "cell_type": "code",
   "execution_count": 15,
   "metadata": {},
   "outputs": [
    {
     "data": {
      "text/plain": [
       "(1, 0)"
      ]
     },
     "execution_count": 15,
     "metadata": {},
     "output_type": "execute_result"
    }
   ],
   "source": [
    "example_data_split[1].shape # The second element is the testing features; Here it is empty because we specified fraction = 1"
   ]
  },
  {
   "cell_type": "code",
   "execution_count": 19,
   "metadata": {},
   "outputs": [
    {
     "data": {
      "text/plain": [
       "(500,)"
      ]
     },
     "execution_count": 19,
     "metadata": {},
     "output_type": "execute_result"
    }
   ],
   "source": [
    "example_data_split[2].shape # These are the training targets i.e. the labels, the actual numbers in the images"
   ]
  },
  {
   "cell_type": "code",
   "execution_count": 17,
   "metadata": {},
   "outputs": [
    {
     "data": {
      "text/plain": [
       "(array([0, 1, 2, 3, 4, 5, 6, 7, 8, 9], dtype=int8),\n",
       " array([50, 50, 50, 50, 50, 50, 50, 50, 50, 50]))"
      ]
     },
     "execution_count": 17,
     "metadata": {},
     "output_type": "execute_result"
    }
   ],
   "source": [
    "np.unique(example_data_split[2], return_counts=True) # Confirmed that there are indeed 50 of each class in our training dataset"
   ]
  },
  {
   "cell_type": "code",
   "execution_count": 20,
   "metadata": {},
   "outputs": [
    {
     "data": {
      "text/plain": [
       "(0,)"
      ]
     },
     "execution_count": 20,
     "metadata": {},
     "output_type": "execute_result"
    }
   ],
   "source": [
    "example_data_split[3].shape # These are the testing targets, which is empty because fraction = 1"
   ]
  },
  {
   "cell_type": "code",
   "execution_count": 21,
   "metadata": {},
   "outputs": [],
   "source": [
    "example_training_set = MyDataset(example_data_split[0], example_data_split[2])"
   ]
  },
  {
   "cell_type": "code",
   "execution_count": 26,
   "metadata": {},
   "outputs": [
    {
     "name": "stdout",
     "output_type": "stream",
     "text": [
      "(500, 784)\n",
      "500\n"
     ]
    }
   ],
   "source": [
    "print(example_training_set.x.shape) # The MyDataset class is just a wrapper that allows us to iterate over the data, because it gives it the __getitem__() method\n",
    "print(len(example_training_set)) # The len method is also nicely defined, which allows us to see the number of observations, just like a PyTorch Dataset"
   ]
  },
  {
   "cell_type": "markdown",
   "metadata": {},
   "source": [
    "### I think I understand how load_mnist_data works now; Let's create the 4 training datasets of 4 different sizes"
   ]
  },
  {
   "cell_type": "code",
   "execution_count": 31,
   "metadata": {},
   "outputs": [],
   "source": [
    "train_datasets = dict()\n",
    "\n",
    "for size in [500,1000,1500, 2000]:\n",
    "    example_data_split = load_mnist_data(10, 1.0, size/10)\n",
    "    example_training_set = MyDataset(example_data_split[0], example_data_split[2])\n",
    "    train_datasets[size] = example_training_set"
   ]
  },
  {
   "cell_type": "code",
   "execution_count": 37,
   "metadata": {},
   "outputs": [
    {
     "name": "stdout",
     "output_type": "stream",
     "text": [
      "(array([0, 1, 2, 3, 4, 5, 6, 7, 8, 9], dtype=int8), array([50, 50, 50, 50, 50, 50, 50, 50, 50, 50]))\n",
      "(array([0, 1, 2, 3, 4, 5, 6, 7, 8, 9], dtype=int8), array([100, 100, 100, 100, 100, 100, 100, 100, 100, 100]))\n",
      "(array([0, 1, 2, 3, 4, 5, 6, 7, 8, 9], dtype=int8), array([150, 150, 150, 150, 150, 150, 150, 150, 150, 150]))\n",
      "(array([0, 1, 2, 3, 4, 5, 6, 7, 8, 9], dtype=int8), array([200, 200, 200, 200, 200, 200, 200, 200, 200, 200]))\n"
     ]
    }
   ],
   "source": [
    "# Let's double-check that all our training datasets are balanced\n",
    "for key, value in train_datasets.items():\n",
    "    print(np.unique(value.y, return_counts=True))"
   ]
  },
  {
   "cell_type": "markdown",
   "metadata": {},
   "source": [
    "### I will need to convert these MyDataset objects to DataLoader objects"
   ]
  },
  {
   "cell_type": "code",
   "execution_count": 41,
   "metadata": {},
   "outputs": [],
   "source": [
    "train_loaders = dict()\n",
    "\n",
    "for key, value in train_datasets.items():\n",
    "    \n",
    "    train_loaders[key] = torch.utils.data.DataLoader(value,\n",
    "                                                     batch_size=4,\n",
    "                                                     shuffle=True,\n",
    "                                                     num_workers=2)"
   ]
  },
  {
   "cell_type": "code",
   "execution_count": 42,
   "metadata": {},
   "outputs": [
    {
     "data": {
      "text/plain": [
       "{500: <torch.utils.data.dataloader.DataLoader at 0x7fc0403577c0>,\n",
       " 1000: <torch.utils.data.dataloader.DataLoader at 0x7fc0403572b0>,\n",
       " 1500: <torch.utils.data.dataloader.DataLoader at 0x7fc040860400>,\n",
       " 2000: <torch.utils.data.dataloader.DataLoader at 0x7fc0401737f0>}"
      ]
     },
     "execution_count": 42,
     "metadata": {},
     "output_type": "execute_result"
    }
   ],
   "source": [
    "train_loaders"
   ]
  },
  {
   "cell_type": "code",
   "execution_count": 54,
   "metadata": {},
   "outputs": [],
   "source": [
    "# I created the training sets above; below I create the testing dataset per the instructions originally in this notebook\n",
    "# testing set\n",
    "data_split = load_mnist_data(10, 0, 100) # I'm a bit confused as to why we call load_mnist_data twice; \n",
    "                                          # it is capable of giving us train & test data at the same time; \n",
    "                                          # aren't we duplicating observations across train and test set this way?\n",
    "                                          # Maybe it's to ensure we all have the same test dataset :shrug\n",
    "testing_set = MyDataset(data_split[1], data_split[3])\n",
    "\n",
    "# And then the test DataLoader\n",
    "test_loader = torch.utils.data.DataLoader(testing_set\n",
    "                                          , batch_size=4\n",
    "                                          , shuffle=False # I think for the test dataset I don't need shuffle=True\n",
    "                                          , num_workers=2) "
   ]
  },
  {
   "cell_type": "code",
   "execution_count": 55,
   "metadata": {},
   "outputs": [
    {
     "data": {
      "text/plain": [
       "(array([0, 1, 2, 3, 4, 5, 6, 7, 8, 9], dtype=int8),\n",
       " array([100, 100, 100, 100, 100, 100, 100, 100, 100, 100]))"
      ]
     },
     "execution_count": 55,
     "metadata": {},
     "output_type": "execute_result"
    }
   ],
   "source": [
    "np.unique(data_split[3], return_counts=True) # We get 100 samples each when taking size 100;;;When using size=1000, We don't have the full 1000 observations for each class"
   ]
  },
  {
   "cell_type": "markdown",
   "metadata": {},
   "source": [
    "#### Cell for Training\n",
    "Here you need to train 4 models with training set sizes [500, 1000, 1500, 2000]. Track the training time & accuracy. \n",
    "\n",
    "***Optinal*** \n",
    "\n",
    "you can track your training time and accuracy by making a dictionary entry for the model ex.\n",
    "```training_time.update({model_size:training_time})```\n",
    "\n",
    "I've included the dictionary defintions in a cell below, if this method is confusing to you feel free to track any other way.\n"
   ]
  },
  {
   "cell_type": "markdown",
   "metadata": {},
   "source": [
    "### First, let's define the model architecture"
   ]
  },
  {
   "cell_type": "code",
   "execution_count": 87,
   "metadata": {},
   "outputs": [],
   "source": [
    "class mnistNet(nn.Module):\n",
    "    def __init__(self):\n",
    "        super(mnistNet, self).__init__()\n",
    "        self.fc1 = nn.Linear(784, 128)\n",
    "        self.fc2 = nn.Linear(128, 64)\n",
    "        self.fc3 = nn.Linear(64, 10)\n",
    "\n",
    "    def forward(self, x):\n",
    "        x = F.relu(self.fc1(x))\n",
    "        x = F.relu(self.fc2(x))\n",
    "        x = self.fc3(x)\n",
    "#         x = F.log_softmax(x, dim=1) # According to the documentation, I don't need to add log_softmax, because it is integrated in the CrossEntropyLoss class\n",
    "        return x"
   ]
  },
  {
   "cell_type": "code",
   "execution_count": 88,
   "metadata": {},
   "outputs": [],
   "source": [
    "# loss_function = nn.CrossEntropyLoss()\n",
    "# solver = optim.SGD(params=mnist_net.parameters() ,lr=0.01)"
   ]
  },
  {
   "cell_type": "code",
   "execution_count": 74,
   "metadata": {},
   "outputs": [],
   "source": [
    "# Dicionaries to track metrics\n",
    "# training time\n",
    "training_time = {}\n",
    "# training loss\n",
    "training_loss = {}\n",
    "# training accurary \n",
    "training_acc = {}\n",
    "# testing loss \n",
    "# OPTIONAL\n",
    "testing_loss = {}\n",
    "# testing acc\n",
    "testing_acc = {}\n"
   ]
  },
  {
   "cell_type": "code",
   "execution_count": 89,
   "metadata": {},
   "outputs": [
    {
     "name": "stdout",
     "output_type": "stream",
     "text": [
      "Epoch: 0 Loss: 2.283967016220093\n",
      "Epoch: 1 Loss: 2.2172321701049804\n",
      "Epoch: 2 Loss: 2.086350992202759\n",
      "Epoch: 3 Loss: 1.8550745906829833\n",
      "Epoch: 4 Loss: 1.5177337474822998\n",
      "Epoch: 5 Loss: 1.1533058831691743\n",
      "Epoch: 6 Loss: 0.8721833817958832\n",
      "Epoch: 7 Loss: 0.6901570477485657\n",
      "Epoch: 8 Loss: 0.5782067333459854\n",
      "Epoch: 9 Loss: 0.49208107936382295\n",
      "Epoch: 10 Loss: 0.4252114279270172\n",
      "Epoch: 11 Loss: 0.3721803024709225\n",
      "Epoch: 12 Loss: 0.32242185561358927\n",
      "Epoch: 13 Loss: 0.29014152847975494\n",
      "Epoch: 14 Loss: 0.2551022754535079\n",
      "Epoch: 15 Loss: 0.22535398706793786\n",
      "Epoch: 16 Loss: 0.1990913347899914\n",
      "Epoch: 17 Loss: 0.1776972509175539\n",
      "Epoch: 18 Loss: 0.15726644360274075\n",
      "Epoch: 19 Loss: 0.1383003909289837\n",
      "Epoch: 20 Loss: 0.1243285821005702\n",
      "Epoch: 21 Loss: 0.1129237575829029\n",
      "Epoch: 22 Loss: 0.09889189088717103\n",
      "Epoch: 23 Loss: 0.08795044277608395\n",
      "Epoch: 24 Loss: 0.0805586624443531\n",
      "Epoch: 25 Loss: 0.07090350460633635\n",
      "Epoch: 26 Loss: 0.06554334210325033\n",
      "Epoch: 27 Loss: 0.06127654662542045\n",
      "Epoch: 28 Loss: 0.05512191361188889\n",
      "Epoch: 29 Loss: 0.04915018790960312\n",
      "Epoch: 30 Loss: 0.04420830012857914\n",
      "Epoch: 31 Loss: 0.041245578224305066\n",
      "Epoch: 32 Loss: 0.038336568660102786\n",
      "Epoch: 33 Loss: 0.0359662252003327\n",
      "Epoch: 34 Loss: 0.032823360989801584\n",
      "Epoch: 35 Loss: 0.030919626564253122\n",
      "Epoch: 36 Loss: 0.028606974395457656\n",
      "Epoch: 37 Loss: 0.026696024764794855\n",
      "Epoch: 38 Loss: 0.025520364068448542\n",
      "Epoch: 39 Loss: 0.02332598418626003\n",
      "Epoch: 40 Loss: 0.022526058113668115\n",
      "Epoch: 41 Loss: 0.02122169502824545\n",
      "Epoch: 42 Loss: 0.020259117230772974\n",
      "Epoch: 43 Loss: 0.018950933665037153\n",
      "Epoch: 44 Loss: 0.018363506668945775\n",
      "Epoch: 45 Loss: 0.017235274515114724\n",
      "Epoch: 46 Loss: 0.016632765327580273\n",
      "Epoch: 47 Loss: 0.015622841131407767\n",
      "Epoch: 48 Loss: 0.014940904294839128\n",
      "Epoch: 49 Loss: 0.014489780126605184\n",
      "Epoch: 50 Loss: 0.013821138765662908\n",
      "Epoch: 51 Loss: 0.013235741027048789\n",
      "Epoch: 52 Loss: 0.012462420182302595\n",
      "Epoch: 53 Loss: 0.01237792361760512\n",
      "Epoch: 54 Loss: 0.011922543891472742\n",
      "Epoch: 55 Loss: 0.011401025682222099\n",
      "Epoch: 56 Loss: 0.010999937714543193\n",
      "Epoch: 57 Loss: 0.010680168320424855\n",
      "Epoch: 58 Loss: 0.010346476464648731\n",
      "Epoch: 59 Loss: 0.009939380408031866\n",
      "Epoch: 60 Loss: 0.009598935546295252\n",
      "Epoch: 61 Loss: 0.009271672036556993\n",
      "Epoch: 62 Loss: 0.009094658198184334\n",
      "Epoch: 63 Loss: 0.008754498799913564\n",
      "Epoch: 64 Loss: 0.008550578982394655\n",
      "Epoch: 65 Loss: 0.00831728362571448\n",
      "Epoch: 66 Loss: 0.008006993268150837\n",
      "Epoch: 67 Loss: 0.007800165012595244\n",
      "Epoch: 68 Loss: 0.007627115268958732\n",
      "Epoch: 69 Loss: 0.0074274713911581785\n",
      "Epoch: 70 Loss: 0.007247514059767127\n",
      "Epoch: 71 Loss: 0.007046401008265093\n",
      "Epoch: 72 Loss: 0.006860879716230556\n",
      "Epoch: 73 Loss: 0.006703668969275895\n",
      "Epoch: 74 Loss: 0.006608921595150605\n",
      "Epoch: 75 Loss: 0.006394834435224766\n",
      "Epoch: 76 Loss: 0.006220582769135945\n",
      "Epoch: 77 Loss: 0.006128578167932574\n",
      "Epoch: 78 Loss: 0.005961435094970512\n",
      "Epoch: 79 Loss: 0.005792572964797728\n",
      "Epoch: 80 Loss: 0.005737521092232783\n",
      "Epoch: 81 Loss: 0.0055888427565223536\n",
      "Epoch: 82 Loss: 0.005448864126316039\n",
      "Epoch: 83 Loss: 0.005375234075298067\n",
      "Epoch: 84 Loss: 0.005260503871191759\n",
      "Epoch: 85 Loss: 0.005153510761912912\n",
      "Epoch: 86 Loss: 0.005059058315586298\n",
      "Epoch: 87 Loss: 0.004961697229358833\n",
      "Epoch: 88 Loss: 0.004847414101706818\n",
      "Epoch: 89 Loss: 0.004768511438625864\n",
      "Epoch: 90 Loss: 0.004646549065655563\n",
      "Epoch: 91 Loss: 0.004597167259489652\n",
      "Epoch: 92 Loss: 0.004502794651678414\n",
      "Epoch: 93 Loss: 0.004424269797978922\n",
      "Epoch: 94 Loss: 0.004357025113655254\n",
      "Epoch: 95 Loss: 0.004280680459851282\n",
      "Epoch: 96 Loss: 0.004190317013300956\n",
      "Epoch: 97 Loss: 0.004126900525472593\n",
      "Epoch: 98 Loss: 0.004055404576443834\n",
      "Epoch: 99 Loss: 0.003994991368730553\n",
      "Epoch: 0 Loss: 2.2606489696502687\n",
      "Epoch: 1 Loss: 2.0382300581932067\n",
      "Epoch: 2 Loss: 1.5060396995544434\n",
      "Epoch: 3 Loss: 0.960607341170311\n",
      "Epoch: 4 Loss: 0.675102684572339\n",
      "Epoch: 5 Loss: 0.5269043420553208\n",
      "Epoch: 6 Loss: 0.44034127867221834\n",
      "Epoch: 7 Loss: 0.3863952465951443\n",
      "Epoch: 8 Loss: 0.34254413890838625\n",
      "Epoch: 9 Loss: 0.305676171336323\n",
      "Epoch: 10 Loss: 0.27267314384318886\n",
      "Epoch: 11 Loss: 0.25041548101231453\n",
      "Epoch: 12 Loss: 0.21469759420491755\n",
      "Epoch: 13 Loss: 0.19884269463829696\n",
      "Epoch: 14 Loss: 0.17128241178579628\n",
      "Epoch: 15 Loss: 0.15456793127395213\n",
      "Epoch: 16 Loss: 0.1394879445247352\n",
      "Epoch: 17 Loss: 0.12266276231734081\n",
      "Epoch: 18 Loss: 0.10516424945183098\n",
      "Epoch: 19 Loss: 0.09379595329542645\n",
      "Epoch: 20 Loss: 0.08315431088441982\n",
      "Epoch: 21 Loss: 0.07386443079262972\n",
      "Epoch: 22 Loss: 0.06517862082261126\n",
      "Epoch: 23 Loss: 0.05642928858886444\n",
      "Epoch: 24 Loss: 0.04919226115942001\n",
      "Epoch: 25 Loss: 0.04408808446675539\n",
      "Epoch: 26 Loss: 0.03893951462046243\n",
      "Epoch: 27 Loss: 0.03541145176463761\n",
      "Epoch: 28 Loss: 0.031525255684100556\n",
      "Epoch: 29 Loss: 0.028928813879028892\n",
      "Epoch: 30 Loss: 0.026994322329293937\n",
      "Epoch: 31 Loss: 0.025112136996584013\n",
      "Epoch: 32 Loss: 0.02206084695307072\n",
      "Epoch: 33 Loss: 0.021004971907233994\n",
      "Epoch: 34 Loss: 0.019304050000326242\n",
      "Epoch: 35 Loss: 0.01826947932335315\n",
      "Epoch: 36 Loss: 0.01676336813980015\n",
      "Epoch: 37 Loss: 0.01600662192926393\n",
      "Epoch: 38 Loss: 0.015096077324153157\n",
      "Epoch: 39 Loss: 0.013882010248300504\n",
      "Epoch: 40 Loss: 0.013408606911252719\n",
      "Epoch: 41 Loss: 0.01235226434021024\n",
      "Epoch: 42 Loss: 0.012025742222613189\n",
      "Epoch: 43 Loss: 0.01142778404816636\n",
      "Epoch: 44 Loss: 0.010953557291475591\n",
      "Epoch: 45 Loss: 0.010324754082989784\n",
      "Epoch: 46 Loss: 0.009896857578802156\n",
      "Epoch: 47 Loss: 0.00939064885819971\n",
      "Epoch: 48 Loss: 0.009025309728276625\n",
      "Epoch: 49 Loss: 0.008694317471890827\n",
      "Epoch: 50 Loss: 0.008397822944043582\n",
      "Epoch: 51 Loss: 0.00802244288312795\n",
      "Epoch: 52 Loss: 0.007738999866511222\n",
      "Epoch: 53 Loss: 0.007450362243056588\n",
      "Epoch: 54 Loss: 0.00714942075187355\n",
      "Epoch: 55 Loss: 0.006940962992361165\n",
      "Epoch: 56 Loss: 0.0065952402516631994\n",
      "Epoch: 57 Loss: 0.00643730370171761\n",
      "Epoch: 58 Loss: 0.006137816238711821\n",
      "Epoch: 59 Loss: 0.006103093495468784\n",
      "Epoch: 60 Loss: 0.005887124716799008\n",
      "Epoch: 61 Loss: 0.005712465458527731\n",
      "Epoch: 62 Loss: 0.005530243004730437\n",
      "Epoch: 63 Loss: 0.005300662867886785\n",
      "Epoch: 64 Loss: 0.005246633929113159\n",
      "Epoch: 65 Loss: 0.005072407843101246\n",
      "Epoch: 66 Loss: 0.004972194683316047\n",
      "Epoch: 67 Loss: 0.0048236675683947395\n",
      "Epoch: 68 Loss: 0.0046750929186543996\n",
      "Epoch: 69 Loss: 0.004581259423852316\n",
      "Epoch: 70 Loss: 0.004452434101622203\n",
      "Epoch: 71 Loss: 0.004375516127120136\n",
      "Epoch: 72 Loss: 0.004252147018000869\n",
      "Epoch: 73 Loss: 0.004161708472992359\n",
      "Epoch: 74 Loss: 0.004059746404064299\n",
      "Epoch: 75 Loss: 0.003925621540938209\n",
      "Epoch: 76 Loss: 0.0038813574876560325\n",
      "Epoch: 77 Loss: 0.003776212631508315\n",
      "Epoch: 78 Loss: 0.0037055895668599986\n",
      "Epoch: 79 Loss: 0.0036222339705727505\n",
      "Epoch: 80 Loss: 0.003559801499843161\n",
      "Epoch: 81 Loss: 0.003479686086626316\n",
      "Epoch: 82 Loss: 0.0034045744928625937\n",
      "Epoch: 83 Loss: 0.0033452976247644985\n",
      "Epoch: 84 Loss: 0.003276049308366055\n",
      "Epoch: 85 Loss: 0.003204745606879442\n",
      "Epoch: 86 Loss: 0.003141791563572042\n",
      "Epoch: 87 Loss: 0.0030789675769956376\n",
      "Epoch: 88 Loss: 0.003031926662381011\n",
      "Epoch: 89 Loss: 0.0029745566316378247\n",
      "Epoch: 90 Loss: 0.002909630936683243\n",
      "Epoch: 91 Loss: 0.002875704883983417\n",
      "Epoch: 92 Loss: 0.0028169473144535003\n",
      "Epoch: 93 Loss: 0.002765102288724847\n",
      "Epoch: 94 Loss: 0.0027163296737508064\n",
      "Epoch: 95 Loss: 0.0026757547110591914\n",
      "Epoch: 96 Loss: 0.0026445585803012363\n",
      "Epoch: 97 Loss: 0.0025765304927645046\n",
      "Epoch: 98 Loss: 0.0025489131239701235\n",
      "Epoch: 99 Loss: 0.0025047994469305193\n",
      "Epoch: 0 Loss: 2.2355227619806923\n",
      "Epoch: 1 Loss: 1.7083462459246317\n",
      "Epoch: 2 Loss: 0.8936547646919887\n",
      "Epoch: 3 Loss: 0.5993631238142649\n",
      "Epoch: 4 Loss: 0.47490838258961837\n",
      "Epoch: 5 Loss: 0.41118093819916246\n",
      "Epoch: 6 Loss: 0.3580709941163659\n",
      "Epoch: 7 Loss: 0.32574650646994513\n",
      "Epoch: 8 Loss: 0.29407548197731376\n",
      "Epoch: 9 Loss: 0.26538002720475196\n",
      "Epoch: 10 Loss: 0.23491614812922976\n",
      "Epoch: 11 Loss: 0.21088146125276883\n",
      "Epoch: 12 Loss: 0.19134645578699808\n",
      "Epoch: 13 Loss: 0.17491647196561097\n",
      "Epoch: 14 Loss: 0.15773267100658267\n",
      "Epoch: 15 Loss: 0.13566690503495435\n",
      "Epoch: 16 Loss: 0.12930279862958316\n",
      "Epoch: 17 Loss: 0.10913467069156468\n",
      "Epoch: 18 Loss: 0.09903359307240074\n",
      "Epoch: 19 Loss: 0.08590086582722142\n",
      "Epoch: 20 Loss: 0.07772322607661288\n",
      "Epoch: 21 Loss: 0.06991427258374945\n",
      "Epoch: 22 Loss: 0.0581718155516622\n",
      "Epoch: 23 Loss: 0.05083340136406089\n",
      "Epoch: 24 Loss: 0.04761335726474256\n",
      "Epoch: 25 Loss: 0.04038699840917252\n",
      "Epoch: 26 Loss: 0.037565302641203745\n",
      "Epoch: 27 Loss: 0.03212942732154624\n",
      "Epoch: 28 Loss: 0.030561074852962822\n",
      "Epoch: 29 Loss: 0.02662044125108514\n",
      "Epoch: 30 Loss: 0.022937074558838505\n",
      "Epoch: 31 Loss: 0.02216389767449194\n",
      "Epoch: 32 Loss: 0.019781700304088493\n",
      "Epoch: 33 Loss: 0.018183208190273338\n",
      "Epoch: 34 Loss: 0.01635825111121206\n",
      "Epoch: 35 Loss: 0.015166080573030438\n",
      "Epoch: 36 Loss: 0.013437005572205332\n",
      "Epoch: 37 Loss: 0.01261931929308533\n",
      "Epoch: 38 Loss: 0.01193893309380898\n",
      "Epoch: 39 Loss: 0.0109319079830384\n",
      "Epoch: 40 Loss: 0.010317480107791198\n",
      "Epoch: 41 Loss: 0.009662521366456834\n",
      "Epoch: 42 Loss: 0.00901008336916857\n",
      "Epoch: 43 Loss: 0.008474379989912753\n",
      "Epoch: 44 Loss: 0.008087951183265735\n",
      "Epoch: 45 Loss: 0.007689031195568532\n",
      "Epoch: 46 Loss: 0.007399110195862401\n",
      "Epoch: 47 Loss: 0.007008648480441479\n",
      "Epoch: 48 Loss: 0.0068087396295498665\n",
      "Epoch: 49 Loss: 0.006511477437042534\n",
      "Epoch: 50 Loss: 0.006209739921992878\n",
      "Epoch: 51 Loss: 0.00595932733877756\n",
      "Epoch: 52 Loss: 0.005671583904324507\n",
      "Epoch: 53 Loss: 0.005459009029574494\n",
      "Epoch: 54 Loss: 0.005260814186306864\n",
      "Epoch: 55 Loss: 0.005061585108697424\n",
      "Epoch: 56 Loss: 0.004898891568186324\n",
      "Epoch: 57 Loss: 0.004727085308166958\n",
      "Epoch: 58 Loss: 0.004565125835855725\n",
      "Epoch: 59 Loss: 0.004403354146832802\n",
      "Epoch: 60 Loss: 0.004306849439739381\n",
      "Epoch: 61 Loss: 0.004143974818912587\n",
      "Epoch: 62 Loss: 0.004042121548474825\n",
      "Epoch: 63 Loss: 0.0038859697734020906\n",
      "Epoch: 64 Loss: 0.0038141738091156487\n",
      "Epoch: 65 Loss: 0.003692927123442587\n",
      "Epoch: 66 Loss: 0.003616076226315878\n",
      "Epoch: 67 Loss: 0.003475839459111133\n",
      "Epoch: 68 Loss: 0.003406136810229024\n",
      "Epoch: 69 Loss: 0.00330963041294793\n",
      "Epoch: 70 Loss: 0.0032218363644539445\n",
      "Epoch: 71 Loss: 0.0031594620844080813\n",
      "Epoch: 72 Loss: 0.0030744244455866766\n",
      "Epoch: 73 Loss: 0.003001978886359514\n",
      "Epoch: 74 Loss: 0.0029368324866421366\n",
      "Epoch: 75 Loss: 0.0028679716689490914\n",
      "Epoch: 76 Loss: 0.0027940238632501555\n",
      "Epoch: 77 Loss: 0.0027442767899604707\n",
      "Epoch: 78 Loss: 0.002672129227490738\n",
      "Epoch: 79 Loss: 0.0026169265088841057\n",
      "Epoch: 80 Loss: 0.0025746762681843997\n",
      "Epoch: 81 Loss: 0.0025144373230699176\n",
      "Epoch: 82 Loss: 0.0024611241858189413\n",
      "Epoch: 83 Loss: 0.0024143437526336128\n",
      "Epoch: 84 Loss: 0.0023657652308806975\n",
      "Epoch: 85 Loss: 0.0023092466629744497\n",
      "Epoch: 86 Loss: 0.002268995195426517\n",
      "Epoch: 87 Loss: 0.002232831527452011\n",
      "Epoch: 88 Loss: 0.002188169842835729\n",
      "Epoch: 89 Loss: 0.002142688697259549\n",
      "Epoch: 90 Loss: 0.002108528896601304\n",
      "Epoch: 91 Loss: 0.002070693821217598\n",
      "Epoch: 92 Loss: 0.002029031741448762\n",
      "Epoch: 93 Loss: 0.002006454999177246\n",
      "Epoch: 94 Loss: 0.001962407974443219\n",
      "Epoch: 95 Loss: 0.0019370160445619149\n",
      "Epoch: 96 Loss: 0.0018999533386647727\n",
      "Epoch: 97 Loss: 0.001871962890643052\n",
      "Epoch: 98 Loss: 0.0018408639573619136\n",
      "Epoch: 99 Loss: 0.0018114087673323429\n",
      "Epoch: 0 Loss: 2.16018453669548\n",
      "Epoch: 1 Loss: 1.22748451679945\n",
      "Epoch: 2 Loss: 0.6290705275908113\n",
      "Epoch: 3 Loss: 0.46667250437662006\n",
      "Epoch: 4 Loss: 0.38917850332334636\n",
      "Epoch: 5 Loss: 0.3433267115438357\n",
      "Epoch: 6 Loss: 0.30022253179177644\n",
      "Epoch: 7 Loss: 0.2742647758643143\n",
      "Epoch: 8 Loss: 0.2475908872988075\n",
      "Epoch: 9 Loss: 0.21974413706688212\n",
      "Epoch: 10 Loss: 0.20027962388237938\n",
      "Epoch: 11 Loss: 0.1765364059282001\n",
      "Epoch: 12 Loss: 0.15655951644759625\n",
      "Epoch: 13 Loss: 0.14595555598346982\n",
      "Epoch: 14 Loss: 0.12721285326301585\n",
      "Epoch: 15 Loss: 0.11064390776673098\n",
      "Epoch: 16 Loss: 0.09893712313604192\n",
      "Epoch: 17 Loss: 0.08526081623288337\n",
      "Epoch: 18 Loss: 0.0775835385019309\n",
      "Epoch: 19 Loss: 0.06369381183822406\n",
      "Epoch: 20 Loss: 0.057384355893649625\n",
      "Epoch: 21 Loss: 0.047306828644574125\n",
      "Epoch: 22 Loss: 0.04386977278903942\n",
      "Epoch: 23 Loss: 0.037774271417190905\n",
      "Epoch: 24 Loss: 0.030446126185299363\n",
      "Epoch: 25 Loss: 0.0280515893472475\n",
      "Epoch: 26 Loss: 0.025182083381380834\n",
      "Epoch: 27 Loss: 0.021596380125079917\n",
      "Epoch: 28 Loss: 0.01918656686480972\n",
      "Epoch: 29 Loss: 0.017370713682092174\n",
      "Epoch: 30 Loss: 0.015877506019071005\n",
      "Epoch: 31 Loss: 0.014427542491357144\n",
      "Epoch: 32 Loss: 0.012528375371990478\n",
      "Epoch: 33 Loss: 0.011450612103770253\n",
      "Epoch: 34 Loss: 0.01066928620298313\n",
      "Epoch: 35 Loss: 0.009696714416219948\n",
      "Epoch: 36 Loss: 0.009068881632820876\n",
      "Epoch: 37 Loss: 0.008322109101797195\n",
      "Epoch: 38 Loss: 0.0076617438109265095\n",
      "Epoch: 39 Loss: 0.00741101900693684\n",
      "Epoch: 40 Loss: 0.0069374568960429315\n",
      "Epoch: 41 Loss: 0.006449676296320377\n",
      "Epoch: 42 Loss: 0.006202527366887352\n",
      "Epoch: 43 Loss: 0.005947628567258562\n",
      "Epoch: 44 Loss: 0.005686877109959823\n",
      "Epoch: 45 Loss: 0.005319057363180491\n",
      "Epoch: 46 Loss: 0.005166240216809001\n",
      "Epoch: 47 Loss: 0.004932619346495642\n",
      "Epoch: 48 Loss: 0.0047114591952536105\n",
      "Epoch: 49 Loss: 0.004496746371931294\n",
      "Epoch: 50 Loss: 0.004348576440823422\n",
      "Epoch: 51 Loss: 0.004155696630095918\n",
      "Epoch: 52 Loss: 0.0039614575329760555\n",
      "Epoch: 53 Loss: 0.00387299127122958\n",
      "Epoch: 54 Loss: 0.0036980402646186123\n",
      "Epoch: 55 Loss: 0.0035863198800368252\n",
      "Epoch: 56 Loss: 0.0034895204634646576\n",
      "Epoch: 57 Loss: 0.0033547644011071042\n",
      "Epoch: 58 Loss: 0.0032486956259836007\n",
      "Epoch: 59 Loss: 0.003144902832080788\n",
      "Epoch: 60 Loss: 0.0030514186558672236\n",
      "Epoch: 61 Loss: 0.002959984613036113\n",
      "Epoch: 62 Loss: 0.00288892628821111\n",
      "Epoch: 63 Loss: 0.002779281942761486\n",
      "Epoch: 64 Loss: 0.0027216032150361685\n",
      "Epoch: 65 Loss: 0.002635978404168327\n",
      "Epoch: 66 Loss: 0.0025772599769522345\n",
      "Epoch: 67 Loss: 0.002501631582657865\n",
      "Epoch: 68 Loss: 0.0024428053963177943\n",
      "Epoch: 69 Loss: 0.0023791053294226\n",
      "Epoch: 70 Loss: 0.0023171602688600926\n",
      "Epoch: 71 Loss: 0.0022704276988931723\n",
      "Epoch: 72 Loss: 0.0022172471707270916\n",
      "Epoch: 73 Loss: 0.002156964413326648\n",
      "Epoch: 74 Loss: 0.0021111190352369248\n",
      "Epoch: 75 Loss: 0.0020691508502693524\n",
      "Epoch: 76 Loss: 0.002009591014475433\n",
      "Epoch: 77 Loss: 0.001983187409767595\n",
      "Epoch: 78 Loss: 0.0019357618723901168\n",
      "Epoch: 79 Loss: 0.0018956706398731136\n",
      "Epoch: 80 Loss: 0.0018493493566167558\n",
      "Epoch: 81 Loss: 0.0018236095911280188\n",
      "Epoch: 82 Loss: 0.0017848279170962088\n",
      "Epoch: 83 Loss: 0.0017500419590315878\n",
      "Epoch: 84 Loss: 0.001705700924050987\n",
      "Epoch: 85 Loss: 0.0016798650126530106\n",
      "Epoch: 86 Loss: 0.0016528524039214289\n",
      "Epoch: 87 Loss: 0.0016237403505691644\n",
      "Epoch: 88 Loss: 0.0015870091274973249\n",
      "Epoch: 89 Loss: 0.0015638572365871397\n",
      "Epoch: 90 Loss: 0.0015370061423729915\n",
      "Epoch: 91 Loss: 0.0015082926362139802\n",
      "Epoch: 92 Loss: 0.0014856851455618738\n",
      "Epoch: 93 Loss: 0.0014552440557758358\n",
      "Epoch: 94 Loss: 0.0014377565749202823\n",
      "Epoch: 95 Loss: 0.0014090950390192917\n",
      "Epoch: 96 Loss: 0.0013892182386074409\n",
      "Epoch: 97 Loss: 0.0013666891912707513\n",
      "Epoch: 98 Loss: 0.0013427903622210203\n",
      "Epoch: 99 Loss: 0.0013239704926735812\n"
     ]
    }
   ],
   "source": [
    "\n",
    "for size, train_loader in train_loaders.items():\n",
    "    \n",
    "    start = time.time()\n",
    "\n",
    "    mnist_net = mnistNet()\n",
    "    mnist_net = mnist_net.float()\n",
    "    \n",
    "    loss_function = nn.CrossEntropyLoss()\n",
    "    solver = optim.SGD(params=mnist_net.parameters() ,lr=0.01)\n",
    "\n",
    "    trained_model, epochs_loss = train_model(model=mnist_net\n",
    "                                             , criterion = loss_function\n",
    "                                             , optimizer = solver\n",
    "                                             , trainloader = train_loader\n",
    "                                             , epochs = 100\n",
    "                                             , print_info=True)\n",
    "    \n",
    "    end = time.time()\n",
    "    \n",
    "    test_accuracy = test_model(trained_model, test_loader) \n",
    "    \n",
    "    training_time[size] = end-start\n",
    "    training_loss[size] = epochs_loss\n",
    "    testing_acc[size] = test_accuracy"
   ]
  },
  {
   "cell_type": "markdown",
   "metadata": {},
   "source": [
    "### Note: Training locally on CPU took forever! So, I used Google Colab; will save the notebook as colab.ipynb"
   ]
  },
  {
   "cell_type": "code",
   "execution_count": 5,
   "metadata": {},
   "outputs": [],
   "source": [
    "# HINT: To get the current time use: \n",
    "#     current_time = time.time()"
   ]
  },
  {
   "cell_type": "markdown",
   "metadata": {},
   "source": [
    "### Graphs"
   ]
  },
  {
   "cell_type": "markdown",
   "metadata": {},
   "source": [
    "#### Style\n",
    "matplotlib has a lot of different styles which can be found here: \n",
    "https://matplotlib.org/3.2.2/gallery/style_sheets/style_sheets_reference.html"
   ]
  },
  {
   "cell_type": "code",
   "execution_count": 24,
   "metadata": {},
   "outputs": [],
   "source": [
    "from matplotlib import style\n",
    "style.use('fivethirtyeight')"
   ]
  },
  {
   "cell_type": "markdown",
   "metadata": {},
   "source": [
    "#### Model Size vs Training Time"
   ]
  },
  {
   "cell_type": "code",
   "execution_count": 25,
   "metadata": {},
   "outputs": [
    {
     "data": {
      "text/plain": [
       "Text(0, 0.5, 'Time (seconds)')"
      ]
     },
     "execution_count": 25,
     "metadata": {},
     "output_type": "execute_result"
    },
    {
     "data": {
      "image/png": "[encoded data removed]",
      "text/plain": [
       "<Figure size 432x288 with 1 Axes>"
      ]
     },
     "metadata": {},
     "output_type": "display_data"
    }
   ],
   "source": [
    "plt.title(\"Model Size vs Training Time \")\n",
    "plt.xlabel('Training Set Size')\n",
    "plt.ylabel('Time (seconds)')"
   ]
  },
  {
   "cell_type": "markdown",
   "metadata": {},
   "source": [
    "#### Model size Vs Accuracy"
   ]
  },
  {
   "cell_type": "code",
   "execution_count": 26,
   "metadata": {},
   "outputs": [
    {
     "data": {
      "text/plain": [
       "Text(0, 0.5, 'Accuracy')"
      ]
     },
     "execution_count": 26,
     "metadata": {},
     "output_type": "execute_result"
    },
    {
     "data": {
      "image/png": "[encoded data removed]",
      "text/plain": [
       "<Figure size 432x288 with 1 Axes>"
      ]
     },
     "metadata": {},
     "output_type": "display_data"
    }
   ],
   "source": [
    "plt.title(\"Model Size vs Accuracy\")\n",
    "plt.xlabel('Training Set Size')\n",
    "plt.ylabel('Accuracy')"
   ]
  },
  {
   "cell_type": "markdown",
   "metadata": {},
   "source": [
    "#### OPTIONAL Training loss"
   ]
  },
  {
   "cell_type": "code",
   "execution_count": 27,
   "metadata": {},
   "outputs": [
    {
     "data": {
      "text/plain": [
       "Text(0.5, 0, 'Epoch')"
      ]
     },
     "execution_count": 27,
     "metadata": {},
     "output_type": "execute_result"
    },
    {
     "data": {
      "image/png": "[encoded data removed]",
      "text/plain": [
       "<Figure size 432x288 with 1 Axes>"
      ]
     },
     "metadata": {},
     "output_type": "display_data"
    }
   ],
   "source": [
    "plt.legend(['500', '1000', '1500', '2000'], loc='upper right')\n",
    "plt.title('Training Loss')\n",
    "plt.ylabel(\"Loss\")\n",
    "plt.xlabel('Epoch')"
   ]
  },
  {
   "cell_type": "markdown",
   "metadata": {},
   "source": [
    "## Exploring DogSet"
   ]
  },
  {
   "cell_type": "markdown",
   "metadata": {},
   "source": [
    "#### Dogset CSV \n",
    "Explore breeds and trainingset vs testingset size using the included csv for DogSet"
   ]
  },
  {
   "cell_type": "code",
   "execution_count": 92,
   "metadata": {},
   "outputs": [],
   "source": [
    "base_folder = '../data'\n",
    "sub_folder = 'DogSet'\n",
    "dataset_name = 'dogs.csv'\n",
    "data_path = os.path.join(base_folder, sub_folder, dataset_name)\n",
    "\n",
    "sizes = {'train':0, 'test':0, 'valid':0}\n",
    "breeds = []"
   ]
  },
  {
   "cell_type": "markdown",
   "metadata": {},
   "source": [
    "## Training a model on DogSet"
   ]
  },
  {
   "cell_type": "markdown",
   "metadata": {},
   "source": [
    "#### Load the Data"
   ]
  },
  {
   "cell_type": "code",
   "execution_count": 96,
   "metadata": {},
   "outputs": [
    {
     "name": "stdout",
     "output_type": "stream",
     "text": [
      "loading train...\n",
      "loading valid...\n",
      "loading test...\n"
     ]
    }
   ],
   "source": [
    "dogs_dataset = DogsDataset(os.path.join('data', sub_folder))"
   ]
  },
  {
   "cell_type": "code",
   "execution_count": 99,
   "metadata": {},
   "outputs": [],
   "source": [
    "train_dogs_features, train_dogs_targets = dogs_dataset.get_train_examples()"
   ]
  },
  {
   "cell_type": "code",
   "execution_count": 105,
   "metadata": {},
   "outputs": [
    {
     "data": {
      "text/plain": [
       "(7665, 64, 64, 3)"
      ]
     },
     "execution_count": 105,
     "metadata": {},
     "output_type": "execute_result"
    }
   ],
   "source": [
    "train_dogs_features.shape # `[num_examples, height, width, n_channels]`"
   ]
  },
  {
   "cell_type": "code",
   "execution_count": 104,
   "metadata": {},
   "outputs": [
    {
     "data": {
      "text/plain": [
       "(7665,)"
      ]
     },
     "execution_count": 104,
     "metadata": {},
     "output_type": "execute_result"
    }
   ],
   "source": [
    "train_dogs_targets.shape"
   ]
  },
  {
   "cell_type": "code",
   "execution_count": 109,
   "metadata": {},
   "outputs": [
    {
     "data": {
      "text/plain": [
       "(array([0, 1, 2, 3, 4, 5, 6, 7, 8, 9]),\n",
       " array([740, 778, 788, 786, 742, 775, 772, 766, 738, 780]))"
      ]
     },
     "execution_count": 109,
     "metadata": {},
     "output_type": "execute_result"
    }
   ],
   "source": [
    "np.unique(train_dogs_targets, return_counts=True) # There are 10 breeds, roughly balanced"
   ]
  },
  {
   "cell_type": "markdown",
   "metadata": {},
   "source": [
    "### Validation data"
   ]
  },
  {
   "cell_type": "code",
   "execution_count": 111,
   "metadata": {},
   "outputs": [],
   "source": [
    "valid_dogs_features, valid_dogs_targets = dogs_dataset.get_validation_examples()"
   ]
  },
  {
   "cell_type": "code",
   "execution_count": 112,
   "metadata": {},
   "outputs": [
    {
     "data": {
      "text/plain": [
       "(2000, 64, 64, 3)"
      ]
     },
     "execution_count": 112,
     "metadata": {},
     "output_type": "execute_result"
    }
   ],
   "source": [
    "valid_dogs_features.shape # `[num_examples, height, width, n_channels]`"
   ]
  },
  {
   "cell_type": "code",
   "execution_count": 113,
   "metadata": {},
   "outputs": [
    {
     "data": {
      "text/plain": [
       "(2000,)"
      ]
     },
     "execution_count": 113,
     "metadata": {},
     "output_type": "execute_result"
    }
   ],
   "source": [
    "valid_dogs_targets.shape"
   ]
  },
  {
   "cell_type": "code",
   "execution_count": 114,
   "metadata": {},
   "outputs": [
    {
     "data": {
      "text/plain": [
       "(array([0, 1, 2, 3, 4, 5, 6, 7, 8, 9]),\n",
       " array([222, 195, 194, 197, 207, 188, 202, 202, 205, 188]))"
      ]
     },
     "execution_count": 114,
     "metadata": {},
     "output_type": "execute_result"
    }
   ],
   "source": [
    "np.unique(valid_dogs_targets, return_counts=True) # There are 10 breeds, roughly balanced"
   ]
  },
  {
   "cell_type": "markdown",
   "metadata": {},
   "source": [
    "### Test Data"
   ]
  },
  {
   "cell_type": "code",
   "execution_count": 115,
   "metadata": {},
   "outputs": [],
   "source": [
    "test_dogs_features, test_dogs_targets = dogs_dataset.get_test_examples()"
   ]
  },
  {
   "cell_type": "code",
   "execution_count": 116,
   "metadata": {},
   "outputs": [
    {
     "data": {
      "text/plain": [
       "(555, 64, 64, 3)"
      ]
     },
     "execution_count": 116,
     "metadata": {},
     "output_type": "execute_result"
    }
   ],
   "source": [
    "test_dogs_features.shape # `[num_examples, height, width, n_channels]`"
   ]
  },
  {
   "cell_type": "code",
   "execution_count": 117,
   "metadata": {},
   "outputs": [
    {
     "data": {
      "text/plain": [
       "(555,)"
      ]
     },
     "execution_count": 117,
     "metadata": {},
     "output_type": "execute_result"
    }
   ],
   "source": [
    "test_dogs_targets.shape"
   ]
  },
  {
   "cell_type": "code",
   "execution_count": 118,
   "metadata": {},
   "outputs": [
    {
     "data": {
      "text/plain": [
       "(array([0, 1, 2, 3, 4, 5, 6, 7, 8, 9]),\n",
       " array([60, 59, 53, 48, 46, 55, 50, 60, 66, 58]))"
      ]
     },
     "execution_count": 118,
     "metadata": {},
     "output_type": "execute_result"
    }
   ],
   "source": [
    "np.unique(test_dogs_targets, return_counts=True) # There are 10 breeds, roughly balanced"
   ]
  },
  {
   "cell_type": "code",
   "execution_count": 123,
   "metadata": {},
   "outputs": [],
   "source": [
    "# Converting to datasets\n",
    "train_dog_set = MyDataset(train_dogs_features, train_dogs_targets)\n",
    "valid_dog_set = MyDataset(valid_dogs_features, valid_dogs_targets)\n",
    "test_dog_set = MyDataset(test_dogs_features, test_dogs_targets)"
   ]
  },
  {
   "cell_type": "code",
   "execution_count": 203,
   "metadata": {},
   "outputs": [],
   "source": [
    "# Converting to dataloaders\n",
    "\n",
    "train_dogs_loader = torch.utils.data.DataLoader(train_dog_set\n",
    "                                                , batch_size=10\n",
    "                                                , shuffle=True # I think for the test dataset I don't need shuffle=True\n",
    "                                                , num_workers=2) \n",
    "\n",
    "valid_dogs_loader = torch.utils.data.DataLoader(valid_dog_set\n",
    "                                                , batch_size=10\n",
    "                                                , shuffle=True # I think for the test dataset I don't need shuffle=True\n",
    "                                                , num_workers=2) \n",
    "\n",
    "test_dogs_loader = torch.utils.data.DataLoader(test_dog_set\n",
    "                                                , batch_size=10\n",
    "                                                , shuffle=True # I think for the test dataset I don't need shuffle=True\n",
    "                                                , num_workers=2) "
   ]
  },
  {
   "cell_type": "markdown",
   "metadata": {},
   "source": [
    "### Checking the breed types"
   ]
  },
  {
   "cell_type": "code",
   "execution_count": 137,
   "metadata": {},
   "outputs": [
    {
     "name": "stdout",
     "output_type": "stream",
     "text": [
      "INDEX:  0   BREED:  samoyed\n",
      "INDEX:  1   BREED:  miniature_poodle\n",
      "INDEX:  2   BREED:  golden_retriever\n",
      "INDEX:  3   BREED:  great_dane\n",
      "INDEX:  4   BREED:  dalmatian\n",
      "INDEX:  5   BREED:  collie\n",
      "INDEX:  6   BREED:  siberian_husky\n",
      "INDEX:  7   BREED:  yorkshire_terrier\n",
      "INDEX:  8   BREED:  chihuahua\n",
      "INDEX:  9   BREED:  saint_bernard\n"
     ]
    }
   ],
   "source": [
    "for idx in range(10):\n",
    "    print(\"INDEX: \", idx, \" \", \"BREED: \", dogs_dataset.get_semantic_label(idx))"
   ]
  },
  {
   "cell_type": "code",
   "execution_count": 189,
   "metadata": {},
   "outputs": [
    {
     "name": "stdout",
     "output_type": "stream",
     "text": [
      "(20, 64, 64, 3)\n",
      "torch.Size([20, 64, 64, 3])\n"
     ]
    }
   ],
   "source": [
    "# Taking a few examples of the samoyed \n",
    "dogs_examples = dogs_dataset.get_examples_by_label('train', 0, num_examples = 20); \n",
    "print(dogs_examples.shape)\n",
    "\n",
    "tensor_dogs_examples = torch.tensor(dogs_examples); \n",
    "print(tensor_dogs_examples.shape)"
   ]
  },
  {
   "cell_type": "markdown",
   "metadata": {},
   "source": [
    "### The breed I'm working with is samoyed"
   ]
  },
  {
   "cell_type": "code",
   "execution_count": 202,
   "metadata": {},
   "outputs": [
    {
     "name": "stderr",
     "output_type": "stream",
     "text": [
      "Clipping input data to the valid range for imshow with RGB data ([0..1] for floats or [0..255] for integers).\n"
     ]
    },
    {
     "data": {
      "image/png": "[encoded data removed]",
      "text/plain": [
       "<Figure size 432x288 with 1 Axes>"
      ]
     },
     "metadata": {
      "needs_background": "light"
     },
     "output_type": "display_data"
    }
   ],
   "source": [
    "plt.imshow(np.transpose(tensor_dogs_examples[13], (0, 1, 2) )) # \n",
    "plt.show()"
   ]
  },
  {
   "cell_type": "markdown",
   "metadata": {},
   "source": [
    "#### Train the Model"
   ]
  },
  {
   "cell_type": "code",
   "execution_count": 205,
   "metadata": {},
   "outputs": [],
   "source": [
    "class dogNet(nn.Module):\n",
    "    def __init__(self):\n",
    "        super(dogNet, self).__init__()\n",
    "        self.fc1 = nn.Linear(64 * 64 * 3, 128)\n",
    "        self.fc2 = nn.Linear(128, 64)\n",
    "        self.fc3 = nn.Linear(64, 10)\n",
    "\n",
    "    def forward(self, x):\n",
    "        x = x.view(-1, 64 * 64 * 3) # Flattens\n",
    "        x = F.relu(self.fc1(x))\n",
    "        x = F.relu(self.fc2(x))\n",
    "        x = self.fc3(x)\n",
    "        return x"
   ]
  },
  {
   "cell_type": "markdown",
   "metadata": {},
   "source": [
    "## Question 7 - How many connections (weights) does this network have?"
   ]
  },
  {
   "cell_type": "code",
   "execution_count": 209,
   "metadata": {},
   "outputs": [
    {
     "name": "stdout",
     "output_type": "stream",
     "text": [
      "TOTAL NUMBER OF WEIGHTS =  1581696\n"
     ]
    }
   ],
   "source": [
    "n_first_layer = 64 * 64 * 3 * 128 # 64*64*3 are the number of inputs from a single image and 128 is the size of the first hidden layer\n",
    "n_second_layer = 128 * 64 # each node in first hidden layer is connected to each node in second hidden layer\n",
    "n_third_layer = 64 * 10 # second hidden layer nodes connected to each output node (10 such, 1 for each breed)\n",
    "print(\"TOTAL NUMBER OF WEIGHTS = \", n_first_layer+n_second_layer+n_third_layer )"
   ]
  },
  {
   "cell_type": "code",
   "execution_count": 229,
   "metadata": {},
   "outputs": [],
   "source": [
    "def dogs_train_model(model, criterion, optimizer, trainloader, validloader, epochs=10, devloader=None, print_info=True):\n",
    "    epochs_train_loss = []\n",
    "    epochs_valid_loss = []\n",
    "    \n",
    "    epochs_train_acc = []\n",
    "    epochs_valid_acc = []\n",
    "    \n",
    "    running_loss = 0.0\n",
    "    # the length of the train loader will give you the number of mini-batches\n",
    "    # not the cleanest solution but for now it generalizes well and avoids \n",
    "    # computation that we don't need\n",
    "    minibatches = len(trainloader)\n",
    "    valid_minibatches = len(validloader)\n",
    "    # moving the network onto the gpu/cpu\n",
    "    model = model.to(device)\n",
    "    for epoch in range(epochs):\n",
    "        \n",
    "        epoch_train_loss = 0.0  \n",
    "#         batches_complete = 0\n",
    "        for batch, labels in trainloader: # Per this doc, (batch,labels) = trainloader.__getitem__(); https://pytorch.org/docs/stable/torchvision/datasets.html#cifar\n",
    "            \n",
    "            # batch is a tensor with m elements, where each element is \n",
    "            # a training example\n",
    "\n",
    "            # moving batch/labels onto the gpu/cpu\n",
    "            batch, labels = batch.to(device), labels.to(device)\n",
    "            \n",
    "            # zeroing the parameters of the model \n",
    "            # becuase we want to optimize them\n",
    "            optimizer.zero_grad()\n",
    "            \n",
    "            # forward pass\n",
    "            # getting the predictions from our model by passing in a mini-batch\n",
    "            # the ouput will have shape (mini-batch-size, number-of-classes)\n",
    "            # where each element of output is the probabliity of that example being\n",
    "            # the classification correspoding to the index of the value\n",
    "            output = model(batch.float()) # <---- Added .float() as a modification to avoid Runtime error per this post: https://stackoverflow.com/questions/56741087/how-to-fix-runtimeerror-expected-object-of-scalar-type-float-but-got-scalar-typ\n",
    "            loss = criterion(output, labels.long()) # <---- Added .long() per a CampusWire discussion in post #2505\n",
    "            \n",
    "            # backward pass\n",
    "            loss.backward()\n",
    "            \n",
    "            # optimize the parameters\n",
    "            optimizer.step()\n",
    "            \n",
    "            # add the loss of a mini-batch to the list of epoch loss\n",
    "            epoch_train_loss += loss.item()\n",
    "\n",
    "        # TRAINING METRICS\n",
    "        #  after each epoch we need to average out the loss across all minibatches\n",
    "        epochs_train_loss.append(epoch_train_loss/minibatches)\n",
    "        # printing some info\n",
    "        if print_info:\n",
    "            print(f'Epoch: {epoch} Training Loss: {epoch_train_loss/minibatches}')\n",
    "            \n",
    "        train_acc = test_model(model, trainloader)\n",
    "        epochs_train_acc.append(train_acc)\n",
    "        if print_info:\n",
    "            print(f'Epoch: {epoch} Training Accuracy: {train_acc}')\n",
    "        # VALIDATION METRICS\n",
    "        with torch.no_grad(): # Disables gradient calculation to save memory; we're sure we won't be using Tensor.backward()\n",
    "            # variables to keep count of correct labels and the total labels in a mini batch\n",
    "            correct = 0\n",
    "            total = 0\n",
    "            epoch_valid_loss = 0.0  \n",
    "            for batch, labels in validloader:\n",
    "                \n",
    "                batch, labels = batch, labels # So we don't modify original dataset?\n",
    "                batch, labels = batch.to(device), labels.to(device)\n",
    "                \n",
    "                output = model(batch.float()) # <---- Added .float() to solve for RuntimeError\n",
    "                valid_loss = criterion(output, labels.long())\n",
    "                \n",
    "                epoch_valid_loss += valid_loss.item()\n",
    "                \n",
    "                # this gives us the index with the highest value outputed from the last layer\n",
    "                # which coressponds to the most probable label/classification for an image\n",
    "                predicted = torch.max(output.data, 1)[1]\n",
    "                total += labels.size(0)\n",
    "                correct += (predicted == labels).sum().item()\n",
    "\n",
    "        valid_acc = 100 * correct / total\n",
    "        epochs_valid_acc.append(valid_acc)\n",
    "        epochs_valid_loss.append(epoch_valid_loss/valid_minibatches)\n",
    "        \n",
    "        if print_info:\n",
    "            print(f'Epoch: {epoch} Validation Loss: {epoch_valid_loss/valid_minibatches}')\n",
    "            print(f'Epoch: {epoch} Validations Accuracy: {valid_acc}')\n",
    "            \n",
    "        # EARLY STOPPING CRITERIA\n",
    "        new_valid_loss = epoch_valid_loss/valid_minibatches\n",
    "        if len(epochs_valid_loss) > 1:\n",
    "            old_valid_loss = epochs_valid_loss[-2] # Taking -2, because the new_valid_loss has already been added\n",
    "            \n",
    "            if old_valid_loss - new_valid_loss < 1e-4:\n",
    "                print(f'Epoch {epoch} TERMINATING, because reduction in validation loss less than 1e-4')\n",
    "                print(f'Epoch {epoch} OLD_VALIDATION_LOSS: ', old_valid_loss)\n",
    "                print(f'Epoch {epoch} NEW_VALIDATION_LOSS: ', new_valid_loss)\n",
    "\n",
    "            \n",
    "            \n",
    "    return model, epochs_train_loss, epochs_valid_loss, epochs_train_acc, epochs_valid_acc"
   ]
  },
  {
   "cell_type": "code",
   "execution_count": 242,
   "metadata": {},
   "outputs": [
    {
     "data": {
      "text/plain": [
       "1"
      ]
     },
     "execution_count": 242,
     "metadata": {},
     "output_type": "execute_result"
    }
   ],
   "source": [
    "lst = [1,2]\n",
    "lst[-2]"
   ]
  },
  {
   "cell_type": "code",
   "execution_count": 230,
   "metadata": {},
   "outputs": [],
   "source": [
    "def test_model(model, testloader): # Takes in just model you want to test and the data you want to test it on\n",
    "    # variables to keep count of correct labels and the total labels in a mini batch\n",
    "    correct = 0\n",
    "    total = 0\n",
    "    # since we're testing the model we don't need to perform backprop\n",
    "    with torch.no_grad(): # Disables gradient calculation to save memory; we're sure we won't be using Tensor.backward()\n",
    "        for batch, labels in testloader:\n",
    "            batch, labels = batch, labels # So we don't modify original dataset?\n",
    "            output = model(batch.float()) # <---- Added .float() to solve for RuntimeError\n",
    "            # this gives us the index with the highest value outputed from the last layer\n",
    "            # which coressponds to the most probable label/classification for an image\n",
    "            predicted = torch.max(output.data, 1)[1]\n",
    "            total += labels.size(0)\n",
    "            correct += (predicted == labels).sum().item()\n",
    "\n",
    "    test_accuracy = 100 * correct / total\n",
    "    return test_accuracy\n"
   ]
  },
  {
   "cell_type": "code",
   "execution_count": 236,
   "metadata": {},
   "outputs": [
    {
     "name": "stdout",
     "output_type": "stream",
     "text": [
      "Epoch: 0 Training Loss: 2.3073853044497454\n",
      "Epoch: 0 Training Accuracy: 11.637312459230268\n",
      "Epoch: 0 Validation Loss: 2.3063302421569825\n",
      "Epoch: 0 Validations Accuracy: 10.65\n"
     ]
    }
   ],
   "source": [
    "model = dogNet()\n",
    "\n",
    "dogs_loss_function = nn.CrossEntropyLoss()\n",
    "dogs_solver = optim.SGD(params=model.parameters() ,lr=1e-5)\n",
    "\n",
    "trained_dogs_model, dogs_train_losses, dogs_valid_losses, dogs_train_acc, dogs_valid_acc = dogs_train_model(model, dogs_loss_function, dogs_solver, train_dogs_loader, valid_dogs_loader, epochs=1)\n"
   ]
  },
  {
   "cell_type": "code",
   "execution_count": 237,
   "metadata": {},
   "outputs": [
    {
     "data": {
      "text/plain": [
       "[2.3073853044497454]"
      ]
     },
     "execution_count": 237,
     "metadata": {},
     "output_type": "execute_result"
    }
   ],
   "source": [
    "dogs_train_losses"
   ]
  },
  {
   "cell_type": "code",
   "execution_count": 238,
   "metadata": {},
   "outputs": [
    {
     "data": {
      "text/plain": [
       "[2.3063302421569825]"
      ]
     },
     "execution_count": 238,
     "metadata": {},
     "output_type": "execute_result"
    }
   ],
   "source": [
    "dogs_valid_losses"
   ]
  },
  {
   "cell_type": "code",
   "execution_count": 239,
   "metadata": {},
   "outputs": [
    {
     "data": {
      "text/plain": [
       "[11.637312459230268]"
      ]
     },
     "execution_count": 239,
     "metadata": {},
     "output_type": "execute_result"
    }
   ],
   "source": [
    "dogs_train_acc"
   ]
  },
  {
   "cell_type": "code",
   "execution_count": 240,
   "metadata": {},
   "outputs": [
    {
     "data": {
      "text/plain": [
       "[10.65]"
      ]
     },
     "execution_count": 240,
     "metadata": {},
     "output_type": "execute_result"
    }
   ],
   "source": [
    "dogs_valid_acc"
   ]
  },
  {
   "cell_type": "code",
   "execution_count": null,
   "metadata": {},
   "outputs": [],
   "source": []
  },
  {
   "cell_type": "code",
   "execution_count": 207,
   "metadata": {},
   "outputs": [],
   "source": [
    "\n",
    "# model, loss, acc = run_model()"
   ]
  },
  {
   "cell_type": "code",
   "execution_count": null,
   "metadata": {},
   "outputs": [],
   "source": [
    "model = Dog_Classifier_FC()\n",
    "model, loss, acc = run_model()"
   ]
  },
  {
   "cell_type": "markdown",
   "metadata": {},
   "source": [
    "### Graphs and Metrics"
   ]
  },
  {
   "cell_type": "markdown",
   "metadata": {},
   "source": [
    "#### Graph the Training & Validation Loss"
   ]
  },
  {
   "cell_type": "code",
   "execution_count": 21,
   "metadata": {},
   "outputs": [
    {
     "data": {
      "text/plain": [
       "Text(0.5, 0, 'Epoch')"
      ]
     },
     "execution_count": 21,
     "metadata": {},
     "output_type": "execute_result"
    },
    {
     "data": {
      "image/png": "[encoded data removed]",
      "text/plain": [
       "<Figure size 432x288 with 1 Axes>"
      ]
     },
     "metadata": {},
     "output_type": "display_data"
    }
   ],
   "source": [
    "plt.title('Training and Validation Loss')\n",
    "plt.ylabel(\"Loss\")\n",
    "plt.xlabel('Epoch')"
   ]
  },
  {
   "cell_type": "markdown",
   "metadata": {},
   "source": [
    "#### Graph the Training & Validation Accuracy"
   ]
  },
  {
   "cell_type": "code",
   "execution_count": null,
   "metadata": {},
   "outputs": [],
   "source": [
    "plt.title('Training and Validation Accuracy')\n",
    "plt.ylabel(\"Accuracy\")\n",
    "plt.xlabel('Epoch')"
   ]
  },
  {
   "cell_type": "markdown",
   "metadata": {},
   "source": [
    "#### Reporting Testing Loss and Accuracy"
   ]
  },
  {
   "cell_type": "code",
   "execution_count": null,
   "metadata": {},
   "outputs": [],
   "source": [
    "test_loss, test_acc = run_model()\n",
    "print(f'Loss {test_loss}')\n",
    "print(f'acc {test_acc}')"
   ]
  },
  {
   "cell_type": "markdown",
   "metadata": {},
   "source": [
    "## Convolutional layers "
   ]
  },
  {
   "cell_type": "markdown",
   "metadata": {},
   "source": [
    "#### Instantiating a Model and Training it\n",
    "You may want to edit run_model to print out the epochs for this section"
   ]
  },
  {
   "cell_type": "code",
   "execution_count": null,
   "metadata": {},
   "outputs": [],
   "source": [
    "model = Dog_Classifier_Conv(kernel_size=[], stride=[])\n",
    "model1, loss1, acc1 = run_model()"
   ]
  },
  {
   "cell_type": "markdown",
   "metadata": {},
   "source": [
    "#### Graphs"
   ]
  },
  {
   "cell_type": "code",
   "execution_count": null,
   "metadata": {},
   "outputs": [],
   "source": [
    "# Don't forget to label the x and y axis\n",
    "plt.title('CNN Training and Validation Loss')\n",
    "plt.show()\n",
    "\n",
    "plt.title('CNN Training and Validation Accuracy')"
   ]
  },
  {
   "cell_type": "markdown",
   "metadata": {},
   "source": [
    "#### Reporting Testing Loss and Accuracy"
   ]
  },
  {
   "cell_type": "code",
   "execution_count": null,
   "metadata": {},
   "outputs": [],
   "source": [
    "test_loss, test_acc = run_model()\n",
    "print(f'Loss {test_loss}')\n",
    "print(f'acc {test_acc}')"
   ]
  },
  {
   "cell_type": "markdown",
   "metadata": {},
   "source": [
    "## Digging more deeply into convolutional networks\n",
    "\n",
    "Now try doing this last section on your own, here are some useful keyboard shortcuts while using jupyter\n",
    "\n",
    "* dd - delete a cell\n",
    "* a - new cell above\n",
    "* b - new cell below\n",
    "* shift + enter - run current cell and move to next cell\n",
    "* ctrl + enter - run current cell "
   ]
  },
  {
   "cell_type": "code",
   "execution_count": null,
   "metadata": {},
   "outputs": [],
   "source": []
  }
 ],
 "metadata": {
  "kernelspec": {
   "display_name": "hw7-neural-networks",
   "language": "python",
   "name": "hw7-neural-networks"
  },
  "language_info": {
   "codemirror_mode": {
    "name": "ipython",
    "version": 3
   },
   "file_extension": ".py",
   "mimetype": "text/x-python",
   "name": "python",
   "nbconvert_exporter": "python",
   "pygments_lexer": "ipython3",
   "version": "3.8.5"
  }
 },
 "nbformat": 4,
 "nbformat_minor": 4
}
